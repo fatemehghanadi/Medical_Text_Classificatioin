{
  "cells": [
    {
      "cell_type": "markdown",
      "metadata": {
        "id": "kkNotYRgnki2"
      },
      "source": [
        "#*CNN*"
      ]
    },
    {
      "cell_type": "code",
      "source": [
        "from google.colab import drive\n",
        "drive.mount('/content/drive')"
      ],
      "metadata": {
        "colab": {
          "base_uri": "https://localhost:8080/"
        },
        "id": "x1J1SOMeBoRz",
        "outputId": "809f4f71-d355-46a7-c151-43a28728623c"
      },
      "execution_count": 1,
      "outputs": [
        {
          "output_type": "stream",
          "name": "stdout",
          "text": [
            "Mounted at /content/drive\n"
          ]
        }
      ]
    },
    {
      "cell_type": "markdown",
      "metadata": {
        "id": "KqRkeQ_aa2mT"
      },
      "source": [
        "## Preprocess"
      ]
    },
    {
      "cell_type": "markdown",
      "source": [
        "- 1st tokenizer"
      ],
      "metadata": {
        "id": "xXE3bB9inYmW"
      }
    },
    {
      "cell_type": "code",
      "execution_count": 3,
      "metadata": {
        "id": "OgQTGuTFYZpP"
      },
      "outputs": [],
      "source": [
        "import nltk\n",
        "from nltk.corpus import stopwords\n",
        "import pandas as pd\n",
        "import re\n",
        "import nltk\n",
        "from nltk.corpus import stopwords\n",
        "\n",
        "from nltk.tokenize import word_tokenize\n",
        "\n",
        "\n",
        "\n",
        "nltk.data.path.append(r\"/content/drive/MyDrive/Medical-Abstracts-TC-Corpus-main\")  # Replace with your actual NLTK data path\n",
        "# Load your data from CSV file\n",
        "file_path =\"/content/drive/MyDrive/Medical-Abstracts-TC-Corpus-main/medical_tc_train.csv\"\n",
        "train_data = pd.read_csv(file_path)\n",
        "\n",
        "test_file_path =\"/content/drive/MyDrive/Medical-Abstracts-TC-Corpus-main/medical_tc_test.csv\"\n",
        "test_data = pd.read_csv(test_file_path)\n",
        "\n",
        "\n",
        "# # Download NLTK resources (if not already downloaded)\n",
        "# nltk.download('punkt')\n",
        "# nltk.download('stopwords')\n",
        "\n",
        "# # Define your preprocessing function\n",
        "# def preprocess_and_get_length(text):\n",
        "#     # Convert to lowercase\n",
        "#     text = text.lower()\n",
        "\n",
        "#     # Remove punctuation and numbers\n",
        "#     text = re.sub(r'[^a-z\\s]', '', text)\n",
        "#     # text = re.sub(r'[^a-z0-9\\s]', '', text)\n",
        "\n",
        "\n",
        "#     # Tokenization\n",
        "#     tokens = word_tokenize(text)\n",
        "\n",
        "#     # Remove stopwords\n",
        "#     stop_words = set(stopwords.words('english'))\n",
        "#     tokens = [token for token in tokens if token not in stop_words]\n",
        "\n",
        "#     # Return the length of the processed text\n",
        "#     return tokens\n",
        "\n",
        "# # Apply the preprocessing and get the length for each text\n",
        "# tokenized_data = train_data['medical_abstract'].apply(preprocess_and_get_length)\n",
        "# tokenized_data_test = test_data['medical_abstract'].apply(preprocess_and_get_length)\n",
        "\n",
        "# # Find the maximum length\n",
        "# max_length = max(tokenized_data.apply(lambda x: len(x)))\n",
        "# print(\"The length of the longest text after preprocessing:\", max_length)\n"
      ]
    },
    {
      "cell_type": "code",
      "source": [
        "from tensorflow.keras.preprocessing.sequence import pad_sequences\n",
        "from tensorflow.keras.preprocessing.text import Tokenizer\n",
        "\n",
        "# Define your preprocessing function\n",
        "def preprocess_and_get_length(text):\n",
        "    # Convert to lowercase\n",
        "    text = text.lower()\n",
        "\n",
        "    # Tokenization\n",
        "    tokens = word_tokenize(text)\n",
        "\n",
        "    # Remove stopwords and punctuation\n",
        "    stop_words = set(stopwords.words('english'))\n",
        "    processed_tokens = []\n",
        "    for token in tokens:\n",
        "        if re.match(r'^\\d+(\\.\\d+)?$', token):\n",
        "            processed_tokens.append(float(token))  # Convert to float if it's a float\n",
        "        elif token not in stop_words and not re.match(r'^\\W+$', token):\n",
        "            processed_tokens.append(token.lower())\n",
        "\n",
        "    # Return the length of the processed text\n",
        "    return processed_tokens\n",
        "\n",
        "# Apply the preprocessing and get the length for each text\n",
        "tokenized_data = train_data['medical_abstract'].apply(preprocess_and_get_length)\n",
        "tokenized_data_test = test_data['medical_abstract'].apply(preprocess_and_get_length)\n",
        "\n",
        "# Convert tokenized data to strings\n",
        "tokenized_texts = tokenized_data.apply(lambda x: ' '.join(map(str, x)))\n",
        "tokenized_texts_test = tokenized_data_test.apply(lambda x: ' '.join(map(str, x)))\n",
        "\n",
        "# Create a tokenizer and fit on tokenized_data without numbers\n",
        "tokenizer = Tokenizer(oov_token=\"<OOV>\")\n",
        "tokenizer.fit_on_texts(tokenized_texts)\n",
        "\n",
        "# Convert tokenized data to sequences without further processing\n",
        "sequences_train = []\n",
        "for text in tokenized_texts:\n",
        "    seq = []\n",
        "    for token in text.split():\n",
        "        if token in tokenizer.word_index:\n",
        "            seq.append(tokenizer.word_index[token])\n",
        "        else:\n",
        "            try:\n",
        "                seq.append(int(token))  # Try converting to int\n",
        "            except ValueError:\n",
        "                try:\n",
        "                    seq.append(float(token))  # Try converting to float\n",
        "                except ValueError:\n",
        "                    seq.append(tokenizer.word_index['<OOV>'])  # If not a number, use OOV token\n",
        "    sequences_train.append(seq)\n",
        "\n",
        "sequences_test = []\n",
        "for text in tokenized_texts_test:\n",
        "    seq = []\n",
        "    for token in text.split():\n",
        "        if token in tokenizer.word_index:\n",
        "            seq.append(tokenizer.word_index[token])\n",
        "        else:\n",
        "            try:\n",
        "                seq.append(int(token))  # Try converting to int\n",
        "            except ValueError:\n",
        "                try:\n",
        "                    seq.append(float(token))  # Try converting to float\n",
        "                except ValueError:\n",
        "                    seq.append(tokenizer.word_index['<OOV>'])  # If not a number, use OOV token\n",
        "    sequences_test.append(seq)\n",
        "\n",
        "# Pad sequences to ensure consistent length for input to the CNN\n",
        "max_length = max(max(len(seq) for seq in sequences_train), max(len(seq) for seq in sequences_test))\n",
        "padded_train = pad_sequences(sequences_train, maxlen=max_length, padding='post', truncating='post', value=0)\n",
        "padded_test = pad_sequences(sequences_test, maxlen=max_length, padding='post', truncating='post', value=0)\n"
      ],
      "metadata": {
        "id": "jMS7J9-5lCLr"
      },
      "execution_count": 44,
      "outputs": []
    },
    {
      "cell_type": "code",
      "source": [
        "max_length"
      ],
      "metadata": {
        "colab": {
          "base_uri": "https://localhost:8080/"
        },
        "id": "NZ1gNeZlwDAV",
        "outputId": "a50e3939-079e-4d6a-a7db-13b64710b3d4"
      },
      "execution_count": 41,
      "outputs": [
        {
          "output_type": "execute_result",
          "data": {
            "text/plain": [
              "423"
            ]
          },
          "metadata": {},
          "execution_count": 41
        }
      ]
    },
    {
      "cell_type": "code",
      "source": [
        "train_data['medical_abstract'][4]"
      ],
      "metadata": {
        "id": "nDFbqCj_VwFw"
      },
      "execution_count": null,
      "outputs": []
    },
    {
      "cell_type": "code",
      "source": [
        "sequences_train[4]"
      ],
      "metadata": {
        "colab": {
          "base_uri": "https://localhost:8080/"
        },
        "id": "a_tV5FVe1oRK",
        "outputId": "9a8a08e9-5f99-4d04-d5db-a294806b653f"
      },
      "execution_count": 47,
      "outputs": [
        {
          "output_type": "execute_result",
          "data": {
            "text/plain": [
              "[399,\n",
              " 1214,\n",
              " 1544,\n",
              " 46,\n",
              " 38,\n",
              " 344,\n",
              " 1,\n",
              " 1,\n",
              " 1,\n",
              " 1176,\n",
              " 399,\n",
              " 1214,\n",
              " 3657,\n",
              " 344,\n",
              " 471,\n",
              " 399,\n",
              " 2186,\n",
              " 4595,\n",
              " 3610,\n",
              " 1465,\n",
              " 871,\n",
              " 1767,\n",
              " 201,\n",
              " 193,\n",
              " 1,\n",
              " 1,\n",
              " 1,\n",
              " 1236,\n",
              " 1,\n",
              " 594,\n",
              " 437,\n",
              " 503,\n",
              " 507.0,\n",
              " 3,\n",
              " 427,\n",
              " 566.0,\n",
              " 399,\n",
              " 1,\n",
              " 716,\n",
              " 4032,\n",
              " 1,\n",
              " 868,\n",
              " 455,\n",
              " 1802,\n",
              " 422,\n",
              " 242,\n",
              " 120,\n",
              " 3.0,\n",
              " 1,\n",
              " 1,\n",
              " 1,\n",
              " 1,\n",
              " 12.0,\n",
              " 1,\n",
              " 7915,\n",
              " 3255,\n",
              " 484.0,\n",
              " 393,\n",
              " 1,\n",
              " 4033,\n",
              " 1307,\n",
              " 393,\n",
              " 1002,\n",
              " 137,\n",
              " 533,\n",
              " 163,\n",
              " 1,\n",
              " 33,\n",
              " 1,\n",
              " 1,\n",
              " 1,\n",
              " 1,\n",
              " 1,\n",
              " 1,\n",
              " 1,\n",
              " 1,\n",
              " 1,\n",
              " 1,\n",
              " 1,\n",
              " 1,\n",
              " 1,\n",
              " 240,\n",
              " 8.0,\n",
              " 1,\n",
              " 149,\n",
              " 1,\n",
              " 1214,\n",
              " 1,\n",
              " 910,\n",
              " 1,\n",
              " 696,\n",
              " 3,\n",
              " 1,\n",
              " 1,\n",
              " 377,\n",
              " 2741,\n",
              " 1345,\n",
              " 10.0,\n",
              " 22,\n",
              " 285,\n",
              " 39,\n",
              " 62,\n",
              " 377,\n",
              " 6420,\n",
              " 155,\n",
              " 1214,\n",
              " 1,\n",
              " 1,\n",
              " 249,\n",
              " 55,\n",
              " 6,\n",
              " 629,\n",
              " 3,\n",
              " 1,\n",
              " 160,\n",
              " 300,\n",
              " 4318,\n",
              " 1619,\n",
              " 1,\n",
              " 78,\n",
              " 249,\n",
              " 1,\n",
              " 2257,\n",
              " 3,\n",
              " 1,\n",
              " 1214,\n",
              " 662,\n",
              " 1453,\n",
              " 249,\n",
              " 228,\n",
              " 55,\n",
              " 62,\n",
              " 6,\n",
              " 1,\n",
              " 3285,\n",
              " 11,\n",
              " 1,\n",
              " 1,\n",
              " 313,\n",
              " 3,\n",
              " 399,\n",
              " 1214,\n",
              " 6,\n",
              " 629,\n",
              " 3,\n",
              " 33,\n",
              " 163,\n",
              " 1151,\n",
              " 344,\n",
              " 1,\n",
              " 1,\n",
              " 104,\n",
              " 1]"
            ]
          },
          "metadata": {},
          "execution_count": 47
        }
      ]
    },
    {
      "cell_type": "code",
      "execution_count": null,
      "metadata": {
        "id": "TjpLYKlaaPv1"
      },
      "outputs": [],
      "source": [
        "tokenized_data[4]"
      ]
    },
    {
      "cell_type": "code",
      "execution_count": null,
      "metadata": {
        "id": "sRLxaqHUgPyT"
      },
      "outputs": [],
      "source": [
        "tokenized_data_test"
      ]
    },
    {
      "cell_type": "code",
      "execution_count": null,
      "metadata": {
        "id": "7Wzf5HWPaMfm"
      },
      "outputs": [],
      "source": [
        "from tensorflow.keras.preprocessing.sequence import pad_sequences\n",
        "from tensorflow.keras.preprocessing.text import Tokenizer\n",
        "\n",
        "# Define the maximum length\n",
        "max_length = max_length\n",
        "\n",
        "# Create a tokenizer and fit on tokenized_data\n",
        "tokenizer = Tokenizer(oov_token=\"<OOV>\")\n",
        "tokenizer.fit_on_texts(tokenized_data)\n",
        "\n",
        "# Convert tokenized data to sequences\n",
        "sequences_train = tokenizer.texts_to_sequences(tokenized_data)\n",
        "sequences_test = tokenizer.texts_to_sequences(tokenized_data_test)\n",
        "\n",
        "# Pad sequences to ensure consistent length for input to the CNN\n",
        "padded_train = pad_sequences(sequences_train, maxlen=max_length, padding='post', truncating='post', value=0)\n",
        "padded_test = pad_sequences(sequences_test, maxlen=max_length, padding='post', truncating='post', value=0)\n"
      ]
    },
    {
      "cell_type": "code",
      "source": [
        "max_length"
      ],
      "metadata": {
        "colab": {
          "base_uri": "https://localhost:8080/"
        },
        "id": "2q2L86Dqllc4",
        "outputId": "a030070d-477e-46ac-ad49-656608fd889c"
      },
      "execution_count": 65,
      "outputs": [
        {
          "output_type": "execute_result",
          "data": {
            "text/plain": [
              "460"
            ]
          },
          "metadata": {},
          "execution_count": 65
        }
      ]
    },
    {
      "cell_type": "code",
      "source": [
        "sequences_test[3]"
      ],
      "metadata": {
        "id": "cUPXuPqgyVS-"
      },
      "execution_count": null,
      "outputs": []
    },
    {
      "cell_type": "code",
      "source": [
        "sequences_train[4]"
      ],
      "metadata": {
        "id": "h0FiZDM8ckG6"
      },
      "execution_count": null,
      "outputs": []
    },
    {
      "cell_type": "code",
      "source": [
        "padded_train[4]"
      ],
      "metadata": {
        "id": "dEKm_j35e_ib"
      },
      "execution_count": null,
      "outputs": []
    },
    {
      "cell_type": "code",
      "execution_count": 75,
      "metadata": {
        "colab": {
          "base_uri": "https://localhost:8080/"
        },
        "id": "SoF8ehBNfHYM",
        "outputId": "453e82da-1d3c-4fc6-a3bd-0b8debbd4d50"
      },
      "outputs": [
        {
          "output_type": "stream",
          "name": "stdout",
          "text": [
            "403\n"
          ]
        }
      ],
      "source": [
        "maxx=1\n",
        "for a in sequences_train:\n",
        " if maxx < len(a):\n",
        "  maxx=len(a)\n",
        "print(maxx)"
      ]
    },
    {
      "cell_type": "code",
      "execution_count": null,
      "metadata": {
        "id": "2-O545HafW3p"
      },
      "outputs": [],
      "source": [
        "sequences_train[4]"
      ]
    },
    {
      "cell_type": "code",
      "execution_count": 7,
      "metadata": {
        "id": "F283MkGAiBJs"
      },
      "outputs": [],
      "source": [
        "num_classes=5\n",
        "from sklearn.preprocessing import LabelEncoder\n",
        "import tensorflow as tf\n",
        "\n",
        "# Assuming 'conditional_label' is the column containing your categorical labels\n",
        "labels = train_data['condition_label']\n",
        "\n",
        "# Step 1: Convert labels to numerical indices using LabelEncoder\n",
        "label_encoder = LabelEncoder()\n",
        "labels_encoded = label_encoder.fit_transform(labels)\n",
        "\n",
        "# Step 2: Convert numerical indices to one-hot encoded vectors\n",
        "labels_train_one_hot = tf.keras.utils.to_categorical(labels_encoded)\n",
        "\n",
        "labels_test = test_data['condition_label']\n",
        "\n",
        "# Step 1: Convert labels to numerical indices using LabelEncoder\n",
        "label_encoder_test = LabelEncoder()\n",
        "labels_encoded_test = label_encoder.fit_transform(labels_test)\n",
        "\n",
        "# Step 2: Convert numerical indices to one-hot encoded vectors\n",
        "labels_test_one_hot = tf.keras.utils.to_categorical(labels_encoded_test)\n",
        "\n",
        "# Now, labels_one_hot contains the one-hot encoded representations of your labels\n"
      ]
    },
    {
      "cell_type": "code",
      "execution_count": 8,
      "metadata": {
        "id": "OivLbYPWdxt9"
      },
      "outputs": [],
      "source": [
        "# Assuming train_data is your DataFrame\n",
        "labels = train_data['condition_label'].tolist()\n",
        "\n",
        "# Subtract 1 from each element in the list\n",
        "labels_minus_one = [label - 1 for label in labels]\n"
      ]
    },
    {
      "cell_type": "code",
      "execution_count": 9,
      "metadata": {
        "id": "TiK0dLJ1eLf9"
      },
      "outputs": [],
      "source": [
        "# Assuming train_data is your DataFrame\n",
        "labels_test = test_data['condition_label'].tolist()\n",
        "\n",
        "# Subtract 1 from each element in the list\n",
        "labels_minus_one_test = [label - 1 for label in labels_test]\n"
      ]
    },
    {
      "cell_type": "markdown",
      "metadata": {
        "id": "Pj4MgmwMar3B"
      },
      "source": [
        "## CNN"
      ]
    },
    {
      "cell_type": "code",
      "execution_count": null,
      "metadata": {
        "colab": {
          "base_uri": "https://localhost:8080/"
        },
        "id": "906Mmq5Ah1F6",
        "outputId": "349874a9-d9ed-47d9-bfab-2b2669ca4fd1"
      },
      "outputs": [
        {
          "name": "stdout",
          "output_type": "stream",
          "text": [
            "Model: \"sequential\"\n",
            "_________________________________________________________________\n",
            " Layer (type)                Output Shape              Param #   \n",
            "=================================================================\n",
            " embedding (Embedding)       (None, 365, 50)           2026750   \n",
            "                                                                 \n",
            " conv1d (Conv1D)             (None, 363, 128)          19328     \n",
            "                                                                 \n",
            " global_max_pooling1d (Glob  (None, 128)               0         \n",
            " alMaxPooling1D)                                                 \n",
            "                                                                 \n",
            " dense (Dense)               (None, 128)               16512     \n",
            "                                                                 \n",
            " dense_1 (Dense)             (None, 5)                 645       \n",
            "                                                                 \n",
            "=================================================================\n",
            "Total params: 2063235 (7.87 MB)\n",
            "Trainable params: 2063235 (7.87 MB)\n",
            "Non-trainable params: 0 (0.00 Byte)\n",
            "_________________________________________________________________\n",
            "Epoch 1/100\n",
            "181/181 [==============================] - 23s 119ms/step - loss: 1.5536 - accuracy: 0.3270 - val_loss: 1.5257 - val_accuracy: 0.3328\n",
            "Epoch 2/100\n",
            "181/181 [==============================] - 31s 171ms/step - loss: 1.5052 - accuracy: 0.3328 - val_loss: 1.4887 - val_accuracy: 0.3324\n",
            "Epoch 3/100\n",
            "181/181 [==============================] - 26s 145ms/step - loss: 1.4132 - accuracy: 0.4113 - val_loss: 1.3458 - val_accuracy: 0.4913\n",
            "Epoch 4/100\n",
            "181/181 [==============================] - 26s 144ms/step - loss: 1.2370 - accuracy: 0.5273 - val_loss: 1.2148 - val_accuracy: 0.5111\n",
            "Epoch 5/100\n",
            "181/181 [==============================] - 21s 113ms/step - loss: 1.1335 - accuracy: 0.5487 - val_loss: 1.1693 - val_accuracy: 0.5208\n",
            "Epoch 6/100\n",
            "181/181 [==============================] - 20s 112ms/step - loss: 1.0736 - accuracy: 0.5618 - val_loss: 1.1420 - val_accuracy: 0.5239\n",
            "Epoch 7/100\n",
            "181/181 [==============================] - 23s 128ms/step - loss: 1.0220 - accuracy: 0.5738 - val_loss: 1.1191 - val_accuracy: 0.5211\n",
            "Epoch 8/100\n",
            "181/181 [==============================] - 20s 113ms/step - loss: 0.9686 - accuracy: 0.5877 - val_loss: 1.0937 - val_accuracy: 0.5260\n",
            "Epoch 9/100\n",
            "181/181 [==============================] - 21s 114ms/step - loss: 0.9086 - accuracy: 0.6211 - val_loss: 1.0618 - val_accuracy: 0.5426\n",
            "Epoch 10/100\n",
            "181/181 [==============================] - 24s 131ms/step - loss: 0.8436 - accuracy: 0.6604 - val_loss: 1.0360 - val_accuracy: 0.5388\n",
            "Epoch 11/100\n",
            "181/181 [==============================] - 21s 115ms/step - loss: 0.7792 - accuracy: 0.6883 - val_loss: 1.0165 - val_accuracy: 0.5443\n",
            "Epoch 12/100\n",
            "181/181 [==============================] - 23s 125ms/step - loss: 0.7226 - accuracy: 0.7080 - val_loss: 1.0112 - val_accuracy: 0.5457\n",
            "Epoch 13/100\n",
            "181/181 [==============================] - 28s 154ms/step - loss: 0.6738 - accuracy: 0.7272 - val_loss: 1.0189 - val_accuracy: 0.5426\n",
            "Epoch 14/100\n",
            "181/181 [==============================] - 24s 130ms/step - loss: 0.6315 - accuracy: 0.7406 - val_loss: 1.0321 - val_accuracy: 0.5377\n",
            "Epoch 15/100\n",
            "181/181 [==============================] - 21s 115ms/step - loss: 0.5915 - accuracy: 0.7537 - val_loss: 1.0496 - val_accuracy: 0.5301\n",
            "Epoch 16/100\n",
            "181/181 [==============================] - 21s 113ms/step - loss: 0.5562 - accuracy: 0.7626 - val_loss: 1.0713 - val_accuracy: 0.5402\n",
            "Epoch 17/100\n",
            "181/181 [==============================] - 22s 123ms/step - loss: 0.5243 - accuracy: 0.7722 - val_loss: 1.1034 - val_accuracy: 0.5201\n",
            "Epoch 18/100\n",
            " 87/181 [=============>................] - ETA: 8s - loss: 0.4952 - accuracy: 0.7777"
          ]
        },
        {
          "ename": "KeyboardInterrupt",
          "evalue": "",
          "output_type": "error",
          "traceback": [
            "\u001b[0;31m---------------------------------------------------------------------------\u001b[0m",
            "\u001b[0;31mKeyboardInterrupt\u001b[0m                         Traceback (most recent call last)",
            "\u001b[0;32m<ipython-input-11-8bd472049876>\u001b[0m in \u001b[0;36m<cell line: 30>\u001b[0;34m()\u001b[0m\n\u001b[1;32m     28\u001b[0m \u001b[0;34m\u001b[0m\u001b[0m\n\u001b[1;32m     29\u001b[0m \u001b[0;31m# Train the model\u001b[0m\u001b[0;34m\u001b[0m\u001b[0;34m\u001b[0m\u001b[0m\n\u001b[0;32m---> 30\u001b[0;31m \u001b[0mmodel\u001b[0m\u001b[0;34m.\u001b[0m\u001b[0mfit\u001b[0m\u001b[0;34m(\u001b[0m\u001b[0mpadded_train\u001b[0m\u001b[0;34m,\u001b[0m \u001b[0mlabels_train_one_hot\u001b[0m\u001b[0;34m,\u001b[0m \u001b[0mepochs\u001b[0m\u001b[0;34m=\u001b[0m\u001b[0;36m100\u001b[0m\u001b[0;34m,\u001b[0m \u001b[0mbatch_size\u001b[0m\u001b[0;34m=\u001b[0m\u001b[0;36m64\u001b[0m\u001b[0;34m,\u001b[0m \u001b[0mvalidation_data\u001b[0m\u001b[0;34m=\u001b[0m\u001b[0;34m(\u001b[0m\u001b[0mpadded_test\u001b[0m\u001b[0;34m,\u001b[0m \u001b[0mlabels_test_one_hot\u001b[0m\u001b[0;34m)\u001b[0m\u001b[0;34m)\u001b[0m\u001b[0;34m\u001b[0m\u001b[0;34m\u001b[0m\u001b[0m\n\u001b[0m\u001b[1;32m     31\u001b[0m \u001b[0;31m# epochs       = 10\u001b[0m\u001b[0;34m\u001b[0m\u001b[0;34m\u001b[0m\u001b[0m\n\u001b[1;32m     32\u001b[0m \u001b[0;31m# batch size   = 32\u001b[0m\u001b[0;34m\u001b[0m\u001b[0;34m\u001b[0m\u001b[0m\n",
            "\u001b[0;32m/usr/local/lib/python3.10/dist-packages/keras/src/utils/traceback_utils.py\u001b[0m in \u001b[0;36merror_handler\u001b[0;34m(*args, **kwargs)\u001b[0m\n\u001b[1;32m     63\u001b[0m         \u001b[0mfiltered_tb\u001b[0m \u001b[0;34m=\u001b[0m \u001b[0;32mNone\u001b[0m\u001b[0;34m\u001b[0m\u001b[0;34m\u001b[0m\u001b[0m\n\u001b[1;32m     64\u001b[0m         \u001b[0;32mtry\u001b[0m\u001b[0;34m:\u001b[0m\u001b[0;34m\u001b[0m\u001b[0;34m\u001b[0m\u001b[0m\n\u001b[0;32m---> 65\u001b[0;31m             \u001b[0;32mreturn\u001b[0m \u001b[0mfn\u001b[0m\u001b[0;34m(\u001b[0m\u001b[0;34m*\u001b[0m\u001b[0margs\u001b[0m\u001b[0;34m,\u001b[0m \u001b[0;34m**\u001b[0m\u001b[0mkwargs\u001b[0m\u001b[0;34m)\u001b[0m\u001b[0;34m\u001b[0m\u001b[0;34m\u001b[0m\u001b[0m\n\u001b[0m\u001b[1;32m     66\u001b[0m         \u001b[0;32mexcept\u001b[0m \u001b[0mException\u001b[0m \u001b[0;32mas\u001b[0m \u001b[0me\u001b[0m\u001b[0;34m:\u001b[0m\u001b[0;34m\u001b[0m\u001b[0;34m\u001b[0m\u001b[0m\n\u001b[1;32m     67\u001b[0m             \u001b[0mfiltered_tb\u001b[0m \u001b[0;34m=\u001b[0m \u001b[0m_process_traceback_frames\u001b[0m\u001b[0;34m(\u001b[0m\u001b[0me\u001b[0m\u001b[0;34m.\u001b[0m\u001b[0m__traceback__\u001b[0m\u001b[0;34m)\u001b[0m\u001b[0;34m\u001b[0m\u001b[0;34m\u001b[0m\u001b[0m\n",
            "\u001b[0;32m/usr/local/lib/python3.10/dist-packages/keras/src/engine/training.py\u001b[0m in \u001b[0;36mfit\u001b[0;34m(self, x, y, batch_size, epochs, verbose, callbacks, validation_split, validation_data, shuffle, class_weight, sample_weight, initial_epoch, steps_per_epoch, validation_steps, validation_batch_size, validation_freq, max_queue_size, workers, use_multiprocessing)\u001b[0m\n\u001b[1;32m   1805\u001b[0m                         ):\n\u001b[1;32m   1806\u001b[0m                             \u001b[0mcallbacks\u001b[0m\u001b[0;34m.\u001b[0m\u001b[0mon_train_batch_begin\u001b[0m\u001b[0;34m(\u001b[0m\u001b[0mstep\u001b[0m\u001b[0;34m)\u001b[0m\u001b[0;34m\u001b[0m\u001b[0;34m\u001b[0m\u001b[0m\n\u001b[0;32m-> 1807\u001b[0;31m                             \u001b[0mtmp_logs\u001b[0m \u001b[0;34m=\u001b[0m \u001b[0mself\u001b[0m\u001b[0;34m.\u001b[0m\u001b[0mtrain_function\u001b[0m\u001b[0;34m(\u001b[0m\u001b[0miterator\u001b[0m\u001b[0;34m)\u001b[0m\u001b[0;34m\u001b[0m\u001b[0;34m\u001b[0m\u001b[0m\n\u001b[0m\u001b[1;32m   1808\u001b[0m                             \u001b[0;32mif\u001b[0m \u001b[0mdata_handler\u001b[0m\u001b[0;34m.\u001b[0m\u001b[0mshould_sync\u001b[0m\u001b[0;34m:\u001b[0m\u001b[0;34m\u001b[0m\u001b[0;34m\u001b[0m\u001b[0m\n\u001b[1;32m   1809\u001b[0m                                 \u001b[0mcontext\u001b[0m\u001b[0;34m.\u001b[0m\u001b[0masync_wait\u001b[0m\u001b[0;34m(\u001b[0m\u001b[0;34m)\u001b[0m\u001b[0;34m\u001b[0m\u001b[0;34m\u001b[0m\u001b[0m\n",
            "\u001b[0;32m/usr/local/lib/python3.10/dist-packages/tensorflow/python/util/traceback_utils.py\u001b[0m in \u001b[0;36merror_handler\u001b[0;34m(*args, **kwargs)\u001b[0m\n\u001b[1;32m    148\u001b[0m     \u001b[0mfiltered_tb\u001b[0m \u001b[0;34m=\u001b[0m \u001b[0;32mNone\u001b[0m\u001b[0;34m\u001b[0m\u001b[0;34m\u001b[0m\u001b[0m\n\u001b[1;32m    149\u001b[0m     \u001b[0;32mtry\u001b[0m\u001b[0;34m:\u001b[0m\u001b[0;34m\u001b[0m\u001b[0;34m\u001b[0m\u001b[0m\n\u001b[0;32m--> 150\u001b[0;31m       \u001b[0;32mreturn\u001b[0m \u001b[0mfn\u001b[0m\u001b[0;34m(\u001b[0m\u001b[0;34m*\u001b[0m\u001b[0margs\u001b[0m\u001b[0;34m,\u001b[0m \u001b[0;34m**\u001b[0m\u001b[0mkwargs\u001b[0m\u001b[0;34m)\u001b[0m\u001b[0;34m\u001b[0m\u001b[0;34m\u001b[0m\u001b[0m\n\u001b[0m\u001b[1;32m    151\u001b[0m     \u001b[0;32mexcept\u001b[0m \u001b[0mException\u001b[0m \u001b[0;32mas\u001b[0m \u001b[0me\u001b[0m\u001b[0;34m:\u001b[0m\u001b[0;34m\u001b[0m\u001b[0;34m\u001b[0m\u001b[0m\n\u001b[1;32m    152\u001b[0m       \u001b[0mfiltered_tb\u001b[0m \u001b[0;34m=\u001b[0m \u001b[0m_process_traceback_frames\u001b[0m\u001b[0;34m(\u001b[0m\u001b[0me\u001b[0m\u001b[0;34m.\u001b[0m\u001b[0m__traceback__\u001b[0m\u001b[0;34m)\u001b[0m\u001b[0;34m\u001b[0m\u001b[0;34m\u001b[0m\u001b[0m\n",
            "\u001b[0;32m/usr/local/lib/python3.10/dist-packages/tensorflow/python/eager/polymorphic_function/polymorphic_function.py\u001b[0m in \u001b[0;36m__call__\u001b[0;34m(self, *args, **kwds)\u001b[0m\n\u001b[1;32m    830\u001b[0m \u001b[0;34m\u001b[0m\u001b[0m\n\u001b[1;32m    831\u001b[0m       \u001b[0;32mwith\u001b[0m \u001b[0mOptionalXlaContext\u001b[0m\u001b[0;34m(\u001b[0m\u001b[0mself\u001b[0m\u001b[0;34m.\u001b[0m\u001b[0m_jit_compile\u001b[0m\u001b[0;34m)\u001b[0m\u001b[0;34m:\u001b[0m\u001b[0;34m\u001b[0m\u001b[0;34m\u001b[0m\u001b[0m\n\u001b[0;32m--> 832\u001b[0;31m         \u001b[0mresult\u001b[0m \u001b[0;34m=\u001b[0m \u001b[0mself\u001b[0m\u001b[0;34m.\u001b[0m\u001b[0m_call\u001b[0m\u001b[0;34m(\u001b[0m\u001b[0;34m*\u001b[0m\u001b[0margs\u001b[0m\u001b[0;34m,\u001b[0m \u001b[0;34m**\u001b[0m\u001b[0mkwds\u001b[0m\u001b[0;34m)\u001b[0m\u001b[0;34m\u001b[0m\u001b[0;34m\u001b[0m\u001b[0m\n\u001b[0m\u001b[1;32m    833\u001b[0m \u001b[0;34m\u001b[0m\u001b[0m\n\u001b[1;32m    834\u001b[0m       \u001b[0mnew_tracing_count\u001b[0m \u001b[0;34m=\u001b[0m \u001b[0mself\u001b[0m\u001b[0;34m.\u001b[0m\u001b[0mexperimental_get_tracing_count\u001b[0m\u001b[0;34m(\u001b[0m\u001b[0;34m)\u001b[0m\u001b[0;34m\u001b[0m\u001b[0;34m\u001b[0m\u001b[0m\n",
            "\u001b[0;32m/usr/local/lib/python3.10/dist-packages/tensorflow/python/eager/polymorphic_function/polymorphic_function.py\u001b[0m in \u001b[0;36m_call\u001b[0;34m(self, *args, **kwds)\u001b[0m\n\u001b[1;32m    866\u001b[0m       \u001b[0;31m# In this case we have created variables on the first call, so we run the\u001b[0m\u001b[0;34m\u001b[0m\u001b[0;34m\u001b[0m\u001b[0m\n\u001b[1;32m    867\u001b[0m       \u001b[0;31m# defunned version which is guaranteed to never create variables.\u001b[0m\u001b[0;34m\u001b[0m\u001b[0;34m\u001b[0m\u001b[0m\n\u001b[0;32m--> 868\u001b[0;31m       return tracing_compilation.call_function(\n\u001b[0m\u001b[1;32m    869\u001b[0m           \u001b[0margs\u001b[0m\u001b[0;34m,\u001b[0m \u001b[0mkwds\u001b[0m\u001b[0;34m,\u001b[0m \u001b[0mself\u001b[0m\u001b[0;34m.\u001b[0m\u001b[0m_no_variable_creation_config\u001b[0m\u001b[0;34m\u001b[0m\u001b[0;34m\u001b[0m\u001b[0m\n\u001b[1;32m    870\u001b[0m       )\n",
            "\u001b[0;32m/usr/local/lib/python3.10/dist-packages/tensorflow/python/eager/polymorphic_function/tracing_compilation.py\u001b[0m in \u001b[0;36mcall_function\u001b[0;34m(args, kwargs, tracing_options)\u001b[0m\n\u001b[1;32m    137\u001b[0m   \u001b[0mbound_args\u001b[0m \u001b[0;34m=\u001b[0m \u001b[0mfunction\u001b[0m\u001b[0;34m.\u001b[0m\u001b[0mfunction_type\u001b[0m\u001b[0;34m.\u001b[0m\u001b[0mbind\u001b[0m\u001b[0;34m(\u001b[0m\u001b[0;34m*\u001b[0m\u001b[0margs\u001b[0m\u001b[0;34m,\u001b[0m \u001b[0;34m**\u001b[0m\u001b[0mkwargs\u001b[0m\u001b[0;34m)\u001b[0m\u001b[0;34m\u001b[0m\u001b[0;34m\u001b[0m\u001b[0m\n\u001b[1;32m    138\u001b[0m   \u001b[0mflat_inputs\u001b[0m \u001b[0;34m=\u001b[0m \u001b[0mfunction\u001b[0m\u001b[0;34m.\u001b[0m\u001b[0mfunction_type\u001b[0m\u001b[0;34m.\u001b[0m\u001b[0munpack_inputs\u001b[0m\u001b[0;34m(\u001b[0m\u001b[0mbound_args\u001b[0m\u001b[0;34m)\u001b[0m\u001b[0;34m\u001b[0m\u001b[0;34m\u001b[0m\u001b[0m\n\u001b[0;32m--> 139\u001b[0;31m   return function._call_flat(  # pylint: disable=protected-access\n\u001b[0m\u001b[1;32m    140\u001b[0m       \u001b[0mflat_inputs\u001b[0m\u001b[0;34m,\u001b[0m \u001b[0mcaptured_inputs\u001b[0m\u001b[0;34m=\u001b[0m\u001b[0mfunction\u001b[0m\u001b[0;34m.\u001b[0m\u001b[0mcaptured_inputs\u001b[0m\u001b[0;34m\u001b[0m\u001b[0;34m\u001b[0m\u001b[0m\n\u001b[1;32m    141\u001b[0m   )\n",
            "\u001b[0;32m/usr/local/lib/python3.10/dist-packages/tensorflow/python/eager/polymorphic_function/concrete_function.py\u001b[0m in \u001b[0;36m_call_flat\u001b[0;34m(self, tensor_inputs, captured_inputs)\u001b[0m\n\u001b[1;32m   1321\u001b[0m         and executing_eagerly):\n\u001b[1;32m   1322\u001b[0m       \u001b[0;31m# No tape is watching; skip to running the function.\u001b[0m\u001b[0;34m\u001b[0m\u001b[0;34m\u001b[0m\u001b[0m\n\u001b[0;32m-> 1323\u001b[0;31m       \u001b[0;32mreturn\u001b[0m \u001b[0mself\u001b[0m\u001b[0;34m.\u001b[0m\u001b[0m_inference_function\u001b[0m\u001b[0;34m.\u001b[0m\u001b[0mcall_preflattened\u001b[0m\u001b[0;34m(\u001b[0m\u001b[0margs\u001b[0m\u001b[0;34m)\u001b[0m\u001b[0;34m\u001b[0m\u001b[0;34m\u001b[0m\u001b[0m\n\u001b[0m\u001b[1;32m   1324\u001b[0m     forward_backward = self._select_forward_and_backward_functions(\n\u001b[1;32m   1325\u001b[0m         \u001b[0margs\u001b[0m\u001b[0;34m,\u001b[0m\u001b[0;34m\u001b[0m\u001b[0;34m\u001b[0m\u001b[0m\n",
            "\u001b[0;32m/usr/local/lib/python3.10/dist-packages/tensorflow/python/eager/polymorphic_function/atomic_function.py\u001b[0m in \u001b[0;36mcall_preflattened\u001b[0;34m(self, args)\u001b[0m\n\u001b[1;32m    214\u001b[0m   \u001b[0;32mdef\u001b[0m \u001b[0mcall_preflattened\u001b[0m\u001b[0;34m(\u001b[0m\u001b[0mself\u001b[0m\u001b[0;34m,\u001b[0m \u001b[0margs\u001b[0m\u001b[0;34m:\u001b[0m \u001b[0mSequence\u001b[0m\u001b[0;34m[\u001b[0m\u001b[0mcore\u001b[0m\u001b[0;34m.\u001b[0m\u001b[0mTensor\u001b[0m\u001b[0;34m]\u001b[0m\u001b[0;34m)\u001b[0m \u001b[0;34m->\u001b[0m \u001b[0mAny\u001b[0m\u001b[0;34m:\u001b[0m\u001b[0;34m\u001b[0m\u001b[0;34m\u001b[0m\u001b[0m\n\u001b[1;32m    215\u001b[0m     \u001b[0;34m\"\"\"Calls with flattened tensor inputs and returns the structured output.\"\"\"\u001b[0m\u001b[0;34m\u001b[0m\u001b[0;34m\u001b[0m\u001b[0m\n\u001b[0;32m--> 216\u001b[0;31m     \u001b[0mflat_outputs\u001b[0m \u001b[0;34m=\u001b[0m \u001b[0mself\u001b[0m\u001b[0;34m.\u001b[0m\u001b[0mcall_flat\u001b[0m\u001b[0;34m(\u001b[0m\u001b[0;34m*\u001b[0m\u001b[0margs\u001b[0m\u001b[0;34m)\u001b[0m\u001b[0;34m\u001b[0m\u001b[0;34m\u001b[0m\u001b[0m\n\u001b[0m\u001b[1;32m    217\u001b[0m     \u001b[0;32mreturn\u001b[0m \u001b[0mself\u001b[0m\u001b[0;34m.\u001b[0m\u001b[0mfunction_type\u001b[0m\u001b[0;34m.\u001b[0m\u001b[0mpack_output\u001b[0m\u001b[0;34m(\u001b[0m\u001b[0mflat_outputs\u001b[0m\u001b[0;34m)\u001b[0m\u001b[0;34m\u001b[0m\u001b[0;34m\u001b[0m\u001b[0m\n\u001b[1;32m    218\u001b[0m \u001b[0;34m\u001b[0m\u001b[0m\n",
            "\u001b[0;32m/usr/local/lib/python3.10/dist-packages/tensorflow/python/eager/polymorphic_function/atomic_function.py\u001b[0m in \u001b[0;36mcall_flat\u001b[0;34m(self, *args)\u001b[0m\n\u001b[1;32m    249\u001b[0m         \u001b[0;32mwith\u001b[0m \u001b[0mrecord\u001b[0m\u001b[0;34m.\u001b[0m\u001b[0mstop_recording\u001b[0m\u001b[0;34m(\u001b[0m\u001b[0;34m)\u001b[0m\u001b[0;34m:\u001b[0m\u001b[0;34m\u001b[0m\u001b[0;34m\u001b[0m\u001b[0m\n\u001b[1;32m    250\u001b[0m           \u001b[0;32mif\u001b[0m \u001b[0mself\u001b[0m\u001b[0;34m.\u001b[0m\u001b[0m_bound_context\u001b[0m\u001b[0;34m.\u001b[0m\u001b[0mexecuting_eagerly\u001b[0m\u001b[0;34m(\u001b[0m\u001b[0;34m)\u001b[0m\u001b[0;34m:\u001b[0m\u001b[0;34m\u001b[0m\u001b[0;34m\u001b[0m\u001b[0m\n\u001b[0;32m--> 251\u001b[0;31m             outputs = self._bound_context.call_function(\n\u001b[0m\u001b[1;32m    252\u001b[0m                 \u001b[0mself\u001b[0m\u001b[0;34m.\u001b[0m\u001b[0mname\u001b[0m\u001b[0;34m,\u001b[0m\u001b[0;34m\u001b[0m\u001b[0;34m\u001b[0m\u001b[0m\n\u001b[1;32m    253\u001b[0m                 \u001b[0mlist\u001b[0m\u001b[0;34m(\u001b[0m\u001b[0margs\u001b[0m\u001b[0;34m)\u001b[0m\u001b[0;34m,\u001b[0m\u001b[0;34m\u001b[0m\u001b[0;34m\u001b[0m\u001b[0m\n",
            "\u001b[0;32m/usr/local/lib/python3.10/dist-packages/tensorflow/python/eager/context.py\u001b[0m in \u001b[0;36mcall_function\u001b[0;34m(self, name, tensor_inputs, num_outputs)\u001b[0m\n\u001b[1;32m   1484\u001b[0m     \u001b[0mcancellation_context\u001b[0m \u001b[0;34m=\u001b[0m \u001b[0mcancellation\u001b[0m\u001b[0;34m.\u001b[0m\u001b[0mcontext\u001b[0m\u001b[0;34m(\u001b[0m\u001b[0;34m)\u001b[0m\u001b[0;34m\u001b[0m\u001b[0;34m\u001b[0m\u001b[0m\n\u001b[1;32m   1485\u001b[0m     \u001b[0;32mif\u001b[0m \u001b[0mcancellation_context\u001b[0m \u001b[0;32mis\u001b[0m \u001b[0;32mNone\u001b[0m\u001b[0;34m:\u001b[0m\u001b[0;34m\u001b[0m\u001b[0;34m\u001b[0m\u001b[0m\n\u001b[0;32m-> 1486\u001b[0;31m       outputs = execute.execute(\n\u001b[0m\u001b[1;32m   1487\u001b[0m           \u001b[0mname\u001b[0m\u001b[0;34m.\u001b[0m\u001b[0mdecode\u001b[0m\u001b[0;34m(\u001b[0m\u001b[0;34m\"utf-8\"\u001b[0m\u001b[0;34m)\u001b[0m\u001b[0;34m,\u001b[0m\u001b[0;34m\u001b[0m\u001b[0;34m\u001b[0m\u001b[0m\n\u001b[1;32m   1488\u001b[0m           \u001b[0mnum_outputs\u001b[0m\u001b[0;34m=\u001b[0m\u001b[0mnum_outputs\u001b[0m\u001b[0;34m,\u001b[0m\u001b[0;34m\u001b[0m\u001b[0;34m\u001b[0m\u001b[0m\n",
            "\u001b[0;32m/usr/local/lib/python3.10/dist-packages/tensorflow/python/eager/execute.py\u001b[0m in \u001b[0;36mquick_execute\u001b[0;34m(op_name, num_outputs, inputs, attrs, ctx, name)\u001b[0m\n\u001b[1;32m     51\u001b[0m   \u001b[0;32mtry\u001b[0m\u001b[0;34m:\u001b[0m\u001b[0;34m\u001b[0m\u001b[0;34m\u001b[0m\u001b[0m\n\u001b[1;32m     52\u001b[0m     \u001b[0mctx\u001b[0m\u001b[0;34m.\u001b[0m\u001b[0mensure_initialized\u001b[0m\u001b[0;34m(\u001b[0m\u001b[0;34m)\u001b[0m\u001b[0;34m\u001b[0m\u001b[0;34m\u001b[0m\u001b[0m\n\u001b[0;32m---> 53\u001b[0;31m     tensors = pywrap_tfe.TFE_Py_Execute(ctx._handle, device_name, op_name,\n\u001b[0m\u001b[1;32m     54\u001b[0m                                         inputs, attrs, num_outputs)\n\u001b[1;32m     55\u001b[0m   \u001b[0;32mexcept\u001b[0m \u001b[0mcore\u001b[0m\u001b[0;34m.\u001b[0m\u001b[0m_NotOkStatusException\u001b[0m \u001b[0;32mas\u001b[0m \u001b[0me\u001b[0m\u001b[0;34m:\u001b[0m\u001b[0;34m\u001b[0m\u001b[0;34m\u001b[0m\u001b[0m\n",
            "\u001b[0;31mKeyboardInterrupt\u001b[0m: "
          ]
        }
      ],
      "source": [
        "import tensorflow as tf\n",
        "from tensorflow.keras.models import Sequential\n",
        "from tensorflow.keras.layers import Embedding, Conv1D, GlobalMaxPooling1D, Dense\n",
        "from tensorflow.keras.optimizers import Adam\n",
        "\n",
        "# Define the CNN model\n",
        "embedding_dim = 50\n",
        "filters = 128\n",
        "\n",
        "model = Sequential()\n",
        "model.add(Embedding(input_dim=len(tokenizer.word_index) + 1, output_dim=embedding_dim, input_length=max_length))\n",
        "model.add(Conv1D(filters=filters, kernel_size=3, activation='relu'))\n",
        "model.add(GlobalMaxPooling1D())\n",
        "model.add(Dense(units=128, activation='relu'))\n",
        "model.add(Dense(units=num_classes, activation='softmax'))  # Assuming you've defined num_classes\n",
        "\n",
        "# Compile the model\n",
        "# model.compile(optimizer='adam', loss='categorical_crossentropy', metrics=['accuracy'])\n",
        "\n",
        "# Define the optimizer with a custom learning rate\n",
        "custom_optimizer = Adam(learning_rate=0.0001)\n",
        "\n",
        "# Compile the model with the custom optimizer\n",
        "model.compile(optimizer=custom_optimizer, loss='categorical_crossentropy', metrics=['accuracy'])\n",
        "\n",
        "# Print the model summary\n",
        "model.summary()\n",
        "\n",
        "# Train the model\n",
        "model.fit(padded_train, labels_train_one_hot, epochs=100, batch_size=64, validation_data=(padded_test, labels_test_one_hot))\n",
        "# filters       = 64\n",
        "# lr            = 0.001\n",
        "# epochs       = 10\n",
        "# batch size   = 32\n",
        "# best val acc = 54\n",
        "# final loss   = 0.36\n",
        "\n",
        "\n",
        "import numpy as np\n",
        "from sklearn.metrics import confusion_matrix, classification_report\n",
        "\n",
        "# Evaluate the model on test data\n",
        "predictions = model.predict(padded_test)\n",
        "predicted_labels = np.argmax(predictions, axis=1)\n",
        "true_labels = np.argmax(labels_test_one_hot, axis=1)\n",
        "\n",
        "# Generate confusion matrix\n",
        "conf_matrix = confusion_matrix(true_labels, predicted_labels)\n",
        "\n",
        "# Print confusion matrix\n",
        "print(\"Confusion Matrix:\")\n",
        "print(conf_matrix)\n",
        "\n",
        "# Generate and print classification report\n",
        "class_report = classification_report(true_labels, predicted_labels)\n",
        "print(\"\\nClassification Report:\")\n",
        "print(class_report)\n"
      ]
    },
    {
      "cell_type": "markdown",
      "metadata": {
        "id": "JRri77x4uaZc"
      },
      "source": [
        "## CNN , Early stopping"
      ]
    },
    {
      "cell_type": "code",
      "execution_count": null,
      "metadata": {
        "colab": {
          "base_uri": "https://localhost:8080/"
        },
        "id": "TbweKuGej33p",
        "outputId": "963f9dba-29f3-4f75-cf47-fcafc4ecb09b"
      },
      "outputs": [
        {
          "name": "stdout",
          "output_type": "stream",
          "text": [
            "Epoch 1/100\n",
            "181/181 [==============================] - 22s 115ms/step - loss: 1.5546 - accuracy: 0.3267 - val_loss: 1.5297 - val_accuracy: 0.3328\n",
            "Epoch 2/100\n",
            "181/181 [==============================] - 23s 129ms/step - loss: 1.5186 - accuracy: 0.3328 - val_loss: 1.5133 - val_accuracy: 0.3328\n",
            "Epoch 3/100\n",
            "181/181 [==============================] - 22s 122ms/step - loss: 1.4721 - accuracy: 0.3417 - val_loss: 1.4315 - val_accuracy: 0.4048\n",
            "Epoch 4/100\n",
            "181/181 [==============================] - 23s 129ms/step - loss: 1.3202 - accuracy: 0.5034 - val_loss: 1.2639 - val_accuracy: 0.5035\n",
            "Epoch 5/100\n",
            "181/181 [==============================] - 21s 118ms/step - loss: 1.1734 - accuracy: 0.5403 - val_loss: 1.1884 - val_accuracy: 0.5121\n",
            "Epoch 6/100\n",
            "181/181 [==============================] - 21s 116ms/step - loss: 1.0951 - accuracy: 0.5558 - val_loss: 1.1528 - val_accuracy: 0.5229\n",
            "Epoch 7/100\n",
            "181/181 [==============================] - 24s 131ms/step - loss: 1.0344 - accuracy: 0.5757 - val_loss: 1.1220 - val_accuracy: 0.5287\n",
            "Epoch 8/100\n",
            "181/181 [==============================] - 26s 141ms/step - loss: 0.9705 - accuracy: 0.5928 - val_loss: 1.0887 - val_accuracy: 0.5253\n",
            "Epoch 9/100\n",
            "181/181 [==============================] - 27s 151ms/step - loss: 0.9002 - accuracy: 0.6253 - val_loss: 1.0508 - val_accuracy: 0.5478\n",
            "Epoch 10/100\n",
            "181/181 [==============================] - 21s 116ms/step - loss: 0.8302 - accuracy: 0.6645 - val_loss: 1.0234 - val_accuracy: 0.5471\n",
            "Epoch 11/100\n",
            "181/181 [==============================] - 23s 126ms/step - loss: 0.7673 - accuracy: 0.6945 - val_loss: 1.0092 - val_accuracy: 0.5502\n",
            "Epoch 12/100\n",
            "181/181 [==============================] - 21s 115ms/step - loss: 0.7149 - accuracy: 0.7140 - val_loss: 1.0084 - val_accuracy: 0.5571\n",
            "Epoch 13/100\n",
            "181/181 [==============================] - 22s 124ms/step - loss: 0.6692 - accuracy: 0.7290 - val_loss: 1.0141 - val_accuracy: 0.5606\n",
            "Epoch 14/100\n",
            "181/181 [==============================] - 21s 117ms/step - loss: 0.6281 - accuracy: 0.7421 - val_loss: 1.0283 - val_accuracy: 0.5516\n",
            "Epoch 15/100\n",
            "181/181 [==============================] - 20s 113ms/step - loss: 0.5919 - accuracy: 0.7516 - val_loss: 1.0524 - val_accuracy: 0.5350\n",
            "Epoch 16/100\n",
            "181/181 [==============================] - 24s 131ms/step - loss: 0.5575 - accuracy: 0.7595 - val_loss: 1.0724 - val_accuracy: 0.5332\n",
            "Epoch 17/100\n",
            "181/181 [==============================] - 21s 115ms/step - loss: 0.5274 - accuracy: 0.7672 - val_loss: 1.0970 - val_accuracy: 0.5301\n",
            "91/91 [==============================] - 1s 11ms/step\n",
            "Confusion Matrix:\n",
            "[[461  23  14  12 123]\n",
            " [ 34 123   2  10 130]\n",
            " [ 30   5 125  37 188]\n",
            " [ 10   6  15 449 130]\n",
            " [146  89  73 202 451]]\n",
            "\n",
            "Classification Report:\n",
            "              precision    recall  f1-score   support\n",
            "\n",
            "           0       0.68      0.73      0.70       633\n",
            "           1       0.50      0.41      0.45       299\n",
            "           2       0.55      0.32      0.41       385\n",
            "           3       0.63      0.74      0.68       610\n",
            "           4       0.44      0.47      0.45       961\n",
            "\n",
            "    accuracy                           0.56      2888\n",
            "   macro avg       0.56      0.53      0.54      2888\n",
            "weighted avg       0.55      0.56      0.55      2888\n",
            "\n"
          ]
        }
      ],
      "source": [
        "import tensorflow as tf\n",
        "from tensorflow.keras.models import Sequential\n",
        "from tensorflow.keras.layers import Embedding, Conv1D, GlobalMaxPooling1D, Dense\n",
        "from tensorflow.keras.optimizers import Adam\n",
        "from tensorflow.keras.callbacks import EarlyStopping\n",
        "\n",
        "import numpy as np\n",
        "from sklearn.metrics import confusion_matrix, classification_report\n",
        "\n",
        "# Define the CNN model\n",
        "embedding_dim = 50\n",
        "filters = 128\n",
        "\n",
        "model = Sequential()\n",
        "model.add(Embedding(input_dim=len(tokenizer.word_index) + 1, output_dim=embedding_dim, input_length=max_length))\n",
        "model.add(Conv1D(filters=filters, kernel_size=3, activation='relu'))\n",
        "model.add(GlobalMaxPooling1D())\n",
        "model.add(Dense(units=128, activation='relu'))\n",
        "model.add(Dense(units=num_classes, activation='softmax'))\n",
        "\n",
        "# Compile the model\n",
        "custom_optimizer = Adam(learning_rate=0.0001)\n",
        "model.compile(optimizer=custom_optimizer, loss='categorical_crossentropy', metrics=['accuracy'])\n",
        "\n",
        "# Define early stopping callback\n",
        "early_stopping = EarlyStopping(monitor='val_loss', patience=5, restore_best_weights=True)\n",
        "\n",
        "# Train the model with early stopping\n",
        "model.fit(\n",
        "    padded_train,\n",
        "    labels_train_one_hot,\n",
        "    epochs=100,\n",
        "    batch_size=64,\n",
        "    validation_data=(padded_test, labels_test_one_hot),\n",
        "    callbacks=[early_stopping]\n",
        ")\n",
        "\n",
        "# Evaluate the model on test data\n",
        "predictions = model.predict(padded_test)\n",
        "predicted_labels = np.argmax(predictions, axis=1)\n",
        "true_labels = np.argmax(labels_test_one_hot, axis=1)\n",
        "\n",
        "# Print confusion matrix and classification report\n",
        "conf_matrix = confusion_matrix(true_labels, predicted_labels)\n",
        "class_report = classification_report(true_labels, predicted_labels)\n",
        "\n",
        "print(\"Confusion Matrix:\")\n",
        "print(conf_matrix)\n",
        "\n",
        "print(\"\\nClassification Report:\")\n",
        "print(class_report)\n"
      ]
    },
    {
      "cell_type": "markdown",
      "metadata": {
        "id": "Vas5vsw8_Wbf"
      },
      "source": [
        "- Run again"
      ]
    },
    {
      "cell_type": "code",
      "execution_count": null,
      "metadata": {
        "colab": {
          "base_uri": "https://localhost:8080/"
        },
        "id": "bI4DqJpd9zs-",
        "outputId": "b8d6a514-1874-48c7-a930-4251a01b54e0"
      },
      "outputs": [
        {
          "name": "stdout",
          "output_type": "stream",
          "text": [
            "Epoch 1/100\n",
            "181/181 [==============================] - 24s 125ms/step - loss: 1.5508 - accuracy: 0.3261 - val_loss: 1.5270 - val_accuracy: 0.3328\n",
            "Epoch 2/100\n",
            "181/181 [==============================] - 20s 109ms/step - loss: 1.5142 - accuracy: 0.3328 - val_loss: 1.5054 - val_accuracy: 0.3328\n",
            "Epoch 3/100\n",
            "181/181 [==============================] - 20s 112ms/step - loss: 1.4537 - accuracy: 0.3630 - val_loss: 1.4011 - val_accuracy: 0.4349\n",
            "Epoch 4/100\n",
            "181/181 [==============================] - 23s 129ms/step - loss: 1.2890 - accuracy: 0.5070 - val_loss: 1.2436 - val_accuracy: 0.5031\n",
            "Epoch 5/100\n",
            "181/181 [==============================] - 20s 113ms/step - loss: 1.1631 - accuracy: 0.5397 - val_loss: 1.1841 - val_accuracy: 0.5121\n",
            "Epoch 6/100\n",
            "181/181 [==============================] - 20s 112ms/step - loss: 1.0959 - accuracy: 0.5603 - val_loss: 1.1530 - val_accuracy: 0.5190\n",
            "Epoch 7/100\n",
            "181/181 [==============================] - 23s 127ms/step - loss: 1.0439 - accuracy: 0.5739 - val_loss: 1.1321 - val_accuracy: 0.5305\n",
            "Epoch 8/100\n",
            "181/181 [==============================] - 20s 111ms/step - loss: 0.9941 - accuracy: 0.5863 - val_loss: 1.1154 - val_accuracy: 0.5277\n",
            "Epoch 9/100\n",
            "181/181 [==============================] - 20s 109ms/step - loss: 0.9435 - accuracy: 0.6013 - val_loss: 1.0994 - val_accuracy: 0.5260\n",
            "Epoch 10/100\n",
            "181/181 [==============================] - 23s 125ms/step - loss: 0.8875 - accuracy: 0.6343 - val_loss: 1.0818 - val_accuracy: 0.5280\n",
            "Epoch 11/100\n",
            "181/181 [==============================] - 20s 111ms/step - loss: 0.8262 - accuracy: 0.6783 - val_loss: 1.0693 - val_accuracy: 0.5263\n",
            "Epoch 12/100\n",
            "181/181 [==============================] - 20s 111ms/step - loss: 0.7624 - accuracy: 0.7085 - val_loss: 1.0593 - val_accuracy: 0.5440\n",
            "Epoch 13/100\n",
            "181/181 [==============================] - 23s 126ms/step - loss: 0.7032 - accuracy: 0.7317 - val_loss: 1.0601 - val_accuracy: 0.5367\n",
            "Epoch 14/100\n",
            "181/181 [==============================] - 20s 111ms/step - loss: 0.6502 - accuracy: 0.7451 - val_loss: 1.0686 - val_accuracy: 0.5360\n",
            "Epoch 15/100\n",
            "181/181 [==============================] - 20s 109ms/step - loss: 0.6025 - accuracy: 0.7583 - val_loss: 1.0863 - val_accuracy: 0.5270\n",
            "Epoch 16/100\n",
            "181/181 [==============================] - 23s 127ms/step - loss: 0.5613 - accuracy: 0.7679 - val_loss: 1.1118 - val_accuracy: 0.5145\n",
            "Epoch 17/100\n",
            "181/181 [==============================] - 20s 113ms/step - loss: 0.5257 - accuracy: 0.7694 - val_loss: 1.1377 - val_accuracy: 0.5180\n",
            "91/91 [==============================] - 1s 12ms/step\n",
            "Confusion Matrix:\n",
            "[[471  15  15  13 119]\n",
            " [ 39  75   5   8 172]\n",
            " [ 33   6 136  33 177]\n",
            " [  8   1  17 431 153]\n",
            " [142  73  83 205 458]]\n",
            "\n",
            "Classification Report:\n",
            "              precision    recall  f1-score   support\n",
            "\n",
            "           0       0.68      0.74      0.71       633\n",
            "           1       0.44      0.25      0.32       299\n",
            "           2       0.53      0.35      0.42       385\n",
            "           3       0.62      0.71      0.66       610\n",
            "           4       0.42      0.48      0.45       961\n",
            "\n",
            "    accuracy                           0.54      2888\n",
            "   macro avg       0.54      0.51      0.51      2888\n",
            "weighted avg       0.54      0.54      0.53      2888\n",
            "\n"
          ]
        }
      ],
      "source": [
        "import tensorflow as tf\n",
        "from tensorflow.keras.models import Sequential\n",
        "from tensorflow.keras.layers import Embedding, Conv1D, GlobalMaxPooling1D, Dense\n",
        "from tensorflow.keras.optimizers import Adam\n",
        "from tensorflow.keras.callbacks import EarlyStopping\n",
        "\n",
        "import numpy as np\n",
        "from sklearn.metrics import confusion_matrix, classification_report\n",
        "\n",
        "# Define the CNN model\n",
        "embedding_dim = 50\n",
        "filters = 128\n",
        "\n",
        "model = Sequential()\n",
        "model.add(Embedding(input_dim=len(tokenizer.word_index) + 1, output_dim=embedding_dim, input_length=max_length))\n",
        "model.add(Conv1D(filters=filters, kernel_size=3, activation='relu'))\n",
        "model.add(GlobalMaxPooling1D())\n",
        "model.add(Dense(units=128, activation='relu'))\n",
        "model.add(Dense(units=num_classes, activation='softmax'))\n",
        "\n",
        "# Compile the model\n",
        "custom_optimizer = Adam(learning_rate=0.0001)\n",
        "model.compile(optimizer=custom_optimizer, loss='categorical_crossentropy', metrics=['accuracy'])\n",
        "\n",
        "# Define early stopping callback\n",
        "early_stopping = EarlyStopping(monitor='val_loss', patience=5, restore_best_weights=True)\n",
        "\n",
        "# Train the model with early stopping\n",
        "model.fit(\n",
        "    padded_train,\n",
        "    labels_train_one_hot,\n",
        "    epochs=100,\n",
        "    batch_size=64,\n",
        "    validation_data=(padded_test, labels_test_one_hot),\n",
        "    callbacks=[early_stopping]\n",
        ")\n",
        "\n",
        "# Evaluate the model on test data\n",
        "predictions = model.predict(padded_test)\n",
        "predicted_labels = np.argmax(predictions, axis=1)\n",
        "true_labels = np.argmax(labels_test_one_hot, axis=1)\n",
        "\n",
        "# Print confusion matrix and classification report\n",
        "conf_matrix = confusion_matrix(true_labels, predicted_labels)\n",
        "class_report = classification_report(true_labels, predicted_labels)\n",
        "\n",
        "print(\"Confusion Matrix:\")\n",
        "print(conf_matrix)\n",
        "\n",
        "print(\"\\nClassification Report:\")\n",
        "print(class_report)\n"
      ]
    },
    {
      "cell_type": "markdown",
      "metadata": {
        "id": "r6XaDaNdDfTs"
      },
      "source": [
        "## add class weight"
      ]
    },
    {
      "cell_type": "code",
      "execution_count": null,
      "metadata": {
        "colab": {
          "base_uri": "https://localhost:8080/",
          "height": 497
        },
        "id": "fesbOMkLAwez",
        "outputId": "6548d0eb-7796-4192-ad16-cd5a67dc2ee1"
      },
      "outputs": [
        {
          "name": "stdout",
          "output_type": "stream",
          "text": [
            "class_weights_dict : {0: 0.9130434782608695, 1: 1.9330543933054394, 2: 1.5, 3: 0.9463334698893896, 4: 0.600936524453694}\n",
            "Epoch 1/100\n",
            "144/181 [======================>.......] - ETA: 4s - loss: 1.6052 - accuracy: 0.2752"
          ]
        },
        {
          "ename": "KeyboardInterrupt",
          "evalue": "",
          "output_type": "error",
          "traceback": [
            "\u001b[0;31m---------------------------------------------------------------------------\u001b[0m",
            "\u001b[0;31mKeyboardInterrupt\u001b[0m                         Traceback (most recent call last)",
            "\u001b[0;32m<ipython-input-7-89369ea14201>\u001b[0m in \u001b[0;36m<cell line: 43>\u001b[0;34m()\u001b[0m\n\u001b[1;32m     41\u001b[0m \u001b[0;34m\u001b[0m\u001b[0m\n\u001b[1;32m     42\u001b[0m \u001b[0;31m# Train the model with early stopping and class weights\u001b[0m\u001b[0;34m\u001b[0m\u001b[0;34m\u001b[0m\u001b[0m\n\u001b[0;32m---> 43\u001b[0;31m model.fit(\n\u001b[0m\u001b[1;32m     44\u001b[0m     \u001b[0mpadded_train\u001b[0m\u001b[0;34m,\u001b[0m\u001b[0;34m\u001b[0m\u001b[0;34m\u001b[0m\u001b[0m\n\u001b[1;32m     45\u001b[0m     \u001b[0mlabels_train_one_hot\u001b[0m\u001b[0;34m,\u001b[0m\u001b[0;34m\u001b[0m\u001b[0;34m\u001b[0m\u001b[0m\n",
            "\u001b[0;32m/usr/local/lib/python3.10/dist-packages/keras/src/utils/traceback_utils.py\u001b[0m in \u001b[0;36merror_handler\u001b[0;34m(*args, **kwargs)\u001b[0m\n\u001b[1;32m     63\u001b[0m         \u001b[0mfiltered_tb\u001b[0m \u001b[0;34m=\u001b[0m \u001b[0;32mNone\u001b[0m\u001b[0;34m\u001b[0m\u001b[0;34m\u001b[0m\u001b[0m\n\u001b[1;32m     64\u001b[0m         \u001b[0;32mtry\u001b[0m\u001b[0;34m:\u001b[0m\u001b[0;34m\u001b[0m\u001b[0;34m\u001b[0m\u001b[0m\n\u001b[0;32m---> 65\u001b[0;31m             \u001b[0;32mreturn\u001b[0m \u001b[0mfn\u001b[0m\u001b[0;34m(\u001b[0m\u001b[0;34m*\u001b[0m\u001b[0margs\u001b[0m\u001b[0;34m,\u001b[0m \u001b[0;34m**\u001b[0m\u001b[0mkwargs\u001b[0m\u001b[0;34m)\u001b[0m\u001b[0;34m\u001b[0m\u001b[0;34m\u001b[0m\u001b[0m\n\u001b[0m\u001b[1;32m     66\u001b[0m         \u001b[0;32mexcept\u001b[0m \u001b[0mException\u001b[0m \u001b[0;32mas\u001b[0m \u001b[0me\u001b[0m\u001b[0;34m:\u001b[0m\u001b[0;34m\u001b[0m\u001b[0;34m\u001b[0m\u001b[0m\n\u001b[1;32m     67\u001b[0m             \u001b[0mfiltered_tb\u001b[0m \u001b[0;34m=\u001b[0m \u001b[0m_process_traceback_frames\u001b[0m\u001b[0;34m(\u001b[0m\u001b[0me\u001b[0m\u001b[0;34m.\u001b[0m\u001b[0m__traceback__\u001b[0m\u001b[0;34m)\u001b[0m\u001b[0;34m\u001b[0m\u001b[0;34m\u001b[0m\u001b[0m\n",
            "\u001b[0;32m/usr/local/lib/python3.10/dist-packages/keras/src/engine/training.py\u001b[0m in \u001b[0;36mfit\u001b[0;34m(self, x, y, batch_size, epochs, verbose, callbacks, validation_split, validation_data, shuffle, class_weight, sample_weight, initial_epoch, steps_per_epoch, validation_steps, validation_batch_size, validation_freq, max_queue_size, workers, use_multiprocessing)\u001b[0m\n\u001b[1;32m   1805\u001b[0m                         ):\n\u001b[1;32m   1806\u001b[0m                             \u001b[0mcallbacks\u001b[0m\u001b[0;34m.\u001b[0m\u001b[0mon_train_batch_begin\u001b[0m\u001b[0;34m(\u001b[0m\u001b[0mstep\u001b[0m\u001b[0;34m)\u001b[0m\u001b[0;34m\u001b[0m\u001b[0;34m\u001b[0m\u001b[0m\n\u001b[0;32m-> 1807\u001b[0;31m                             \u001b[0mtmp_logs\u001b[0m \u001b[0;34m=\u001b[0m \u001b[0mself\u001b[0m\u001b[0;34m.\u001b[0m\u001b[0mtrain_function\u001b[0m\u001b[0;34m(\u001b[0m\u001b[0miterator\u001b[0m\u001b[0;34m)\u001b[0m\u001b[0;34m\u001b[0m\u001b[0;34m\u001b[0m\u001b[0m\n\u001b[0m\u001b[1;32m   1808\u001b[0m                             \u001b[0;32mif\u001b[0m \u001b[0mdata_handler\u001b[0m\u001b[0;34m.\u001b[0m\u001b[0mshould_sync\u001b[0m\u001b[0;34m:\u001b[0m\u001b[0;34m\u001b[0m\u001b[0;34m\u001b[0m\u001b[0m\n\u001b[1;32m   1809\u001b[0m                                 \u001b[0mcontext\u001b[0m\u001b[0;34m.\u001b[0m\u001b[0masync_wait\u001b[0m\u001b[0;34m(\u001b[0m\u001b[0;34m)\u001b[0m\u001b[0;34m\u001b[0m\u001b[0;34m\u001b[0m\u001b[0m\n",
            "\u001b[0;32m/usr/local/lib/python3.10/dist-packages/tensorflow/python/util/traceback_utils.py\u001b[0m in \u001b[0;36merror_handler\u001b[0;34m(*args, **kwargs)\u001b[0m\n\u001b[1;32m    148\u001b[0m     \u001b[0mfiltered_tb\u001b[0m \u001b[0;34m=\u001b[0m \u001b[0;32mNone\u001b[0m\u001b[0;34m\u001b[0m\u001b[0;34m\u001b[0m\u001b[0m\n\u001b[1;32m    149\u001b[0m     \u001b[0;32mtry\u001b[0m\u001b[0;34m:\u001b[0m\u001b[0;34m\u001b[0m\u001b[0;34m\u001b[0m\u001b[0m\n\u001b[0;32m--> 150\u001b[0;31m       \u001b[0;32mreturn\u001b[0m \u001b[0mfn\u001b[0m\u001b[0;34m(\u001b[0m\u001b[0;34m*\u001b[0m\u001b[0margs\u001b[0m\u001b[0;34m,\u001b[0m \u001b[0;34m**\u001b[0m\u001b[0mkwargs\u001b[0m\u001b[0;34m)\u001b[0m\u001b[0;34m\u001b[0m\u001b[0;34m\u001b[0m\u001b[0m\n\u001b[0m\u001b[1;32m    151\u001b[0m     \u001b[0;32mexcept\u001b[0m \u001b[0mException\u001b[0m \u001b[0;32mas\u001b[0m \u001b[0me\u001b[0m\u001b[0;34m:\u001b[0m\u001b[0;34m\u001b[0m\u001b[0;34m\u001b[0m\u001b[0m\n\u001b[1;32m    152\u001b[0m       \u001b[0mfiltered_tb\u001b[0m \u001b[0;34m=\u001b[0m \u001b[0m_process_traceback_frames\u001b[0m\u001b[0;34m(\u001b[0m\u001b[0me\u001b[0m\u001b[0;34m.\u001b[0m\u001b[0m__traceback__\u001b[0m\u001b[0;34m)\u001b[0m\u001b[0;34m\u001b[0m\u001b[0;34m\u001b[0m\u001b[0m\n",
            "\u001b[0;32m/usr/local/lib/python3.10/dist-packages/tensorflow/python/eager/polymorphic_function/polymorphic_function.py\u001b[0m in \u001b[0;36m__call__\u001b[0;34m(self, *args, **kwds)\u001b[0m\n\u001b[1;32m    830\u001b[0m \u001b[0;34m\u001b[0m\u001b[0m\n\u001b[1;32m    831\u001b[0m       \u001b[0;32mwith\u001b[0m \u001b[0mOptionalXlaContext\u001b[0m\u001b[0;34m(\u001b[0m\u001b[0mself\u001b[0m\u001b[0;34m.\u001b[0m\u001b[0m_jit_compile\u001b[0m\u001b[0;34m)\u001b[0m\u001b[0;34m:\u001b[0m\u001b[0;34m\u001b[0m\u001b[0;34m\u001b[0m\u001b[0m\n\u001b[0;32m--> 832\u001b[0;31m         \u001b[0mresult\u001b[0m \u001b[0;34m=\u001b[0m \u001b[0mself\u001b[0m\u001b[0;34m.\u001b[0m\u001b[0m_call\u001b[0m\u001b[0;34m(\u001b[0m\u001b[0;34m*\u001b[0m\u001b[0margs\u001b[0m\u001b[0;34m,\u001b[0m \u001b[0;34m**\u001b[0m\u001b[0mkwds\u001b[0m\u001b[0;34m)\u001b[0m\u001b[0;34m\u001b[0m\u001b[0;34m\u001b[0m\u001b[0m\n\u001b[0m\u001b[1;32m    833\u001b[0m \u001b[0;34m\u001b[0m\u001b[0m\n\u001b[1;32m    834\u001b[0m       \u001b[0mnew_tracing_count\u001b[0m \u001b[0;34m=\u001b[0m \u001b[0mself\u001b[0m\u001b[0;34m.\u001b[0m\u001b[0mexperimental_get_tracing_count\u001b[0m\u001b[0;34m(\u001b[0m\u001b[0;34m)\u001b[0m\u001b[0;34m\u001b[0m\u001b[0;34m\u001b[0m\u001b[0m\n",
            "\u001b[0;32m/usr/local/lib/python3.10/dist-packages/tensorflow/python/eager/polymorphic_function/polymorphic_function.py\u001b[0m in \u001b[0;36m_call\u001b[0;34m(self, *args, **kwds)\u001b[0m\n\u001b[1;32m    866\u001b[0m       \u001b[0;31m# In this case we have created variables on the first call, so we run the\u001b[0m\u001b[0;34m\u001b[0m\u001b[0;34m\u001b[0m\u001b[0m\n\u001b[1;32m    867\u001b[0m       \u001b[0;31m# defunned version which is guaranteed to never create variables.\u001b[0m\u001b[0;34m\u001b[0m\u001b[0;34m\u001b[0m\u001b[0m\n\u001b[0;32m--> 868\u001b[0;31m       return tracing_compilation.call_function(\n\u001b[0m\u001b[1;32m    869\u001b[0m           \u001b[0margs\u001b[0m\u001b[0;34m,\u001b[0m \u001b[0mkwds\u001b[0m\u001b[0;34m,\u001b[0m \u001b[0mself\u001b[0m\u001b[0;34m.\u001b[0m\u001b[0m_no_variable_creation_config\u001b[0m\u001b[0;34m\u001b[0m\u001b[0;34m\u001b[0m\u001b[0m\n\u001b[1;32m    870\u001b[0m       )\n",
            "\u001b[0;32m/usr/local/lib/python3.10/dist-packages/tensorflow/python/eager/polymorphic_function/tracing_compilation.py\u001b[0m in \u001b[0;36mcall_function\u001b[0;34m(args, kwargs, tracing_options)\u001b[0m\n\u001b[1;32m    137\u001b[0m   \u001b[0mbound_args\u001b[0m \u001b[0;34m=\u001b[0m \u001b[0mfunction\u001b[0m\u001b[0;34m.\u001b[0m\u001b[0mfunction_type\u001b[0m\u001b[0;34m.\u001b[0m\u001b[0mbind\u001b[0m\u001b[0;34m(\u001b[0m\u001b[0;34m*\u001b[0m\u001b[0margs\u001b[0m\u001b[0;34m,\u001b[0m \u001b[0;34m**\u001b[0m\u001b[0mkwargs\u001b[0m\u001b[0;34m)\u001b[0m\u001b[0;34m\u001b[0m\u001b[0;34m\u001b[0m\u001b[0m\n\u001b[1;32m    138\u001b[0m   \u001b[0mflat_inputs\u001b[0m \u001b[0;34m=\u001b[0m \u001b[0mfunction\u001b[0m\u001b[0;34m.\u001b[0m\u001b[0mfunction_type\u001b[0m\u001b[0;34m.\u001b[0m\u001b[0munpack_inputs\u001b[0m\u001b[0;34m(\u001b[0m\u001b[0mbound_args\u001b[0m\u001b[0;34m)\u001b[0m\u001b[0;34m\u001b[0m\u001b[0;34m\u001b[0m\u001b[0m\n\u001b[0;32m--> 139\u001b[0;31m   return function._call_flat(  # pylint: disable=protected-access\n\u001b[0m\u001b[1;32m    140\u001b[0m       \u001b[0mflat_inputs\u001b[0m\u001b[0;34m,\u001b[0m \u001b[0mcaptured_inputs\u001b[0m\u001b[0;34m=\u001b[0m\u001b[0mfunction\u001b[0m\u001b[0;34m.\u001b[0m\u001b[0mcaptured_inputs\u001b[0m\u001b[0;34m\u001b[0m\u001b[0;34m\u001b[0m\u001b[0m\n\u001b[1;32m    141\u001b[0m   )\n",
            "\u001b[0;32m/usr/local/lib/python3.10/dist-packages/tensorflow/python/eager/polymorphic_function/concrete_function.py\u001b[0m in \u001b[0;36m_call_flat\u001b[0;34m(self, tensor_inputs, captured_inputs)\u001b[0m\n\u001b[1;32m   1321\u001b[0m         and executing_eagerly):\n\u001b[1;32m   1322\u001b[0m       \u001b[0;31m# No tape is watching; skip to running the function.\u001b[0m\u001b[0;34m\u001b[0m\u001b[0;34m\u001b[0m\u001b[0m\n\u001b[0;32m-> 1323\u001b[0;31m       \u001b[0;32mreturn\u001b[0m \u001b[0mself\u001b[0m\u001b[0;34m.\u001b[0m\u001b[0m_inference_function\u001b[0m\u001b[0;34m.\u001b[0m\u001b[0mcall_preflattened\u001b[0m\u001b[0;34m(\u001b[0m\u001b[0margs\u001b[0m\u001b[0;34m)\u001b[0m\u001b[0;34m\u001b[0m\u001b[0;34m\u001b[0m\u001b[0m\n\u001b[0m\u001b[1;32m   1324\u001b[0m     forward_backward = self._select_forward_and_backward_functions(\n\u001b[1;32m   1325\u001b[0m         \u001b[0margs\u001b[0m\u001b[0;34m,\u001b[0m\u001b[0;34m\u001b[0m\u001b[0;34m\u001b[0m\u001b[0m\n",
            "\u001b[0;32m/usr/local/lib/python3.10/dist-packages/tensorflow/python/eager/polymorphic_function/atomic_function.py\u001b[0m in \u001b[0;36mcall_preflattened\u001b[0;34m(self, args)\u001b[0m\n\u001b[1;32m    214\u001b[0m   \u001b[0;32mdef\u001b[0m \u001b[0mcall_preflattened\u001b[0m\u001b[0;34m(\u001b[0m\u001b[0mself\u001b[0m\u001b[0;34m,\u001b[0m \u001b[0margs\u001b[0m\u001b[0;34m:\u001b[0m \u001b[0mSequence\u001b[0m\u001b[0;34m[\u001b[0m\u001b[0mcore\u001b[0m\u001b[0;34m.\u001b[0m\u001b[0mTensor\u001b[0m\u001b[0;34m]\u001b[0m\u001b[0;34m)\u001b[0m \u001b[0;34m->\u001b[0m \u001b[0mAny\u001b[0m\u001b[0;34m:\u001b[0m\u001b[0;34m\u001b[0m\u001b[0;34m\u001b[0m\u001b[0m\n\u001b[1;32m    215\u001b[0m     \u001b[0;34m\"\"\"Calls with flattened tensor inputs and returns the structured output.\"\"\"\u001b[0m\u001b[0;34m\u001b[0m\u001b[0;34m\u001b[0m\u001b[0m\n\u001b[0;32m--> 216\u001b[0;31m     \u001b[0mflat_outputs\u001b[0m \u001b[0;34m=\u001b[0m \u001b[0mself\u001b[0m\u001b[0;34m.\u001b[0m\u001b[0mcall_flat\u001b[0m\u001b[0;34m(\u001b[0m\u001b[0;34m*\u001b[0m\u001b[0margs\u001b[0m\u001b[0;34m)\u001b[0m\u001b[0;34m\u001b[0m\u001b[0;34m\u001b[0m\u001b[0m\n\u001b[0m\u001b[1;32m    217\u001b[0m     \u001b[0;32mreturn\u001b[0m \u001b[0mself\u001b[0m\u001b[0;34m.\u001b[0m\u001b[0mfunction_type\u001b[0m\u001b[0;34m.\u001b[0m\u001b[0mpack_output\u001b[0m\u001b[0;34m(\u001b[0m\u001b[0mflat_outputs\u001b[0m\u001b[0;34m)\u001b[0m\u001b[0;34m\u001b[0m\u001b[0;34m\u001b[0m\u001b[0m\n\u001b[1;32m    218\u001b[0m \u001b[0;34m\u001b[0m\u001b[0m\n",
            "\u001b[0;32m/usr/local/lib/python3.10/dist-packages/tensorflow/python/eager/polymorphic_function/atomic_function.py\u001b[0m in \u001b[0;36mcall_flat\u001b[0;34m(self, *args)\u001b[0m\n\u001b[1;32m    249\u001b[0m         \u001b[0;32mwith\u001b[0m \u001b[0mrecord\u001b[0m\u001b[0;34m.\u001b[0m\u001b[0mstop_recording\u001b[0m\u001b[0;34m(\u001b[0m\u001b[0;34m)\u001b[0m\u001b[0;34m:\u001b[0m\u001b[0;34m\u001b[0m\u001b[0;34m\u001b[0m\u001b[0m\n\u001b[1;32m    250\u001b[0m           \u001b[0;32mif\u001b[0m \u001b[0mself\u001b[0m\u001b[0;34m.\u001b[0m\u001b[0m_bound_context\u001b[0m\u001b[0;34m.\u001b[0m\u001b[0mexecuting_eagerly\u001b[0m\u001b[0;34m(\u001b[0m\u001b[0;34m)\u001b[0m\u001b[0;34m:\u001b[0m\u001b[0;34m\u001b[0m\u001b[0;34m\u001b[0m\u001b[0m\n\u001b[0;32m--> 251\u001b[0;31m             outputs = self._bound_context.call_function(\n\u001b[0m\u001b[1;32m    252\u001b[0m                 \u001b[0mself\u001b[0m\u001b[0;34m.\u001b[0m\u001b[0mname\u001b[0m\u001b[0;34m,\u001b[0m\u001b[0;34m\u001b[0m\u001b[0;34m\u001b[0m\u001b[0m\n\u001b[1;32m    253\u001b[0m                 \u001b[0mlist\u001b[0m\u001b[0;34m(\u001b[0m\u001b[0margs\u001b[0m\u001b[0;34m)\u001b[0m\u001b[0;34m,\u001b[0m\u001b[0;34m\u001b[0m\u001b[0;34m\u001b[0m\u001b[0m\n",
            "\u001b[0;32m/usr/local/lib/python3.10/dist-packages/tensorflow/python/eager/context.py\u001b[0m in \u001b[0;36mcall_function\u001b[0;34m(self, name, tensor_inputs, num_outputs)\u001b[0m\n\u001b[1;32m   1484\u001b[0m     \u001b[0mcancellation_context\u001b[0m \u001b[0;34m=\u001b[0m \u001b[0mcancellation\u001b[0m\u001b[0;34m.\u001b[0m\u001b[0mcontext\u001b[0m\u001b[0;34m(\u001b[0m\u001b[0;34m)\u001b[0m\u001b[0;34m\u001b[0m\u001b[0;34m\u001b[0m\u001b[0m\n\u001b[1;32m   1485\u001b[0m     \u001b[0;32mif\u001b[0m \u001b[0mcancellation_context\u001b[0m \u001b[0;32mis\u001b[0m \u001b[0;32mNone\u001b[0m\u001b[0;34m:\u001b[0m\u001b[0;34m\u001b[0m\u001b[0;34m\u001b[0m\u001b[0m\n\u001b[0;32m-> 1486\u001b[0;31m       outputs = execute.execute(\n\u001b[0m\u001b[1;32m   1487\u001b[0m           \u001b[0mname\u001b[0m\u001b[0;34m.\u001b[0m\u001b[0mdecode\u001b[0m\u001b[0;34m(\u001b[0m\u001b[0;34m\"utf-8\"\u001b[0m\u001b[0;34m)\u001b[0m\u001b[0;34m,\u001b[0m\u001b[0;34m\u001b[0m\u001b[0;34m\u001b[0m\u001b[0m\n\u001b[1;32m   1488\u001b[0m           \u001b[0mnum_outputs\u001b[0m\u001b[0;34m=\u001b[0m\u001b[0mnum_outputs\u001b[0m\u001b[0;34m,\u001b[0m\u001b[0;34m\u001b[0m\u001b[0;34m\u001b[0m\u001b[0m\n",
            "\u001b[0;32m/usr/local/lib/python3.10/dist-packages/tensorflow/python/eager/execute.py\u001b[0m in \u001b[0;36mquick_execute\u001b[0;34m(op_name, num_outputs, inputs, attrs, ctx, name)\u001b[0m\n\u001b[1;32m     51\u001b[0m   \u001b[0;32mtry\u001b[0m\u001b[0;34m:\u001b[0m\u001b[0;34m\u001b[0m\u001b[0;34m\u001b[0m\u001b[0m\n\u001b[1;32m     52\u001b[0m     \u001b[0mctx\u001b[0m\u001b[0;34m.\u001b[0m\u001b[0mensure_initialized\u001b[0m\u001b[0;34m(\u001b[0m\u001b[0;34m)\u001b[0m\u001b[0;34m\u001b[0m\u001b[0;34m\u001b[0m\u001b[0m\n\u001b[0;32m---> 53\u001b[0;31m     tensors = pywrap_tfe.TFE_Py_Execute(ctx._handle, device_name, op_name,\n\u001b[0m\u001b[1;32m     54\u001b[0m                                         inputs, attrs, num_outputs)\n\u001b[1;32m     55\u001b[0m   \u001b[0;32mexcept\u001b[0m \u001b[0mcore\u001b[0m\u001b[0;34m.\u001b[0m\u001b[0m_NotOkStatusException\u001b[0m \u001b[0;32mas\u001b[0m \u001b[0me\u001b[0m\u001b[0;34m:\u001b[0m\u001b[0;34m\u001b[0m\u001b[0;34m\u001b[0m\u001b[0m\n",
            "\u001b[0;31mKeyboardInterrupt\u001b[0m: "
          ]
        }
      ],
      "source": [
        "import tensorflow as tf\n",
        "from tensorflow.keras.models import Sequential\n",
        "from tensorflow.keras.layers import Embedding, Conv1D, GlobalMaxPooling1D, Dense\n",
        "from tensorflow.keras.optimizers import Adam\n",
        "from tensorflow.keras.callbacks import EarlyStopping\n",
        "\n",
        "import numpy as np\n",
        "from sklearn.utils.class_weight import compute_class_weight\n",
        "from sklearn.metrics import confusion_matrix, classification_report\n",
        "\n",
        "# Calculate class weights\n",
        "\n",
        "class_weights = compute_class_weight(\n",
        "                                        class_weight = \"balanced\",\n",
        "                                        classes = np.unique(labels_minus_one),\n",
        "                                        y = labels_minus_one\n",
        "                                    )\n",
        "class_weights_dict = dict(enumerate(class_weights))\n",
        "\n",
        "\n",
        "print(f'class_weights_dict : {class_weights_dict}')\n",
        "\n",
        "\n",
        "# Define the CNN model\n",
        "embedding_dim = 50\n",
        "filters = 128\n",
        "\n",
        "model = Sequential()\n",
        "model.add(Embedding(input_dim=len(tokenizer.word_index) + 1, output_dim=embedding_dim, input_length=max_length))\n",
        "model.add(Conv1D(filters=filters, kernel_size=3, activation='relu'))\n",
        "model.add(GlobalMaxPooling1D())\n",
        "model.add(Dense(units=128, activation='relu'))\n",
        "model.add(Dense(units=num_classes, activation='softmax'))\n",
        "\n",
        "# Compile the model with class weights\n",
        "custom_optimizer = Adam(learning_rate=0.0001)\n",
        "model.compile(optimizer=custom_optimizer, loss='categorical_crossentropy', metrics=['accuracy'])\n",
        "\n",
        "# Define early stopping callback\n",
        "early_stopping = EarlyStopping(monitor='val_loss', patience=20, restore_best_weights=True) #5\n",
        "\n",
        "# Train the model with early stopping and class weights\n",
        "model.fit(\n",
        "    padded_train,\n",
        "    labels_train_one_hot,\n",
        "    epochs=100,\n",
        "    batch_size=64,\n",
        "    validation_data=(padded_test, labels_test_one_hot),\n",
        "    callbacks=[early_stopping],\n",
        "    class_weight=class_weights_dict\n",
        ")\n",
        "\n",
        "# Evaluate the model on test data\n",
        "predictions = model.predict(padded_test)\n",
        "predicted_labels = np.argmax(predictions, axis=1)\n",
        "true_labels = np.argmax(labels_test_one_hot, axis=1)\n",
        "\n",
        "# Print confusion matrix and classification report\n",
        "conf_matrix = confusion_matrix(true_labels, predicted_labels)\n",
        "class_report = classification_report(true_labels, predicted_labels)\n",
        "\n",
        "print(\"Confusion Matrix:\")\n",
        "print(conf_matrix)\n",
        "\n",
        "print(\"\\nClassification Report:\")\n",
        "print(class_report)\n",
        "\n"
      ]
    },
    {
      "cell_type": "code",
      "execution_count": null,
      "metadata": {
        "colab": {
          "base_uri": "https://localhost:8080/"
        },
        "id": "LHc0kcWWgV2L",
        "outputId": "490939fc-2185-48c9-a114-66b5ad608e23"
      },
      "outputs": [
        {
          "name": "stdout",
          "output_type": "stream",
          "text": [
            "F1 Micro Score: 0.5983379501385041\n"
          ]
        }
      ],
      "source": [
        "\n",
        "# F1\n",
        "from sklearn.metrics import f1_score\n",
        "\n",
        "# Calculate F1 micro score\n",
        "f1_micro = f1_score(true_labels, predicted_labels, average='micro')\n",
        "\n",
        "print(\"F1 Micro Score:\", f1_micro)\n"
      ]
    },
    {
      "cell_type": "code",
      "execution_count": null,
      "metadata": {
        "colab": {
          "base_uri": "https://localhost:8080/",
          "height": 489
        },
        "id": "U9KHQaP49Qkk",
        "outputId": "86044571-8949-4f5c-e923-385c12f8269c"
      },
      "outputs": [
        {
          "data": {
            "text/plain": [
              "<Figure size 500x300 with 0 Axes>"
            ]
          },
          "metadata": {},
          "output_type": "display_data"
        },
        {
          "data": {
            "image/png": "[encoded data removed]",
            "text/plain": [
              "<Figure size 640x480 with 2 Axes>"
            ]
          },
          "metadata": {},
          "output_type": "display_data"
        }
      ],
      "source": [
        "import matplotlib.pyplot as plt\n",
        "import seaborn as sns\n",
        "from sklearn.metrics import ConfusionMatrixDisplay\n",
        "import numpy as np\n",
        "\n",
        "# Assuming 'model' is a Keras model\n",
        "# Assuming 'true_labels' and 'predicted_labels' are available\n",
        "\n",
        "# Calculate the confusion matrix\n",
        "\n",
        "# Normalize each row to convert counts to percentages\n",
        "conf_matrix_percentage = conf_matrix / conf_matrix.sum(axis=1, keepdims=True)\n",
        "\n",
        "plt.figure(figsize=(5, 3))\n",
        "ConfusionMatrixDisplay(conf_matrix_percentage).plot(cmap='Blues')\n",
        "plt.title('Confusion Matrix')\n",
        "plt.show()"
      ]
    },
    {
      "cell_type": "code",
      "execution_count": null,
      "metadata": {
        "colab": {
          "base_uri": "https://localhost:8080/"
        },
        "id": "ZbVUqns6ClB-",
        "outputId": "b798680e-d7d0-4717-8a09-10f9f588295a"
      },
      "outputs": [
        {
          "name": "stderr",
          "output_type": "stream",
          "text": [
            "/usr/local/lib/python3.10/dist-packages/keras/src/engine/training.py:3103: UserWarning: You are saving your model as an HDF5 file via `model.save()`. This file format is considered legacy. We recommend using instead the native Keras format, e.g. `model.save('my_model.keras')`.\n",
            "  saving_api.save_model(\n"
          ]
        }
      ],
      "source": [
        "# Assuming 'model' is your Keras CNN model\n",
        "model.save(\"/content/drive/MyDrive/Medical-Abstracts-TC-Corpus-main/MedicalTextClassification.h5\")\n"
      ]
    },
    {
      "cell_type": "code",
      "execution_count": null,
      "metadata": {
        "id": "S7v2NAEoCmLW"
      },
      "outputs": [],
      "source": [
        "from tensorflow.keras.models import load_model\n",
        "\n",
        "# Load the saved model\n",
        "loaded_model = load_model(\"/content/drive/MyDrive/Medical-Abstracts-TC-Corpus-main/MedicalTextClassification.h5\")\n"
      ]
    },
    {
      "cell_type": "markdown",
      "metadata": {
        "id": "pocDlTl3bqaO"
      },
      "source": [
        "## Change Kernel Size to 5"
      ]
    },
    {
      "cell_type": "code",
      "source": [
        "import re\n",
        "import nltk\n",
        "from nltk.corpus import stopwords\n",
        "from nltk.tokenize import word_tokenize\n",
        "from tensorflow.keras.preprocessing.sequence import pad_sequences\n",
        "from tensorflow.keras.preprocessing.text import Tokenizer\n",
        "import nltk\n",
        "from nltk.corpus import stopwords\n",
        "import pandas as pd\n",
        "import re\n",
        "import nltk\n",
        "from nltk.corpus import stopwords\n",
        "\n",
        "from nltk.tokenize import word_tokenize\n",
        "\n",
        "\n",
        "\n",
        "nltk.data.path.append(r\"/content/drive/MyDrive/Medical-Abstracts-TC-Corpus-main\")  # Replace with your actual NLTK data path\n",
        "# Load your data from CSV file\n",
        "file_path =\"/content/drive/MyDrive/Medical-Abstracts-TC-Corpus-main/medical_tc_train.csv\"\n",
        "train_data = pd.read_csv(file_path)\n",
        "\n",
        "test_file_path =\"/content/drive/MyDrive/Medical-Abstracts-TC-Corpus-main/medical_tc_test.csv\"\n",
        "test_data = pd.read_csv(test_file_path)\n",
        "\n",
        "# Download NLTK resources (if not already downloaded)\n",
        "nltk.download('punkt')\n",
        "nltk.download('stopwords')\n",
        "# tokenizer\n",
        "# Define your preprocessing function\n",
        "def preprocess_and_get_length(text):\n",
        "    # Convert to lowercase\n",
        "    text = text.lower()\n",
        "\n",
        "    # Tokenization\n",
        "    # tokens = re.split(r' |-|\\(|\\)', text)  # Split by space, hyphen, parentheses\n",
        "    tokens = re.findall(r'\\b(?:\\w+(?:[.-]\\w+)*|[^\\w\\s])', text)\n",
        "\n",
        "    # Remove stopwords and punctuation\n",
        "    stop_words = set(stopwords.words('english'))\n",
        "    processed_tokens = []\n",
        "    for token in tokens:\n",
        "        if re.match(r'^\\d+(\\.\\d+)?$', token):\n",
        "            processed_tokens.append(float(token))  # Convert to float if it's a float\n",
        "        elif token not in stop_words and not re.match(r'^\\W+$', token):\n",
        "            processed_tokens.append(token.lower())\n",
        "\n",
        "    # Return the length of the processed text\n",
        "    return processed_tokens\n",
        "\n",
        "# Apply the preprocessing and get the length for each text\n",
        "tokenized_data = train_data['medical_abstract'].apply(preprocess_and_get_length)\n",
        "tokenized_data_test = test_data['medical_abstract'].apply(preprocess_and_get_length)\n",
        "\n",
        "# Convert tokenized data to strings\n",
        "tokenized_texts = tokenized_data.apply(lambda x: ' '.join(map(str, x)))\n",
        "tokenized_texts_test = tokenized_data_test.apply(lambda x: ' '.join(map(str, x)))\n",
        "\n",
        "# Create a tokenizer and fit on tokenized_data without numbers\n",
        "tokenizer = Tokenizer(oov_token=\"<OOV>\")\n",
        "tokenizer.fit_on_texts(tokenized_texts)\n",
        "\n",
        "# Convert tokenized data to sequences without further processing\n",
        "sequences_train = []\n",
        "for text in tokenized_texts:\n",
        "    seq = []\n",
        "    for token in text.split():\n",
        "        if token in tokenizer.word_index:\n",
        "            seq.append(tokenizer.word_index[token])\n",
        "        else:\n",
        "            try:\n",
        "                seq.append(float(token))  # Try converting to int\n",
        "            except ValueError:\n",
        "                seq.append(tokenizer.word_index['<OOV>'])  # If not a number, use OOV token\n",
        "    sequences_train.append(seq)\n",
        "\n",
        "sequences_test = []\n",
        "for text in tokenized_texts_test:\n",
        "    seq = []\n",
        "    for token in text.split():\n",
        "        if token in tokenizer.word_index:\n",
        "            seq.append(tokenizer.word_index[token])\n",
        "        else:\n",
        "            try:\n",
        "                seq.append(float(token))  # Try converting to int\n",
        "            except ValueError:\n",
        "                seq.append(tokenizer.word_index['<OOV>'])  # If not a number, use OOV token\n",
        "    sequences_test.append(seq)\n",
        "\n",
        "# Pad sequences to ensure consistent length for input to the CNN\n",
        "max_length = max(max(len(seq) for seq in sequences_train), max(len(seq) for seq in sequences_test))\n",
        "import numpy as np\n",
        "from tensorflow.keras.preprocessing.sequence import pad_sequences\n",
        "\n",
        "# Define a custom padding function\n",
        "import tensorflow as tf\n",
        "\n",
        "def custom_pad_sequences(sequences, maxlen=None, padding='pre', truncating='pre', value=0.):\n",
        "    # Pad sequences with float value\n",
        "    # padded_seqs = tf.keras.preprocessing.sequence.pad_sequences(sequences, maxlen=maxlen, padding=padding, truncating=truncating, value=value)\n",
        "\n",
        "    # Convert the padded sequences to TensorFlow tensors\n",
        "    seqs_tensors = [tf.convert_to_tensor(seq, dtype=tf.float32) for seq in sequences]\n",
        "    seqs_tensors2=[]\n",
        "    # Pad the list of tensors with zeros if needed\n",
        "    for par in seqs_tensors:\n",
        "      num_padding = 450 - len(par)\n",
        "      # print(par)\n",
        "      if num_padding > 0:\n",
        "        seqs_tensors2.append( tf.concat([par , [tf.constant(0.0, dtype=tf.float32)] * num_padding], axis=0))\n",
        "      else:\n",
        "        print(len(par))\n",
        "\n",
        "    # Concatenate the tensors along the first dimension\n",
        "    # padded_seqs_tensor = tf.convert_to_tensor(seqs_tensors)\n",
        "\n",
        "    return seqs_tensors2\n",
        "\n",
        "# Usage\n",
        "padded_train = custom_pad_sequences(sequences_train, maxlen=max_length, padding='post', truncating='post', value=0.)\n",
        "padded_test = custom_pad_sequences(sequences_test, maxlen=max_length, padding='post', truncating='post', value=0.)\n",
        "padded_test=np.array(padded_test)\n",
        "padded_train=np.array(padded_train)"
      ],
      "metadata": {
        "colab": {
          "base_uri": "https://localhost:8080/"
        },
        "id": "1KUnHcPN5CaE",
        "outputId": "be12a9ec-f5be-4d90-a96a-61bda1875eda"
      },
      "execution_count": 115,
      "outputs": [
        {
          "output_type": "stream",
          "name": "stderr",
          "text": [
            "[nltk_data] Downloading package punkt to /root/nltk_data...\n",
            "[nltk_data]   Package punkt is already up-to-date!\n",
            "[nltk_data] Downloading package stopwords to /root/nltk_data...\n",
            "[nltk_data]   Package stopwords is already up-to-date!\n"
          ]
        }
      ]
    },
    {
      "cell_type": "code",
      "source": [
        "seqs_tensors4 = [tf.convert_to_tensor(seq, dtype=tf.float32) for seq in sequences_train]\n",
        ""
      ],
      "metadata": {
        "id": "lIKy0ANWZV9-"
      },
      "execution_count": 116,
      "outputs": []
    },
    {
      "cell_type": "code",
      "source": [
        "len(seqs_tensors4[4]) #Okkkk"
      ],
      "metadata": {
        "colab": {
          "base_uri": "https://localhost:8080/"
        },
        "id": "kLnp8UdJZsBE",
        "outputId": "56bbb6b5-6074-44ee-d548-5094eced0255"
      },
      "execution_count": 117,
      "outputs": [
        {
          "output_type": "execute_result",
          "data": {
            "text/plain": [
              "152"
            ]
          },
          "metadata": {},
          "execution_count": 117
        }
      ]
    },
    {
      "cell_type": "code",
      "source": [
        "padded_train[4]"
      ],
      "metadata": {
        "colab": {
          "base_uri": "https://localhost:8080/"
        },
        "id": "1dm6fF3pRDUT",
        "outputId": "fa29751c-5eec-476b-80c0-8b3767f5ce49"
      },
      "execution_count": 118,
      "outputs": [
        {
          "output_type": "execute_result",
          "data": {
            "text/plain": [
              "array([3.990e+02, 1.208e+03, 1.540e+03, 4.600e+01, 3.800e+01, 3.450e+02,\n",
              "       1.110e+02, 2.500e+02, 1.830e+02, 1.172e+03, 3.990e+02, 1.208e+03,\n",
              "       3.644e+03, 3.450e+02, 4.690e+02, 3.990e+02, 2.180e+03, 4.568e+03,\n",
              "       3.596e+03, 1.459e+03, 8.680e+02, 1.763e+03, 2.020e+02, 1.940e+02,\n",
              "       1.110e+02, 2.500e+02, 1.830e+02, 1.231e+03, 3.596e+03, 5.920e+02,\n",
              "       4.370e+02, 5.010e+02, 5.070e+02, 3.000e+00, 4.270e+02, 5.660e+02,\n",
              "       3.990e+02, 5.311e+03, 7.130e+02, 4.018e+03, 1.999e+03, 1.000e+00,\n",
              "       1.798e+03, 4.220e+02, 2.410e+02, 1.210e+02, 3.000e+00, 1.300e+02,\n",
              "       1.000e+00, 3.000e+00, 6.000e+00, 1.200e+01, 4.500e+01, 7.881e+03,\n",
              "       3.241e+03, 4.840e+02, 3.930e+02, 8.550e+01, 4.019e+03, 1.302e+03,\n",
              "       3.930e+02, 1.002e+03, 1.370e+02, 5.310e+02, 1.640e+02, 3.120e+02,\n",
              "       3.300e+01, 7.100e+01, 3.060e+02, 1.000e+00, 1.900e+01, 7.100e+01,\n",
              "       8.900e+01, 2.000e+01, 5.000e+01, 7.100e+01, 4.000e+01, 5.000e+01,\n",
              "       7.100e+01, 4.900e+01, 2.400e+02, 8.000e+00, 1.910e+03, 1.500e+02,\n",
              "       5.000e+01, 1.208e+03, 1.450e+01, 9.070e+02, 7.700e+00, 6.940e+02,\n",
              "       3.000e+00, 7.000e+00, 3.000e-03, 3.770e+02, 2.734e+03, 1.338e+03,\n",
              "       1.000e+01, 2.200e+01, 2.860e+02, 3.900e+01, 6.200e+01, 3.770e+02,\n",
              "       6.388e+03, 1.560e+02, 1.208e+03, 7.000e+00, 5.000e-02, 2.500e+02,\n",
              "       5.500e+01, 6.000e+00, 6.280e+02, 3.000e+00, 1.208e+03, 1.610e+02,\n",
              "       3.010e+02, 4.296e+03, 1.614e+03, 8.030e+02, 7.800e+01, 2.500e+02,\n",
              "       8.870e+03, 2.249e+03, 3.000e+00, 5.000e+01, 1.208e+03, 6.590e+02,\n",
              "       1.448e+03, 2.500e+02, 2.270e+02, 5.500e+01, 6.200e+01, 6.000e+00,\n",
              "       2.000e+01, 3.272e+03, 1.100e+01, 7.000e+00, 3.000e-02, 3.150e+02,\n",
              "       3.000e+00, 3.990e+02, 1.208e+03, 6.000e+00, 6.280e+02, 3.000e+00,\n",
              "       3.300e+01, 1.640e+02, 1.147e+03, 3.450e+02, 1.110e+02, 2.500e+02,\n",
              "       1.050e+02, 1.830e+02, 0.000e+00, 0.000e+00, 0.000e+00, 0.000e+00,\n",
              "       0.000e+00, 0.000e+00, 0.000e+00, 0.000e+00, 0.000e+00, 0.000e+00,\n",
              "       0.000e+00, 0.000e+00, 0.000e+00, 0.000e+00, 0.000e+00, 0.000e+00,\n",
              "       0.000e+00, 0.000e+00, 0.000e+00, 0.000e+00, 0.000e+00, 0.000e+00,\n",
              "       0.000e+00, 0.000e+00, 0.000e+00, 0.000e+00, 0.000e+00, 0.000e+00,\n",
              "       0.000e+00, 0.000e+00, 0.000e+00, 0.000e+00, 0.000e+00, 0.000e+00,\n",
              "       0.000e+00, 0.000e+00, 0.000e+00, 0.000e+00, 0.000e+00, 0.000e+00,\n",
              "       0.000e+00, 0.000e+00, 0.000e+00, 0.000e+00, 0.000e+00, 0.000e+00,\n",
              "       0.000e+00, 0.000e+00, 0.000e+00, 0.000e+00, 0.000e+00, 0.000e+00,\n",
              "       0.000e+00, 0.000e+00, 0.000e+00, 0.000e+00, 0.000e+00, 0.000e+00,\n",
              "       0.000e+00, 0.000e+00, 0.000e+00, 0.000e+00, 0.000e+00, 0.000e+00,\n",
              "       0.000e+00, 0.000e+00, 0.000e+00, 0.000e+00, 0.000e+00, 0.000e+00,\n",
              "       0.000e+00, 0.000e+00, 0.000e+00, 0.000e+00, 0.000e+00, 0.000e+00,\n",
              "       0.000e+00, 0.000e+00, 0.000e+00, 0.000e+00, 0.000e+00, 0.000e+00,\n",
              "       0.000e+00, 0.000e+00, 0.000e+00, 0.000e+00, 0.000e+00, 0.000e+00,\n",
              "       0.000e+00, 0.000e+00, 0.000e+00, 0.000e+00, 0.000e+00, 0.000e+00,\n",
              "       0.000e+00, 0.000e+00, 0.000e+00, 0.000e+00, 0.000e+00, 0.000e+00,\n",
              "       0.000e+00, 0.000e+00, 0.000e+00, 0.000e+00, 0.000e+00, 0.000e+00,\n",
              "       0.000e+00, 0.000e+00, 0.000e+00, 0.000e+00, 0.000e+00, 0.000e+00,\n",
              "       0.000e+00, 0.000e+00, 0.000e+00, 0.000e+00, 0.000e+00, 0.000e+00,\n",
              "       0.000e+00, 0.000e+00, 0.000e+00, 0.000e+00, 0.000e+00, 0.000e+00,\n",
              "       0.000e+00, 0.000e+00, 0.000e+00, 0.000e+00, 0.000e+00, 0.000e+00,\n",
              "       0.000e+00, 0.000e+00, 0.000e+00, 0.000e+00, 0.000e+00, 0.000e+00,\n",
              "       0.000e+00, 0.000e+00, 0.000e+00, 0.000e+00, 0.000e+00, 0.000e+00,\n",
              "       0.000e+00, 0.000e+00, 0.000e+00, 0.000e+00, 0.000e+00, 0.000e+00,\n",
              "       0.000e+00, 0.000e+00, 0.000e+00, 0.000e+00, 0.000e+00, 0.000e+00,\n",
              "       0.000e+00, 0.000e+00, 0.000e+00, 0.000e+00, 0.000e+00, 0.000e+00,\n",
              "       0.000e+00, 0.000e+00, 0.000e+00, 0.000e+00, 0.000e+00, 0.000e+00,\n",
              "       0.000e+00, 0.000e+00, 0.000e+00, 0.000e+00, 0.000e+00, 0.000e+00,\n",
              "       0.000e+00, 0.000e+00, 0.000e+00, 0.000e+00, 0.000e+00, 0.000e+00,\n",
              "       0.000e+00, 0.000e+00, 0.000e+00, 0.000e+00, 0.000e+00, 0.000e+00,\n",
              "       0.000e+00, 0.000e+00, 0.000e+00, 0.000e+00, 0.000e+00, 0.000e+00,\n",
              "       0.000e+00, 0.000e+00, 0.000e+00, 0.000e+00, 0.000e+00, 0.000e+00,\n",
              "       0.000e+00, 0.000e+00, 0.000e+00, 0.000e+00, 0.000e+00, 0.000e+00,\n",
              "       0.000e+00, 0.000e+00, 0.000e+00, 0.000e+00, 0.000e+00, 0.000e+00,\n",
              "       0.000e+00, 0.000e+00, 0.000e+00, 0.000e+00, 0.000e+00, 0.000e+00,\n",
              "       0.000e+00, 0.000e+00, 0.000e+00, 0.000e+00, 0.000e+00, 0.000e+00,\n",
              "       0.000e+00, 0.000e+00, 0.000e+00, 0.000e+00, 0.000e+00, 0.000e+00,\n",
              "       0.000e+00, 0.000e+00, 0.000e+00, 0.000e+00, 0.000e+00, 0.000e+00,\n",
              "       0.000e+00, 0.000e+00, 0.000e+00, 0.000e+00, 0.000e+00, 0.000e+00,\n",
              "       0.000e+00, 0.000e+00, 0.000e+00, 0.000e+00, 0.000e+00, 0.000e+00,\n",
              "       0.000e+00, 0.000e+00, 0.000e+00, 0.000e+00, 0.000e+00, 0.000e+00,\n",
              "       0.000e+00, 0.000e+00, 0.000e+00, 0.000e+00, 0.000e+00, 0.000e+00,\n",
              "       0.000e+00, 0.000e+00, 0.000e+00, 0.000e+00, 0.000e+00, 0.000e+00,\n",
              "       0.000e+00, 0.000e+00, 0.000e+00, 0.000e+00, 0.000e+00, 0.000e+00,\n",
              "       0.000e+00, 0.000e+00, 0.000e+00, 0.000e+00, 0.000e+00, 0.000e+00,\n",
              "       0.000e+00, 0.000e+00, 0.000e+00, 0.000e+00, 0.000e+00, 0.000e+00,\n",
              "       0.000e+00, 0.000e+00, 0.000e+00, 0.000e+00, 0.000e+00, 0.000e+00,\n",
              "       0.000e+00, 0.000e+00, 0.000e+00, 0.000e+00, 0.000e+00, 0.000e+00,\n",
              "       0.000e+00, 0.000e+00, 0.000e+00, 0.000e+00, 0.000e+00, 0.000e+00],\n",
              "      dtype=float32)"
            ]
          },
          "metadata": {},
          "execution_count": 118
        }
      ]
    },
    {
      "cell_type": "code",
      "source": [
        "num_classes=5\n",
        "from sklearn.preprocessing import LabelEncoder\n",
        "import tensorflow as tf\n",
        "\n",
        "# Assuming 'conditional_label' is the column containing your categorical labels\n",
        "labels = train_data['condition_label']\n",
        "\n",
        "# Step 1: Convert labels to numerical indices using LabelEncoder\n",
        "label_encoder = LabelEncoder()\n",
        "labels_encoded = label_encoder.fit_transform(labels)\n",
        "\n",
        "# Step 2: Convert numerical indices to one-hot encoded vectors\n",
        "labels_train_one_hot = tf.keras.utils.to_categorical(labels_encoded)\n",
        "\n",
        "labels_test = test_data['condition_label']\n",
        "\n",
        "# Step 1: Convert labels to numerical indices using LabelEncoder\n",
        "label_encoder_test = LabelEncoder()\n",
        "labels_encoded_test = label_encoder.fit_transform(labels_test)\n",
        "\n",
        "# Step 2: Convert numerical indices to one-hot encoded vectors\n",
        "labels_test_one_hot = tf.keras.utils.to_categorical(labels_encoded_test)\n",
        "\n",
        "# Now, labels_one_hot contains the one-hot encoded representations of your labels\n"
      ],
      "metadata": {
        "id": "Jn8py4R55Kev"
      },
      "execution_count": 119,
      "outputs": []
    },
    {
      "cell_type": "code",
      "source": [
        "# Assuming train_data is your DataFrame\n",
        "labels = train_data['condition_label'].tolist()\n",
        "\n",
        "# Subtract 1 from each element in the list\n",
        "labels_minus_one = [label - 1 for label in labels]\n"
      ],
      "metadata": {
        "id": "CWT_W46x5Nwb"
      },
      "execution_count": 120,
      "outputs": []
    },
    {
      "cell_type": "code",
      "source": [
        "# Assuming train_data is your DataFrame\n",
        "labels_test = test_data['condition_label'].tolist()\n",
        "\n",
        "# Subtract 1 from each element in the list\n",
        "labels_minus_one_test = [label - 1 for label in labels_test]\n"
      ],
      "metadata": {
        "id": "-2exrZjq5Q8y"
      },
      "execution_count": 121,
      "outputs": []
    },
    {
      "cell_type": "code",
      "source": [
        "max_length"
      ],
      "metadata": {
        "colab": {
          "base_uri": "https://localhost:8080/"
        },
        "id": "tFDNl9Uo9YWH",
        "outputId": "6a13ff28-f49b-46ba-a316-7eb190126ce4"
      },
      "execution_count": 122,
      "outputs": [
        {
          "output_type": "execute_result",
          "data": {
            "text/plain": [
              "407"
            ]
          },
          "metadata": {},
          "execution_count": 122
        }
      ]
    },
    {
      "cell_type": "code",
      "source": [
        "train_data['medical_abstract'][4]"
      ],
      "metadata": {
        "colab": {
          "base_uri": "https://localhost:8080/",
          "height": 218
        },
        "id": "IC6KmPoSEd68",
        "outputId": "5b2e68b2-71a1-406a-e614-a090709d9e16"
      },
      "execution_count": 123,
      "outputs": [
        {
          "output_type": "execute_result",
          "data": {
            "text/plain": [
              "'Does carotid restenosis predict an increased risk of late symptoms, stroke, or death? The identification of carotid restenosis as an unexpected late complication of carotid endarterectomy has prompted concerns regarding its importance as a source of new cerebral symptoms, stroke, and death. To investigate these concerns, we analyzed a consecutive series of 507 patients undergoing 566 carotid endarterectomies, each documented as technically satisfactory. Post-operative duplex Doppler examination data at 3 days, 1, 3, 6, 12 months, and annually thereafter in 484 arteries (85.5%) permitted classification of these arteries according to the most severe degree of postoperative stenosis: normal (n = 306); 1% to 19% (n = 89); 20% to 50% (n = 40); more than 50% (n = 49, including 8 occluded). The incidence of more than 50% restenosis was 14.5% in female and 7.7% in male patients (p = 0.003). Life table analyses to 10 years revealed a significantly greater life expectancy among those with restenosis (p = 0.05). Stroke was also less likely in patients with restenosis, although this difference did not reach statistical significance. When survival and stroke were both endpoints, the likelihood of patients with more than 50% restenosis remaining alive and stroke free was also greater than the less than 20% stenotic group (p = 0.03). Thus patients with carotid restenosis were less likely than patients with normal postoperative scans to have late symptoms, stroke, or early death. '"
            ],
            "application/vnd.google.colaboratory.intrinsic+json": {
              "type": "string"
            }
          },
          "metadata": {},
          "execution_count": 123
        }
      ]
    },
    {
      "cell_type": "code",
      "source": [
        "tokenized_data[4]"
      ],
      "metadata": {
        "colab": {
          "base_uri": "https://localhost:8080/"
        },
        "id": "bp5UkGOpEeg4",
        "outputId": "66a93593-2658-4e08-d949-42e177695774"
      },
      "execution_count": 124,
      "outputs": [
        {
          "output_type": "execute_result",
          "data": {
            "text/plain": [
              "['carotid',\n",
              " 'restenosis',\n",
              " 'predict',\n",
              " 'increased',\n",
              " 'risk',\n",
              " 'late',\n",
              " 'symptoms',\n",
              " 'stroke',\n",
              " 'death',\n",
              " 'identification',\n",
              " 'carotid',\n",
              " 'restenosis',\n",
              " 'unexpected',\n",
              " 'late',\n",
              " 'complication',\n",
              " 'carotid',\n",
              " 'endarterectomy',\n",
              " 'prompted',\n",
              " 'concerns',\n",
              " 'regarding',\n",
              " 'importance',\n",
              " 'source',\n",
              " 'new',\n",
              " 'cerebral',\n",
              " 'symptoms',\n",
              " 'stroke',\n",
              " 'death',\n",
              " 'investigate',\n",
              " 'concerns',\n",
              " 'analyzed',\n",
              " 'consecutive',\n",
              " 'series',\n",
              " 507.0,\n",
              " 'patients',\n",
              " 'undergoing',\n",
              " 566.0,\n",
              " 'carotid',\n",
              " 'endarterectomies',\n",
              " 'documented',\n",
              " 'technically',\n",
              " 'satisfactory',\n",
              " 'post-operative',\n",
              " 'duplex',\n",
              " 'doppler',\n",
              " 'examination',\n",
              " 'data',\n",
              " 3.0,\n",
              " 'days',\n",
              " 1.0,\n",
              " 3.0,\n",
              " 6.0,\n",
              " 12.0,\n",
              " 'months',\n",
              " 'annually',\n",
              " 'thereafter',\n",
              " 484.0,\n",
              " 'arteries',\n",
              " 85.5,\n",
              " 'permitted',\n",
              " 'classification',\n",
              " 'arteries',\n",
              " 'according',\n",
              " 'severe',\n",
              " 'degree',\n",
              " 'postoperative',\n",
              " 'stenosis',\n",
              " 'normal',\n",
              " 'n',\n",
              " 306.0,\n",
              " 1.0,\n",
              " 19.0,\n",
              " 'n',\n",
              " 89.0,\n",
              " 20.0,\n",
              " 50.0,\n",
              " 'n',\n",
              " 40.0,\n",
              " 50.0,\n",
              " 'n',\n",
              " 49.0,\n",
              " 'including',\n",
              " 8.0,\n",
              " 'occluded',\n",
              " 'incidence',\n",
              " 50.0,\n",
              " 'restenosis',\n",
              " 14.5,\n",
              " 'female',\n",
              " 7.7,\n",
              " 'male',\n",
              " 'patients',\n",
              " 'p',\n",
              " 0.003,\n",
              " 'life',\n",
              " 'table',\n",
              " 'analyses',\n",
              " 10.0,\n",
              " 'years',\n",
              " 'revealed',\n",
              " 'significantly',\n",
              " 'greater',\n",
              " 'life',\n",
              " 'expectancy',\n",
              " 'among',\n",
              " 'restenosis',\n",
              " 'p',\n",
              " 0.05,\n",
              " 'stroke',\n",
              " 'also',\n",
              " 'less',\n",
              " 'likely',\n",
              " 'patients',\n",
              " 'restenosis',\n",
              " 'although',\n",
              " 'difference',\n",
              " 'reach',\n",
              " 'statistical',\n",
              " 'significance',\n",
              " 'survival',\n",
              " 'stroke',\n",
              " 'endpoints',\n",
              " 'likelihood',\n",
              " 'patients',\n",
              " 50.0,\n",
              " 'restenosis',\n",
              " 'remaining',\n",
              " 'alive',\n",
              " 'stroke',\n",
              " 'free',\n",
              " 'also',\n",
              " 'greater',\n",
              " 'less',\n",
              " 20.0,\n",
              " 'stenotic',\n",
              " 'group',\n",
              " 'p',\n",
              " 0.03,\n",
              " 'thus',\n",
              " 'patients',\n",
              " 'carotid',\n",
              " 'restenosis',\n",
              " 'less',\n",
              " 'likely',\n",
              " 'patients',\n",
              " 'normal',\n",
              " 'postoperative',\n",
              " 'scans',\n",
              " 'late',\n",
              " 'symptoms',\n",
              " 'stroke',\n",
              " 'early',\n",
              " 'death']"
            ]
          },
          "metadata": {},
          "execution_count": 124
        }
      ]
    },
    {
      "cell_type": "code",
      "source": [
        "sequences_train[4]"
      ],
      "metadata": {
        "colab": {
          "base_uri": "https://localhost:8080/"
        },
        "id": "At8mT4IW5o39",
        "outputId": "d29128a1-8e74-4bb8-e118-4880929fb589"
      },
      "execution_count": 125,
      "outputs": [
        {
          "output_type": "execute_result",
          "data": {
            "text/plain": [
              "[399,\n",
              " 1208,\n",
              " 1540,\n",
              " 46,\n",
              " 38,\n",
              " 345,\n",
              " 111,\n",
              " 250,\n",
              " 183,\n",
              " 1172,\n",
              " 399,\n",
              " 1208,\n",
              " 3644,\n",
              " 345,\n",
              " 469,\n",
              " 399,\n",
              " 2180,\n",
              " 4568,\n",
              " 3596,\n",
              " 1459,\n",
              " 868,\n",
              " 1763,\n",
              " 202,\n",
              " 194,\n",
              " 111,\n",
              " 250,\n",
              " 183,\n",
              " 1231,\n",
              " 3596,\n",
              " 592,\n",
              " 437,\n",
              " 501,\n",
              " 507.0,\n",
              " 3,\n",
              " 427,\n",
              " 566.0,\n",
              " 399,\n",
              " 5311,\n",
              " 713,\n",
              " 4018,\n",
              " 1999,\n",
              " 1,\n",
              " 1798,\n",
              " 422,\n",
              " 241,\n",
              " 121,\n",
              " 3.0,\n",
              " 130,\n",
              " 1.0,\n",
              " 3.0,\n",
              " 6.0,\n",
              " 12.0,\n",
              " 45,\n",
              " 7881,\n",
              " 3241,\n",
              " 484.0,\n",
              " 393,\n",
              " 85.5,\n",
              " 4019,\n",
              " 1302,\n",
              " 393,\n",
              " 1002,\n",
              " 137,\n",
              " 531,\n",
              " 164,\n",
              " 312,\n",
              " 33,\n",
              " 71,\n",
              " 306.0,\n",
              " 1.0,\n",
              " 19.0,\n",
              " 71,\n",
              " 89.0,\n",
              " 20.0,\n",
              " 50.0,\n",
              " 71,\n",
              " 40.0,\n",
              " 50.0,\n",
              " 71,\n",
              " 49.0,\n",
              " 240,\n",
              " 8.0,\n",
              " 1910,\n",
              " 150,\n",
              " 50.0,\n",
              " 1208,\n",
              " 14.5,\n",
              " 907,\n",
              " 7.7,\n",
              " 694,\n",
              " 3,\n",
              " 7,\n",
              " 0.003,\n",
              " 377,\n",
              " 2734,\n",
              " 1338,\n",
              " 10.0,\n",
              " 22,\n",
              " 286,\n",
              " 39,\n",
              " 62,\n",
              " 377,\n",
              " 6388,\n",
              " 156,\n",
              " 1208,\n",
              " 7,\n",
              " 0.05,\n",
              " 250,\n",
              " 55,\n",
              " 6,\n",
              " 628,\n",
              " 3,\n",
              " 1208,\n",
              " 161,\n",
              " 301,\n",
              " 4296,\n",
              " 1614,\n",
              " 803,\n",
              " 78,\n",
              " 250,\n",
              " 8870,\n",
              " 2249,\n",
              " 3,\n",
              " 50.0,\n",
              " 1208,\n",
              " 659,\n",
              " 1448,\n",
              " 250,\n",
              " 227,\n",
              " 55,\n",
              " 62,\n",
              " 6,\n",
              " 20.0,\n",
              " 3272,\n",
              " 11,\n",
              " 7,\n",
              " 0.03,\n",
              " 315,\n",
              " 3,\n",
              " 399,\n",
              " 1208,\n",
              " 6,\n",
              " 628,\n",
              " 3,\n",
              " 33,\n",
              " 164,\n",
              " 1147,\n",
              " 345,\n",
              " 111,\n",
              " 250,\n",
              " 105,\n",
              " 183]"
            ]
          },
          "metadata": {},
          "execution_count": 125
        }
      ]
    },
    {
      "cell_type": "code",
      "source": [
        "padded_train[4]"
      ],
      "metadata": {
        "colab": {
          "base_uri": "https://localhost:8080/"
        },
        "id": "ZaTpXT0rElqk",
        "outputId": "8115d004-17d5-4882-bd5f-ece1465c5052"
      },
      "execution_count": 126,
      "outputs": [
        {
          "output_type": "execute_result",
          "data": {
            "text/plain": [
              "array([3.990e+02, 1.208e+03, 1.540e+03, 4.600e+01, 3.800e+01, 3.450e+02,\n",
              "       1.110e+02, 2.500e+02, 1.830e+02, 1.172e+03, 3.990e+02, 1.208e+03,\n",
              "       3.644e+03, 3.450e+02, 4.690e+02, 3.990e+02, 2.180e+03, 4.568e+03,\n",
              "       3.596e+03, 1.459e+03, 8.680e+02, 1.763e+03, 2.020e+02, 1.940e+02,\n",
              "       1.110e+02, 2.500e+02, 1.830e+02, 1.231e+03, 3.596e+03, 5.920e+02,\n",
              "       4.370e+02, 5.010e+02, 5.070e+02, 3.000e+00, 4.270e+02, 5.660e+02,\n",
              "       3.990e+02, 5.311e+03, 7.130e+02, 4.018e+03, 1.999e+03, 1.000e+00,\n",
              "       1.798e+03, 4.220e+02, 2.410e+02, 1.210e+02, 3.000e+00, 1.300e+02,\n",
              "       1.000e+00, 3.000e+00, 6.000e+00, 1.200e+01, 4.500e+01, 7.881e+03,\n",
              "       3.241e+03, 4.840e+02, 3.930e+02, 8.550e+01, 4.019e+03, 1.302e+03,\n",
              "       3.930e+02, 1.002e+03, 1.370e+02, 5.310e+02, 1.640e+02, 3.120e+02,\n",
              "       3.300e+01, 7.100e+01, 3.060e+02, 1.000e+00, 1.900e+01, 7.100e+01,\n",
              "       8.900e+01, 2.000e+01, 5.000e+01, 7.100e+01, 4.000e+01, 5.000e+01,\n",
              "       7.100e+01, 4.900e+01, 2.400e+02, 8.000e+00, 1.910e+03, 1.500e+02,\n",
              "       5.000e+01, 1.208e+03, 1.450e+01, 9.070e+02, 7.700e+00, 6.940e+02,\n",
              "       3.000e+00, 7.000e+00, 3.000e-03, 3.770e+02, 2.734e+03, 1.338e+03,\n",
              "       1.000e+01, 2.200e+01, 2.860e+02, 3.900e+01, 6.200e+01, 3.770e+02,\n",
              "       6.388e+03, 1.560e+02, 1.208e+03, 7.000e+00, 5.000e-02, 2.500e+02,\n",
              "       5.500e+01, 6.000e+00, 6.280e+02, 3.000e+00, 1.208e+03, 1.610e+02,\n",
              "       3.010e+02, 4.296e+03, 1.614e+03, 8.030e+02, 7.800e+01, 2.500e+02,\n",
              "       8.870e+03, 2.249e+03, 3.000e+00, 5.000e+01, 1.208e+03, 6.590e+02,\n",
              "       1.448e+03, 2.500e+02, 2.270e+02, 5.500e+01, 6.200e+01, 6.000e+00,\n",
              "       2.000e+01, 3.272e+03, 1.100e+01, 7.000e+00, 3.000e-02, 3.150e+02,\n",
              "       3.000e+00, 3.990e+02, 1.208e+03, 6.000e+00, 6.280e+02, 3.000e+00,\n",
              "       3.300e+01, 1.640e+02, 1.147e+03, 3.450e+02, 1.110e+02, 2.500e+02,\n",
              "       1.050e+02, 1.830e+02, 0.000e+00, 0.000e+00, 0.000e+00, 0.000e+00,\n",
              "       0.000e+00, 0.000e+00, 0.000e+00, 0.000e+00, 0.000e+00, 0.000e+00,\n",
              "       0.000e+00, 0.000e+00, 0.000e+00, 0.000e+00, 0.000e+00, 0.000e+00,\n",
              "       0.000e+00, 0.000e+00, 0.000e+00, 0.000e+00, 0.000e+00, 0.000e+00,\n",
              "       0.000e+00, 0.000e+00, 0.000e+00, 0.000e+00, 0.000e+00, 0.000e+00,\n",
              "       0.000e+00, 0.000e+00, 0.000e+00, 0.000e+00, 0.000e+00, 0.000e+00,\n",
              "       0.000e+00, 0.000e+00, 0.000e+00, 0.000e+00, 0.000e+00, 0.000e+00,\n",
              "       0.000e+00, 0.000e+00, 0.000e+00, 0.000e+00, 0.000e+00, 0.000e+00,\n",
              "       0.000e+00, 0.000e+00, 0.000e+00, 0.000e+00, 0.000e+00, 0.000e+00,\n",
              "       0.000e+00, 0.000e+00, 0.000e+00, 0.000e+00, 0.000e+00, 0.000e+00,\n",
              "       0.000e+00, 0.000e+00, 0.000e+00, 0.000e+00, 0.000e+00, 0.000e+00,\n",
              "       0.000e+00, 0.000e+00, 0.000e+00, 0.000e+00, 0.000e+00, 0.000e+00,\n",
              "       0.000e+00, 0.000e+00, 0.000e+00, 0.000e+00, 0.000e+00, 0.000e+00,\n",
              "       0.000e+00, 0.000e+00, 0.000e+00, 0.000e+00, 0.000e+00, 0.000e+00,\n",
              "       0.000e+00, 0.000e+00, 0.000e+00, 0.000e+00, 0.000e+00, 0.000e+00,\n",
              "       0.000e+00, 0.000e+00, 0.000e+00, 0.000e+00, 0.000e+00, 0.000e+00,\n",
              "       0.000e+00, 0.000e+00, 0.000e+00, 0.000e+00, 0.000e+00, 0.000e+00,\n",
              "       0.000e+00, 0.000e+00, 0.000e+00, 0.000e+00, 0.000e+00, 0.000e+00,\n",
              "       0.000e+00, 0.000e+00, 0.000e+00, 0.000e+00, 0.000e+00, 0.000e+00,\n",
              "       0.000e+00, 0.000e+00, 0.000e+00, 0.000e+00, 0.000e+00, 0.000e+00,\n",
              "       0.000e+00, 0.000e+00, 0.000e+00, 0.000e+00, 0.000e+00, 0.000e+00,\n",
              "       0.000e+00, 0.000e+00, 0.000e+00, 0.000e+00, 0.000e+00, 0.000e+00,\n",
              "       0.000e+00, 0.000e+00, 0.000e+00, 0.000e+00, 0.000e+00, 0.000e+00,\n",
              "       0.000e+00, 0.000e+00, 0.000e+00, 0.000e+00, 0.000e+00, 0.000e+00,\n",
              "       0.000e+00, 0.000e+00, 0.000e+00, 0.000e+00, 0.000e+00, 0.000e+00,\n",
              "       0.000e+00, 0.000e+00, 0.000e+00, 0.000e+00, 0.000e+00, 0.000e+00,\n",
              "       0.000e+00, 0.000e+00, 0.000e+00, 0.000e+00, 0.000e+00, 0.000e+00,\n",
              "       0.000e+00, 0.000e+00, 0.000e+00, 0.000e+00, 0.000e+00, 0.000e+00,\n",
              "       0.000e+00, 0.000e+00, 0.000e+00, 0.000e+00, 0.000e+00, 0.000e+00,\n",
              "       0.000e+00, 0.000e+00, 0.000e+00, 0.000e+00, 0.000e+00, 0.000e+00,\n",
              "       0.000e+00, 0.000e+00, 0.000e+00, 0.000e+00, 0.000e+00, 0.000e+00,\n",
              "       0.000e+00, 0.000e+00, 0.000e+00, 0.000e+00, 0.000e+00, 0.000e+00,\n",
              "       0.000e+00, 0.000e+00, 0.000e+00, 0.000e+00, 0.000e+00, 0.000e+00,\n",
              "       0.000e+00, 0.000e+00, 0.000e+00, 0.000e+00, 0.000e+00, 0.000e+00,\n",
              "       0.000e+00, 0.000e+00, 0.000e+00, 0.000e+00, 0.000e+00, 0.000e+00,\n",
              "       0.000e+00, 0.000e+00, 0.000e+00, 0.000e+00, 0.000e+00, 0.000e+00,\n",
              "       0.000e+00, 0.000e+00, 0.000e+00, 0.000e+00, 0.000e+00, 0.000e+00,\n",
              "       0.000e+00, 0.000e+00, 0.000e+00, 0.000e+00, 0.000e+00, 0.000e+00,\n",
              "       0.000e+00, 0.000e+00, 0.000e+00, 0.000e+00, 0.000e+00, 0.000e+00,\n",
              "       0.000e+00, 0.000e+00, 0.000e+00, 0.000e+00, 0.000e+00, 0.000e+00,\n",
              "       0.000e+00, 0.000e+00, 0.000e+00, 0.000e+00, 0.000e+00, 0.000e+00,\n",
              "       0.000e+00, 0.000e+00, 0.000e+00, 0.000e+00, 0.000e+00, 0.000e+00,\n",
              "       0.000e+00, 0.000e+00, 0.000e+00, 0.000e+00, 0.000e+00, 0.000e+00,\n",
              "       0.000e+00, 0.000e+00, 0.000e+00, 0.000e+00, 0.000e+00, 0.000e+00,\n",
              "       0.000e+00, 0.000e+00, 0.000e+00, 0.000e+00, 0.000e+00, 0.000e+00,\n",
              "       0.000e+00, 0.000e+00, 0.000e+00, 0.000e+00, 0.000e+00, 0.000e+00,\n",
              "       0.000e+00, 0.000e+00, 0.000e+00, 0.000e+00, 0.000e+00, 0.000e+00,\n",
              "       0.000e+00, 0.000e+00, 0.000e+00, 0.000e+00, 0.000e+00, 0.000e+00,\n",
              "       0.000e+00, 0.000e+00, 0.000e+00, 0.000e+00, 0.000e+00, 0.000e+00,\n",
              "       0.000e+00, 0.000e+00, 0.000e+00, 0.000e+00, 0.000e+00, 0.000e+00],\n",
              "      dtype=float32)"
            ]
          },
          "metadata": {},
          "execution_count": 126
        }
      ]
    },
    {
      "cell_type": "code",
      "source": [
        "padded_test=np.array(padded_test)\n",
        "padded_train=np.array(padded_train)"
      ],
      "metadata": {
        "id": "9w8zHY6pccck"
      },
      "execution_count": 127,
      "outputs": []
    },
    {
      "cell_type": "code",
      "execution_count": 128,
      "metadata": {
        "colab": {
          "base_uri": "https://localhost:8080/"
        },
        "id": "l67-ncuBbpp9",
        "outputId": "c4ae0b33-97e9-4217-9924-7743b2b3695f"
      },
      "outputs": [
        {
          "output_type": "stream",
          "name": "stdout",
          "text": [
            "class_weights_dict : {0: 0.9130434782608695, 1: 1.9330543933054394, 2: 1.5, 3: 0.9463334698893896, 4: 0.600936524453694}\n",
            "Epoch 1/100\n",
            "181/181 [==============================] - 29s 148ms/step - loss: 1.6086 - accuracy: 0.1535 - val_loss: 1.6051 - val_accuracy: 0.2199\n",
            "Epoch 2/100\n",
            "181/181 [==============================] - 12s 64ms/step - loss: 1.5981 - accuracy: 0.3332 - val_loss: 1.5964 - val_accuracy: 0.3705\n",
            "Epoch 3/100\n",
            "181/181 [==============================] - 8s 43ms/step - loss: 1.5705 - accuracy: 0.4970 - val_loss: 1.5599 - val_accuracy: 0.4273\n",
            "Epoch 4/100\n",
            "181/181 [==============================] - 8s 44ms/step - loss: 1.4597 - accuracy: 0.4820 - val_loss: 1.3971 - val_accuracy: 0.4276\n",
            "Epoch 5/100\n",
            "181/181 [==============================] - 4s 21ms/step - loss: 1.2517 - accuracy: 0.4863 - val_loss: 1.2658 - val_accuracy: 0.4799\n",
            "Epoch 6/100\n",
            "181/181 [==============================] - 3s 17ms/step - loss: 1.0937 - accuracy: 0.5431 - val_loss: 1.1766 - val_accuracy: 0.5184\n",
            "Epoch 7/100\n",
            "181/181 [==============================] - 6s 33ms/step - loss: 0.9587 - accuracy: 0.5924 - val_loss: 1.1177 - val_accuracy: 0.5509\n",
            "Epoch 8/100\n",
            "181/181 [==============================] - 3s 17ms/step - loss: 0.8556 - accuracy: 0.6289 - val_loss: 1.0790 - val_accuracy: 0.5748\n",
            "Epoch 9/100\n",
            "181/181 [==============================] - 2s 13ms/step - loss: 0.7816 - accuracy: 0.6614 - val_loss: 1.0641 - val_accuracy: 0.5873\n",
            "Epoch 10/100\n",
            "181/181 [==============================] - 2s 12ms/step - loss: 0.7240 - accuracy: 0.6823 - val_loss: 1.0546 - val_accuracy: 0.5914\n",
            "Epoch 11/100\n",
            "181/181 [==============================] - 3s 18ms/step - loss: 0.6771 - accuracy: 0.7011 - val_loss: 1.0534 - val_accuracy: 0.5897\n",
            "Epoch 12/100\n",
            "181/181 [==============================] - 4s 21ms/step - loss: 0.6360 - accuracy: 0.7150 - val_loss: 1.0626 - val_accuracy: 0.5883\n",
            "Epoch 13/100\n",
            "181/181 [==============================] - 5s 29ms/step - loss: 0.6005 - accuracy: 0.7264 - val_loss: 1.0720 - val_accuracy: 0.5807\n",
            "Epoch 14/100\n",
            "181/181 [==============================] - 13s 73ms/step - loss: 0.5680 - accuracy: 0.7385 - val_loss: 1.0842 - val_accuracy: 0.5727\n",
            "Epoch 15/100\n",
            "181/181 [==============================] - 5s 30ms/step - loss: 0.5387 - accuracy: 0.7501 - val_loss: 1.1195 - val_accuracy: 0.5675\n",
            "Epoch 16/100\n",
            "181/181 [==============================] - 2s 11ms/step - loss: 0.5125 - accuracy: 0.7584 - val_loss: 1.1322 - val_accuracy: 0.5568\n",
            "Epoch 17/100\n",
            "181/181 [==============================] - 2s 13ms/step - loss: 0.4885 - accuracy: 0.7696 - val_loss: 1.1659 - val_accuracy: 0.5464\n",
            "Epoch 18/100\n",
            "181/181 [==============================] - 2s 11ms/step - loss: 0.4679 - accuracy: 0.7739 - val_loss: 1.1937 - val_accuracy: 0.5471\n",
            "Epoch 19/100\n",
            "181/181 [==============================] - 2s 12ms/step - loss: 0.4479 - accuracy: 0.7790 - val_loss: 1.2116 - val_accuracy: 0.5367\n",
            "Epoch 20/100\n",
            "181/181 [==============================] - 3s 16ms/step - loss: 0.4309 - accuracy: 0.7832 - val_loss: 1.2532 - val_accuracy: 0.5388\n",
            "Epoch 21/100\n",
            "181/181 [==============================] - 2s 13ms/step - loss: 0.4157 - accuracy: 0.7870 - val_loss: 1.2775 - val_accuracy: 0.5312\n",
            "Epoch 22/100\n",
            "181/181 [==============================] - 2s 11ms/step - loss: 0.4013 - accuracy: 0.7903 - val_loss: 1.3170 - val_accuracy: 0.5308\n",
            "Epoch 23/100\n",
            "181/181 [==============================] - 2s 10ms/step - loss: 0.3895 - accuracy: 0.7918 - val_loss: 1.3407 - val_accuracy: 0.5204\n",
            "Epoch 24/100\n",
            "181/181 [==============================] - 2s 10ms/step - loss: 0.3791 - accuracy: 0.7952 - val_loss: 1.3780 - val_accuracy: 0.5204\n",
            "Epoch 25/100\n",
            "181/181 [==============================] - 2s 11ms/step - loss: 0.3690 - accuracy: 0.7967 - val_loss: 1.4085 - val_accuracy: 0.5125\n",
            "Epoch 26/100\n",
            "181/181 [==============================] - 2s 13ms/step - loss: 0.3602 - accuracy: 0.7997 - val_loss: 1.4402 - val_accuracy: 0.4986\n",
            "Epoch 27/100\n",
            "181/181 [==============================] - 2s 13ms/step - loss: 0.3526 - accuracy: 0.8025 - val_loss: 1.4756 - val_accuracy: 0.5048\n",
            "Epoch 28/100\n",
            "181/181 [==============================] - 2s 10ms/step - loss: 0.3452 - accuracy: 0.8037 - val_loss: 1.5116 - val_accuracy: 0.5038\n",
            "Epoch 29/100\n",
            "181/181 [==============================] - 2s 11ms/step - loss: 0.3396 - accuracy: 0.8032 - val_loss: 1.5382 - val_accuracy: 0.4983\n",
            "Epoch 30/100\n",
            "181/181 [==============================] - 2s 9ms/step - loss: 0.3341 - accuracy: 0.8039 - val_loss: 1.5685 - val_accuracy: 0.4952\n",
            "Epoch 31/100\n",
            "181/181 [==============================] - 2s 11ms/step - loss: 0.3286 - accuracy: 0.8051 - val_loss: 1.5969 - val_accuracy: 0.4934\n",
            "91/91 [==============================] - 0s 3ms/step\n",
            "Confusion Matrix:\n",
            "[[473  45  42  14  59]\n",
            " [ 31 207   7   5  49]\n",
            " [ 27  14 266  28  50]\n",
            " [  8  13  37 468  84]\n",
            " [153 149 163 207 289]]\n",
            "\n",
            "Classification Report:\n",
            "              precision    recall  f1-score   support\n",
            "\n",
            "           0       0.68      0.75      0.71       633\n",
            "           1       0.48      0.69      0.57       299\n",
            "           2       0.52      0.69      0.59       385\n",
            "           3       0.65      0.77      0.70       610\n",
            "           4       0.54      0.30      0.39       961\n",
            "\n",
            "    accuracy                           0.59      2888\n",
            "   macro avg       0.58      0.64      0.59      2888\n",
            "weighted avg       0.59      0.59      0.57      2888\n",
            "\n"
          ]
        }
      ],
      "source": [
        "import tensorflow as tf\n",
        "from tensorflow.keras.models import Sequential\n",
        "from tensorflow.keras.layers import Embedding, Conv1D, GlobalMaxPooling1D, Dense\n",
        "from tensorflow.keras.optimizers import Adam\n",
        "from tensorflow.keras.callbacks import EarlyStopping\n",
        "\n",
        "import numpy as np\n",
        "from sklearn.utils.class_weight import compute_class_weight\n",
        "from sklearn.metrics import confusion_matrix, classification_report\n",
        "\n",
        "# Calculate class weights\n",
        "\n",
        "class_weights = compute_class_weight(\n",
        "                                        class_weight = \"balanced\",\n",
        "                                        classes = np.unique(labels_minus_one),\n",
        "                                        y = labels_minus_one\n",
        "                                    )\n",
        "class_weights_dict = dict(enumerate(class_weights))\n",
        "\n",
        "\n",
        "print(f'class_weights_dict : {class_weights_dict}')\n",
        "\n",
        "\n",
        "# Define the CNN model\n",
        "embedding_dim = 50\n",
        "filters = 128\n",
        "\n",
        "model = Sequential()\n",
        "model.add(Embedding(input_dim=len(tokenizer.word_index), output_dim=embedding_dim, input_length=450))\n",
        "\n",
        "# model.add(Embedding(input_dim=len(tokenizer.word_index) + 1, output_dim=embedding_dim, input_length=max_length))\n",
        "model.add(Conv1D(filters=filters, kernel_size=5, activation='relu'))  # Kernel Size\n",
        "model.add(GlobalMaxPooling1D())\n",
        "model.add(Dense(units=128, activation='relu'))\n",
        "model.add(Dense(units=num_classes, activation='softmax'))\n",
        "\n",
        "# Compile the model with class weights\n",
        "custom_optimizer = Adam(learning_rate=0.0001)\n",
        "model.compile(optimizer=custom_optimizer, loss='categorical_crossentropy', metrics=['accuracy'])\n",
        "\n",
        "# Define early stopping callback\n",
        "early_stopping = EarlyStopping(monitor='val_loss', patience=20, restore_best_weights=True) #5\n",
        "\n",
        "# Train the model with early stopping and class weights\n",
        "model.fit(\n",
        "    padded_train,\n",
        "    labels_train_one_hot,\n",
        "    epochs=100,\n",
        "    batch_size=64,\n",
        "    validation_data=(padded_test, labels_test_one_hot),\n",
        "    callbacks=[early_stopping],\n",
        "    class_weight=class_weights_dict\n",
        ")\n",
        "\n",
        "# Evaluate the model on test data\n",
        "predictions = model.predict(padded_test)\n",
        "predicted_labels = np.argmax(predictions, axis=1)\n",
        "true_labels = np.argmax(labels_test_one_hot, axis=1)\n",
        "\n",
        "# Print confusion matrix and classification report\n",
        "conf_matrix = confusion_matrix(true_labels, predicted_labels)\n",
        "class_report = classification_report(true_labels, predicted_labels)\n",
        "\n",
        "print(\"Confusion Matrix:\")\n",
        "print(conf_matrix)\n",
        "\n",
        "print(\"\\nClassification Report:\")\n",
        "print(class_report)\n",
        "\n"
      ]
    },
    {
      "cell_type": "code",
      "source": [
        "# Assuming you have already created and fit the Tokenizer object\n",
        "vocab_size = len(tokenizer.word_index)\n",
        "print(\"Vocabulary size:\", vocab_size)\n"
      ],
      "metadata": {
        "colab": {
          "base_uri": "https://localhost:8080/"
        },
        "id": "o625xKGQCj4V",
        "outputId": "262cf33c-9785-4a46-a632-61d919072ab0"
      },
      "execution_count": 129,
      "outputs": [
        {
          "output_type": "stream",
          "name": "stdout",
          "text": [
            "Vocabulary size: 35158\n"
          ]
        }
      ]
    },
    {
      "cell_type": "code",
      "execution_count": 130,
      "metadata": {
        "colab": {
          "base_uri": "https://localhost:8080/"
        },
        "id": "MRoPZ1i3cQTa",
        "outputId": "f4863d6b-abc8-4158-f0f0-2c431fa2b471"
      },
      "outputs": [
        {
          "output_type": "stream",
          "name": "stdout",
          "text": [
            "F1 Micro Score: 0.5896814404432132\n"
          ]
        }
      ],
      "source": [
        "\n",
        "# F1\n",
        "from sklearn.metrics import f1_score\n",
        "\n",
        "# Calculate F1 micro score\n",
        "f1_micro = f1_score(true_labels, predicted_labels, average='micro')\n",
        "\n",
        "print(\"F1 Micro Score:\", f1_micro)\n"
      ]
    },
    {
      "cell_type": "code",
      "execution_count": 131,
      "metadata": {
        "colab": {
          "base_uri": "https://localhost:8080/",
          "height": 490
        },
        "id": "INyhS1aVcSsG",
        "outputId": "e84f2d98-926e-4c90-baf5-d6ca46da419f"
      },
      "outputs": [
        {
          "output_type": "display_data",
          "data": {
            "text/plain": [
              "<Figure size 500x300 with 0 Axes>"
            ]
          },
          "metadata": {}
        },
        {
          "output_type": "display_data",
          "data": {
            "text/plain": [
              "<Figure size 640x480 with 2 Axes>"
            ],
            "image/png": "[encoded data removed]"
          },
          "metadata": {}
        }
      ],
      "source": [
        "import matplotlib.pyplot as plt\n",
        "import seaborn as sns\n",
        "from sklearn.metrics import ConfusionMatrixDisplay\n",
        "import numpy as np\n",
        "\n",
        "# Assuming 'model' is a Keras model\n",
        "# Assuming 'true_labels' and 'predicted_labels' are available\n",
        "\n",
        "# Calculate the confusion matrix\n",
        "\n",
        "# Normalize each row to convert counts to percentages\n",
        "conf_matrix_percentage = conf_matrix / conf_matrix.sum(axis=1, keepdims=True)\n",
        "\n",
        "plt.figure(figsize=(5, 3))\n",
        "ConfusionMatrixDisplay(conf_matrix_percentage).plot(cmap='Blues')\n",
        "plt.title('Confusion Matrix')\n",
        "plt.show()"
      ]
    },
    {
      "cell_type": "code",
      "source": [
        "model.count_params()"
      ],
      "metadata": {
        "colab": {
          "base_uri": "https://localhost:8080/"
        },
        "id": "y1C7FU_N0J3B",
        "outputId": "2d984455-64bb-420c-ab76-fb1115de81d8"
      },
      "execution_count": 132,
      "outputs": [
        {
          "output_type": "execute_result",
          "data": {
            "text/plain": [
              "1807185"
            ]
          },
          "metadata": {},
          "execution_count": 132
        }
      ]
    },
    {
      "cell_type": "code",
      "source": [
        "model.summary()"
      ],
      "metadata": {
        "colab": {
          "base_uri": "https://localhost:8080/"
        },
        "id": "4F91ive_TUWk",
        "outputId": "cdc13ce0-fe3d-4e26-fafc-188af08c7386"
      },
      "execution_count": 134,
      "outputs": [
        {
          "output_type": "stream",
          "name": "stdout",
          "text": [
            "Model: \"sequential_11\"\n",
            "_________________________________________________________________\n",
            " Layer (type)                Output Shape              Param #   \n",
            "=================================================================\n",
            " embedding_11 (Embedding)    (None, 450, 50)           1757900   \n",
            "                                                                 \n",
            " conv1d_11 (Conv1D)          (None, 446, 128)          32128     \n",
            "                                                                 \n",
            " global_max_pooling1d_11 (G  (None, 128)               0         \n",
            " lobalMaxPooling1D)                                              \n",
            "                                                                 \n",
            " dense_22 (Dense)            (None, 128)               16512     \n",
            "                                                                 \n",
            " dense_23 (Dense)            (None, 5)                 645       \n",
            "                                                                 \n",
            "=================================================================\n",
            "Total params: 1807185 (6.89 MB)\n",
            "Trainable params: 1807185 (6.89 MB)\n",
            "Non-trainable params: 0 (0.00 Byte)\n",
            "_________________________________________________________________\n"
          ]
        }
      ]
    },
    {
      "cell_type": "code",
      "execution_count": null,
      "metadata": {
        "id": "GI4zTBokcVNz"
      },
      "outputs": [],
      "source": [
        "# Assuming 'model' is your Keras CNN model\n",
        "model.save(\"/content/drive/MyDrive/Medical-Abstracts-TC-Corpus-main/MedicalTextClassification(kernel5).h5\")\n"
      ]
    },
    {
      "cell_type": "markdown",
      "metadata": {
        "id": "8kKYSk2ug67E"
      },
      "source": [
        "## LR"
      ]
    },
    {
      "cell_type": "code",
      "execution_count": null,
      "metadata": {
        "colab": {
          "base_uri": "https://localhost:8080/"
        },
        "id": "Zm0OwHNeg-r_",
        "outputId": "3237aac8-9194-43c9-8de2-5aad8312eb0a"
      },
      "outputs": [
        {
          "output_type": "stream",
          "name": "stdout",
          "text": [
            "class_weights_dict : {0: 0.9130434782608695, 1: 1.9330543933054394, 2: 1.5, 3: 0.9463334698893896, 4: 0.600936524453694}\n",
            "Epoch 1/100\n",
            "181/181 [==============================] - 39s 210ms/step - loss: 1.6081 - accuracy: 0.2456 - val_loss: 1.6015 - val_accuracy: 0.2874\n",
            "Epoch 2/100\n",
            "181/181 [==============================] - 33s 182ms/step - loss: 1.5894 - accuracy: 0.3709 - val_loss: 1.5740 - val_accuracy: 0.3882\n",
            "Epoch 3/100\n",
            "181/181 [==============================] - 32s 177ms/step - loss: 1.4984 - accuracy: 0.4887 - val_loss: 1.4170 - val_accuracy: 0.4706\n",
            "Epoch 4/100\n",
            "181/181 [==============================] - 33s 181ms/step - loss: 1.2938 - accuracy: 0.5177 - val_loss: 1.2683 - val_accuracy: 0.4726\n",
            "Epoch 5/100\n",
            "181/181 [==============================] - 33s 184ms/step - loss: 1.1566 - accuracy: 0.5386 - val_loss: 1.2080 - val_accuracy: 0.4979\n",
            "Epoch 6/100\n",
            "181/181 [==============================] - 34s 190ms/step - loss: 1.0483 - accuracy: 0.5720 - val_loss: 1.1463 - val_accuracy: 0.5270\n",
            "Epoch 7/100\n",
            "181/181 [==============================] - 33s 184ms/step - loss: 0.9338 - accuracy: 0.6102 - val_loss: 1.1039 - val_accuracy: 0.5492\n",
            "Epoch 8/100\n",
            "181/181 [==============================] - 32s 176ms/step - loss: 0.8355 - accuracy: 0.6527 - val_loss: 1.0746 - val_accuracy: 0.5817\n",
            "Epoch 9/100\n",
            "181/181 [==============================] - 33s 184ms/step - loss: 0.7615 - accuracy: 0.6800 - val_loss: 1.0679 - val_accuracy: 0.5907\n",
            "Epoch 10/100\n",
            "181/181 [==============================] - 34s 186ms/step - loss: 0.7037 - accuracy: 0.6992 - val_loss: 1.0685 - val_accuracy: 0.5873\n",
            "Epoch 11/100\n",
            "181/181 [==============================] - 35s 192ms/step - loss: 0.6559 - accuracy: 0.7152 - val_loss: 1.0659 - val_accuracy: 0.5876\n",
            "Epoch 12/100\n",
            "181/181 [==============================] - 32s 176ms/step - loss: 0.6141 - accuracy: 0.7291 - val_loss: 1.0812 - val_accuracy: 0.5796\n",
            "Epoch 13/100\n",
            "181/181 [==============================] - 32s 175ms/step - loss: 0.5776 - accuracy: 0.7409 - val_loss: 1.0957 - val_accuracy: 0.5724\n",
            "Epoch 14/100\n",
            "181/181 [==============================] - 32s 174ms/step - loss: 0.5448 - accuracy: 0.7504 - val_loss: 1.1232 - val_accuracy: 0.5616\n",
            "Epoch 15/100\n",
            "181/181 [==============================] - 33s 182ms/step - loss: 0.5158 - accuracy: 0.7611 - val_loss: 1.1469 - val_accuracy: 0.5540\n",
            "Epoch 16/100\n",
            "181/181 [==============================] - 30s 166ms/step - loss: 0.4896 - accuracy: 0.7672 - val_loss: 1.1775 - val_accuracy: 0.5474\n",
            "Epoch 17/100\n",
            "181/181 [==============================] - 32s 178ms/step - loss: 0.4666 - accuracy: 0.7733 - val_loss: 1.2100 - val_accuracy: 0.5346\n",
            "Epoch 18/100\n",
            "181/181 [==============================] - 32s 179ms/step - loss: 0.4463 - accuracy: 0.7781 - val_loss: 1.2437 - val_accuracy: 0.5294\n",
            "Epoch 19/100\n",
            "181/181 [==============================] - 31s 171ms/step - loss: 0.4279 - accuracy: 0.7848 - val_loss: 1.2835 - val_accuracy: 0.5256\n",
            "Epoch 20/100\n",
            "181/181 [==============================] - 37s 204ms/step - loss: 0.4113 - accuracy: 0.7883 - val_loss: 1.3175 - val_accuracy: 0.5139\n",
            "Epoch 21/100\n",
            "181/181 [==============================] - 34s 185ms/step - loss: 0.3978 - accuracy: 0.7919 - val_loss: 1.3577 - val_accuracy: 0.5121\n",
            "Epoch 22/100\n",
            "181/181 [==============================] - 33s 183ms/step - loss: 0.3848 - accuracy: 0.7938 - val_loss: 1.3936 - val_accuracy: 0.5090\n",
            "Epoch 23/100\n",
            "181/181 [==============================] - 31s 172ms/step - loss: 0.3742 - accuracy: 0.7944 - val_loss: 1.4297 - val_accuracy: 0.5045\n",
            "Epoch 24/100\n",
            "181/181 [==============================] - 33s 181ms/step - loss: 0.3642 - accuracy: 0.7980 - val_loss: 1.4672 - val_accuracy: 0.5052\n",
            "Epoch 25/100\n",
            "181/181 [==============================] - 34s 190ms/step - loss: 0.3555 - accuracy: 0.7991 - val_loss: 1.5047 - val_accuracy: 0.5003\n",
            "Epoch 26/100\n",
            "181/181 [==============================] - 31s 171ms/step - loss: 0.3482 - accuracy: 0.8016 - val_loss: 1.5385 - val_accuracy: 0.4969\n",
            "Epoch 27/100\n",
            "181/181 [==============================] - 32s 175ms/step - loss: 0.3411 - accuracy: 0.8008 - val_loss: 1.5732 - val_accuracy: 0.4907\n",
            "Epoch 28/100\n",
            "181/181 [==============================] - 31s 171ms/step - loss: 0.3347 - accuracy: 0.8022 - val_loss: 1.6099 - val_accuracy: 0.4900\n",
            "Epoch 29/100\n",
            "181/181 [==============================] - 30s 164ms/step - loss: 0.3297 - accuracy: 0.8035 - val_loss: 1.6472 - val_accuracy: 0.4882\n",
            "Epoch 30/100\n",
            "181/181 [==============================] - 30s 165ms/step - loss: 0.3248 - accuracy: 0.8049 - val_loss: 1.6714 - val_accuracy: 0.4868\n",
            "Epoch 31/100\n",
            "181/181 [==============================] - 29s 162ms/step - loss: 0.3209 - accuracy: 0.8035 - val_loss: 1.7036 - val_accuracy: 0.4851\n",
            "91/91 [==============================] - 2s 18ms/step\n",
            "Confusion Matrix:\n",
            "[[472  39  39  10  73]\n",
            " [ 35 198   7   3  56]\n",
            " [ 28  13 256  32  56]\n",
            " [  9   9  38 463  91]\n",
            " [153 141 148 211 308]]\n",
            "\n",
            "Classification Report:\n",
            "              precision    recall  f1-score   support\n",
            "\n",
            "           0       0.68      0.75      0.71       633\n",
            "           1       0.49      0.66      0.57       299\n",
            "           2       0.52      0.66      0.59       385\n",
            "           3       0.64      0.76      0.70       610\n",
            "           4       0.53      0.32      0.40       961\n",
            "\n",
            "    accuracy                           0.59      2888\n",
            "   macro avg       0.57      0.63      0.59      2888\n",
            "weighted avg       0.58      0.59      0.57      2888\n",
            "\n"
          ]
        },
        {
          "output_type": "stream",
          "name": "stderr",
          "text": [
            "/usr/local/lib/python3.10/dist-packages/keras/src/engine/training.py:3103: UserWarning: You are saving your model as an HDF5 file via `model.save()`. This file format is considered legacy. We recommend using instead the native Keras format, e.g. `model.save('my_model.keras')`.\n",
            "  saving_api.save_model(\n"
          ]
        }
      ],
      "source": [
        "import tensorflow as tf\n",
        "from tensorflow.keras.models import Sequential\n",
        "from tensorflow.keras.layers import Embedding, Conv1D, GlobalMaxPooling1D, Dense\n",
        "from tensorflow.keras.optimizers import Adam\n",
        "from tensorflow.keras.callbacks import EarlyStopping\n",
        "\n",
        "import numpy as np\n",
        "from sklearn.utils.class_weight import compute_class_weight\n",
        "from sklearn.metrics import confusion_matrix, classification_report\n",
        "\n",
        "# Calculate class weights\n",
        "\n",
        "class_weights = compute_class_weight(\n",
        "                                        class_weight = \"balanced\",\n",
        "                                        classes = np.unique(labels_minus_one),\n",
        "                                        y = labels_minus_one\n",
        "                                    )\n",
        "class_weights_dict = dict(enumerate(class_weights))\n",
        "\n",
        "\n",
        "print(f'class_weights_dict : {class_weights_dict}')\n",
        "\n",
        "\n",
        "# Define the CNN model\n",
        "embedding_dim = 50\n",
        "filters = 128\n",
        "\n",
        "model = Sequential()\n",
        "model.add(Embedding(input_dim=len(tokenizer.word_index) + 1, output_dim=embedding_dim, input_length=max_length))\n",
        "model.add(Conv1D(filters=filters, kernel_size=5, activation='relu'))  # Kernel Size\n",
        "model.add(GlobalMaxPooling1D())\n",
        "model.add(Dense(units=128, activation='relu'))\n",
        "model.add(Dense(units=num_classes, activation='softmax'))\n",
        "\n",
        "# Compile the model with class weights\n",
        "custom_optimizer = Adam(learning_rate=0.0001)\n",
        "model.compile(optimizer=custom_optimizer, loss='categorical_crossentropy', metrics=['accuracy'])\n",
        "\n",
        "# Define early stopping callback\n",
        "early_stopping = EarlyStopping(monitor='val_loss', patience=20, restore_best_weights=True)\n",
        "\n",
        "# Train the model with early stopping and class weights\n",
        "model.fit(\n",
        "    padded_train,\n",
        "    labels_train_one_hot,\n",
        "    epochs=100,\n",
        "    batch_size=64,\n",
        "    validation_data=(padded_test, labels_test_one_hot),\n",
        "    callbacks=[early_stopping],\n",
        "    class_weight=class_weights_dict\n",
        ")\n",
        "\n",
        "# Evaluate the model on test data\n",
        "predictions = model.predict(padded_test)\n",
        "predicted_labels = np.argmax(predictions, axis=1)\n",
        "true_labels = np.argmax(labels_test_one_hot, axis=1)\n",
        "\n",
        "# Print confusion matrix and classification report\n",
        "conf_matrix = confusion_matrix(true_labels, predicted_labels)\n",
        "class_report = classification_report(true_labels, predicted_labels)\n",
        "\n",
        "print(\"Confusion Matrix:\")\n",
        "print(conf_matrix)\n",
        "\n",
        "print(\"\\nClassification Report:\")\n",
        "print(class_report)\n",
        "\n",
        "# Assuming 'model' is your Keras CNN model\n",
        "model.save(\"/content/drive/MyDrive/Medical-Abstracts-TC-Corpus-main/MedicalTextClassification(LR0.0001).h5\")\n"
      ]
    },
    {
      "cell_type": "code",
      "source": [
        "# F1\n",
        "from sklearn.metrics import f1_score\n",
        "\n",
        "# Calculate F1 micro score\n",
        "f1_micro = f1_score(true_labels, predicted_labels, average='micro')\n",
        "\n",
        "print(\"F1 Micro Score:\", f1_micro)\n",
        "import matplotlib.pyplot as plt\n",
        "import seaborn as sns\n",
        "from sklearn.metrics import ConfusionMatrixDisplay\n",
        "import numpy as np\n",
        "\n",
        "# Assuming 'model' is a Keras model\n",
        "# Assuming 'true_labels' and 'predicted_labels' are available\n",
        "\n",
        "# Calculate the confusion matrix\n",
        "\n",
        "# Normalize each row to convert counts to percentages\n",
        "conf_matrix_percentage = conf_matrix / conf_matrix.sum(axis=1, keepdims=True)\n",
        "\n",
        "plt.figure(figsize=(5, 3))\n",
        "ConfusionMatrixDisplay(conf_matrix_percentage).plot(cmap='Blues')\n",
        "plt.title('Confusion Matrix')\n",
        "plt.show()"
      ],
      "metadata": {
        "colab": {
          "base_uri": "https://localhost:8080/",
          "height": 507
        },
        "id": "tboYb0whJMzJ",
        "outputId": "704c6912-c796-4671-9723-43c19e59d723"
      },
      "execution_count": null,
      "outputs": [
        {
          "output_type": "stream",
          "name": "stdout",
          "text": [
            "F1 Micro Score: 0.5876038781163435\n"
          ]
        },
        {
          "output_type": "display_data",
          "data": {
            "text/plain": [
              "<Figure size 500x300 with 0 Axes>"
            ]
          },
          "metadata": {}
        },
        {
          "output_type": "display_data",
          "data": {
            "text/plain": [
              "<Figure size 640x480 with 2 Axes>"
            ],
            "image/png": "[encoded data removed]"
          },
          "metadata": {}
        }
      ]
    },
    {
      "cell_type": "code",
      "source": [
        "# from tensorflow.keras.models import load_model\n",
        "\n",
        "# # Load the saved model\n",
        "# loaded_model = load_model(\"/content/drive/MyDrive/Medical-Abstracts-TC-Corpus-main/MedicalTextClassification(LR0.0001).h5\")\n",
        "\n",
        "# custom_optimizer = Adam(learning_rate=0.00001)\n",
        "# loaded_model.compile(optimizer=custom_optimizer, loss='categorical_crossentropy', metrics=['accuracy'])\n",
        "\n",
        "# loaded_model.fit(\n",
        "#     padded_train,\n",
        "#     labels_train_one_hot,\n",
        "#     epochs=100,\n",
        "#     batch_size=64,\n",
        "#     validation_data=(padded_test, labels_test_one_hot),\n",
        "#     callbacks=[early_stopping],\n",
        "#     class_weight=class_weights_dict\n",
        "# )\n",
        "# F1\n",
        "from sklearn.metrics import f1_score\n",
        "\n",
        "# Calculate F1 micro score\n",
        "f1_micro = f1_score(true_labels, predicted_labels, average='micro')\n",
        "\n",
        "print(\"F1 Micro Score:\", f1_micro)\n",
        "import matplotlib.pyplot as plt\n",
        "import seaborn as sns\n",
        "from sklearn.metrics import ConfusionMatrixDisplay\n",
        "import numpy as np\n",
        "\n",
        "# Evaluate the model on test data\n",
        "predictions = model.predict(padded_test)\n",
        "predicted_labels = np.argmax(predictions, axis=1)\n",
        "true_labels = np.argmax(labels_test_one_hot, axis=1)\n",
        "\n",
        "# Print confusion matrix and classification report\n",
        "conf_matrix = confusion_matrix(true_labels, predicted_labels)\n",
        "class_report = classification_report(true_labels, predicted_labels)\n",
        "\n",
        "print(\"Confusion Matrix:\")\n",
        "print(conf_matrix)\n",
        "\n",
        "print(\"\\nClassification Report:\")\n",
        "print(class_report)\n",
        "\n",
        "\n",
        "# Normalize each row to convert counts to percentages\n",
        "conf_matrix_percentage = conf_matrix / conf_matrix.sum(axis=1, keepdims=True)\n",
        "\n",
        "plt.figure(figsize=(5, 3))\n",
        "ConfusionMatrixDisplay(conf_matrix_percentage).plot(cmap='Blues')\n",
        "plt.title('Confusion Matrix')\n",
        "plt.show()"
      ],
      "metadata": {
        "colab": {
          "base_uri": "https://localhost:8080/",
          "height": 871
        },
        "id": "XE0_jxbI8ggR",
        "outputId": "8908b85f-9804-4ff2-a96c-dd64a6b53c7a"
      },
      "execution_count": null,
      "outputs": [
        {
          "output_type": "stream",
          "name": "stdout",
          "text": [
            "F1 Micro Score: 0.5876038781163435\n",
            "91/91 [==============================] - 2s 27ms/step\n",
            "Confusion Matrix:\n",
            "[[472  39  39  10  73]\n",
            " [ 35 198   7   3  56]\n",
            " [ 28  13 256  32  56]\n",
            " [  9   9  38 463  91]\n",
            " [153 141 148 211 308]]\n",
            "\n",
            "Classification Report:\n",
            "              precision    recall  f1-score   support\n",
            "\n",
            "           0       0.68      0.75      0.71       633\n",
            "           1       0.49      0.66      0.57       299\n",
            "           2       0.52      0.66      0.59       385\n",
            "           3       0.64      0.76      0.70       610\n",
            "           4       0.53      0.32      0.40       961\n",
            "\n",
            "    accuracy                           0.59      2888\n",
            "   macro avg       0.57      0.63      0.59      2888\n",
            "weighted avg       0.58      0.59      0.57      2888\n",
            "\n"
          ]
        },
        {
          "output_type": "display_data",
          "data": {
            "text/plain": [
              "<Figure size 500x300 with 0 Axes>"
            ]
          },
          "metadata": {}
        },
        {
          "output_type": "display_data",
          "data": {
            "text/plain": [
              "<Figure size 640x480 with 2 Axes>"
            ],
            "image/png": "[encoded data removed]"
          },
          "metadata": {}
        }
      ]
    },
    {
      "cell_type": "code",
      "source": [
        "loaded_model.save(\"/content/drive/MyDrive/Medical-Abstracts-TC-Corpus-main/MedicalTextClassification(LR0.00001).h5\")\n"
      ],
      "metadata": {
        "colab": {
          "base_uri": "https://localhost:8080/"
        },
        "id": "4G96nel8bUUx",
        "outputId": "4666b512-e1c2-4c89-f1d1-94efe7184340"
      },
      "execution_count": null,
      "outputs": [
        {
          "output_type": "stream",
          "name": "stderr",
          "text": [
            "/usr/local/lib/python3.10/dist-packages/keras/src/engine/training.py:3103: UserWarning: You are saving your model as an HDF5 file via `model.save()`. This file format is considered legacy. We recommend using instead the native Keras format, e.g. `model.save('my_model.keras')`.\n",
            "  saving_api.save_model(\n"
          ]
        }
      ]
    },
    {
      "cell_type": "code",
      "source": [
        "\n",
        "# # Load the saved model\n",
        "# loaded_model = load_model(\"/content/drive/MyDrive/Medical-Abstracts-TC-Corpus-main/MedicalTextClassification(LR0.00001).h5\")\n",
        "\n",
        "# custom_optimizer = Adam(learning_rate=0.000001)\n",
        "# loaded_model.compile(optimizer=custom_optimizer, loss='categorical_crossentropy', metrics=['accuracy'])\n",
        "\n",
        "# loaded_model.fit(\n",
        "#     padded_train,\n",
        "#     labels_train_one_hot,\n",
        "#     epochs=100,\n",
        "#     batch_size=64,\n",
        "#     validation_data=(padded_test, labels_test_one_hot),\n",
        "#     callbacks=[early_stopping],\n",
        "#     class_weight=class_weights_dict\n",
        "# )\n",
        "loaded_model.save(\"/content/drive/MyDrive/Medical-Abstracts-TC-Corpus-main/MedicalTextClassification(LR0.000001).h5\")\n",
        "\n",
        "\n",
        "# F1\n",
        "from sklearn.metrics import f1_score\n",
        "\n",
        "# Calculate F1 micro score\n",
        "f1_micro = f1_score(true_labels, predicted_labels, average='micro')\n",
        "\n",
        "print(\"F1 Micro Score:\", f1_micro)\n",
        "import matplotlib.pyplot as plt\n",
        "import seaborn as sns\n",
        "from sklearn.metrics import ConfusionMatrixDisplay\n",
        "import numpy as np\n",
        "\n",
        "# Evaluate the model on test data\n",
        "predictions = model.predict(padded_test)\n",
        "predicted_labels = np.argmax(predictions, axis=1)\n",
        "true_labels = np.argmax(labels_test_one_hot, axis=1)\n",
        "\n",
        "# Print confusion matrix and classification report\n",
        "conf_matrix = confusion_matrix(true_labels, predicted_labels)\n",
        "class_report = classification_report(true_labels, predicted_labels)\n",
        "\n",
        "print(\"Confusion Matrix:\")\n",
        "print(conf_matrix)\n",
        "\n",
        "print(\"\\nClassification Report:\")\n",
        "print(class_report)\n",
        "\n",
        "\n",
        "# Normalize each row to convert counts to percentages\n",
        "conf_matrix_percentage = conf_matrix / conf_matrix.sum(axis=1, keepdims=True)\n",
        "\n",
        "plt.figure(figsize=(5, 3))\n",
        "ConfusionMatrixDisplay(conf_matrix_percentage).plot(cmap='Blues')\n",
        "plt.title('Confusion Matrix')\n",
        "plt.show()"
      ],
      "metadata": {
        "colab": {
          "base_uri": "https://localhost:8080/",
          "height": 871
        },
        "id": "_JMr78CCH1kl",
        "outputId": "23eb5195-5094-4676-f5bf-e5a616f98a01"
      },
      "execution_count": null,
      "outputs": [
        {
          "output_type": "stream",
          "name": "stdout",
          "text": [
            "F1 Micro Score: 0.5876038781163435\n",
            "91/91 [==============================] - 2s 18ms/step\n",
            "Confusion Matrix:\n",
            "[[472  39  39  10  73]\n",
            " [ 35 198   7   3  56]\n",
            " [ 28  13 256  32  56]\n",
            " [  9   9  38 463  91]\n",
            " [153 141 148 211 308]]\n",
            "\n",
            "Classification Report:\n",
            "              precision    recall  f1-score   support\n",
            "\n",
            "           0       0.68      0.75      0.71       633\n",
            "           1       0.49      0.66      0.57       299\n",
            "           2       0.52      0.66      0.59       385\n",
            "           3       0.64      0.76      0.70       610\n",
            "           4       0.53      0.32      0.40       961\n",
            "\n",
            "    accuracy                           0.59      2888\n",
            "   macro avg       0.57      0.63      0.59      2888\n",
            "weighted avg       0.58      0.59      0.57      2888\n",
            "\n"
          ]
        },
        {
          "output_type": "display_data",
          "data": {
            "text/plain": [
              "<Figure size 500x300 with 0 Axes>"
            ]
          },
          "metadata": {}
        },
        {
          "output_type": "display_data",
          "data": {
            "text/plain": [
              "<Figure size 640x480 with 2 Axes>"
            ],
            "image/png": "[encoded data removed]"
          },
          "metadata": {}
        }
      ]
    },
    {
      "cell_type": "code",
      "execution_count": null,
      "metadata": {
        "id": "2ZqhdLYJhpds"
      },
      "outputs": [],
      "source": [
        "\n",
        "# F1\n",
        "from sklearn.metrics import f1_score\n",
        "\n",
        "# Calculate F1 micro score\n",
        "f1_micro = f1_score(true_labels, predicted_labels, average='micro')\n",
        "\n",
        "print(\"F1 Micro Score:\", f1_micro)\n"
      ]
    },
    {
      "cell_type": "code",
      "source": [
        "\n",
        "# Evaluate the model on test data\n",
        "predictions = model.predict(padded_test)\n",
        "predicted_labels = np.argmax(predictions, axis=1)\n",
        "true_labels = np.argmax(labels_test_one_hot, axis=1)\n",
        "\n",
        "# Print confusion matrix and classification report\n",
        "conf_matrix = confusion_matrix(true_labels, predicted_labels)\n",
        "class_report = classification_report(true_labels, predicted_labels)\n",
        "\n",
        "print(\"Confusion Matrix:\")\n",
        "print(conf_matrix)\n",
        "\n",
        "print(\"\\nClassification Report:\")\n",
        "print(class_report)\n",
        "\n"
      ],
      "metadata": {
        "id": "tMg3dSxIA48K"
      },
      "execution_count": null,
      "outputs": []
    },
    {
      "cell_type": "code",
      "execution_count": null,
      "metadata": {
        "id": "FWh82F22hqvA"
      },
      "outputs": [],
      "source": [
        "import matplotlib.pyplot as plt\n",
        "import seaborn as sns\n",
        "from sklearn.metrics import ConfusionMatrixDisplay\n",
        "import numpy as np\n",
        "\n",
        "# Assuming 'model' is a Keras model\n",
        "# Assuming 'true_labels' and 'predicted_labels' are available\n",
        "\n",
        "# Calculate the confusion matrix\n",
        "\n",
        "# Normalize each row to convert counts to percentages\n",
        "conf_matrix_percentage = conf_matrix / conf_matrix.sum(axis=1, keepdims=True)\n",
        "\n",
        "plt.figure(figsize=(5, 3))\n",
        "ConfusionMatrixDisplay(conf_matrix_percentage).plot(cmap='Blues')\n",
        "plt.title('Confusion Matrix')\n",
        "plt.show()"
      ]
    },
    {
      "cell_type": "code",
      "execution_count": null,
      "metadata": {
        "colab": {
          "base_uri": "https://localhost:8080/"
        },
        "id": "myIFY7hfhxR9",
        "outputId": "05e05f23-c1dc-417b-fcbc-0265de4d2123"
      },
      "outputs": [
        {
          "output_type": "stream",
          "name": "stderr",
          "text": [
            "/usr/local/lib/python3.10/dist-packages/keras/src/engine/training.py:3103: UserWarning: You are saving your model as an HDF5 file via `model.save()`. This file format is considered legacy. We recommend using instead the native Keras format, e.g. `model.save('my_model.keras')`.\n",
            "  saving_api.save_model(\n"
          ]
        }
      ],
      "source": [
        "# Assuming 'model' is your Keras CNN model\n",
        "model.save(\"/content/drive/MyDrive/Medical-Abstracts-TC-Corpus-main/MedicalTextClassification(LR0.00001).h5\")\n"
      ]
    },
    {
      "cell_type": "markdown",
      "metadata": {
        "id": "LbUV5HP3JsPv"
      },
      "source": [
        "## augmentation"
      ]
    },
    {
      "cell_type": "code",
      "execution_count": null,
      "metadata": {
        "colab": {
          "base_uri": "https://localhost:8080/"
        },
        "id": "9yarHvPcIRcg",
        "outputId": "263f5d21-d9d7-4574-c2a8-d06be8c72239"
      },
      "outputs": [
        {
          "name": "stdout",
          "output_type": "stream",
          "text": [
            "Requirement already satisfied: nlpaug in /usr/local/lib/python3.10/dist-packages (1.1.11)\n",
            "Requirement already satisfied: numpy>=1.16.2 in /usr/local/lib/python3.10/dist-packages (from nlpaug) (1.23.5)\n",
            "Requirement already satisfied: pandas>=1.2.0 in /usr/local/lib/python3.10/dist-packages (from nlpaug) (1.5.3)\n",
            "Requirement already satisfied: requests>=2.22.0 in /usr/local/lib/python3.10/dist-packages (from nlpaug) (2.31.0)\n",
            "Requirement already satisfied: gdown>=4.0.0 in /usr/local/lib/python3.10/dist-packages (from nlpaug) (4.6.6)\n",
            "Requirement already satisfied: filelock in /usr/local/lib/python3.10/dist-packages (from gdown>=4.0.0->nlpaug) (3.13.1)\n",
            "Requirement already satisfied: six in /usr/local/lib/python3.10/dist-packages (from gdown>=4.0.0->nlpaug) (1.16.0)\n",
            "Requirement already satisfied: tqdm in /usr/local/lib/python3.10/dist-packages (from gdown>=4.0.0->nlpaug) (4.66.1)\n",
            "Requirement already satisfied: beautifulsoup4 in /usr/local/lib/python3.10/dist-packages (from gdown>=4.0.0->nlpaug) (4.11.2)\n",
            "Requirement already satisfied: python-dateutil>=2.8.1 in /usr/local/lib/python3.10/dist-packages (from pandas>=1.2.0->nlpaug) (2.8.2)\n",
            "Requirement already satisfied: pytz>=2020.1 in /usr/local/lib/python3.10/dist-packages (from pandas>=1.2.0->nlpaug) (2023.3.post1)\n",
            "Requirement already satisfied: charset-normalizer<4,>=2 in /usr/local/lib/python3.10/dist-packages (from requests>=2.22.0->nlpaug) (3.3.2)\n",
            "Requirement already satisfied: idna<4,>=2.5 in /usr/local/lib/python3.10/dist-packages (from requests>=2.22.0->nlpaug) (3.6)\n",
            "Requirement already satisfied: urllib3<3,>=1.21.1 in /usr/local/lib/python3.10/dist-packages (from requests>=2.22.0->nlpaug) (2.0.7)\n",
            "Requirement already satisfied: certifi>=2017.4.17 in /usr/local/lib/python3.10/dist-packages (from requests>=2.22.0->nlpaug) (2023.11.17)\n",
            "Requirement already satisfied: soupsieve>1.2 in /usr/local/lib/python3.10/dist-packages (from beautifulsoup4->gdown>=4.0.0->nlpaug) (2.5)\n",
            "Requirement already satisfied: PySocks!=1.5.7,>=1.5.6 in /usr/local/lib/python3.10/dist-packages (from requests>=2.22.0->nlpaug) (1.7.1)\n",
            "class_weights_dict : {0: 0.9130434782608695, 1: 1.9330543933054394, 2: 1.5, 3: 0.9463334698893896, 4: 1.0}\n",
            "Epoch 1/100\n",
            "361/361 [==============================] - 49s 133ms/step - loss: 1.7976 - accuracy: 0.3295 - val_loss: 1.5528 - val_accuracy: 0.3328\n",
            "Epoch 2/100\n",
            "361/361 [==============================] - 48s 132ms/step - loss: 1.7741 - accuracy: 0.3364 - val_loss: 1.4700 - val_accuracy: 0.3930\n",
            "Epoch 3/100\n",
            "361/361 [==============================] - 46s 128ms/step - loss: 1.6791 - accuracy: 0.4091 - val_loss: 1.2541 - val_accuracy: 0.4962\n",
            "Epoch 4/100\n",
            "361/361 [==============================] - 46s 127ms/step - loss: 1.5891 - accuracy: 0.4358 - val_loss: 1.1744 - val_accuracy: 0.5166\n",
            "Epoch 5/100\n",
            "361/361 [==============================] - 44s 123ms/step - loss: 1.5173 - accuracy: 0.4696 - val_loss: 1.1071 - val_accuracy: 0.5443\n",
            "Epoch 6/100\n",
            "361/361 [==============================] - 45s 125ms/step - loss: 1.4434 - accuracy: 0.4905 - val_loss: 1.0498 - val_accuracy: 0.5762\n",
            "Epoch 7/100\n",
            "361/361 [==============================] - 46s 126ms/step - loss: 1.3848 - accuracy: 0.5047 - val_loss: 1.0172 - val_accuracy: 0.5776\n",
            "Epoch 8/100\n",
            "361/361 [==============================] - 46s 127ms/step - loss: 1.3407 - accuracy: 0.5125 - val_loss: 1.0059 - val_accuracy: 0.5800\n",
            "Epoch 9/100\n",
            "361/361 [==============================] - 43s 120ms/step - loss: 1.3039 - accuracy: 0.5214 - val_loss: 1.0004 - val_accuracy: 0.5734\n",
            "Epoch 10/100\n",
            "361/361 [==============================] - 50s 137ms/step - loss: 1.2719 - accuracy: 0.5317 - val_loss: 1.0149 - val_accuracy: 0.5585\n",
            "Epoch 11/100\n",
            "361/361 [==============================] - 46s 128ms/step - loss: 1.2436 - accuracy: 0.5401 - val_loss: 1.0465 - val_accuracy: 0.5585\n",
            "Epoch 12/100\n",
            "361/361 [==============================] - 46s 128ms/step - loss: 1.2177 - accuracy: 0.5471 - val_loss: 1.0693 - val_accuracy: 0.5613\n",
            "Epoch 13/100\n",
            "361/361 [==============================] - 46s 128ms/step - loss: 1.1956 - accuracy: 0.5516 - val_loss: 1.1089 - val_accuracy: 0.5336\n",
            "Epoch 14/100\n",
            "361/361 [==============================] - 43s 120ms/step - loss: 1.1757 - accuracy: 0.5553 - val_loss: 1.1525 - val_accuracy: 0.5132\n",
            "91/91 [==============================] - 1s 14ms/step\n",
            "Confusion Matrix:\n",
            "[[446  35  31  10 111]\n",
            " [ 29 167   2   5  96]\n",
            " [ 29   6 207  24 119]\n",
            " [  6   5  31 417 151]\n",
            " [133 120 110 179 419]]\n",
            "\n",
            "Classification Report:\n",
            "              precision    recall  f1-score   support\n",
            "\n",
            "           0       0.69      0.70      0.70       633\n",
            "           1       0.50      0.56      0.53       299\n",
            "           2       0.54      0.54      0.54       385\n",
            "           3       0.66      0.68      0.67       610\n",
            "           4       0.47      0.44      0.45       961\n",
            "\n",
            "    accuracy                           0.57      2888\n",
            "   macro avg       0.57      0.58      0.58      2888\n",
            "weighted avg       0.57      0.57      0.57      2888\n",
            "\n",
            "F1 Micro Score: 0.5734072022160664\n"
          ]
        }
      ],
      "source": [
        "!pip install nlpaug\n",
        "\n",
        "import nlpaug.augmenter.word as naw\n",
        "from tensorflow.keras.preprocessing.sequence import pad_sequences\n",
        "from tensorflow.keras.preprocessing.text import Tokenizer\n",
        "\n",
        "import tensorflow as tf\n",
        "from tensorflow.keras.models import Sequential\n",
        "from tensorflow.keras.layers import Embedding, Conv1D, GlobalMaxPooling1D, Dense\n",
        "from tensorflow.keras.optimizers import Adam\n",
        "from tensorflow.keras.callbacks import EarlyStopping\n",
        "\n",
        "import numpy as np\n",
        "from sklearn.utils.class_weight import compute_class_weight\n",
        "from sklearn.metrics import confusion_matrix, classification_report\n",
        "\n",
        "# Function for text augmentation using synonym replacement\n",
        "def augment_text(text, aug):\n",
        "    augmented_text = aug.augment(text)\n",
        "    return augmented_text\n",
        "\n",
        "# Augment the training data\n",
        "aug = naw.SynonymAug(aug_src='wordnet')\n",
        "\n",
        "augmented_data = [augment_text(text, aug) for text in train_data['medical_abstract']]\n",
        "\n",
        "# Tokenize and pad augmented data\n",
        "sequences_augmented = tokenizer.texts_to_sequences(augmented_data)\n",
        "padded_augmented = pad_sequences(sequences_augmented, maxlen=max_length, padding='post')\n",
        "\n",
        "# Combine original and augmented data\n",
        "combined_data = np.vstack([padded_train, padded_augmented])\n",
        "combined_labels = np.concatenate([labels_train_one_hot, labels_train_one_hot])\n",
        "flat_combined_labels=[np.where(x==1.)[0][0] for x in combined_labels]\n",
        "# Calculate class weights\n",
        "\n",
        "class_weights = compute_class_weight(\n",
        "                                        class_weight = \"balanced\",\n",
        "                                        classes = np.unique(flat_combined_labels),\n",
        "                                        y = flat_combined_labels\n",
        "                                         )\n",
        "class_weights_dict = dict(enumerate(class_weights))\n",
        "\n",
        "\n",
        "print(f'class_weights_dict : {class_weights_dict}')\n",
        "\n",
        "\n",
        "# Define the CNN model\n",
        "embedding_dim = 50\n",
        "filters = 128\n",
        "\n",
        "model = Sequential()\n",
        "model.add(Embedding(input_dim=len(tokenizer.word_index) + 1, output_dim=embedding_dim, input_length=max_length))\n",
        "model.add(Conv1D(filters=filters, kernel_size=3, activation='relu'))\n",
        "model.add(GlobalMaxPooling1D())\n",
        "model.add(Dense(units=128, activation='relu'))\n",
        "model.add(Dense(units=num_classes, activation='softmax'))\n",
        "\n",
        "# Compile the model with class weights\n",
        "custom_optimizer = Adam(learning_rate=0.0001)\n",
        "model.compile(optimizer=custom_optimizer, loss='categorical_crossentropy', metrics=['accuracy'])\n",
        "\n",
        "# Define early stopping callback\n",
        "early_stopping = EarlyStopping(monitor='val_loss', patience=5, restore_best_weights=True)\n",
        "\n",
        "# Train the model with early stopping and class weights\n",
        "model.fit(\n",
        "    combined_data,\n",
        "    combined_labels,\n",
        "    epochs=100,\n",
        "    batch_size=64,\n",
        "    validation_data=(padded_test, labels_test_one_hot),\n",
        "    callbacks=[early_stopping],\n",
        "    class_weight=class_weights_dict\n",
        ")\n",
        "\n",
        "# Evaluate the model on test data\n",
        "predictions = model.predict(padded_test)\n",
        "predicted_labels = np.argmax(predictions, axis=1)\n",
        "true_labels = np.argmax(labels_test_one_hot, axis=1)\n",
        "\n",
        "# Print confusion matrix and classification report\n",
        "conf_matrix = confusion_matrix(true_labels, predicted_labels)\n",
        "class_report = classification_report(true_labels, predicted_labels)\n",
        "\n",
        "print(\"Confusion Matrix:\")\n",
        "print(conf_matrix)\n",
        "\n",
        "print(\"\\nClassification Report:\")\n",
        "print(class_report)\n",
        "\n",
        "# F1\n",
        "from sklearn.metrics import f1_score\n",
        "\n",
        "# Calculate F1 micro score\n",
        "f1_micro = f1_score(true_labels, predicted_labels, average='micro')\n",
        "\n",
        "print(\"F1 Micro Score:\", f1_micro)\n"
      ]
    },
    {
      "cell_type": "markdown",
      "metadata": {
        "id": "jekcvnL1hubC"
      },
      "source": [
        "## DensePlot"
      ]
    },
    {
      "cell_type": "code",
      "execution_count": null,
      "metadata": {
        "colab": {
          "base_uri": "https://localhost:8080/"
        },
        "id": "AKnfAEAAWtFL",
        "outputId": "e930dbe5-d54c-47c4-8b7d-6e1e6d6ec041"
      },
      "outputs": [
        {
          "name": "stdout",
          "output_type": "stream",
          "text": [
            "91/91 [==============================] - 2s 18ms/step\n",
            "361/361 [==============================] - 7s 18ms/step\n"
          ]
        }
      ],
      "source": [
        "# Assuming 'model' is your Keras model\n",
        "# Replace 'model' with your actual variable name\n",
        "\n",
        "# Extract features from the last layer\n",
        "last_layer = model.layers[-2]\n",
        "features = last_layer.output\n",
        "\n",
        "# Create a new model with the last layer as the output layer\n",
        "feature_extraction_model = tf.keras.Model(inputs=model.input, outputs=features)\n",
        "\n",
        "# Get features for a specific dataset (e.g., test data)\n",
        "features_for_test = feature_extraction_model.predict(padded_test)\n",
        "features_for_train = feature_extraction_model.predict(padded_train)\n",
        "\n"
      ]
    },
    {
      "cell_type": "code",
      "execution_count": null,
      "metadata": {
        "colab": {
          "base_uri": "https://localhost:8080/"
        },
        "id": "LvwQVNQD4-_6",
        "outputId": "03bed09d-70ba-4421-a634-07604ca136e6"
      },
      "outputs": [
        {
          "name": "stdout",
          "output_type": "stream",
          "text": [
            "Model: \"model\"\n",
            "_________________________________________________________________\n",
            " Layer (type)                Output Shape              Param #   \n",
            "=================================================================\n",
            " embedding_input (InputLaye  [(None, 365)]             0         \n",
            " r)                                                              \n",
            "                                                                 \n",
            " embedding (Embedding)       (None, 365, 50)           2026750   \n",
            "                                                                 \n",
            " conv1d (Conv1D)             (None, 363, 128)          19328     \n",
            "                                                                 \n",
            " global_max_pooling1d (Glob  (None, 128)               0         \n",
            " alMaxPooling1D)                                                 \n",
            "                                                                 \n",
            " dense (Dense)               (None, 128)               16512     \n",
            "                                                                 \n",
            "=================================================================\n",
            "Total params: 2062590 (7.87 MB)\n",
            "Trainable params: 2062590 (7.87 MB)\n",
            "Non-trainable params: 0 (0.00 Byte)\n",
            "_________________________________________________________________\n"
          ]
        }
      ],
      "source": [
        "feature_extraction_model.summary()"
      ]
    },
    {
      "cell_type": "markdown",
      "metadata": {
        "id": "FXZJ2q1s403s"
      },
      "source": [
        "- Activation map"
      ]
    },
    {
      "cell_type": "code",
      "execution_count": null,
      "metadata": {
        "id": "PH4tVIUp3lyq"
      },
      "outputs": [],
      "source": [
        "import numpy as np\n",
        "import matplotlib.pyplot as plt\n",
        "from keras.models import Model\n",
        "\n",
        "# Assuming 'model' is a Keras model\n",
        "# 'features_for_test' should be the extracted features from the last layer for the test set\n",
        "\n",
        "# Function to visualize activation map for a random sample in a specific class\n",
        "def visualize_activation_map(class_index):\n",
        "    # Select a random sample from the specified class\n",
        "    class_samples = features_for_test[true_labels == class_index]\n",
        "    random_sample = class_samples[np.random.choice(class_samples.shape[0])]\n",
        "\n",
        "    # Create a model that extracts the output of the last layer\n",
        "    last_layer = model.layers[-1]\n",
        "    activation_model = Model(inputs=model.input, outputs=last_layer.output)\n",
        "\n",
        "    # Get the activation for the random sample\n",
        "    activation = activation_model.predict(np.expand_dims(random_sample, axis=0))[0]\n",
        "\n",
        "    # Plot the activation map\n",
        "    plt.figure(figsize=(8, 3))\n",
        "    plt.plot(activation, marker='o')\n",
        "    plt.title(f'Activation Map - Class {class_index}')\n",
        "    plt.xlabel('Neuron Index')\n",
        "    plt.ylabel('Activation Value')\n",
        "    plt.show()\n",
        "\n",
        "# Visualize activation maps for random samples in different classes\n",
        "for class_index in range(num_classes):  # Replace 'num_classes' with the actual number of classes\n",
        "    visualize_activation_map(class_index)\n"
      ]
    },
    {
      "cell_type": "markdown",
      "metadata": {
        "id": "bEnIgYh-pGC_"
      },
      "source": [
        "- Test data (sampled)"
      ]
    },
    {
      "cell_type": "code",
      "execution_count": null,
      "metadata": {
        "id": "_6OHLDQOs5C8"
      },
      "outputs": [],
      "source": [
        "!pip install umap-learn\n"
      ]
    },
    {
      "cell_type": "code",
      "execution_count": null,
      "metadata": {
        "id": "Crza-4REspdH"
      },
      "outputs": [],
      "source": [
        "import umap\n",
        "import seaborn as sns\n",
        "import matplotlib.pyplot as plt\n",
        "\n",
        "# Perform UMAP\n",
        "umap_model = umap.UMAP()\n",
        "embedded_features_umap = umap_model.fit_transform(features_for_test)\n",
        "\n",
        "# subsampled_data = embedded_features_umap[:100]  # Adjust the number based on your preferences\n",
        "# subsampled_label = labels_minus_one_test[:100]\n",
        "\n"
      ]
    },
    {
      "cell_type": "code",
      "execution_count": null,
      "metadata": {
        "colab": {
          "base_uri": "https://localhost:8080/",
          "height": 867
        },
        "id": "P-2rkThpx4J1",
        "outputId": "d2bdb21d-3df9-41e9-8855-885172e3e800"
      },
      "outputs": [
        {
          "data": {
            "image/png": "[encoded data removed]",
            "text/plain": [
              "<Figure size 1000x800 with 2 Axes>"
            ]
          },
          "metadata": {},
          "output_type": "display_data"
        }
      ],
      "source": [
        "\n",
        "# # Visualize with seaborn heatmap\n",
        "# df_umap = pd.DataFrame({'UMAP Dimension 1': subsampled_data[:, 0], 'UMAP Dimension 2': subsampled_data[:, 1], 'Class': subsampled_label})\n",
        "\n",
        "# plt.figure(figsize=(10, 8))\n",
        "# heatmap_data_umap = pd.pivot_table(df_umap, values='Class', index='UMAP Dimension 1', columns='UMAP Dimension 2', aggfunc='count', fill_value=0)\n",
        "# sns.heatmap(heatmap_data_umap, cmap='viridis', annot=True, fmt='d', cbar_kws={'label': 'Number of Points'})\n",
        "# plt.title(\"Density Map of Discrimination Power (UMAP)\")\n",
        "# plt.xlabel(\"UMAP Dimension 1\")\n",
        "# plt.ylabel(\"UMAP Dimension 2\")\n",
        "# plt.show()\n"
      ]
    },
    {
      "cell_type": "code",
      "execution_count": null,
      "metadata": {
        "id": "Nw3iN4vXxFUE"
      },
      "outputs": [],
      "source": [
        "import seaborn as sns\n",
        "import matplotlib.pyplot as plt\n",
        "import numpy as np\n",
        "import pandas as pd\n",
        "\n",
        "# Your subsampled data and labels\n",
        "\n",
        "subsampled_data = embedded_features_umap[:500]  # Adjust the number based on your preferences\n",
        "subsampled_label = labels_minus_one_test[:500]\n",
        "\n",
        "# Create a DataFrame with embedded features and true labels\n",
        "df_umap = pd.DataFrame({'UMAP Dimension 1': subsampled_data[:, 0], 'UMAP Dimension 2': subsampled_data[:, 1], 'Class': subsampled_label})\n",
        "\n",
        "# Create a custom color palette based on class labels\n",
        "class_palette = sns.color_palette(\"hsv\", len(np.unique(subsampled_label)))\n",
        "\n",
        "# Set the style to have a white background\n",
        "sns.set_style(\"white\")\n",
        "\n",
        "# Create a heatmap\n",
        "plt.figure(figsize=(500, 400))\n",
        "heatmap_data_umap = pd.pivot_table(df_umap, values='Class', index='UMAP Dimension 1', columns='UMAP Dimension 2', aggfunc='count', fill_value=0)\n",
        "sns.heatmap(heatmap_data_umap, annot=True, fmt='d', cbar_kws={'label': 'Number of Points'}, linewidths=.5, square=True, cbar=True, xticklabels=True, yticklabels=True, annot_kws={'size': 10}, cmap=class_palette)\n",
        "plt.title(\"Density Map of Discrimination Power (UMAP)\")\n",
        "plt.xlabel(\"UMAP Dimension 1\", color='black')  # Set the color of the x-axis label\n",
        "plt.ylabel(\"UMAP Dimension 2\", color='black')  # Set the color of the y-axis label\n",
        "plt.show()\n"
      ]
    },
    {
      "cell_type": "code",
      "execution_count": null,
      "metadata": {
        "id": "DWuDr6Q5xFNL"
      },
      "outputs": [],
      "source": [
        "import seaborn as sns\n",
        "import matplotlib.pyplot as plt\n",
        "import numpy as np\n",
        "import pandas as pd\n",
        "import numpy as np\n",
        "\n",
        "# Combine embedded features and labels\n",
        "combined_data = np.column_stack((embedded_features_umap, labels_minus_one_test))\n",
        "\n",
        "# Shuffle the combined data along the first axis\n",
        "np.random.shuffle(combined_data)\n",
        "\n",
        "# Split the shuffled data back into embedded features and labels\n",
        "shuffled_features_umap = combined_data[:, :-1][:500]\n",
        "shuffled_labels = combined_data[:, -1][:500]\n",
        "\n",
        "# Now, you can use shuffled_features_umap and shuffled_labels as your shuffled data\n",
        "\n",
        "# Your subsampled data and labels\n",
        "# subsampled_data = embedded_features_umap[:500]\n",
        "# subsampled_label = labels_minus_one_test[:500]\n",
        "\n",
        "# Create a DataFrame with embedded features and true labels\n",
        "df_umap = pd.DataFrame({'UMAP Dimension 1': subsampled_data[:, 0], 'UMAP Dimension 2': subsampled_data[:, 1], 'Class': subsampled_label})\n",
        "\n",
        "# Create a custom color palette based on class labels\n",
        "class_palette = sns.color_palette(\"hsv\", len(np.unique(subsampled_label)))\n",
        "\n",
        "# Set the style to have a white background\n",
        "sns.set_style(\"white\")\n",
        "\n",
        "# Create a heatmap\n",
        "plt.figure(figsize=(100, 80))\n",
        "heatmap_data_umap = pd.pivot_table(df_umap, values='Class', index='UMAP Dimension 1', columns='UMAP Dimension 2', aggfunc='count', fill_value=0)\n",
        "ax = sns.heatmap(heatmap_data_umap, annot=True, fmt='d', cbar_kws={'label': 'Number of Points'}, linewidths=.5, square=True, cbar=True, xticklabels=10, yticklabels=10, annot_kws={'size': 10}, cmap=class_palette)\n",
        "ax.set_xticklabels(np.arange(-10, 30, 10))  # Customize x-axis labels\n",
        "ax.set_yticklabels(np.arange(-10, 30, 10))  # Customize y-axis labels\n",
        "plt.title(\"Density Map of Discrimination Power (UMAP)\")\n",
        "plt.xlabel(\"UMAP Dimension 1\", color='black')  # Set the color of the x-axis label\n",
        "plt.ylabel(\"UMAP Dimension 2\", color='black')  # Set the color of the y-axis label\n",
        "plt.show()\n"
      ]
    },
    {
      "cell_type": "code",
      "execution_count": null,
      "metadata": {
        "id": "9DKBnPv5A4fg"
      },
      "outputs": [],
      "source": [
        "subsampled_label"
      ]
    },
    {
      "cell_type": "code",
      "execution_count": null,
      "metadata": {
        "id": "bCnOkE76aCYj"
      },
      "outputs": [],
      "source": [
        "import seaborn as sns\n",
        "import matplotlib.pyplot as plt\n",
        "import numpy as np\n",
        "import pandas as pd\n",
        "\n",
        "# Your subsampled data and labels\n",
        "subsampled_data = embedded_features_umap[:500]\n",
        "subsampled_label = labels_minus_one_test[:500]\n",
        "\n",
        "# Create a DataFrame with embedded features and true labels\n",
        "df_umap = pd.DataFrame({'UMAP Dimension 1': subsampled_data[:, 0], 'UMAP Dimension 2': subsampled_data[:, 1], 'Class': subsampled_label})\n",
        "\n",
        "# Create a custom color palette based on class labels\n",
        "class_palette = sns.color_palette(\"hsv\", len(np.unique(subsampled_label)))\n",
        "\n",
        "# Set the style to have a white background\n",
        "sns.set_style(\"white\")\n",
        "\n",
        "# Create a scatterplot\n",
        "plt.figure(figsize=(12, 10))\n",
        "scatterplot = sns.scatterplot(data=df_umap, x='UMAP Dimension 1', y='UMAP Dimension 2', hue='Class', palette=class_palette, s=20)\n",
        "scatterplot.set_title(\"Scatterplot of Discrimination Power (UMAP)\")\n",
        "plt.show()\n"
      ]
    },
    {
      "cell_type": "markdown",
      "metadata": {
        "id": "AOEswrawwRut"
      },
      "source": [
        "# RNN"
      ]
    },
    {
      "cell_type": "code",
      "execution_count": null,
      "metadata": {
        "colab": {
          "base_uri": "https://localhost:8080/"
        },
        "id": "ZL5I2f7qwRRy",
        "outputId": "7e7b8284-08b5-4a3f-fb2d-160d7b6dd3b6"
      },
      "outputs": [
        {
          "name": "stdout",
          "output_type": "stream",
          "text": [
            "Epoch 1/100\n",
            "181/181 [==============================] - 158s 856ms/step - loss: 1.5509 - accuracy: 0.3273 - val_loss: 1.5312 - val_accuracy: 0.3328\n",
            "Epoch 2/100\n",
            "181/181 [==============================] - 172s 952ms/step - loss: 1.5319 - accuracy: 0.3328 - val_loss: 1.5318 - val_accuracy: 0.3328\n",
            "Epoch 3/100\n",
            "181/181 [==============================] - 150s 828ms/step - loss: 1.5321 - accuracy: 0.3328 - val_loss: 1.5310 - val_accuracy: 0.3328\n",
            "Epoch 4/100\n",
            "181/181 [==============================] - 160s 886ms/step - loss: 1.5314 - accuracy: 0.3328 - val_loss: 1.5316 - val_accuracy: 0.3328\n",
            "Epoch 5/100\n",
            "181/181 [==============================] - 150s 828ms/step - loss: 1.5316 - accuracy: 0.3328 - val_loss: 1.5307 - val_accuracy: 0.3328\n",
            "Epoch 6/100\n",
            "181/181 [==============================] - 161s 890ms/step - loss: 1.5315 - accuracy: 0.3328 - val_loss: 1.5307 - val_accuracy: 0.3328\n",
            "Epoch 7/100\n",
            "181/181 [==============================] - 161s 892ms/step - loss: 1.5318 - accuracy: 0.3328 - val_loss: 1.5311 - val_accuracy: 0.3328\n",
            "Epoch 8/100\n",
            "181/181 [==============================] - 160s 888ms/step - loss: 1.5314 - accuracy: 0.3328 - val_loss: 1.5311 - val_accuracy: 0.3328\n",
            "Epoch 9/100\n",
            "181/181 [==============================] - 160s 888ms/step - loss: 1.5314 - accuracy: 0.3328 - val_loss: 1.5310 - val_accuracy: 0.3328\n",
            "Epoch 10/100\n",
            "181/181 [==============================] - 160s 884ms/step - loss: 1.5315 - accuracy: 0.3328 - val_loss: 1.5309 - val_accuracy: 0.3328\n",
            "91/91 [==============================] - 16s 168ms/step\n",
            "RNN Confusion Matrix:\n",
            "[[  0   0   0   0 633]\n",
            " [  0   0   0   0 299]\n",
            " [  0   0   0   0 385]\n",
            " [  0   0   0   0 610]\n",
            " [  0   0   0   0 961]]\n",
            "\n",
            "RNN Classification Report:\n",
            "              precision    recall  f1-score   support\n",
            "\n",
            "           0       0.00      0.00      0.00       633\n",
            "           1       0.00      0.00      0.00       299\n",
            "           2       0.00      0.00      0.00       385\n",
            "           3       0.00      0.00      0.00       610\n",
            "           4       0.33      1.00      0.50       961\n",
            "\n",
            "    accuracy                           0.33      2888\n",
            "   macro avg       0.07      0.20      0.10      2888\n",
            "weighted avg       0.11      0.33      0.17      2888\n",
            "\n"
          ]
        },
        {
          "name": "stderr",
          "output_type": "stream",
          "text": [
            "/usr/local/lib/python3.10/dist-packages/sklearn/metrics/_classification.py:1344: UndefinedMetricWarning: Precision and F-score are ill-defined and being set to 0.0 in labels with no predicted samples. Use `zero_division` parameter to control this behavior.\n",
            "  _warn_prf(average, modifier, msg_start, len(result))\n",
            "/usr/local/lib/python3.10/dist-packages/sklearn/metrics/_classification.py:1344: UndefinedMetricWarning: Precision and F-score are ill-defined and being set to 0.0 in labels with no predicted samples. Use `zero_division` parameter to control this behavior.\n",
            "  _warn_prf(average, modifier, msg_start, len(result))\n",
            "/usr/local/lib/python3.10/dist-packages/sklearn/metrics/_classification.py:1344: UndefinedMetricWarning: Precision and F-score are ill-defined and being set to 0.0 in labels with no predicted samples. Use `zero_division` parameter to control this behavior.\n",
            "  _warn_prf(average, modifier, msg_start, len(result))\n"
          ]
        }
      ],
      "source": [
        "import tensorflow as tf\n",
        "from tensorflow.keras.models import Sequential\n",
        "from tensorflow.keras.layers import Embedding, LSTM, Dense\n",
        "from tensorflow.keras.optimizers import Adam\n",
        "from tensorflow.keras.callbacks import EarlyStopping\n",
        "\n",
        "import numpy as np\n",
        "from sklearn.metrics import confusion_matrix, classification_report\n",
        "\n",
        "# Define the RNN model\n",
        "embedding_dim = 50\n",
        "units_lstm = 128\n",
        "\n",
        "rnn_model = Sequential()\n",
        "rnn_model.add(Embedding(input_dim=len(tokenizer.word_index) + 1, output_dim=embedding_dim, input_length=max_length))\n",
        "rnn_model.add(LSTM(units=units_lstm, activation='tanh'))\n",
        "rnn_model.add(Dense(units=num_classes, activation='softmax'))\n",
        "\n",
        "# Compile the model\n",
        "custom_optimizer = Adam(learning_rate=0.0001)\n",
        "rnn_model.compile(optimizer=custom_optimizer, loss='categorical_crossentropy', metrics=['accuracy'])\n",
        "\n",
        "# Define early stopping callback\n",
        "early_stopping = EarlyStopping(monitor='val_loss', patience=5, restore_best_weights=True)\n",
        "\n",
        "# Train the model with early stopping\n",
        "rnn_model.fit(\n",
        "    padded_train,\n",
        "    labels_train_one_hot,\n",
        "    epochs=100,\n",
        "    batch_size=64,\n",
        "    validation_data=(padded_test, labels_test_one_hot),\n",
        "    callbacks=[early_stopping]\n",
        ")\n",
        "\n",
        "# Evaluate the model on test data\n",
        "rnn_predictions = rnn_model.predict(padded_test)\n",
        "rnn_predicted_labels = np.argmax(rnn_predictions, axis=1)\n",
        "rnn_true_labels = np.argmax(labels_test_one_hot, axis=1)\n",
        "\n",
        "# Print confusion matrix and classification report for RNN\n",
        "rnn_conf_matrix = confusion_matrix(rnn_true_labels, rnn_predicted_labels)\n",
        "rnn_class_report = classification_report(rnn_true_labels, rnn_predicted_labels)\n",
        "\n",
        "print(\"RNN Confusion Matrix:\")\n",
        "print(rnn_conf_matrix)\n",
        "\n",
        "print(\"\\nRNN Classification Report:\")\n",
        "print(rnn_class_report)\n"
      ]
    },
    {
      "cell_type": "markdown",
      "metadata": {
        "id": "P5DO6lTKxLVa"
      },
      "source": [
        "# improved CNN\n"
      ]
    },
    {
      "cell_type": "code",
      "execution_count": null,
      "metadata": {
        "colab": {
          "base_uri": "https://localhost:8080/"
        },
        "id": "5M2XrepmxHUo",
        "outputId": "b4e36ccd-4cd0-46a7-aee4-a4ba92dc9b58"
      },
      "outputs": [
        {
          "name": "stdout",
          "output_type": "stream",
          "text": [
            "Epoch 1/100\n",
            "181/181 [==============================] - 58s 315ms/step - loss: 1.6122 - accuracy: 0.2865 - val_loss: 1.5969 - val_accuracy: 0.3334\n",
            "Epoch 2/100\n",
            "181/181 [==============================] - 56s 307ms/step - loss: 1.4922 - accuracy: 0.3478 - val_loss: 1.5716 - val_accuracy: 0.3366\n",
            "Epoch 3/100\n",
            "181/181 [==============================] - 58s 321ms/step - loss: 1.3919 - accuracy: 0.4175 - val_loss: 1.4936 - val_accuracy: 0.4103\n",
            "Epoch 4/100\n",
            "181/181 [==============================] - 57s 316ms/step - loss: 1.2529 - accuracy: 0.5040 - val_loss: 1.3488 - val_accuracy: 0.4643\n",
            "Epoch 5/100\n",
            "181/181 [==============================] - 57s 313ms/step - loss: 1.1187 - accuracy: 0.5664 - val_loss: 1.2816 - val_accuracy: 0.4616\n",
            "Epoch 6/100\n",
            "181/181 [==============================] - 57s 316ms/step - loss: 1.0146 - accuracy: 0.6210 - val_loss: 1.2607 - val_accuracy: 0.4536\n",
            "Epoch 7/100\n",
            "181/181 [==============================] - 55s 306ms/step - loss: 0.9320 - accuracy: 0.6501 - val_loss: 1.2561 - val_accuracy: 0.4418\n",
            "Epoch 8/100\n",
            "181/181 [==============================] - 57s 317ms/step - loss: 0.8475 - accuracy: 0.6858 - val_loss: 1.2811 - val_accuracy: 0.4314\n",
            "Epoch 9/100\n",
            "181/181 [==============================] - 54s 301ms/step - loss: 0.7780 - accuracy: 0.7126 - val_loss: 1.2894 - val_accuracy: 0.4408\n",
            "Epoch 10/100\n",
            "181/181 [==============================] - 57s 318ms/step - loss: 0.7133 - accuracy: 0.7302 - val_loss: 1.3386 - val_accuracy: 0.4224\n",
            "Epoch 11/100\n",
            "181/181 [==============================] - 54s 300ms/step - loss: 0.6698 - accuracy: 0.7463 - val_loss: 1.3733 - val_accuracy: 0.4304\n",
            "Epoch 12/100\n",
            "181/181 [==============================] - 57s 318ms/step - loss: 0.6394 - accuracy: 0.7521 - val_loss: 1.4307 - val_accuracy: 0.4155\n",
            "91/91 [==============================] - 3s 32ms/step\n",
            "CNN Confusion Matrix:\n",
            "[[395   8  16  16 198]\n",
            " [ 33   9   3  19 235]\n",
            " [ 34   5  51  32 263]\n",
            " [ 12   1  15 347 235]\n",
            " [135  64  86 202 474]]\n",
            "\n",
            "CNN Classification Report:\n",
            "              precision    recall  f1-score   support\n",
            "\n",
            "           0       0.65      0.62      0.64       633\n",
            "           1       0.10      0.03      0.05       299\n",
            "           2       0.30      0.13      0.18       385\n",
            "           3       0.56      0.57      0.57       610\n",
            "           4       0.34      0.49      0.40       961\n",
            "\n",
            "    accuracy                           0.44      2888\n",
            "   macro avg       0.39      0.37      0.37      2888\n",
            "weighted avg       0.42      0.44      0.42      2888\n",
            "\n"
          ]
        }
      ],
      "source": [
        "\n",
        "import tensorflow as tf\n",
        "from tensorflow.keras.models import Sequential\n",
        "from tensorflow.keras.layers import Embedding, Conv1D, GlobalMaxPooling1D, Dense, Dropout, BatchNormalization\n",
        "from tensorflow.keras.optimizers import Adam\n",
        "from tensorflow.keras.callbacks import EarlyStopping\n",
        "\n",
        "import numpy as np\n",
        "from sklearn.metrics import confusion_matrix, classification_report\n",
        "\n",
        "# Define the CNN model with suggested improvements\n",
        "embedding_dim = 50  # Adjusted embedding dimension\n",
        "filters = 128\n",
        "kernel_size = 3  # Adjusted kernel size\n",
        "units_dense = 64  # Adjusted dense layer units\n",
        "dropout_rate = 0.5  # Added dropout layer with a dropout rate\n",
        "learning_rate = 0.0001  # Adjusted learning rate\n",
        "\n",
        "cnn_model = Sequential()\n",
        "cnn_model.add(Embedding(input_dim=len(tokenizer.word_index) + 1, output_dim=embedding_dim, input_length=max_length))\n",
        "cnn_model.add(Conv1D(filters=filters, kernel_size=kernel_size, activation='relu'))\n",
        "cnn_model.add(BatchNormalization())  # Added Batch Normalization\n",
        "cnn_model.add(Conv1D(filters=filters, kernel_size=kernel_size, activation='relu'))\n",
        "cnn_model.add(GlobalMaxPooling1D())\n",
        "cnn_model.add(Dense(units=units_dense, activation='relu'))\n",
        "cnn_model.add(Dropout(dropout_rate))  # Added Dropout layer\n",
        "cnn_model.add(Dense(units=num_classes, activation='softmax'))\n",
        "\n",
        "# Compile the model\n",
        "custom_optimizer = Adam(learning_rate=learning_rate)\n",
        "cnn_model.compile(optimizer=custom_optimizer, loss='categorical_crossentropy', metrics=['accuracy'])\n",
        "\n",
        "# Define early stopping callback\n",
        "early_stopping = EarlyStopping(monitor='val_loss', patience=5, restore_best_weights=True)\n",
        "\n",
        "# Train the model with early stopping\n",
        "cnn_model.fit(\n",
        "    padded_train,\n",
        "    labels_train_one_hot,\n",
        "    epochs=100,\n",
        "    batch_size=64,\n",
        "    validation_data=(padded_test, labels_test_one_hot),\n",
        "    callbacks=[early_stopping]\n",
        ")\n",
        "\n",
        "# Evaluate the model on test data\n",
        "cnn_predictions = cnn_model.predict(padded_test)\n",
        "cnn_predicted_labels = np.argmax(cnn_predictions, axis=1)\n",
        "cnn_true_labels = np.argmax(labels_test_one_hot, axis=1)\n",
        "\n",
        "# Print confusion matrix and classification report for CNN\n",
        "cnn_conf_matrix = confusion_matrix(cnn_true_labels, cnn_predicted_labels)\n",
        "cnn_class_report = classification_report(cnn_true_labels, cnn_predicted_labels)\n",
        "\n",
        "print(\"CNN Confusion Matrix:\")\n",
        "print(cnn_conf_matrix)\n",
        "\n",
        "print(\"\\nCNN Classification Report:\")\n",
        "print(cnn_class_report)\n"
      ]
    },
    {
      "cell_type": "markdown",
      "metadata": {
        "id": "ANTCZnOsaK4r"
      },
      "source": [
        "#ML"
      ]
    },
    {
      "cell_type": "code",
      "execution_count": null,
      "metadata": {
        "colab": {
          "base_uri": "https://localhost:8080/"
        },
        "id": "dgeJJ6RTl_jQ",
        "outputId": "1b485730-1f4f-44af-b30e-c7f55d16bf22"
      },
      "outputs": [
        {
          "name": "stderr",
          "output_type": "stream",
          "text": [
            "[nltk_data] Downloading package punkt to /root/nltk_data...\n",
            "[nltk_data]   Package punkt is already up-to-date!\n",
            "[nltk_data] Downloading package stopwords to /root/nltk_data...\n",
            "[nltk_data]   Package stopwords is already up-to-date!\n"
          ]
        },
        {
          "name": "stdout",
          "output_type": "stream",
          "text": [
            "Accuracy: 0.24\n",
            "              precision    recall  f1-score   support\n",
            "\n",
            "           0       0.22      0.25      0.24       633\n",
            "           1       0.10      0.09      0.09       299\n",
            "           2       0.15      0.11      0.13       385\n",
            "           3       0.20      0.21      0.20       610\n",
            "           4       0.35      0.35      0.35       961\n",
            "\n",
            "    accuracy                           0.24      2888\n",
            "   macro avg       0.20      0.20      0.20      2888\n",
            "weighted avg       0.23      0.24      0.24      2888\n",
            "\n"
          ]
        }
      ],
      "source": [
        "# prompt:\n",
        "\n",
        "#%% Imports\n",
        "import pandas as pd\n",
        "\n",
        "from sklearn.gaussian_process import GaussianProcessClassifier\n",
        "from sklearn.ensemble import IsolationForest\n",
        "from sklearn.ensemble import HistGradientBoostingClassifier\n",
        "from sklearn.ensemble import VotingClassifier, StackingClassifier\n",
        "from sklearn.gaussian_process import GaussianProcessClassifier\n",
        "from sklearn.cluster import DBSCAN, KMeans\n",
        "from sklearn.svm import OneClassSVM\n",
        "from sklearn.ensemble import HistGradientBoostingClassifier\n",
        "from sklearn.experimental import enable_hist_gradient_boosting  # noqa\n",
        "from sklearn.ensemble import HistGradientBoostingClassifier\n",
        "from sklearn.ensemble import GradientBoostingClassifier\n",
        "from sklearn.model_selection import train_test_split\n",
        "from sklearn.preprocessing import StandardScaler\n",
        "from sklearn.svm import SVC, NuSVC, LinearSVC\n",
        "from sklearn.ensemble import RandomForestClassifier, GradientBoostingClassifier, AdaBoostClassifier, ExtraTreesClassifier, BaggingClassifier, IsolationForest, VotingClassifier, StackingClassifier\n",
        "from sklearn.linear_model import LogisticRegression, RidgeClassifier, SGDClassifier, PassiveAggressiveClassifier, Perceptron, Lasso, HuberRegressor, ElasticNet, BayesianRidge\n",
        "from sklearn.neighbors import KNeighborsClassifier, RadiusNeighborsClassifier\n",
        "from sklearn.naive_bayes import GaussianNB, BernoulliNB, MultinomialNB, ComplementNB\n",
        "from sklearn.neural_network import MLPClassifier\n",
        "from sklearn.tree import DecisionTreeClassifier, ExtraTreeClassifier\n",
        "from sklearn.ensemble import HistGradientBoostingClassifier\n",
        "from xgboost import XGBClassifier\n",
        "from lightgbm import LGBMClassifier\n",
        "# from catboost import CatBoostClassifier\n",
        "from sklearn.discriminant_analysis import LinearDiscriminantAnalysis, QuadraticDiscriminantAnalysis\n",
        "from sklearn.gaussian_process import GaussianProcessClassifier\n",
        "from sklearn.svm import OneClassSVM\n",
        "from sklearn.cluster import DBSCAN, KMeans\n",
        "from sklearn.svm import SVR, NuSVR, LinearSVR\n",
        "from sklearn.ensemble import RandomForestRegressor, GradientBoostingRegressor, AdaBoostRegressor, ExtraTreesRegressor, BaggingRegressor, VotingRegressor, StackingRegressor\n",
        "from sklearn.linear_model import LinearRegression, Ridge, Lasso, ElasticNet, BayesianRidge, HuberRegressor\n",
        "from sklearn.neighbors import KNeighborsRegressor, RadiusNeighborsRegressor\n",
        "from sklearn.tree import DecisionTreeRegressor, ExtraTreeRegressor\n",
        "from sklearn.ensemble import HistGradientBoostingRegressor\n",
        "from xgboost import XGBRegressor\n",
        "from lightgbm import LGBMRegressor\n",
        "# from catboost import CatBoostRegressor\n",
        "from sklearn.gaussian_process import GaussianProcessRegressor\n",
        "from sklearn.preprocessing import MinMaxScaler\n",
        "\n",
        "from sklearn.model_selection import train_test_split\n",
        "from sklearn.feature_extraction.text import TfidfVectorizer\n",
        "from sklearn.naive_bayes import MultinomialNB\n",
        "from sklearn.metrics import accuracy_score, classification_report\n",
        "from sklearn.preprocessing import LabelEncoder\n",
        "from sklearn.pipeline import make_pipeline\n",
        "import pandas as pd\n",
        "from sklearn.model_selection import train_test_split\n",
        "from sklearn.feature_extraction.text import TfidfVectorizer\n",
        "from sklearn.svm import SVC\n",
        "from sklearn.ensemble import RandomForestClassifier\n",
        "from sklearn.metrics import accuracy_score, classification_report\n",
        "from sklearn.preprocessing import LabelEncoder\n",
        "from sklearn.pipeline import make_pipeline\n",
        "import re\n",
        "import nltk\n",
        "from nltk.corpus import stopwords\n",
        "from nltk.stem import PorterStemmer\n",
        "from nltk.tokenize import word_tokenize\n",
        "import numpy as np\n",
        "#%% Preprocessing\n",
        "nltk.data.path.append(r\"D:/Medical-Abstracts-TC-Corpus-main\")  # Use raw string or double backslashes\n",
        "\n",
        "# Load your data from CSV file\n",
        "file_path =\"/content/drive/MyDrive/Medical-Abstracts-TC-Corpus-main/medical_tc_train.csv\"\n",
        "train_data = pd.read_csv(file_path)\n",
        "\n",
        "test_file_path =\"/content/drive/MyDrive/Medical-Abstracts-TC-Corpus-main/medical_tc_test.csv\"\n",
        "test_data = pd.read_csv(test_file_path)\n",
        "\n",
        "\n",
        "# Download NLTK resources (if not already downloaded)\n",
        "nltk.download('punkt')\n",
        "nltk.download('stopwords')\n",
        "\n",
        "def preprocess_text(text):\n",
        "    # Convert to lowercase\n",
        "    text = text.lower()\n",
        "\n",
        "    # Remove punctuation and numbers\n",
        "    text = re.sub(r'[^a-z\\s]', '', text)\n",
        "\n",
        "    # Tokenization\n",
        "    tokens = word_tokenize(text)\n",
        "\n",
        "    # Remove stopwords\n",
        "    stop_words = set(stopwords.words('english'))\n",
        "    tokens = [token for token in tokens if token not in stop_words]\n",
        "\n",
        "    # Stemming\n",
        "    stemmer = PorterStemmer()\n",
        "    tokens = [stemmer.stem(token) for token in tokens]\n",
        "\n",
        "    # Reassemble the processed text\n",
        "    processed_text = ' '.join(tokens)\n",
        "\n",
        "    return processed_text\n",
        "\n",
        "# Apply preprocessing to the 'text' column\n",
        "train_data['medical_abstract'] = train_data['medical_abstract'].apply(preprocess_text)\n",
        "test_data['medical_abstract'] = train_data['medical_abstract'].apply(preprocess_text)\n",
        "\n",
        "\n",
        "# Encode labels\n",
        "label_encoder = LabelEncoder()\n",
        "train_data['condition_label'] = label_encoder.fit_transform(train_data['condition_label'])\n",
        "test_data['condition_label'] = label_encoder.fit_transform(test_data['condition_label'])\n",
        "\n",
        "#%% train model\n",
        "\n",
        "# Build a classification pipeline with TF-IDF vectorizer and ML classifier\n",
        "classifier = make_pipeline(TfidfVectorizer(stop_words='english'), RandomForestClassifier())\n",
        "\n",
        "# Train the classifier\n",
        "classifier.fit(train_data['medical_abstract'], train_data['condition_label'])\n",
        "#%% test\n",
        "# Make predictions on the test set\n",
        "predictions = classifier.predict(test_data['medical_abstract'].apply(preprocess_text))\n",
        "\n",
        "true_labels = test_data['condition_label'].values\n",
        "\n",
        "# Evaluate the performance\n",
        "accuracy = accuracy_score(true_labels, predictions)\n",
        "print(f'Accuracy: {accuracy:.2f}')\n",
        "\n",
        "# Print classification report\n",
        "print(classification_report(true_labels, predictions))\n",
        "\n"
      ]
    },
    {
      "cell_type": "markdown",
      "source": [
        "# BERT"
      ],
      "metadata": {
        "id": "42nfp9XqjJ_w"
      }
    },
    {
      "cell_type": "code",
      "source": [
        "import pandas as pd"
      ],
      "metadata": {
        "id": "pTYBnykIppAP"
      },
      "execution_count": 51,
      "outputs": []
    },
    {
      "cell_type": "code",
      "source": [
        "!pip install tensorflow_text\n",
        "!pip install tensorflow_hub\n",
        "import tensorflow as tf\n",
        "import tensorflow_hub as hub\n",
        "import tensorflow_text as text\n",
        "df = pd.read_csv(\"/content/drive/MyDrive/Medical-Abstracts-TC-Corpus-main/medical_tc_train.csv\")\n",
        "df.head(5)"
      ],
      "metadata": {
        "colab": {
          "base_uri": "https://localhost:8080/",
          "height": 1000
        },
        "id": "rFoyPqYOjJSC",
        "outputId": "0655574f-732a-4783-84ab-ae7f811d400f"
      },
      "execution_count": 52,
      "outputs": [
        {
          "output_type": "stream",
          "name": "stdout",
          "text": [
            "Requirement already satisfied: tensorflow_text in /usr/local/lib/python3.10/dist-packages (2.15.0)\n",
            "Requirement already satisfied: tensorflow-hub>=0.13.0 in /usr/local/lib/python3.10/dist-packages (from tensorflow_text) (0.16.1)\n",
            "Requirement already satisfied: tensorflow<2.16,>=2.15.0 in /usr/local/lib/python3.10/dist-packages (from tensorflow_text) (2.15.0)\n",
            "Requirement already satisfied: absl-py>=1.0.0 in /usr/local/lib/python3.10/dist-packages (from tensorflow<2.16,>=2.15.0->tensorflow_text) (1.4.0)\n",
            "Requirement already satisfied: astunparse>=1.6.0 in /usr/local/lib/python3.10/dist-packages (from tensorflow<2.16,>=2.15.0->tensorflow_text) (1.6.3)\n",
            "Requirement already satisfied: flatbuffers>=23.5.26 in /usr/local/lib/python3.10/dist-packages (from tensorflow<2.16,>=2.15.0->tensorflow_text) (23.5.26)\n",
            "Requirement already satisfied: gast!=0.5.0,!=0.5.1,!=0.5.2,>=0.2.1 in /usr/local/lib/python3.10/dist-packages (from tensorflow<2.16,>=2.15.0->tensorflow_text) (0.5.4)\n",
            "Requirement already satisfied: google-pasta>=0.1.1 in /usr/local/lib/python3.10/dist-packages (from tensorflow<2.16,>=2.15.0->tensorflow_text) (0.2.0)\n",
            "Requirement already satisfied: h5py>=2.9.0 in /usr/local/lib/python3.10/dist-packages (from tensorflow<2.16,>=2.15.0->tensorflow_text) (3.9.0)\n",
            "Requirement already satisfied: libclang>=13.0.0 in /usr/local/lib/python3.10/dist-packages (from tensorflow<2.16,>=2.15.0->tensorflow_text) (16.0.6)\n",
            "Requirement already satisfied: ml-dtypes~=0.2.0 in /usr/local/lib/python3.10/dist-packages (from tensorflow<2.16,>=2.15.0->tensorflow_text) (0.2.0)\n",
            "Requirement already satisfied: numpy<2.0.0,>=1.23.5 in /usr/local/lib/python3.10/dist-packages (from tensorflow<2.16,>=2.15.0->tensorflow_text) (1.23.5)\n",
            "Requirement already satisfied: opt-einsum>=2.3.2 in /usr/local/lib/python3.10/dist-packages (from tensorflow<2.16,>=2.15.0->tensorflow_text) (3.3.0)\n",
            "Requirement already satisfied: packaging in /usr/local/lib/python3.10/dist-packages (from tensorflow<2.16,>=2.15.0->tensorflow_text) (23.2)\n",
            "Requirement already satisfied: protobuf!=4.21.0,!=4.21.1,!=4.21.2,!=4.21.3,!=4.21.4,!=4.21.5,<5.0.0dev,>=3.20.3 in /usr/local/lib/python3.10/dist-packages (from tensorflow<2.16,>=2.15.0->tensorflow_text) (3.20.3)\n",
            "Requirement already satisfied: setuptools in /usr/local/lib/python3.10/dist-packages (from tensorflow<2.16,>=2.15.0->tensorflow_text) (67.7.2)\n",
            "Requirement already satisfied: six>=1.12.0 in /usr/local/lib/python3.10/dist-packages (from tensorflow<2.16,>=2.15.0->tensorflow_text) (1.16.0)\n",
            "Requirement already satisfied: termcolor>=1.1.0 in /usr/local/lib/python3.10/dist-packages (from tensorflow<2.16,>=2.15.0->tensorflow_text) (2.4.0)\n",
            "Requirement already satisfied: typing-extensions>=3.6.6 in /usr/local/lib/python3.10/dist-packages (from tensorflow<2.16,>=2.15.0->tensorflow_text) (4.5.0)\n",
            "Requirement already satisfied: wrapt<1.15,>=1.11.0 in /usr/local/lib/python3.10/dist-packages (from tensorflow<2.16,>=2.15.0->tensorflow_text) (1.14.1)\n",
            "Requirement already satisfied: tensorflow-io-gcs-filesystem>=0.23.1 in /usr/local/lib/python3.10/dist-packages (from tensorflow<2.16,>=2.15.0->tensorflow_text) (0.35.0)\n",
            "Requirement already satisfied: grpcio<2.0,>=1.24.3 in /usr/local/lib/python3.10/dist-packages (from tensorflow<2.16,>=2.15.0->tensorflow_text) (1.60.0)\n",
            "Requirement already satisfied: tensorboard<2.16,>=2.15 in /usr/local/lib/python3.10/dist-packages (from tensorflow<2.16,>=2.15.0->tensorflow_text) (2.15.1)\n",
            "Requirement already satisfied: tensorflow-estimator<2.16,>=2.15.0 in /usr/local/lib/python3.10/dist-packages (from tensorflow<2.16,>=2.15.0->tensorflow_text) (2.15.0)\n",
            "Requirement already satisfied: keras<2.16,>=2.15.0 in /usr/local/lib/python3.10/dist-packages (from tensorflow<2.16,>=2.15.0->tensorflow_text) (2.15.0)\n",
            "Requirement already satisfied: tf-keras>=2.14.1 in /usr/local/lib/python3.10/dist-packages (from tensorflow-hub>=0.13.0->tensorflow_text) (2.15.0)\n",
            "Requirement already satisfied: wheel<1.0,>=0.23.0 in /usr/local/lib/python3.10/dist-packages (from astunparse>=1.6.0->tensorflow<2.16,>=2.15.0->tensorflow_text) (0.42.0)\n",
            "Requirement already satisfied: google-auth<3,>=1.6.3 in /usr/local/lib/python3.10/dist-packages (from tensorboard<2.16,>=2.15->tensorflow<2.16,>=2.15.0->tensorflow_text) (2.17.3)\n",
            "Requirement already satisfied: google-auth-oauthlib<2,>=0.5 in /usr/local/lib/python3.10/dist-packages (from tensorboard<2.16,>=2.15->tensorflow<2.16,>=2.15.0->tensorflow_text) (1.2.0)\n",
            "Requirement already satisfied: markdown>=2.6.8 in /usr/local/lib/python3.10/dist-packages (from tensorboard<2.16,>=2.15->tensorflow<2.16,>=2.15.0->tensorflow_text) (3.5.2)\n",
            "Requirement already satisfied: requests<3,>=2.21.0 in /usr/local/lib/python3.10/dist-packages (from tensorboard<2.16,>=2.15->tensorflow<2.16,>=2.15.0->tensorflow_text) (2.31.0)\n",
            "Requirement already satisfied: tensorboard-data-server<0.8.0,>=0.7.0 in /usr/local/lib/python3.10/dist-packages (from tensorboard<2.16,>=2.15->tensorflow<2.16,>=2.15.0->tensorflow_text) (0.7.2)\n",
            "Requirement already satisfied: werkzeug>=1.0.1 in /usr/local/lib/python3.10/dist-packages (from tensorboard<2.16,>=2.15->tensorflow<2.16,>=2.15.0->tensorflow_text) (3.0.1)\n",
            "Requirement already satisfied: cachetools<6.0,>=2.0.0 in /usr/local/lib/python3.10/dist-packages (from google-auth<3,>=1.6.3->tensorboard<2.16,>=2.15->tensorflow<2.16,>=2.15.0->tensorflow_text) (5.3.2)\n",
            "Requirement already satisfied: pyasn1-modules>=0.2.1 in /usr/local/lib/python3.10/dist-packages (from google-auth<3,>=1.6.3->tensorboard<2.16,>=2.15->tensorflow<2.16,>=2.15.0->tensorflow_text) (0.3.0)\n",
            "Requirement already satisfied: rsa<5,>=3.1.4 in /usr/local/lib/python3.10/dist-packages (from google-auth<3,>=1.6.3->tensorboard<2.16,>=2.15->tensorflow<2.16,>=2.15.0->tensorflow_text) (4.9)\n",
            "Requirement already satisfied: requests-oauthlib>=0.7.0 in /usr/local/lib/python3.10/dist-packages (from google-auth-oauthlib<2,>=0.5->tensorboard<2.16,>=2.15->tensorflow<2.16,>=2.15.0->tensorflow_text) (1.3.1)\n",
            "Requirement already satisfied: charset-normalizer<4,>=2 in /usr/local/lib/python3.10/dist-packages (from requests<3,>=2.21.0->tensorboard<2.16,>=2.15->tensorflow<2.16,>=2.15.0->tensorflow_text) (3.3.2)\n",
            "Requirement already satisfied: idna<4,>=2.5 in /usr/local/lib/python3.10/dist-packages (from requests<3,>=2.21.0->tensorboard<2.16,>=2.15->tensorflow<2.16,>=2.15.0->tensorflow_text) (3.6)\n",
            "Requirement already satisfied: urllib3<3,>=1.21.1 in /usr/local/lib/python3.10/dist-packages (from requests<3,>=2.21.0->tensorboard<2.16,>=2.15->tensorflow<2.16,>=2.15.0->tensorflow_text) (2.0.7)\n",
            "Requirement already satisfied: certifi>=2017.4.17 in /usr/local/lib/python3.10/dist-packages (from requests<3,>=2.21.0->tensorboard<2.16,>=2.15->tensorflow<2.16,>=2.15.0->tensorflow_text) (2023.11.17)\n",
            "Requirement already satisfied: MarkupSafe>=2.1.1 in /usr/local/lib/python3.10/dist-packages (from werkzeug>=1.0.1->tensorboard<2.16,>=2.15->tensorflow<2.16,>=2.15.0->tensorflow_text) (2.1.4)\n",
            "Requirement already satisfied: pyasn1<0.6.0,>=0.4.6 in /usr/local/lib/python3.10/dist-packages (from pyasn1-modules>=0.2.1->google-auth<3,>=1.6.3->tensorboard<2.16,>=2.15->tensorflow<2.16,>=2.15.0->tensorflow_text) (0.5.1)\n",
            "Requirement already satisfied: oauthlib>=3.0.0 in /usr/local/lib/python3.10/dist-packages (from requests-oauthlib>=0.7.0->google-auth-oauthlib<2,>=0.5->tensorboard<2.16,>=2.15->tensorflow<2.16,>=2.15.0->tensorflow_text) (3.2.2)\n",
            "Requirement already satisfied: tensorflow_hub in /usr/local/lib/python3.10/dist-packages (0.16.1)\n",
            "Requirement already satisfied: numpy>=1.12.0 in /usr/local/lib/python3.10/dist-packages (from tensorflow_hub) (1.23.5)\n",
            "Requirement already satisfied: protobuf>=3.19.6 in /usr/local/lib/python3.10/dist-packages (from tensorflow_hub) (3.20.3)\n",
            "Requirement already satisfied: tf-keras>=2.14.1 in /usr/local/lib/python3.10/dist-packages (from tensorflow_hub) (2.15.0)\n"
          ]
        },
        {
          "output_type": "execute_result",
          "data": {
            "text/plain": [
              "   condition_label                                   medical_abstract\n",
              "0                5  Tissue changes around loose prostheses. A cani...\n",
              "1                1  Neuropeptide Y and neuron-specific enolase lev...\n",
              "2                2  Sexually transmitted diseases of the colon, re...\n",
              "3                1  Lipolytic factors associated with murine and h...\n",
              "4                3  Does carotid restenosis predict an increased r..."
            ],
            "text/html": [
              "\n",
              "  <div id=\"df-a8ad288c-22b2-4c63-aedd-f6895116191e\" class=\"colab-df-container\">\n",
              "    <div>\n",
              "<style scoped>\n",
              "    .dataframe tbody tr th:only-of-type {\n",
              "        vertical-align: middle;\n",
              "    }\n",
              "\n",
              "    .dataframe tbody tr th {\n",
              "        vertical-align: top;\n",
              "    }\n",
              "\n",
              "    .dataframe thead th {\n",
              "        text-align: right;\n",
              "    }\n",
              "</style>\n",
              "<table border=\"1\" class=\"dataframe\">\n",
              "  <thead>\n",
              "    <tr style=\"text-align: right;\">\n",
              "      <th></th>\n",
              "      <th>condition_label</th>\n",
              "      <th>medical_abstract</th>\n",
              "    </tr>\n",
              "  </thead>\n",
              "  <tbody>\n",
              "    <tr>\n",
              "      <th>0</th>\n",
              "      <td>5</td>\n",
              "      <td>Tissue changes around loose prostheses. A cani...</td>\n",
              "    </tr>\n",
              "    <tr>\n",
              "      <th>1</th>\n",
              "      <td>1</td>\n",
              "      <td>Neuropeptide Y and neuron-specific enolase lev...</td>\n",
              "    </tr>\n",
              "    <tr>\n",
              "      <th>2</th>\n",
              "      <td>2</td>\n",
              "      <td>Sexually transmitted diseases of the colon, re...</td>\n",
              "    </tr>\n",
              "    <tr>\n",
              "      <th>3</th>\n",
              "      <td>1</td>\n",
              "      <td>Lipolytic factors associated with murine and h...</td>\n",
              "    </tr>\n",
              "    <tr>\n",
              "      <th>4</th>\n",
              "      <td>3</td>\n",
              "      <td>Does carotid restenosis predict an increased r...</td>\n",
              "    </tr>\n",
              "  </tbody>\n",
              "</table>\n",
              "</div>\n",
              "    <div class=\"colab-df-buttons\">\n",
              "\n",
              "  <div class=\"colab-df-container\">\n",
              "    <button class=\"colab-df-convert\" onclick=\"convertToInteractive('df-a8ad288c-22b2-4c63-aedd-f6895116191e')\"\n",
              "            title=\"Convert this dataframe to an interactive table.\"\n",
              "            style=\"display:none;\">\n",
              "\n",
              "  <svg xmlns=\"http://www.w3.org/2000/svg\" height=\"24px\" viewBox=\"0 -960 960 960\">\n",
              "    <path d=\"M120-120v-720h720v720H120Zm60-500h600v-160H180v160Zm220 220h160v-160H400v160Zm0 220h160v-160H400v160ZM180-400h160v-160H180v160Zm440 0h160v-160H620v160ZM180-180h160v-160H180v160Zm440 0h160v-160H620v160Z\"/>\n",
              "  </svg>\n",
              "    </button>\n",
              "\n",
              "  <style>\n",
              "    .colab-df-container {\n",
              "      display:flex;\n",
              "      gap: 12px;\n",
              "    }\n",
              "\n",
              "    .colab-df-convert {\n",
              "      background-color: #E8F0FE;\n",
              "      border: none;\n",
              "      border-radius: 50%;\n",
              "      cursor: pointer;\n",
              "      display: none;\n",
              "      fill: #1967D2;\n",
              "      height: 32px;\n",
              "      padding: 0 0 0 0;\n",
              "      width: 32px;\n",
              "    }\n",
              "\n",
              "    .colab-df-convert:hover {\n",
              "      background-color: #E2EBFA;\n",
              "      box-shadow: 0px 1px 2px rgba(60, 64, 67, 0.3), 0px 1px 3px 1px rgba(60, 64, 67, 0.15);\n",
              "      fill: #174EA6;\n",
              "    }\n",
              "\n",
              "    .colab-df-buttons div {\n",
              "      margin-bottom: 4px;\n",
              "    }\n",
              "\n",
              "    [theme=dark] .colab-df-convert {\n",
              "      background-color: #3B4455;\n",
              "      fill: #D2E3FC;\n",
              "    }\n",
              "\n",
              "    [theme=dark] .colab-df-convert:hover {\n",
              "      background-color: #434B5C;\n",
              "      box-shadow: 0px 1px 3px 1px rgba(0, 0, 0, 0.15);\n",
              "      filter: drop-shadow(0px 1px 2px rgba(0, 0, 0, 0.3));\n",
              "      fill: #FFFFFF;\n",
              "    }\n",
              "  </style>\n",
              "\n",
              "    <script>\n",
              "      const buttonEl =\n",
              "        document.querySelector('#df-a8ad288c-22b2-4c63-aedd-f6895116191e button.colab-df-convert');\n",
              "      buttonEl.style.display =\n",
              "        google.colab.kernel.accessAllowed ? 'block' : 'none';\n",
              "\n",
              "      async function convertToInteractive(key) {\n",
              "        const element = document.querySelector('#df-a8ad288c-22b2-4c63-aedd-f6895116191e');\n",
              "        const dataTable =\n",
              "          await google.colab.kernel.invokeFunction('convertToInteractive',\n",
              "                                                    [key], {});\n",
              "        if (!dataTable) return;\n",
              "\n",
              "        const docLinkHtml = 'Like what you see? Visit the ' +\n",
              "          '<a target=\"_blank\" href=https://colab.research.google.com/notebooks/data_table.ipynb>data table notebook</a>'\n",
              "          + ' to learn more about interactive tables.';\n",
              "        element.innerHTML = '';\n",
              "        dataTable['output_type'] = 'display_data';\n",
              "        await google.colab.output.renderOutput(dataTable, element);\n",
              "        const docLink = document.createElement('div');\n",
              "        docLink.innerHTML = docLinkHtml;\n",
              "        element.appendChild(docLink);\n",
              "      }\n",
              "    </script>\n",
              "  </div>\n",
              "\n",
              "\n",
              "<div id=\"df-db96506b-6962-4ed4-9956-3b16f118f9de\">\n",
              "  <button class=\"colab-df-quickchart\" onclick=\"quickchart('df-db96506b-6962-4ed4-9956-3b16f118f9de')\"\n",
              "            title=\"Suggest charts\"\n",
              "            style=\"display:none;\">\n",
              "\n",
              "<svg xmlns=\"http://www.w3.org/2000/svg\" height=\"24px\"viewBox=\"0 0 24 24\"\n",
              "     width=\"24px\">\n",
              "    <g>\n",
              "        <path d=\"M19 3H5c-1.1 0-2 .9-2 2v14c0 1.1.9 2 2 2h14c1.1 0 2-.9 2-2V5c0-1.1-.9-2-2-2zM9 17H7v-7h2v7zm4 0h-2V7h2v10zm4 0h-2v-4h2v4z\"/>\n",
              "    </g>\n",
              "</svg>\n",
              "  </button>\n",
              "\n",
              "<style>\n",
              "  .colab-df-quickchart {\n",
              "      --bg-color: #E8F0FE;\n",
              "      --fill-color: #1967D2;\n",
              "      --hover-bg-color: #E2EBFA;\n",
              "      --hover-fill-color: #174EA6;\n",
              "      --disabled-fill-color: #AAA;\n",
              "      --disabled-bg-color: #DDD;\n",
              "  }\n",
              "\n",
              "  [theme=dark] .colab-df-quickchart {\n",
              "      --bg-color: #3B4455;\n",
              "      --fill-color: #D2E3FC;\n",
              "      --hover-bg-color: #434B5C;\n",
              "      --hover-fill-color: #FFFFFF;\n",
              "      --disabled-bg-color: #3B4455;\n",
              "      --disabled-fill-color: #666;\n",
              "  }\n",
              "\n",
              "  .colab-df-quickchart {\n",
              "    background-color: var(--bg-color);\n",
              "    border: none;\n",
              "    border-radius: 50%;\n",
              "    cursor: pointer;\n",
              "    display: none;\n",
              "    fill: var(--fill-color);\n",
              "    height: 32px;\n",
              "    padding: 0;\n",
              "    width: 32px;\n",
              "  }\n",
              "\n",
              "  .colab-df-quickchart:hover {\n",
              "    background-color: var(--hover-bg-color);\n",
              "    box-shadow: 0 1px 2px rgba(60, 64, 67, 0.3), 0 1px 3px 1px rgba(60, 64, 67, 0.15);\n",
              "    fill: var(--button-hover-fill-color);\n",
              "  }\n",
              "\n",
              "  .colab-df-quickchart-complete:disabled,\n",
              "  .colab-df-quickchart-complete:disabled:hover {\n",
              "    background-color: var(--disabled-bg-color);\n",
              "    fill: var(--disabled-fill-color);\n",
              "    box-shadow: none;\n",
              "  }\n",
              "\n",
              "  .colab-df-spinner {\n",
              "    border: 2px solid var(--fill-color);\n",
              "    border-color: transparent;\n",
              "    border-bottom-color: var(--fill-color);\n",
              "    animation:\n",
              "      spin 1s steps(1) infinite;\n",
              "  }\n",
              "\n",
              "  @keyframes spin {\n",
              "    0% {\n",
              "      border-color: transparent;\n",
              "      border-bottom-color: var(--fill-color);\n",
              "      border-left-color: var(--fill-color);\n",
              "    }\n",
              "    20% {\n",
              "      border-color: transparent;\n",
              "      border-left-color: var(--fill-color);\n",
              "      border-top-color: var(--fill-color);\n",
              "    }\n",
              "    30% {\n",
              "      border-color: transparent;\n",
              "      border-left-color: var(--fill-color);\n",
              "      border-top-color: var(--fill-color);\n",
              "      border-right-color: var(--fill-color);\n",
              "    }\n",
              "    40% {\n",
              "      border-color: transparent;\n",
              "      border-right-color: var(--fill-color);\n",
              "      border-top-color: var(--fill-color);\n",
              "    }\n",
              "    60% {\n",
              "      border-color: transparent;\n",
              "      border-right-color: var(--fill-color);\n",
              "    }\n",
              "    80% {\n",
              "      border-color: transparent;\n",
              "      border-right-color: var(--fill-color);\n",
              "      border-bottom-color: var(--fill-color);\n",
              "    }\n",
              "    90% {\n",
              "      border-color: transparent;\n",
              "      border-bottom-color: var(--fill-color);\n",
              "    }\n",
              "  }\n",
              "</style>\n",
              "\n",
              "  <script>\n",
              "    async function quickchart(key) {\n",
              "      const quickchartButtonEl =\n",
              "        document.querySelector('#' + key + ' button');\n",
              "      quickchartButtonEl.disabled = true;  // To prevent multiple clicks.\n",
              "      quickchartButtonEl.classList.add('colab-df-spinner');\n",
              "      try {\n",
              "        const charts = await google.colab.kernel.invokeFunction(\n",
              "            'suggestCharts', [key], {});\n",
              "      } catch (error) {\n",
              "        console.error('Error during call to suggestCharts:', error);\n",
              "      }\n",
              "      quickchartButtonEl.classList.remove('colab-df-spinner');\n",
              "      quickchartButtonEl.classList.add('colab-df-quickchart-complete');\n",
              "    }\n",
              "    (() => {\n",
              "      let quickchartButtonEl =\n",
              "        document.querySelector('#df-db96506b-6962-4ed4-9956-3b16f118f9de button');\n",
              "      quickchartButtonEl.style.display =\n",
              "        google.colab.kernel.accessAllowed ? 'block' : 'none';\n",
              "    })();\n",
              "  </script>\n",
              "</div>\n",
              "\n",
              "    </div>\n",
              "  </div>\n"
            ]
          },
          "metadata": {},
          "execution_count": 52
        }
      ]
    },
    {
      "cell_type": "code",
      "source": [
        "df.groupby('condition_label').describe()"
      ],
      "metadata": {
        "id": "HwPhVhg6j1Og",
        "colab": {
          "base_uri": "https://localhost:8080/",
          "height": 269
        },
        "outputId": "6de9f084-cd81-4a18-a388-db666b709759"
      },
      "execution_count": 53,
      "outputs": [
        {
          "output_type": "execute_result",
          "data": {
            "text/plain": [
              "                medical_abstract         \\\n",
              "                           count unique   \n",
              "condition_label                           \n",
              "1                           2530   2530   \n",
              "2                           1195   1195   \n",
              "3                           1540   1540   \n",
              "4                           2441   2441   \n",
              "5                           3844   3844   \n",
              "\n",
              "                                                                         \n",
              "                                                               top freq  \n",
              "condition_label                                                          \n",
              "1                Neuropeptide Y and neuron-specific enolase lev...    1  \n",
              "2                Sexually transmitted diseases of the colon, re...    1  \n",
              "3                Does carotid restenosis predict an increased r...    1  \n",
              "4                Pharmacomechanical thrombolysis and angioplast...    1  \n",
              "5                Tissue changes around loose prostheses. A cani...    1  "
            ],
            "text/html": [
              "\n",
              "  <div id=\"df-20f75fff-9dc7-4697-8414-528d277c05ee\" class=\"colab-df-container\">\n",
              "    <div>\n",
              "<style scoped>\n",
              "    .dataframe tbody tr th:only-of-type {\n",
              "        vertical-align: middle;\n",
              "    }\n",
              "\n",
              "    .dataframe tbody tr th {\n",
              "        vertical-align: top;\n",
              "    }\n",
              "\n",
              "    .dataframe thead tr th {\n",
              "        text-align: left;\n",
              "    }\n",
              "\n",
              "    .dataframe thead tr:last-of-type th {\n",
              "        text-align: right;\n",
              "    }\n",
              "</style>\n",
              "<table border=\"1\" class=\"dataframe\">\n",
              "  <thead>\n",
              "    <tr>\n",
              "      <th></th>\n",
              "      <th colspan=\"4\" halign=\"left\">medical_abstract</th>\n",
              "    </tr>\n",
              "    <tr>\n",
              "      <th></th>\n",
              "      <th>count</th>\n",
              "      <th>unique</th>\n",
              "      <th>top</th>\n",
              "      <th>freq</th>\n",
              "    </tr>\n",
              "    <tr>\n",
              "      <th>condition_label</th>\n",
              "      <th></th>\n",
              "      <th></th>\n",
              "      <th></th>\n",
              "      <th></th>\n",
              "    </tr>\n",
              "  </thead>\n",
              "  <tbody>\n",
              "    <tr>\n",
              "      <th>1</th>\n",
              "      <td>2530</td>\n",
              "      <td>2530</td>\n",
              "      <td>Neuropeptide Y and neuron-specific enolase lev...</td>\n",
              "      <td>1</td>\n",
              "    </tr>\n",
              "    <tr>\n",
              "      <th>2</th>\n",
              "      <td>1195</td>\n",
              "      <td>1195</td>\n",
              "      <td>Sexually transmitted diseases of the colon, re...</td>\n",
              "      <td>1</td>\n",
              "    </tr>\n",
              "    <tr>\n",
              "      <th>3</th>\n",
              "      <td>1540</td>\n",
              "      <td>1540</td>\n",
              "      <td>Does carotid restenosis predict an increased r...</td>\n",
              "      <td>1</td>\n",
              "    </tr>\n",
              "    <tr>\n",
              "      <th>4</th>\n",
              "      <td>2441</td>\n",
              "      <td>2441</td>\n",
              "      <td>Pharmacomechanical thrombolysis and angioplast...</td>\n",
              "      <td>1</td>\n",
              "    </tr>\n",
              "    <tr>\n",
              "      <th>5</th>\n",
              "      <td>3844</td>\n",
              "      <td>3844</td>\n",
              "      <td>Tissue changes around loose prostheses. A cani...</td>\n",
              "      <td>1</td>\n",
              "    </tr>\n",
              "  </tbody>\n",
              "</table>\n",
              "</div>\n",
              "    <div class=\"colab-df-buttons\">\n",
              "\n",
              "  <div class=\"colab-df-container\">\n",
              "    <button class=\"colab-df-convert\" onclick=\"convertToInteractive('df-20f75fff-9dc7-4697-8414-528d277c05ee')\"\n",
              "            title=\"Convert this dataframe to an interactive table.\"\n",
              "            style=\"display:none;\">\n",
              "\n",
              "  <svg xmlns=\"http://www.w3.org/2000/svg\" height=\"24px\" viewBox=\"0 -960 960 960\">\n",
              "    <path d=\"M120-120v-720h720v720H120Zm60-500h600v-160H180v160Zm220 220h160v-160H400v160Zm0 220h160v-160H400v160ZM180-400h160v-160H180v160Zm440 0h160v-160H620v160ZM180-180h160v-160H180v160Zm440 0h160v-160H620v160Z\"/>\n",
              "  </svg>\n",
              "    </button>\n",
              "\n",
              "  <style>\n",
              "    .colab-df-container {\n",
              "      display:flex;\n",
              "      gap: 12px;\n",
              "    }\n",
              "\n",
              "    .colab-df-convert {\n",
              "      background-color: #E8F0FE;\n",
              "      border: none;\n",
              "      border-radius: 50%;\n",
              "      cursor: pointer;\n",
              "      display: none;\n",
              "      fill: #1967D2;\n",
              "      height: 32px;\n",
              "      padding: 0 0 0 0;\n",
              "      width: 32px;\n",
              "    }\n",
              "\n",
              "    .colab-df-convert:hover {\n",
              "      background-color: #E2EBFA;\n",
              "      box-shadow: 0px 1px 2px rgba(60, 64, 67, 0.3), 0px 1px 3px 1px rgba(60, 64, 67, 0.15);\n",
              "      fill: #174EA6;\n",
              "    }\n",
              "\n",
              "    .colab-df-buttons div {\n",
              "      margin-bottom: 4px;\n",
              "    }\n",
              "\n",
              "    [theme=dark] .colab-df-convert {\n",
              "      background-color: #3B4455;\n",
              "      fill: #D2E3FC;\n",
              "    }\n",
              "\n",
              "    [theme=dark] .colab-df-convert:hover {\n",
              "      background-color: #434B5C;\n",
              "      box-shadow: 0px 1px 3px 1px rgba(0, 0, 0, 0.15);\n",
              "      filter: drop-shadow(0px 1px 2px rgba(0, 0, 0, 0.3));\n",
              "      fill: #FFFFFF;\n",
              "    }\n",
              "  </style>\n",
              "\n",
              "    <script>\n",
              "      const buttonEl =\n",
              "        document.querySelector('#df-20f75fff-9dc7-4697-8414-528d277c05ee button.colab-df-convert');\n",
              "      buttonEl.style.display =\n",
              "        google.colab.kernel.accessAllowed ? 'block' : 'none';\n",
              "\n",
              "      async function convertToInteractive(key) {\n",
              "        const element = document.querySelector('#df-20f75fff-9dc7-4697-8414-528d277c05ee');\n",
              "        const dataTable =\n",
              "          await google.colab.kernel.invokeFunction('convertToInteractive',\n",
              "                                                    [key], {});\n",
              "        if (!dataTable) return;\n",
              "\n",
              "        const docLinkHtml = 'Like what you see? Visit the ' +\n",
              "          '<a target=\"_blank\" href=https://colab.research.google.com/notebooks/data_table.ipynb>data table notebook</a>'\n",
              "          + ' to learn more about interactive tables.';\n",
              "        element.innerHTML = '';\n",
              "        dataTable['output_type'] = 'display_data';\n",
              "        await google.colab.output.renderOutput(dataTable, element);\n",
              "        const docLink = document.createElement('div');\n",
              "        docLink.innerHTML = docLinkHtml;\n",
              "        element.appendChild(docLink);\n",
              "      }\n",
              "    </script>\n",
              "  </div>\n",
              "\n",
              "\n",
              "<div id=\"df-6c2eb5b7-93de-4f30-824e-7e880dcd0755\">\n",
              "  <button class=\"colab-df-quickchart\" onclick=\"quickchart('df-6c2eb5b7-93de-4f30-824e-7e880dcd0755')\"\n",
              "            title=\"Suggest charts\"\n",
              "            style=\"display:none;\">\n",
              "\n",
              "<svg xmlns=\"http://www.w3.org/2000/svg\" height=\"24px\"viewBox=\"0 0 24 24\"\n",
              "     width=\"24px\">\n",
              "    <g>\n",
              "        <path d=\"M19 3H5c-1.1 0-2 .9-2 2v14c0 1.1.9 2 2 2h14c1.1 0 2-.9 2-2V5c0-1.1-.9-2-2-2zM9 17H7v-7h2v7zm4 0h-2V7h2v10zm4 0h-2v-4h2v4z\"/>\n",
              "    </g>\n",
              "</svg>\n",
              "  </button>\n",
              "\n",
              "<style>\n",
              "  .colab-df-quickchart {\n",
              "      --bg-color: #E8F0FE;\n",
              "      --fill-color: #1967D2;\n",
              "      --hover-bg-color: #E2EBFA;\n",
              "      --hover-fill-color: #174EA6;\n",
              "      --disabled-fill-color: #AAA;\n",
              "      --disabled-bg-color: #DDD;\n",
              "  }\n",
              "\n",
              "  [theme=dark] .colab-df-quickchart {\n",
              "      --bg-color: #3B4455;\n",
              "      --fill-color: #D2E3FC;\n",
              "      --hover-bg-color: #434B5C;\n",
              "      --hover-fill-color: #FFFFFF;\n",
              "      --disabled-bg-color: #3B4455;\n",
              "      --disabled-fill-color: #666;\n",
              "  }\n",
              "\n",
              "  .colab-df-quickchart {\n",
              "    background-color: var(--bg-color);\n",
              "    border: none;\n",
              "    border-radius: 50%;\n",
              "    cursor: pointer;\n",
              "    display: none;\n",
              "    fill: var(--fill-color);\n",
              "    height: 32px;\n",
              "    padding: 0;\n",
              "    width: 32px;\n",
              "  }\n",
              "\n",
              "  .colab-df-quickchart:hover {\n",
              "    background-color: var(--hover-bg-color);\n",
              "    box-shadow: 0 1px 2px rgba(60, 64, 67, 0.3), 0 1px 3px 1px rgba(60, 64, 67, 0.15);\n",
              "    fill: var(--button-hover-fill-color);\n",
              "  }\n",
              "\n",
              "  .colab-df-quickchart-complete:disabled,\n",
              "  .colab-df-quickchart-complete:disabled:hover {\n",
              "    background-color: var(--disabled-bg-color);\n",
              "    fill: var(--disabled-fill-color);\n",
              "    box-shadow: none;\n",
              "  }\n",
              "\n",
              "  .colab-df-spinner {\n",
              "    border: 2px solid var(--fill-color);\n",
              "    border-color: transparent;\n",
              "    border-bottom-color: var(--fill-color);\n",
              "    animation:\n",
              "      spin 1s steps(1) infinite;\n",
              "  }\n",
              "\n",
              "  @keyframes spin {\n",
              "    0% {\n",
              "      border-color: transparent;\n",
              "      border-bottom-color: var(--fill-color);\n",
              "      border-left-color: var(--fill-color);\n",
              "    }\n",
              "    20% {\n",
              "      border-color: transparent;\n",
              "      border-left-color: var(--fill-color);\n",
              "      border-top-color: var(--fill-color);\n",
              "    }\n",
              "    30% {\n",
              "      border-color: transparent;\n",
              "      border-left-color: var(--fill-color);\n",
              "      border-top-color: var(--fill-color);\n",
              "      border-right-color: var(--fill-color);\n",
              "    }\n",
              "    40% {\n",
              "      border-color: transparent;\n",
              "      border-right-color: var(--fill-color);\n",
              "      border-top-color: var(--fill-color);\n",
              "    }\n",
              "    60% {\n",
              "      border-color: transparent;\n",
              "      border-right-color: var(--fill-color);\n",
              "    }\n",
              "    80% {\n",
              "      border-color: transparent;\n",
              "      border-right-color: var(--fill-color);\n",
              "      border-bottom-color: var(--fill-color);\n",
              "    }\n",
              "    90% {\n",
              "      border-color: transparent;\n",
              "      border-bottom-color: var(--fill-color);\n",
              "    }\n",
              "  }\n",
              "</style>\n",
              "\n",
              "  <script>\n",
              "    async function quickchart(key) {\n",
              "      const quickchartButtonEl =\n",
              "        document.querySelector('#' + key + ' button');\n",
              "      quickchartButtonEl.disabled = true;  // To prevent multiple clicks.\n",
              "      quickchartButtonEl.classList.add('colab-df-spinner');\n",
              "      try {\n",
              "        const charts = await google.colab.kernel.invokeFunction(\n",
              "            'suggestCharts', [key], {});\n",
              "      } catch (error) {\n",
              "        console.error('Error during call to suggestCharts:', error);\n",
              "      }\n",
              "      quickchartButtonEl.classList.remove('colab-df-spinner');\n",
              "      quickchartButtonEl.classList.add('colab-df-quickchart-complete');\n",
              "    }\n",
              "    (() => {\n",
              "      let quickchartButtonEl =\n",
              "        document.querySelector('#df-6c2eb5b7-93de-4f30-824e-7e880dcd0755 button');\n",
              "      quickchartButtonEl.style.display =\n",
              "        google.colab.kernel.accessAllowed ? 'block' : 'none';\n",
              "    })();\n",
              "  </script>\n",
              "</div>\n",
              "\n",
              "    </div>\n",
              "  </div>\n"
            ]
          },
          "metadata": {},
          "execution_count": 53
        }
      ]
    },
    {
      "cell_type": "code",
      "source": [
        "df_test=pd.read_csv(\"/content/drive/MyDrive/Medical-Abstracts-TC-Corpus-main/medical_tc_test.csv\")"
      ],
      "metadata": {
        "id": "zaU-HZFhkDv-"
      },
      "execution_count": 54,
      "outputs": []
    },
    {
      "cell_type": "code",
      "source": [
        "df_test.groupby('condition_label').describe()"
      ],
      "metadata": {
        "id": "ZI54rZ2GkOcD",
        "colab": {
          "base_uri": "https://localhost:8080/",
          "height": 269
        },
        "outputId": "aedceb50-1090-4abe-f002-efbade96f05b"
      },
      "execution_count": 55,
      "outputs": [
        {
          "output_type": "execute_result",
          "data": {
            "text/plain": [
              "                medical_abstract         \\\n",
              "                           count unique   \n",
              "condition_label                           \n",
              "1                            633    633   \n",
              "2                            299    299   \n",
              "3                            385    385   \n",
              "4                            610    610   \n",
              "5                            961    961   \n",
              "\n",
              "                                                                         \n",
              "                                                               top freq  \n",
              "condition_label                                                          \n",
              "1                Flow cytometric DNA analysis of parathyroid tu...    1  \n",
              "2                Current status of duplex Doppler ultrasound in...    1  \n",
              "3                Obstructive sleep apnea following topical orop...    1  \n",
              "4                Paraneoplastic vasculitic neuropathy: a treata...    1  \n",
              "5                Neutrophil function and pyogenic infections in...    1  "
            ],
            "text/html": [
              "\n",
              "  <div id=\"df-bd2b2055-6933-4e17-a487-f89fa34e94cc\" class=\"colab-df-container\">\n",
              "    <div>\n",
              "<style scoped>\n",
              "    .dataframe tbody tr th:only-of-type {\n",
              "        vertical-align: middle;\n",
              "    }\n",
              "\n",
              "    .dataframe tbody tr th {\n",
              "        vertical-align: top;\n",
              "    }\n",
              "\n",
              "    .dataframe thead tr th {\n",
              "        text-align: left;\n",
              "    }\n",
              "\n",
              "    .dataframe thead tr:last-of-type th {\n",
              "        text-align: right;\n",
              "    }\n",
              "</style>\n",
              "<table border=\"1\" class=\"dataframe\">\n",
              "  <thead>\n",
              "    <tr>\n",
              "      <th></th>\n",
              "      <th colspan=\"4\" halign=\"left\">medical_abstract</th>\n",
              "    </tr>\n",
              "    <tr>\n",
              "      <th></th>\n",
              "      <th>count</th>\n",
              "      <th>unique</th>\n",
              "      <th>top</th>\n",
              "      <th>freq</th>\n",
              "    </tr>\n",
              "    <tr>\n",
              "      <th>condition_label</th>\n",
              "      <th></th>\n",
              "      <th></th>\n",
              "      <th></th>\n",
              "      <th></th>\n",
              "    </tr>\n",
              "  </thead>\n",
              "  <tbody>\n",
              "    <tr>\n",
              "      <th>1</th>\n",
              "      <td>633</td>\n",
              "      <td>633</td>\n",
              "      <td>Flow cytometric DNA analysis of parathyroid tu...</td>\n",
              "      <td>1</td>\n",
              "    </tr>\n",
              "    <tr>\n",
              "      <th>2</th>\n",
              "      <td>299</td>\n",
              "      <td>299</td>\n",
              "      <td>Current status of duplex Doppler ultrasound in...</td>\n",
              "      <td>1</td>\n",
              "    </tr>\n",
              "    <tr>\n",
              "      <th>3</th>\n",
              "      <td>385</td>\n",
              "      <td>385</td>\n",
              "      <td>Obstructive sleep apnea following topical orop...</td>\n",
              "      <td>1</td>\n",
              "    </tr>\n",
              "    <tr>\n",
              "      <th>4</th>\n",
              "      <td>610</td>\n",
              "      <td>610</td>\n",
              "      <td>Paraneoplastic vasculitic neuropathy: a treata...</td>\n",
              "      <td>1</td>\n",
              "    </tr>\n",
              "    <tr>\n",
              "      <th>5</th>\n",
              "      <td>961</td>\n",
              "      <td>961</td>\n",
              "      <td>Neutrophil function and pyogenic infections in...</td>\n",
              "      <td>1</td>\n",
              "    </tr>\n",
              "  </tbody>\n",
              "</table>\n",
              "</div>\n",
              "    <div class=\"colab-df-buttons\">\n",
              "\n",
              "  <div class=\"colab-df-container\">\n",
              "    <button class=\"colab-df-convert\" onclick=\"convertToInteractive('df-bd2b2055-6933-4e17-a487-f89fa34e94cc')\"\n",
              "            title=\"Convert this dataframe to an interactive table.\"\n",
              "            style=\"display:none;\">\n",
              "\n",
              "  <svg xmlns=\"http://www.w3.org/2000/svg\" height=\"24px\" viewBox=\"0 -960 960 960\">\n",
              "    <path d=\"M120-120v-720h720v720H120Zm60-500h600v-160H180v160Zm220 220h160v-160H400v160Zm0 220h160v-160H400v160ZM180-400h160v-160H180v160Zm440 0h160v-160H620v160ZM180-180h160v-160H180v160Zm440 0h160v-160H620v160Z\"/>\n",
              "  </svg>\n",
              "    </button>\n",
              "\n",
              "  <style>\n",
              "    .colab-df-container {\n",
              "      display:flex;\n",
              "      gap: 12px;\n",
              "    }\n",
              "\n",
              "    .colab-df-convert {\n",
              "      background-color: #E8F0FE;\n",
              "      border: none;\n",
              "      border-radius: 50%;\n",
              "      cursor: pointer;\n",
              "      display: none;\n",
              "      fill: #1967D2;\n",
              "      height: 32px;\n",
              "      padding: 0 0 0 0;\n",
              "      width: 32px;\n",
              "    }\n",
              "\n",
              "    .colab-df-convert:hover {\n",
              "      background-color: #E2EBFA;\n",
              "      box-shadow: 0px 1px 2px rgba(60, 64, 67, 0.3), 0px 1px 3px 1px rgba(60, 64, 67, 0.15);\n",
              "      fill: #174EA6;\n",
              "    }\n",
              "\n",
              "    .colab-df-buttons div {\n",
              "      margin-bottom: 4px;\n",
              "    }\n",
              "\n",
              "    [theme=dark] .colab-df-convert {\n",
              "      background-color: #3B4455;\n",
              "      fill: #D2E3FC;\n",
              "    }\n",
              "\n",
              "    [theme=dark] .colab-df-convert:hover {\n",
              "      background-color: #434B5C;\n",
              "      box-shadow: 0px 1px 3px 1px rgba(0, 0, 0, 0.15);\n",
              "      filter: drop-shadow(0px 1px 2px rgba(0, 0, 0, 0.3));\n",
              "      fill: #FFFFFF;\n",
              "    }\n",
              "  </style>\n",
              "\n",
              "    <script>\n",
              "      const buttonEl =\n",
              "        document.querySelector('#df-bd2b2055-6933-4e17-a487-f89fa34e94cc button.colab-df-convert');\n",
              "      buttonEl.style.display =\n",
              "        google.colab.kernel.accessAllowed ? 'block' : 'none';\n",
              "\n",
              "      async function convertToInteractive(key) {\n",
              "        const element = document.querySelector('#df-bd2b2055-6933-4e17-a487-f89fa34e94cc');\n",
              "        const dataTable =\n",
              "          await google.colab.kernel.invokeFunction('convertToInteractive',\n",
              "                                                    [key], {});\n",
              "        if (!dataTable) return;\n",
              "\n",
              "        const docLinkHtml = 'Like what you see? Visit the ' +\n",
              "          '<a target=\"_blank\" href=https://colab.research.google.com/notebooks/data_table.ipynb>data table notebook</a>'\n",
              "          + ' to learn more about interactive tables.';\n",
              "        element.innerHTML = '';\n",
              "        dataTable['output_type'] = 'display_data';\n",
              "        await google.colab.output.renderOutput(dataTable, element);\n",
              "        const docLink = document.createElement('div');\n",
              "        docLink.innerHTML = docLinkHtml;\n",
              "        element.appendChild(docLink);\n",
              "      }\n",
              "    </script>\n",
              "  </div>\n",
              "\n",
              "\n",
              "<div id=\"df-2c26dd6a-19ce-4ff2-a9b9-80522c995c66\">\n",
              "  <button class=\"colab-df-quickchart\" onclick=\"quickchart('df-2c26dd6a-19ce-4ff2-a9b9-80522c995c66')\"\n",
              "            title=\"Suggest charts\"\n",
              "            style=\"display:none;\">\n",
              "\n",
              "<svg xmlns=\"http://www.w3.org/2000/svg\" height=\"24px\"viewBox=\"0 0 24 24\"\n",
              "     width=\"24px\">\n",
              "    <g>\n",
              "        <path d=\"M19 3H5c-1.1 0-2 .9-2 2v14c0 1.1.9 2 2 2h14c1.1 0 2-.9 2-2V5c0-1.1-.9-2-2-2zM9 17H7v-7h2v7zm4 0h-2V7h2v10zm4 0h-2v-4h2v4z\"/>\n",
              "    </g>\n",
              "</svg>\n",
              "  </button>\n",
              "\n",
              "<style>\n",
              "  .colab-df-quickchart {\n",
              "      --bg-color: #E8F0FE;\n",
              "      --fill-color: #1967D2;\n",
              "      --hover-bg-color: #E2EBFA;\n",
              "      --hover-fill-color: #174EA6;\n",
              "      --disabled-fill-color: #AAA;\n",
              "      --disabled-bg-color: #DDD;\n",
              "  }\n",
              "\n",
              "  [theme=dark] .colab-df-quickchart {\n",
              "      --bg-color: #3B4455;\n",
              "      --fill-color: #D2E3FC;\n",
              "      --hover-bg-color: #434B5C;\n",
              "      --hover-fill-color: #FFFFFF;\n",
              "      --disabled-bg-color: #3B4455;\n",
              "      --disabled-fill-color: #666;\n",
              "  }\n",
              "\n",
              "  .colab-df-quickchart {\n",
              "    background-color: var(--bg-color);\n",
              "    border: none;\n",
              "    border-radius: 50%;\n",
              "    cursor: pointer;\n",
              "    display: none;\n",
              "    fill: var(--fill-color);\n",
              "    height: 32px;\n",
              "    padding: 0;\n",
              "    width: 32px;\n",
              "  }\n",
              "\n",
              "  .colab-df-quickchart:hover {\n",
              "    background-color: var(--hover-bg-color);\n",
              "    box-shadow: 0 1px 2px rgba(60, 64, 67, 0.3), 0 1px 3px 1px rgba(60, 64, 67, 0.15);\n",
              "    fill: var(--button-hover-fill-color);\n",
              "  }\n",
              "\n",
              "  .colab-df-quickchart-complete:disabled,\n",
              "  .colab-df-quickchart-complete:disabled:hover {\n",
              "    background-color: var(--disabled-bg-color);\n",
              "    fill: var(--disabled-fill-color);\n",
              "    box-shadow: none;\n",
              "  }\n",
              "\n",
              "  .colab-df-spinner {\n",
              "    border: 2px solid var(--fill-color);\n",
              "    border-color: transparent;\n",
              "    border-bottom-color: var(--fill-color);\n",
              "    animation:\n",
              "      spin 1s steps(1) infinite;\n",
              "  }\n",
              "\n",
              "  @keyframes spin {\n",
              "    0% {\n",
              "      border-color: transparent;\n",
              "      border-bottom-color: var(--fill-color);\n",
              "      border-left-color: var(--fill-color);\n",
              "    }\n",
              "    20% {\n",
              "      border-color: transparent;\n",
              "      border-left-color: var(--fill-color);\n",
              "      border-top-color: var(--fill-color);\n",
              "    }\n",
              "    30% {\n",
              "      border-color: transparent;\n",
              "      border-left-color: var(--fill-color);\n",
              "      border-top-color: var(--fill-color);\n",
              "      border-right-color: var(--fill-color);\n",
              "    }\n",
              "    40% {\n",
              "      border-color: transparent;\n",
              "      border-right-color: var(--fill-color);\n",
              "      border-top-color: var(--fill-color);\n",
              "    }\n",
              "    60% {\n",
              "      border-color: transparent;\n",
              "      border-right-color: var(--fill-color);\n",
              "    }\n",
              "    80% {\n",
              "      border-color: transparent;\n",
              "      border-right-color: var(--fill-color);\n",
              "      border-bottom-color: var(--fill-color);\n",
              "    }\n",
              "    90% {\n",
              "      border-color: transparent;\n",
              "      border-bottom-color: var(--fill-color);\n",
              "    }\n",
              "  }\n",
              "</style>\n",
              "\n",
              "  <script>\n",
              "    async function quickchart(key) {\n",
              "      const quickchartButtonEl =\n",
              "        document.querySelector('#' + key + ' button');\n",
              "      quickchartButtonEl.disabled = true;  // To prevent multiple clicks.\n",
              "      quickchartButtonEl.classList.add('colab-df-spinner');\n",
              "      try {\n",
              "        const charts = await google.colab.kernel.invokeFunction(\n",
              "            'suggestCharts', [key], {});\n",
              "      } catch (error) {\n",
              "        console.error('Error during call to suggestCharts:', error);\n",
              "      }\n",
              "      quickchartButtonEl.classList.remove('colab-df-spinner');\n",
              "      quickchartButtonEl.classList.add('colab-df-quickchart-complete');\n",
              "    }\n",
              "    (() => {\n",
              "      let quickchartButtonEl =\n",
              "        document.querySelector('#df-2c26dd6a-19ce-4ff2-a9b9-80522c995c66 button');\n",
              "      quickchartButtonEl.style.display =\n",
              "        google.colab.kernel.accessAllowed ? 'block' : 'none';\n",
              "    })();\n",
              "  </script>\n",
              "</div>\n",
              "\n",
              "    </div>\n",
              "  </div>\n"
            ]
          },
          "metadata": {},
          "execution_count": 55
        }
      ]
    },
    {
      "cell_type": "code",
      "source": [
        "bert_preprocess = hub.KerasLayer(\"https://tfhub.dev/tensorflow/bert_en_uncased_preprocess/3\")\n",
        "bert_encoder = hub.KerasLayer(\"https://tfhub.dev/tensorflow/bert_en_uncased_L-12_H-768_A-12/4\")"
      ],
      "metadata": {
        "id": "2lXxTY8OkUQQ"
      },
      "execution_count": 56,
      "outputs": []
    },
    {
      "cell_type": "code",
      "source": [
        "def get_sentence_embeding(sentences):\n",
        "    preprocessed_text = bert_preprocess(sentences)\n",
        "    return bert_encoder(preprocessed_text)['pooled_output']\n"
      ],
      "metadata": {
        "id": "XGhnbJQzksw5"
      },
      "execution_count": 57,
      "outputs": []
    },
    {
      "cell_type": "markdown",
      "source": [
        "- getting sample sentence embedding"
      ],
      "metadata": {
        "id": "nJ-ODdb4lbS9"
      }
    },
    {
      "cell_type": "code",
      "source": [
        "len(get_sentence_embeding([df['medical_abstract'][900]])[0])"
      ],
      "metadata": {
        "colab": {
          "base_uri": "https://localhost:8080/"
        },
        "id": "70sb_kNTk_cf",
        "outputId": "08c06702-b6e6-4e29-de92-7a6903559b89"
      },
      "execution_count": 58,
      "outputs": [
        {
          "output_type": "execute_result",
          "data": {
            "text/plain": [
              "768"
            ]
          },
          "metadata": {},
          "execution_count": 58
        }
      ]
    },
    {
      "cell_type": "markdown",
      "source": [
        "- Build BERT Model"
      ],
      "metadata": {
        "id": "tdw7ktgfl3nY"
      }
    },
    {
      "cell_type": "code",
      "source": [
        "# Bert layers\n",
        "text_input = tf.keras.layers.Input(shape=(), dtype=tf.string, name='text')\n",
        "preprocessed_text = bert_preprocess(text_input)\n",
        "outputs = bert_encoder(preprocessed_text)\n",
        "\n",
        "# Neural network layers\n",
        "l = tf.keras.layers.Dropout(0.1, name=\"dropout\")(outputs['pooled_output'])\n",
        "# l = tf.keras.layers.Dense(128, activation='relu')(outputs['pooled_output'])\n",
        "l = tf.keras.layers.Dense(5, activation='softmax', name=\"output\")(l)\n",
        "\n",
        "\n",
        "# Use inputs and outputs to construct a final model\n",
        "model = tf.keras.Model(inputs=[text_input], outputs = [l])"
      ],
      "metadata": {
        "id": "PoYNOn4gliX-"
      },
      "execution_count": 59,
      "outputs": []
    },
    {
      "cell_type": "code",
      "source": [
        "model.summary()"
      ],
      "metadata": {
        "colab": {
          "base_uri": "https://localhost:8080/"
        },
        "id": "68Vv7aXumAqp",
        "outputId": "0bd74fa7-c61e-42fe-9ec8-7f7488cfc5e3"
      },
      "execution_count": 60,
      "outputs": [
        {
          "output_type": "stream",
          "name": "stdout",
          "text": [
            "Model: \"model_1\"\n",
            "__________________________________________________________________________________________________\n",
            " Layer (type)                Output Shape                 Param #   Connected to                  \n",
            "==================================================================================================\n",
            " text (InputLayer)           [(None,)]                    0         []                            \n",
            "                                                                                                  \n",
            " keras_layer_2 (KerasLayer)  {'input_word_ids': (None,    0         ['text[0][0]']                \n",
            "                             128),                                                                \n",
            "                              'input_type_ids': (None,                                            \n",
            "                             128),                                                                \n",
            "                              'input_mask': (None, 128)                                           \n",
            "                             }                                                                    \n",
            "                                                                                                  \n",
            " keras_layer_3 (KerasLayer)  {'sequence_output': (None,   1094822   ['keras_layer_2[0][0]',       \n",
            "                              128, 768),                  41         'keras_layer_2[0][1]',       \n",
            "                              'encoder_outputs': [(None              'keras_layer_2[0][2]']       \n",
            "                             , 128, 768),                                                         \n",
            "                              (None, 128, 768),                                                   \n",
            "                              (None, 128, 768),                                                   \n",
            "                              (None, 128, 768),                                                   \n",
            "                              (None, 128, 768),                                                   \n",
            "                              (None, 128, 768),                                                   \n",
            "                              (None, 128, 768),                                                   \n",
            "                              (None, 128, 768),                                                   \n",
            "                              (None, 128, 768),                                                   \n",
            "                              (None, 128, 768),                                                   \n",
            "                              (None, 128, 768),                                                   \n",
            "                              (None, 128, 768)],                                                  \n",
            "                              'pooled_output': (None, 7                                           \n",
            "                             68),                                                                 \n",
            "                              'default': (None, 768)}                                             \n",
            "                                                                                                  \n",
            " dropout (Dropout)           (None, 768)                  0         ['keras_layer_3[0][13]']      \n",
            "                                                                                                  \n",
            " output (Dense)              (None, 5)                    3845      ['dropout[0][0]']             \n",
            "                                                                                                  \n",
            "==================================================================================================\n",
            "Total params: 109486086 (417.66 MB)\n",
            "Trainable params: 3845 (15.02 KB)\n",
            "Non-trainable params: 109482241 (417.64 MB)\n",
            "__________________________________________________________________________________________________\n"
          ]
        }
      ]
    },
    {
      "cell_type": "code",
      "source": [
        "import tensorflow as tf\n",
        "from tensorflow.keras.models import Sequential\n",
        "from tensorflow.keras.layers import Embedding, Conv1D, GlobalMaxPooling1D, Dense\n",
        "from tensorflow.keras.optimizers import Adam\n",
        "from tensorflow.keras.callbacks import EarlyStopping\n",
        "\n",
        "import numpy as np\n",
        "from sklearn.metrics import confusion_matrix, classification_report\n",
        "\n",
        "# METRICS = [\n",
        "#       tf.keras.metrics.BinaryAccuracy(name='accuracy'),\n",
        "#       tf.keras.metrics.Precision(name='precision'),\n",
        "#       tf.keras.metrics.Recall(name='recall')\n",
        "# ]\n",
        "custom_optimizer = Adam(learning_rate=0.001)\n",
        "model.compile(optimizer=custom_optimizer, loss='categorical_crossentropy', metrics=['accuracy'])\n",
        "\n",
        "model.compile(optimizer=custom_optimizer,\n",
        "              loss='categorical_crossentropy',\n",
        "              metrics=['accuracy'])"
      ],
      "metadata": {
        "id": "B7kgp0G4mJti"
      },
      "execution_count": 61,
      "outputs": []
    },
    {
      "cell_type": "code",
      "source": [
        "y_train=df['condition_label'].values-1"
      ],
      "metadata": {
        "id": "B7JllyGFmPTP"
      },
      "execution_count": 62,
      "outputs": []
    },
    {
      "cell_type": "code",
      "source": [
        "X_train=df['medical_abstract'].values"
      ],
      "metadata": {
        "id": "Jh-ipn9xouxF"
      },
      "execution_count": 63,
      "outputs": []
    },
    {
      "cell_type": "code",
      "source": [
        "y_test=df_test['condition_label'].values-1"
      ],
      "metadata": {
        "id": "lyBDYsb_o319"
      },
      "execution_count": 64,
      "outputs": []
    },
    {
      "cell_type": "code",
      "source": [
        "X_test=df_test['medical_abstract'].values"
      ],
      "metadata": {
        "id": "3kgRMVbFpCXG"
      },
      "execution_count": 65,
      "outputs": []
    },
    {
      "cell_type": "code",
      "source": [
        "from keras.utils import to_categorical\n",
        "import numpy as np\n",
        "y_test_one_hot = to_categorical(y_test)\n",
        "y_train_one_hot = to_categorical(y_train)\n"
      ],
      "metadata": {
        "id": "7n3MI-1qsJL7"
      },
      "execution_count": 66,
      "outputs": []
    },
    {
      "cell_type": "code",
      "source": [
        "y_test_one_hot"
      ],
      "metadata": {
        "colab": {
          "base_uri": "https://localhost:8080/"
        },
        "id": "o9TFKSpssS-T",
        "outputId": "fa923631-3b73-439a-e436-d513ddc14ed0"
      },
      "execution_count": 67,
      "outputs": [
        {
          "output_type": "execute_result",
          "data": {
            "text/plain": [
              "array([[0., 0., 1., 0., 0.],\n",
              "       [0., 0., 0., 0., 1.],\n",
              "       [0., 0., 0., 0., 1.],\n",
              "       ...,\n",
              "       [0., 0., 0., 1., 0.],\n",
              "       [1., 0., 0., 0., 0.],\n",
              "       [0., 0., 0., 1., 0.]], dtype=float32)"
            ]
          },
          "metadata": {},
          "execution_count": 67
        }
      ]
    },
    {
      "cell_type": "code",
      "source": [
        "import tensorflow as tf\n",
        "from tensorflow.keras.models import Sequential\n",
        "from tensorflow.keras.layers import Embedding, Conv1D, GlobalMaxPooling1D, Dense\n",
        "from tensorflow.keras.optimizers import Adam\n",
        "from tensorflow.keras.callbacks import EarlyStopping\n",
        "\n",
        "import numpy as np\n",
        "from sklearn.utils.class_weight import compute_class_weight\n",
        "from sklearn.metrics import confusion_matrix, classification_report\n",
        "class_weights = compute_class_weight(\n",
        "                                        class_weight = \"balanced\",\n",
        "                                        classes = np.unique(df['condition_label'].values-1),\n",
        "                                        y = df['condition_label'].values-1\n",
        "                                    )\n",
        "class_weights_dict = dict(enumerate(class_weights))\n",
        "\n",
        "\n",
        "print(f'class_weights_dict : {class_weights_dict}')\n",
        "\n",
        "early_stopping = EarlyStopping(monitor='val_loss', patience=10, restore_best_weights=True)\n",
        "\n",
        "# Train the model with early stopping and class weights\n",
        "model.fit(\n",
        "    X_train,\n",
        "    y_train_one_hot,\n",
        "    epochs=100,\n",
        "    batch_size=64,\n",
        "    validation_data=(X_test,\n",
        "    y_test_one_hot),\n",
        "    callbacks=[early_stopping],\n",
        "    class_weight=class_weights_dict\n",
        ")\n"
      ],
      "metadata": {
        "colab": {
          "base_uri": "https://localhost:8080/",
          "height": 790
        },
        "id": "qx0TjEVXn47X",
        "outputId": "5e9099e5-4155-41a9-8a8a-9be09961cb88"
      },
      "execution_count": 68,
      "outputs": [
        {
          "output_type": "stream",
          "name": "stdout",
          "text": [
            "class_weights_dict : {0: 0.9130434782608695, 1: 1.9330543933054394, 2: 1.5, 3: 0.9463334698893896, 4: 0.600936524453694}\n",
            "Epoch 1/100\n",
            "181/181 [==============================] - 195s 1s/step - loss: 1.6197 - accuracy: 0.2431 - val_loss: 1.5823 - val_accuracy: 0.2684\n",
            "Epoch 2/100\n",
            "181/181 [==============================] - 176s 975ms/step - loss: 1.5446 - accuracy: 0.2992 - val_loss: 1.4746 - val_accuracy: 0.3269\n",
            "Epoch 3/100\n",
            "181/181 [==============================] - 177s 976ms/step - loss: 1.5007 - accuracy: 0.3293 - val_loss: 1.4431 - val_accuracy: 0.3847\n",
            "Epoch 4/100\n",
            "181/181 [==============================] - 177s 980ms/step - loss: 1.4775 - accuracy: 0.3401 - val_loss: 1.4189 - val_accuracy: 0.3940\n",
            "Epoch 5/100\n",
            "181/181 [==============================] - 168s 929ms/step - loss: 1.4402 - accuracy: 0.3623 - val_loss: 1.4651 - val_accuracy: 0.3258\n",
            "Epoch 6/100\n",
            "181/181 [==============================] - 169s 936ms/step - loss: 1.4287 - accuracy: 0.3695 - val_loss: 1.4237 - val_accuracy: 0.3951\n",
            "Epoch 7/100\n",
            "181/181 [==============================] - 177s 979ms/step - loss: 1.4173 - accuracy: 0.3761 - val_loss: 1.3608 - val_accuracy: 0.4183\n",
            "Epoch 8/100\n",
            "181/181 [==============================] - 170s 940ms/step - loss: 1.4041 - accuracy: 0.3883 - val_loss: 1.4938 - val_accuracy: 0.4017\n",
            "Epoch 9/100\n",
            "181/181 [==============================] - ETA: 0s - loss: 1.3930 - accuracy: 0.3877"
          ]
        },
        {
          "output_type": "error",
          "ename": "KeyboardInterrupt",
          "evalue": "",
          "traceback": [
            "\u001b[0;31m---------------------------------------------------------------------------\u001b[0m",
            "\u001b[0;31mKeyboardInterrupt\u001b[0m                         Traceback (most recent call last)",
            "\u001b[0;32m<ipython-input-68-68702fc7891a>\u001b[0m in \u001b[0;36m<cell line: 23>\u001b[0;34m()\u001b[0m\n\u001b[1;32m     21\u001b[0m \u001b[0;34m\u001b[0m\u001b[0m\n\u001b[1;32m     22\u001b[0m \u001b[0;31m# Train the model with early stopping and class weights\u001b[0m\u001b[0;34m\u001b[0m\u001b[0;34m\u001b[0m\u001b[0m\n\u001b[0;32m---> 23\u001b[0;31m model.fit(\n\u001b[0m\u001b[1;32m     24\u001b[0m     \u001b[0mX_train\u001b[0m\u001b[0;34m,\u001b[0m\u001b[0;34m\u001b[0m\u001b[0;34m\u001b[0m\u001b[0m\n\u001b[1;32m     25\u001b[0m     \u001b[0my_train_one_hot\u001b[0m\u001b[0;34m,\u001b[0m\u001b[0;34m\u001b[0m\u001b[0;34m\u001b[0m\u001b[0m\n",
            "\u001b[0;32m/usr/local/lib/python3.10/dist-packages/keras/src/utils/traceback_utils.py\u001b[0m in \u001b[0;36merror_handler\u001b[0;34m(*args, **kwargs)\u001b[0m\n\u001b[1;32m     63\u001b[0m         \u001b[0mfiltered_tb\u001b[0m \u001b[0;34m=\u001b[0m \u001b[0;32mNone\u001b[0m\u001b[0;34m\u001b[0m\u001b[0;34m\u001b[0m\u001b[0m\n\u001b[1;32m     64\u001b[0m         \u001b[0;32mtry\u001b[0m\u001b[0;34m:\u001b[0m\u001b[0;34m\u001b[0m\u001b[0;34m\u001b[0m\u001b[0m\n\u001b[0;32m---> 65\u001b[0;31m             \u001b[0;32mreturn\u001b[0m \u001b[0mfn\u001b[0m\u001b[0;34m(\u001b[0m\u001b[0;34m*\u001b[0m\u001b[0margs\u001b[0m\u001b[0;34m,\u001b[0m \u001b[0;34m**\u001b[0m\u001b[0mkwargs\u001b[0m\u001b[0;34m)\u001b[0m\u001b[0;34m\u001b[0m\u001b[0;34m\u001b[0m\u001b[0m\n\u001b[0m\u001b[1;32m     66\u001b[0m         \u001b[0;32mexcept\u001b[0m \u001b[0mException\u001b[0m \u001b[0;32mas\u001b[0m \u001b[0me\u001b[0m\u001b[0;34m:\u001b[0m\u001b[0;34m\u001b[0m\u001b[0;34m\u001b[0m\u001b[0m\n\u001b[1;32m     67\u001b[0m             \u001b[0mfiltered_tb\u001b[0m \u001b[0;34m=\u001b[0m \u001b[0m_process_traceback_frames\u001b[0m\u001b[0;34m(\u001b[0m\u001b[0me\u001b[0m\u001b[0;34m.\u001b[0m\u001b[0m__traceback__\u001b[0m\u001b[0;34m)\u001b[0m\u001b[0;34m\u001b[0m\u001b[0;34m\u001b[0m\u001b[0m\n",
            "\u001b[0;32m/usr/local/lib/python3.10/dist-packages/keras/src/engine/training.py\u001b[0m in \u001b[0;36mfit\u001b[0;34m(self, x, y, batch_size, epochs, verbose, callbacks, validation_split, validation_data, shuffle, class_weight, sample_weight, initial_epoch, steps_per_epoch, validation_steps, validation_batch_size, validation_freq, max_queue_size, workers, use_multiprocessing)\u001b[0m\n\u001b[1;32m   1854\u001b[0m                             \u001b[0mpss_evaluation_shards\u001b[0m\u001b[0;34m=\u001b[0m\u001b[0mself\u001b[0m\u001b[0;34m.\u001b[0m\u001b[0m_pss_evaluation_shards\u001b[0m\u001b[0;34m,\u001b[0m\u001b[0;34m\u001b[0m\u001b[0;34m\u001b[0m\u001b[0m\n\u001b[1;32m   1855\u001b[0m                         )\n\u001b[0;32m-> 1856\u001b[0;31m                     val_logs = self.evaluate(\n\u001b[0m\u001b[1;32m   1857\u001b[0m                         \u001b[0mx\u001b[0m\u001b[0;34m=\u001b[0m\u001b[0mval_x\u001b[0m\u001b[0;34m,\u001b[0m\u001b[0;34m\u001b[0m\u001b[0;34m\u001b[0m\u001b[0m\n\u001b[1;32m   1858\u001b[0m                         \u001b[0my\u001b[0m\u001b[0;34m=\u001b[0m\u001b[0mval_y\u001b[0m\u001b[0;34m,\u001b[0m\u001b[0;34m\u001b[0m\u001b[0;34m\u001b[0m\u001b[0m\n",
            "\u001b[0;32m/usr/local/lib/python3.10/dist-packages/keras/src/utils/traceback_utils.py\u001b[0m in \u001b[0;36merror_handler\u001b[0;34m(*args, **kwargs)\u001b[0m\n\u001b[1;32m     63\u001b[0m         \u001b[0mfiltered_tb\u001b[0m \u001b[0;34m=\u001b[0m \u001b[0;32mNone\u001b[0m\u001b[0;34m\u001b[0m\u001b[0;34m\u001b[0m\u001b[0m\n\u001b[1;32m     64\u001b[0m         \u001b[0;32mtry\u001b[0m\u001b[0;34m:\u001b[0m\u001b[0;34m\u001b[0m\u001b[0;34m\u001b[0m\u001b[0m\n\u001b[0;32m---> 65\u001b[0;31m             \u001b[0;32mreturn\u001b[0m \u001b[0mfn\u001b[0m\u001b[0;34m(\u001b[0m\u001b[0;34m*\u001b[0m\u001b[0margs\u001b[0m\u001b[0;34m,\u001b[0m \u001b[0;34m**\u001b[0m\u001b[0mkwargs\u001b[0m\u001b[0;34m)\u001b[0m\u001b[0;34m\u001b[0m\u001b[0;34m\u001b[0m\u001b[0m\n\u001b[0m\u001b[1;32m     66\u001b[0m         \u001b[0;32mexcept\u001b[0m \u001b[0mException\u001b[0m \u001b[0;32mas\u001b[0m \u001b[0me\u001b[0m\u001b[0;34m:\u001b[0m\u001b[0;34m\u001b[0m\u001b[0;34m\u001b[0m\u001b[0m\n\u001b[1;32m     67\u001b[0m             \u001b[0mfiltered_tb\u001b[0m \u001b[0;34m=\u001b[0m \u001b[0m_process_traceback_frames\u001b[0m\u001b[0;34m(\u001b[0m\u001b[0me\u001b[0m\u001b[0;34m.\u001b[0m\u001b[0m__traceback__\u001b[0m\u001b[0;34m)\u001b[0m\u001b[0;34m\u001b[0m\u001b[0;34m\u001b[0m\u001b[0m\n",
            "\u001b[0;31mKeyboardInterrupt\u001b[0m: "
          ]
        }
      ]
    },
    {
      "cell_type": "code",
      "source": [
        "\n",
        "model.save(\"/content/drive/MyDrive/Medical-Abstracts-TC-Corpus-main/MedicalTextClassificationBERT.h5\")\n"
      ],
      "metadata": {
        "id": "WmwqmqI9VKpK"
      },
      "execution_count": null,
      "outputs": []
    },
    {
      "cell_type": "code",
      "source": [
        "# Evaluate the model on test data\n",
        "predictions = model.predict(X_test)\n",
        "predicted_labels = np.argmax(predictions, axis=1)\n",
        "true_labels = np.argmax(y_test, axis=1)\n",
        "\n",
        "# Print confusion matrix and classification report\n",
        "conf_matrix = confusion_matrix(true_labels, predicted_labels)\n",
        "class_report = classification_report(true_labels, predicted_labels)ل\n",
        "\n",
        "print(\"Confusion Matrix:\")\n",
        "print(conf_matrix)\n",
        "\n",
        "print(\"\\nClassification Report:\")\n",
        "print(class_report)\n",
        "\n"
      ],
      "metadata": {
        "id": "Jz2hPcYbtT4-"
      },
      "execution_count": null,
      "outputs": []
    },
    {
      "cell_type": "code",
      "source": [
        "\n",
        "# F1\n",
        "from sklearn.metrics import f1_score\n",
        "\n",
        "# Calculate F1 micro score\n",
        "f1_micro = f1_score(true_labels, predicted_labels, average='micro')\n",
        "\n",
        "print(\"F1 Micro Score:\", f1_micro)\n"
      ],
      "metadata": {
        "id": "csi_tBzwtRwM"
      },
      "execution_count": null,
      "outputs": []
    },
    {
      "cell_type": "code",
      "source": [
        "import matplotlib.pyplot as plt\n",
        "import seaborn as sns\n",
        "from sklearn.metrics import ConfusionMatrixDisplay\n",
        "import numpy as np\n",
        "\n",
        "# Assuming 'model' is a Keras model\n",
        "# Assuming 'true_labels' and 'predicted_labels' are available\n",
        "\n",
        "# Calculate the confusion matrix\n",
        "\n",
        "# Normalize each row to convert counts to percentages\n",
        "conf_matrix_percentage = conf_matrix / conf_matrix.sum(axis=1, keepdims=True)\n",
        "\n",
        "plt.figure(figsize=(5, 3))\n",
        "ConfusionMatrixDisplay(conf_matrix_percentage).plot(cmap='Blues')\n",
        "plt.title('Confusion Matrix')\n",
        "plt.show()"
      ],
      "metadata": {
        "id": "r9Etx3r6tmii"
      },
      "execution_count": null,
      "outputs": []
    },
    {
      "cell_type": "markdown",
      "source": [
        "# Transformer"
      ],
      "metadata": {
        "id": "hROCifTu7OyW"
      }
    },
    {
      "cell_type": "code",
      "source": [
        "import pandas as pd\n",
        "file_path =\"/content/drive/MyDrive/Medical-Abstracts-TC-Corpus-main/medical_tc_train.csv\"\n",
        "train_data = pd.read_csv(file_path)\n",
        "\n",
        "test_file_path =\"/content/drive/MyDrive/Medical-Abstracts-TC-Corpus-main/medical_tc_test.csv\"\n",
        "test_data = pd.read_csv(test_file_path)\n"
      ],
      "metadata": {
        "id": "S4mZLoiY76Ws"
      },
      "execution_count": null,
      "outputs": []
    },
    {
      "cell_type": "code",
      "source": [
        "s=train_data['medical_abstract'][8]\n",
        "s"
      ],
      "metadata": {
        "colab": {
          "base_uri": "https://localhost:8080/",
          "height": 237
        },
        "id": "nNRjftta8C0l",
        "outputId": "b3d8aeb0-6edf-4bed-c1bd-bef90f49512f"
      },
      "execution_count": null,
      "outputs": [
        {
          "output_type": "execute_result",
          "data": {
            "text/plain": [
              "'Color Doppler diagnosis of mechanical prosthetic mitral regurgitation: usefulness of the flow convergence region proximal to the regurgitant orifice. In prosthetic or paravalvular prosthetic mitral regurgitation, transthoracic color Doppler flow mapping can sometimes fail to detect the regurgitant jet within the left atrium because of the shadowing by the prosthetic valve. To overcome this limitation, we assessed the utility of color Doppler visualization of the flow convergence region (FCR) proximal to the regurgitant orifice in 20 consecutive patients with mechanical prosthetic mitral regurgitation documented by surgery and cardiac catheterization (13 of 20 patients). In addition, we studied 33 patients with normally functioning mitral prostheses. Doppler studies were performed in the apical, subcostal, and parasternal long-axis views. An FCR was detected in 95% (19 of 20) of patients with prosthetic mitral regurgitation. A jet area in the left atrium was detected in 60% (12 of 20) of patients. In 18 of 19 patients with Doppler-detected FCR, the site of the leak was correctly identified by observing the location of the FCR. A trivial jet area was detected in eight patients with a normally functioning mitral prosthesis; in none was an FCR identified. Thus color Doppler visualization of the FCR proximal to the regurgitant orifice is superior to the jet area in the diagnosis of mechanical prosthetic mitral regurgitation. Moreover, FCR permits localization of the site of the leak with good accuracy. '"
            ],
            "application/vnd.google.colaboratory.intrinsic+json": {
              "type": "string"
            }
          },
          "metadata": {},
          "execution_count": 9
        }
      ]
    },
    {
      "cell_type": "code",
      "source": [
        "sl=train_data['condition_label'][8]\n",
        "sl"
      ],
      "metadata": {
        "colab": {
          "base_uri": "https://localhost:8080/"
        },
        "id": "Q2Om3VuRAeT6",
        "outputId": "3b75cbd5-13af-4637-e6a7-e551d16bf4ab"
      },
      "execution_count": null,
      "outputs": [
        {
          "output_type": "execute_result",
          "data": {
            "text/plain": [
              "5"
            ]
          },
          "metadata": {},
          "execution_count": 10
        }
      ]
    },
    {
      "cell_type": "code",
      "source": [
        "tain_data=train_data['medical_abstract'].values\n",
        "tain_label=train_data['condition_label'].values"
      ],
      "metadata": {
        "id": "vm6ldLep9G7H"
      },
      "execution_count": null,
      "outputs": []
    },
    {
      "cell_type": "code",
      "source": [
        "l=train_data['condition_label'].unique()\n",
        "l"
      ],
      "metadata": {
        "colab": {
          "base_uri": "https://localhost:8080/"
        },
        "id": "BKVEah5_8QZC",
        "outputId": "b7446e82-dba4-4794-d746-6f6ca289c80a"
      },
      "execution_count": null,
      "outputs": [
        {
          "output_type": "execute_result",
          "data": {
            "text/plain": [
              "array([5, 1, 2, 3, 4])"
            ]
          },
          "metadata": {},
          "execution_count": 12
        }
      ]
    },
    {
      "cell_type": "code",
      "source": [
        "import numpy as np\n",
        "file_path =(\"/content/drive/MyDrive/Medical-Abstracts-TC-Corpus-main/medical_tc_labels.csv\")\n",
        "labels = pd.read_csv(file_path)\n",
        "labels"
      ],
      "metadata": {
        "colab": {
          "base_uri": "https://localhost:8080/",
          "height": 206
        },
        "id": "0bHTXLvUAY9U",
        "outputId": "eab750cb-c40e-47fd-aa81-b3d8eaa7a308"
      },
      "execution_count": null,
      "outputs": [
        {
          "output_type": "execute_result",
          "data": {
            "text/plain": [
              "   condition_label                   condition_name\n",
              "0                1                        neoplasms\n",
              "1                2        digestive system diseases\n",
              "2                3          nervous system diseases\n",
              "3                4          cardiovascular diseases\n",
              "4                5  general pathological conditions"
            ],
            "text/html": [
              "\n",
              "  <div id=\"df-0df75a9f-58a4-462c-b4ff-dbe9096bd7e8\" class=\"colab-df-container\">\n",
              "    <div>\n",
              "<style scoped>\n",
              "    .dataframe tbody tr th:only-of-type {\n",
              "        vertical-align: middle;\n",
              "    }\n",
              "\n",
              "    .dataframe tbody tr th {\n",
              "        vertical-align: top;\n",
              "    }\n",
              "\n",
              "    .dataframe thead th {\n",
              "        text-align: right;\n",
              "    }\n",
              "</style>\n",
              "<table border=\"1\" class=\"dataframe\">\n",
              "  <thead>\n",
              "    <tr style=\"text-align: right;\">\n",
              "      <th></th>\n",
              "      <th>condition_label</th>\n",
              "      <th>condition_name</th>\n",
              "    </tr>\n",
              "  </thead>\n",
              "  <tbody>\n",
              "    <tr>\n",
              "      <th>0</th>\n",
              "      <td>1</td>\n",
              "      <td>neoplasms</td>\n",
              "    </tr>\n",
              "    <tr>\n",
              "      <th>1</th>\n",
              "      <td>2</td>\n",
              "      <td>digestive system diseases</td>\n",
              "    </tr>\n",
              "    <tr>\n",
              "      <th>2</th>\n",
              "      <td>3</td>\n",
              "      <td>nervous system diseases</td>\n",
              "    </tr>\n",
              "    <tr>\n",
              "      <th>3</th>\n",
              "      <td>4</td>\n",
              "      <td>cardiovascular diseases</td>\n",
              "    </tr>\n",
              "    <tr>\n",
              "      <th>4</th>\n",
              "      <td>5</td>\n",
              "      <td>general pathological conditions</td>\n",
              "    </tr>\n",
              "  </tbody>\n",
              "</table>\n",
              "</div>\n",
              "    <div class=\"colab-df-buttons\">\n",
              "\n",
              "  <div class=\"colab-df-container\">\n",
              "    <button class=\"colab-df-convert\" onclick=\"convertToInteractive('df-0df75a9f-58a4-462c-b4ff-dbe9096bd7e8')\"\n",
              "            title=\"Convert this dataframe to an interactive table.\"\n",
              "            style=\"display:none;\">\n",
              "\n",
              "  <svg xmlns=\"http://www.w3.org/2000/svg\" height=\"24px\" viewBox=\"0 -960 960 960\">\n",
              "    <path d=\"M120-120v-720h720v720H120Zm60-500h600v-160H180v160Zm220 220h160v-160H400v160Zm0 220h160v-160H400v160ZM180-400h160v-160H180v160Zm440 0h160v-160H620v160ZM180-180h160v-160H180v160Zm440 0h160v-160H620v160Z\"/>\n",
              "  </svg>\n",
              "    </button>\n",
              "\n",
              "  <style>\n",
              "    .colab-df-container {\n",
              "      display:flex;\n",
              "      gap: 12px;\n",
              "    }\n",
              "\n",
              "    .colab-df-convert {\n",
              "      background-color: #E8F0FE;\n",
              "      border: none;\n",
              "      border-radius: 50%;\n",
              "      cursor: pointer;\n",
              "      display: none;\n",
              "      fill: #1967D2;\n",
              "      height: 32px;\n",
              "      padding: 0 0 0 0;\n",
              "      width: 32px;\n",
              "    }\n",
              "\n",
              "    .colab-df-convert:hover {\n",
              "      background-color: #E2EBFA;\n",
              "      box-shadow: 0px 1px 2px rgba(60, 64, 67, 0.3), 0px 1px 3px 1px rgba(60, 64, 67, 0.15);\n",
              "      fill: #174EA6;\n",
              "    }\n",
              "\n",
              "    .colab-df-buttons div {\n",
              "      margin-bottom: 4px;\n",
              "    }\n",
              "\n",
              "    [theme=dark] .colab-df-convert {\n",
              "      background-color: #3B4455;\n",
              "      fill: #D2E3FC;\n",
              "    }\n",
              "\n",
              "    [theme=dark] .colab-df-convert:hover {\n",
              "      background-color: #434B5C;\n",
              "      box-shadow: 0px 1px 3px 1px rgba(0, 0, 0, 0.15);\n",
              "      filter: drop-shadow(0px 1px 2px rgba(0, 0, 0, 0.3));\n",
              "      fill: #FFFFFF;\n",
              "    }\n",
              "  </style>\n",
              "\n",
              "    <script>\n",
              "      const buttonEl =\n",
              "        document.querySelector('#df-0df75a9f-58a4-462c-b4ff-dbe9096bd7e8 button.colab-df-convert');\n",
              "      buttonEl.style.display =\n",
              "        google.colab.kernel.accessAllowed ? 'block' : 'none';\n",
              "\n",
              "      async function convertToInteractive(key) {\n",
              "        const element = document.querySelector('#df-0df75a9f-58a4-462c-b4ff-dbe9096bd7e8');\n",
              "        const dataTable =\n",
              "          await google.colab.kernel.invokeFunction('convertToInteractive',\n",
              "                                                    [key], {});\n",
              "        if (!dataTable) return;\n",
              "\n",
              "        const docLinkHtml = 'Like what you see? Visit the ' +\n",
              "          '<a target=\"_blank\" href=https://colab.research.google.com/notebooks/data_table.ipynb>data table notebook</a>'\n",
              "          + ' to learn more about interactive tables.';\n",
              "        element.innerHTML = '';\n",
              "        dataTable['output_type'] = 'display_data';\n",
              "        await google.colab.output.renderOutput(dataTable, element);\n",
              "        const docLink = document.createElement('div');\n",
              "        docLink.innerHTML = docLinkHtml;\n",
              "        element.appendChild(docLink);\n",
              "      }\n",
              "    </script>\n",
              "  </div>\n",
              "\n",
              "\n",
              "<div id=\"df-5cbbcb79-09e0-4ce2-b3bc-74a1a5195497\">\n",
              "  <button class=\"colab-df-quickchart\" onclick=\"quickchart('df-5cbbcb79-09e0-4ce2-b3bc-74a1a5195497')\"\n",
              "            title=\"Suggest charts\"\n",
              "            style=\"display:none;\">\n",
              "\n",
              "<svg xmlns=\"http://www.w3.org/2000/svg\" height=\"24px\"viewBox=\"0 0 24 24\"\n",
              "     width=\"24px\">\n",
              "    <g>\n",
              "        <path d=\"M19 3H5c-1.1 0-2 .9-2 2v14c0 1.1.9 2 2 2h14c1.1 0 2-.9 2-2V5c0-1.1-.9-2-2-2zM9 17H7v-7h2v7zm4 0h-2V7h2v10zm4 0h-2v-4h2v4z\"/>\n",
              "    </g>\n",
              "</svg>\n",
              "  </button>\n",
              "\n",
              "<style>\n",
              "  .colab-df-quickchart {\n",
              "      --bg-color: #E8F0FE;\n",
              "      --fill-color: #1967D2;\n",
              "      --hover-bg-color: #E2EBFA;\n",
              "      --hover-fill-color: #174EA6;\n",
              "      --disabled-fill-color: #AAA;\n",
              "      --disabled-bg-color: #DDD;\n",
              "  }\n",
              "\n",
              "  [theme=dark] .colab-df-quickchart {\n",
              "      --bg-color: #3B4455;\n",
              "      --fill-color: #D2E3FC;\n",
              "      --hover-bg-color: #434B5C;\n",
              "      --hover-fill-color: #FFFFFF;\n",
              "      --disabled-bg-color: #3B4455;\n",
              "      --disabled-fill-color: #666;\n",
              "  }\n",
              "\n",
              "  .colab-df-quickchart {\n",
              "    background-color: var(--bg-color);\n",
              "    border: none;\n",
              "    border-radius: 50%;\n",
              "    cursor: pointer;\n",
              "    display: none;\n",
              "    fill: var(--fill-color);\n",
              "    height: 32px;\n",
              "    padding: 0;\n",
              "    width: 32px;\n",
              "  }\n",
              "\n",
              "  .colab-df-quickchart:hover {\n",
              "    background-color: var(--hover-bg-color);\n",
              "    box-shadow: 0 1px 2px rgba(60, 64, 67, 0.3), 0 1px 3px 1px rgba(60, 64, 67, 0.15);\n",
              "    fill: var(--button-hover-fill-color);\n",
              "  }\n",
              "\n",
              "  .colab-df-quickchart-complete:disabled,\n",
              "  .colab-df-quickchart-complete:disabled:hover {\n",
              "    background-color: var(--disabled-bg-color);\n",
              "    fill: var(--disabled-fill-color);\n",
              "    box-shadow: none;\n",
              "  }\n",
              "\n",
              "  .colab-df-spinner {\n",
              "    border: 2px solid var(--fill-color);\n",
              "    border-color: transparent;\n",
              "    border-bottom-color: var(--fill-color);\n",
              "    animation:\n",
              "      spin 1s steps(1) infinite;\n",
              "  }\n",
              "\n",
              "  @keyframes spin {\n",
              "    0% {\n",
              "      border-color: transparent;\n",
              "      border-bottom-color: var(--fill-color);\n",
              "      border-left-color: var(--fill-color);\n",
              "    }\n",
              "    20% {\n",
              "      border-color: transparent;\n",
              "      border-left-color: var(--fill-color);\n",
              "      border-top-color: var(--fill-color);\n",
              "    }\n",
              "    30% {\n",
              "      border-color: transparent;\n",
              "      border-left-color: var(--fill-color);\n",
              "      border-top-color: var(--fill-color);\n",
              "      border-right-color: var(--fill-color);\n",
              "    }\n",
              "    40% {\n",
              "      border-color: transparent;\n",
              "      border-right-color: var(--fill-color);\n",
              "      border-top-color: var(--fill-color);\n",
              "    }\n",
              "    60% {\n",
              "      border-color: transparent;\n",
              "      border-right-color: var(--fill-color);\n",
              "    }\n",
              "    80% {\n",
              "      border-color: transparent;\n",
              "      border-right-color: var(--fill-color);\n",
              "      border-bottom-color: var(--fill-color);\n",
              "    }\n",
              "    90% {\n",
              "      border-color: transparent;\n",
              "      border-bottom-color: var(--fill-color);\n",
              "    }\n",
              "  }\n",
              "</style>\n",
              "\n",
              "  <script>\n",
              "    async function quickchart(key) {\n",
              "      const quickchartButtonEl =\n",
              "        document.querySelector('#' + key + ' button');\n",
              "      quickchartButtonEl.disabled = true;  // To prevent multiple clicks.\n",
              "      quickchartButtonEl.classList.add('colab-df-spinner');\n",
              "      try {\n",
              "        const charts = await google.colab.kernel.invokeFunction(\n",
              "            'suggestCharts', [key], {});\n",
              "      } catch (error) {\n",
              "        console.error('Error during call to suggestCharts:', error);\n",
              "      }\n",
              "      quickchartButtonEl.classList.remove('colab-df-spinner');\n",
              "      quickchartButtonEl.classList.add('colab-df-quickchart-complete');\n",
              "    }\n",
              "    (() => {\n",
              "      let quickchartButtonEl =\n",
              "        document.querySelector('#df-5cbbcb79-09e0-4ce2-b3bc-74a1a5195497 button');\n",
              "      quickchartButtonEl.style.display =\n",
              "        google.colab.kernel.accessAllowed ? 'block' : 'none';\n",
              "    })();\n",
              "  </script>\n",
              "</div>\n",
              "\n",
              "  <div id=\"id_ee2ceb95-6d33-4d95-9fd4-4e60f20baa0f\">\n",
              "    <style>\n",
              "      .colab-df-generate {\n",
              "        background-color: #E8F0FE;\n",
              "        border: none;\n",
              "        border-radius: 50%;\n",
              "        cursor: pointer;\n",
              "        display: none;\n",
              "        fill: #1967D2;\n",
              "        height: 32px;\n",
              "        padding: 0 0 0 0;\n",
              "        width: 32px;\n",
              "      }\n",
              "\n",
              "      .colab-df-generate:hover {\n",
              "        background-color: #E2EBFA;\n",
              "        box-shadow: 0px 1px 2px rgba(60, 64, 67, 0.3), 0px 1px 3px 1px rgba(60, 64, 67, 0.15);\n",
              "        fill: #174EA6;\n",
              "      }\n",
              "\n",
              "      [theme=dark] .colab-df-generate {\n",
              "        background-color: #3B4455;\n",
              "        fill: #D2E3FC;\n",
              "      }\n",
              "\n",
              "      [theme=dark] .colab-df-generate:hover {\n",
              "        background-color: #434B5C;\n",
              "        box-shadow: 0px 1px 3px 1px rgba(0, 0, 0, 0.15);\n",
              "        filter: drop-shadow(0px 1px 2px rgba(0, 0, 0, 0.3));\n",
              "        fill: #FFFFFF;\n",
              "      }\n",
              "    </style>\n",
              "    <button class=\"colab-df-generate\" onclick=\"generateWithVariable('labels')\"\n",
              "            title=\"Generate code using this dataframe.\"\n",
              "            style=\"display:none;\">\n",
              "\n",
              "  <svg xmlns=\"http://www.w3.org/2000/svg\" height=\"24px\"viewBox=\"0 0 24 24\"\n",
              "       width=\"24px\">\n",
              "    <path d=\"M7,19H8.4L18.45,9,17,7.55,7,17.6ZM5,21V16.75L18.45,3.32a2,2,0,0,1,2.83,0l1.4,1.43a1.91,1.91,0,0,1,.58,1.4,1.91,1.91,0,0,1-.58,1.4L9.25,21ZM18.45,9,17,7.55Zm-12,3A5.31,5.31,0,0,0,4.9,8.1,5.31,5.31,0,0,0,1,6.5,5.31,5.31,0,0,0,4.9,4.9,5.31,5.31,0,0,0,6.5,1,5.31,5.31,0,0,0,8.1,4.9,5.31,5.31,0,0,0,12,6.5,5.46,5.46,0,0,0,6.5,12Z\"/>\n",
              "  </svg>\n",
              "    </button>\n",
              "    <script>\n",
              "      (() => {\n",
              "      const buttonEl =\n",
              "        document.querySelector('#id_ee2ceb95-6d33-4d95-9fd4-4e60f20baa0f button.colab-df-generate');\n",
              "      buttonEl.style.display =\n",
              "        google.colab.kernel.accessAllowed ? 'block' : 'none';\n",
              "\n",
              "      buttonEl.onclick = () => {\n",
              "        google.colab.notebook.generateWithVariable('labels');\n",
              "      }\n",
              "      })();\n",
              "    </script>\n",
              "  </div>\n",
              "\n",
              "    </div>\n",
              "  </div>\n"
            ]
          },
          "metadata": {},
          "execution_count": 13
        }
      ]
    },
    {
      "cell_type": "code",
      "source": [
        "from transformers import pipeline\n",
        "\n",
        "classifier = pipeline('zero-shot-classification')\n",
        "classifier(s, l)"
      ],
      "metadata": {
        "colab": {
          "base_uri": "https://localhost:8080/",
          "height": 859,
          "referenced_widgets": [
            "f673d2603ffe4f81bf9cf5f8b5861eae",
            "4ea7fa8977624eb1b0c2ff6a9c370034",
            "d49e47a2d7254b239461d6e939b7dfa0",
            "389c3143a3894bbc88d10bf000ecf668",
            "57f5832e35974974863bd03c6e20d795",
            "ffb881e6513640cda70ae3c26611c5c4",
            "ec39b69b9e7144929228a7e07a721703",
            "caaeba46876f4b919b08e17d91bf8d0f",
            "ee6dd89c7bdd43e6b30c3ed4ce9da071",
            "f3916737fbd2464f803f009108b20bf7",
            "08eba7cd22e34b1483f674400641342a",
            "cc598c7c6b9647ed864e6dd7ee8f8937",
            "59eb7b0b32c7426abf0d8640141c99c1",
            "7f786835bc17496f8809c64cf38abd4c",
            "cad33ffd9dbb4eda945e96bd9a22d1b6",
            "150fcb6f0b744896acf8a3f812a125cf",
            "91bcb70163d243889fd66ba2a944e31d",
            "0f9c2dc54d6e4044a40f2e72146f6a20",
            "f0fbdd58af3547a7a648f288b73b5c0b",
            "41b9fb3e36584084ace919f5bc1b3a67",
            "eb0835b74c204053a082798a7b78988a",
            "707c1fdb61754295abcfaecf6085aac9",
            "3f974c2feb744a6d966c8a4c24a2d6f9",
            "19b235c379194a6ca2c9320f3f202472",
            "f49024a2bea44401b9ad86896adb0ce1",
            "8ea347b7218146f5a429848af196facd",
            "fc6e083780dd47ddb79d66c67601d6cf",
            "2bcab74b9b784f388a2c670682f72886",
            "930f524dbcdf4a68ac4b12b9c27d29cf",
            "1698054f575d48b2a7ffbd944ab12881",
            "08e442d56e174999bfe4233b3a4ed01b",
            "082f6d9dfa4e432784e709de0dedbe12",
            "b8fde6041daa44ab9c55b07c7ac0db34",
            "97a66f4ab45d4fb097d850272de64fed",
            "3a5079f793e5484aaa2b9824970af603",
            "0568cee641f549e295974ffc24567c37",
            "4602afca1f194bd787e3533c2bbccf8e",
            "4d5f992b728c45aea7d9fdaf5cf60623",
            "026140bcacc7444288e55d8e73551852",
            "51a68ffd6fb34e068864446f7de3ed67",
            "c8376593257944748f2dfd1251b9b5ba",
            "52d56289dee44260a571944f2bbdc72f",
            "b179e91eeee4494db7aa32856af41cbb",
            "5050b893ded948b1a078531f3561d39c",
            "1530bfc84985425da757f50a9f22482d",
            "02970f444edc479084fdcc32536f0a15",
            "726635490d824d7aa45729676f4ba31b",
            "891a5016ab144ae6ada0f598ba0fe5f9",
            "a91ce28f3d654283aafa73f89319ea65",
            "62d0e8b9f14a4e7496611e6786ea29fe",
            "5aa30b63cf274dbbb3df401ae3a4dbb9",
            "3f492f1f24de4dc7a3eb63ee1c5111b4",
            "060a760185e046df9ef96cff1dc736ab",
            "b0d28609aeac4d609c389ee1439506c9",
            "9738eff6dda244439bf70be1f11db1dc",
            "6dd829abd7cd479eb062cd1b8b2e8087",
            "ed725e92d0144424bcf96259a7375113",
            "d1f0f701eb5340a180daf69ff46d2ea3",
            "844a56b867e540388c3899e1130db882",
            "490faf20e244411c97872e671824516d",
            "cfdd234939c3467aa38e00aa916a242c",
            "2987222b4cfa4c0eb00780a3249c73f3",
            "df573965c50a41c98a29e199c379f790",
            "4e25959b41874d0596aa586f014a8e2b",
            "e2a84a9943ce4caf8b6076569eedaf15",
            "931722420f3048dba378d081da0c7ba5"
          ]
        },
        "id": "ArOPNRp27SSX",
        "outputId": "918ab64b-d4ae-4c9a-c96b-8138cdba01a1"
      },
      "execution_count": null,
      "outputs": [
        {
          "output_type": "stream",
          "name": "stderr",
          "text": [
            "No model was supplied, defaulted to facebook/bart-large-mnli and revision c626438 (https://huggingface.co/facebook/bart-large-mnli).\n",
            "Using a pipeline without specifying a model name and revision in production is not recommended.\n",
            "/usr/local/lib/python3.10/dist-packages/huggingface_hub/utils/_token.py:88: UserWarning: \n",
            "The secret `HF_TOKEN` does not exist in your Colab secrets.\n",
            "To authenticate with the Hugging Face Hub, create a token in your settings tab (https://huggingface.co/settings/tokens), set it as secret in your Google Colab and restart your session.\n",
            "You will be able to reuse this secret in all of your notebooks.\n",
            "Please note that authentication is recommended but still optional to access public models or datasets.\n",
            "  warnings.warn(\n"
          ]
        },
        {
          "output_type": "display_data",
          "data": {
            "text/plain": [
              "config.json:   0%|          | 0.00/1.15k [00:00<?, ?B/s]"
            ],
            "application/vnd.jupyter.widget-view+json": {
              "version_major": 2,
              "version_minor": 0,
              "model_id": "f673d2603ffe4f81bf9cf5f8b5861eae"
            }
          },
          "metadata": {}
        },
        {
          "output_type": "display_data",
          "data": {
            "text/plain": [
              "model.safetensors:   0%|          | 0.00/1.63G [00:00<?, ?B/s]"
            ],
            "application/vnd.jupyter.widget-view+json": {
              "version_major": 2,
              "version_minor": 0,
              "model_id": "cc598c7c6b9647ed864e6dd7ee8f8937"
            }
          },
          "metadata": {}
        },
        {
          "output_type": "display_data",
          "data": {
            "text/plain": [
              "tokenizer_config.json:   0%|          | 0.00/26.0 [00:00<?, ?B/s]"
            ],
            "application/vnd.jupyter.widget-view+json": {
              "version_major": 2,
              "version_minor": 0,
              "model_id": "3f974c2feb744a6d966c8a4c24a2d6f9"
            }
          },
          "metadata": {}
        },
        {
          "output_type": "display_data",
          "data": {
            "text/plain": [
              "vocab.json:   0%|          | 0.00/899k [00:00<?, ?B/s]"
            ],
            "application/vnd.jupyter.widget-view+json": {
              "version_major": 2,
              "version_minor": 0,
              "model_id": "97a66f4ab45d4fb097d850272de64fed"
            }
          },
          "metadata": {}
        },
        {
          "output_type": "display_data",
          "data": {
            "text/plain": [
              "merges.txt:   0%|          | 0.00/456k [00:00<?, ?B/s]"
            ],
            "application/vnd.jupyter.widget-view+json": {
              "version_major": 2,
              "version_minor": 0,
              "model_id": "1530bfc84985425da757f50a9f22482d"
            }
          },
          "metadata": {}
        },
        {
          "output_type": "display_data",
          "data": {
            "text/plain": [
              "tokenizer.json:   0%|          | 0.00/1.36M [00:00<?, ?B/s]"
            ],
            "application/vnd.jupyter.widget-view+json": {
              "version_major": 2,
              "version_minor": 0,
              "model_id": "6dd829abd7cd479eb062cd1b8b2e8087"
            }
          },
          "metadata": {}
        },
        {
          "output_type": "execute_result",
          "data": {
            "text/plain": [
              "{'sequence': 'Color Doppler diagnosis of mechanical prosthetic mitral regurgitation: usefulness of the flow convergence region proximal to the regurgitant orifice. In prosthetic or paravalvular prosthetic mitral regurgitation, transthoracic color Doppler flow mapping can sometimes fail to detect the regurgitant jet within the left atrium because of the shadowing by the prosthetic valve. To overcome this limitation, we assessed the utility of color Doppler visualization of the flow convergence region (FCR) proximal to the regurgitant orifice in 20 consecutive patients with mechanical prosthetic mitral regurgitation documented by surgery and cardiac catheterization (13 of 20 patients). In addition, we studied 33 patients with normally functioning mitral prostheses. Doppler studies were performed in the apical, subcostal, and parasternal long-axis views. An FCR was detected in 95% (19 of 20) of patients with prosthetic mitral regurgitation. A jet area in the left atrium was detected in 60% (12 of 20) of patients. In 18 of 19 patients with Doppler-detected FCR, the site of the leak was correctly identified by observing the location of the FCR. A trivial jet area was detected in eight patients with a normally functioning mitral prosthesis; in none was an FCR identified. Thus color Doppler visualization of the FCR proximal to the regurgitant orifice is superior to the jet area in the diagnosis of mechanical prosthetic mitral regurgitation. Moreover, FCR permits localization of the site of the leak with good accuracy. ',\n",
              " 'labels': [1, 2, 3, 4, 5],\n",
              " 'scores': [0.31172144412994385,\n",
              "  0.1999337375164032,\n",
              "  0.16680535674095154,\n",
              "  0.16585677862167358,\n",
              "  0.1556825488805771]}"
            ]
          },
          "metadata": {},
          "execution_count": 11
        }
      ]
    },
    {
      "cell_type": "code",
      "source": [
        "# Use a pipeline as a high-level helper\n",
        "from transformers import pipeline\n",
        "\n",
        "pipe = pipeline(\"text-classification\", model=\"tarasophia/Bio_ClinicalBERT_medical\")"
      ],
      "metadata": {
        "id": "aqB1PhXk9dx2"
      },
      "execution_count": null,
      "outputs": []
    },
    {
      "cell_type": "code",
      "source": [
        "# Load model directly\n",
        "from transformers import AutoTokenizer, AutoModelForSequenceClassification\n",
        "\n",
        "tokenizer = AutoTokenizer.from_pretrained(\"tarasophia/Bio_ClinicalBERT_medical\")\n",
        "model = AutoModelForSequenceClassification.from_pretrained(\"tarasophia/Bio_ClinicalBERT_medical\")"
      ],
      "metadata": {
        "id": "4HhYXpaq9iAz"
      },
      "execution_count": null,
      "outputs": []
    },
    {
      "cell_type": "code",
      "source": [
        "tokenizer(s)['input_ids']"
      ],
      "metadata": {
        "id": "GQhCyL8N9osw"
      },
      "execution_count": null,
      "outputs": []
    },
    {
      "cell_type": "code",
      "source": [
        "pipe(s,)"
      ],
      "metadata": {
        "colab": {
          "base_uri": "https://localhost:8080/"
        },
        "id": "WkcvKa6g-UNp",
        "outputId": "726336dd-6b42-4a80-d27f-1bfe11e5077e"
      },
      "execution_count": null,
      "outputs": [
        {
          "output_type": "stream",
          "name": "stderr",
          "text": [
            "Ignoring args : (array([5, 1, 2, 3, 4]),)\n"
          ]
        },
        {
          "output_type": "execute_result",
          "data": {
            "text/plain": [
              "[{'label': 'LABEL_1', 'score': 0.7712513208389282}]"
            ]
          },
          "metadata": {},
          "execution_count": 24
        }
      ]
    },
    {
      "cell_type": "code",
      "source": [
        "!pip install sagemaker --upgrade\n",
        "# !pip install boto3\n",
        "\n"
      ],
      "metadata": {
        "id": "vd88G3QwB6W_"
      },
      "execution_count": null,
      "outputs": []
    },
    {
      "cell_type": "code",
      "source": [
        "import sagemaker\n",
        "import boto3\n",
        "from sagemaker.huggingface import HuggingFace\n",
        "\n",
        "try:\n",
        "\trole = sagemaker.get_execution_role()\n",
        "except ValueError:\n",
        "\tiam = boto3.client('iam')\n",
        "\trole = iam.get_role(RoleName='sagemaker_execution_role')['Role']['Arn']\n",
        "\n",
        "hyperparameters = {\n",
        "\t'model_name_or_path':'sid321axn/Bio_ClinicalBERT-finetuned-medicalcondition',\n",
        "\t'output_dir':'/opt/ml/model'\n",
        "\t# add your remaining hyperparameters\n",
        "\t# more info here https://github.com/huggingface/transformers/tree/v4.26.0/examples/pytorch/text-classification\n",
        "}\n",
        "\n",
        "# git configuration to download our fine-tuning script\n",
        "git_config = {'repo': 'https://github.com/huggingface/transformers.git','branch': 'v4.26.0'}\n",
        "\n",
        "# # creates Hugging Face estimator\n",
        "# huggingface_estimator = HuggingFace(\n",
        "# \tentry_point='run_glue.py',\n",
        "#  train_data=train_data,\n",
        "# \tinstance_type='ml.p3.2xlarge',\n",
        "# \tinstance_count=1,\n",
        "# \trole=role,\n",
        "# \tgit_config=git_config,\n",
        "# \ttransformers_version='4.26.0',\n",
        "# \tpytorch_version='1.13.1',\n",
        "# \tpy_version='py39',\n",
        "# \thyperparameters = hyperparameters\n",
        "# )\n",
        "\n",
        "# # starting the train job\n",
        "# huggingface_estimator.fit()"
      ],
      "metadata": {
        "id": "c5znQKjS-f_4"
      },
      "execution_count": null,
      "outputs": []
    },
    {
      "cell_type": "markdown",
      "source": [
        "# Bio_ClinicalBERT_medical"
      ],
      "metadata": {
        "id": "EQnjubYsrHEW"
      }
    },
    {
      "cell_type": "code",
      "source": [
        "import pandas as pd\n",
        "file_path =\"/content/drive/MyDrive/Medical-Abstracts-TC-Corpus-main/medical_tc_train.csv\"\n",
        "train_data = pd.read_csv(file_path)\n",
        "\n",
        "test_file_path =\"/content/drive/MyDrive/Medical-Abstracts-TC-Corpus-main/medical_tc_test.csv\"\n",
        "test_data = pd.read_csv(test_file_path)\n"
      ],
      "metadata": {
        "id": "hsM6Xjz-vDxZ"
      },
      "execution_count": null,
      "outputs": []
    },
    {
      "cell_type": "code",
      "source": [
        "import numpy as np\n",
        "import pandas as pd\n",
        "file_path =(\"/content/drive/MyDrive/Medical-Abstracts-TC-Corpus-main/medical_tc_labels.csv\")\n",
        "labels = pd.read_csv(file_path)['condition_name'].values\n",
        "labels"
      ],
      "metadata": {
        "colab": {
          "base_uri": "https://localhost:8080/"
        },
        "id": "i5-Mq4JmsndP",
        "outputId": "a4505d88-cb16-4def-b9b7-13ae4d4bc3d5"
      },
      "execution_count": null,
      "outputs": [
        {
          "output_type": "execute_result",
          "data": {
            "text/plain": [
              "array(['neoplasms', 'digestive system diseases',\n",
              "       'nervous system diseases', 'cardiovascular diseases',\n",
              "       'general pathological conditions'], dtype=object)"
            ]
          },
          "metadata": {},
          "execution_count": 3
        }
      ]
    },
    {
      "cell_type": "code",
      "source": [
        "train_data['medical_abstract'][80]"
      ],
      "metadata": {
        "colab": {
          "base_uri": "https://localhost:8080/",
          "height": 145
        },
        "id": "TlU6NfPitQuw",
        "outputId": "4581d1d3-3d26-4533-e118-6b1896443677"
      },
      "execution_count": null,
      "outputs": [
        {
          "output_type": "execute_result",
          "data": {
            "text/plain": [
              "'Effect of microwave and ionizing radiation in patients with recurrent laryngeal carcinoma. This study describes the treatment and survival of 54 patients with gross recurrent laryngeal carcinoma after radiotherapy. Twenty-six patients were treated with local ultra-high frequency hyperthermia in combination with radiotherapy and chemotherapy (HRCH). Twenty-eight control patients were treated with radiotherapy and chemotherapy (RCh). Eight patients (33 per cent) in HRCh showed a three year survival but no patient in the RCh group. At two years 18 patients (75 per cent) in HRCh and two (7 per cent) in RCh survived. '"
            ],
            "application/vnd.google.colaboratory.intrinsic+json": {
              "type": "string"
            }
          },
          "metadata": {},
          "execution_count": 4
        }
      ]
    },
    {
      "cell_type": "code",
      "source": [
        "train_data['condition_label'].values"
      ],
      "metadata": {
        "colab": {
          "base_uri": "https://localhost:8080/"
        },
        "id": "4IebiGgitTPE",
        "outputId": "60e29823-52c5-430f-904a-ad2d55486574"
      },
      "execution_count": null,
      "outputs": [
        {
          "output_type": "execute_result",
          "data": {
            "text/plain": [
              "array([5, 1, 2, ..., 5, 3, 5])"
            ]
          },
          "metadata": {},
          "execution_count": 5
        }
      ]
    },
    {
      "cell_type": "code",
      "source": [
        "# Use a pipeline as a high-level helper\n",
        "from transformers import pipeline\n",
        "pipe = pipeline(\"text-classification\", model=\"tarasophia/Bio_ClinicalBERT_medical\")\n",
        "\n",
        "# Load model directly\n",
        "from transformers import AutoTokenizer, AutoModelForSequenceClassification,AutoModelForTokenClassification\n",
        "\n",
        "tokenizer = AutoTokenizer.from_pretrained(\"tarasophia/Bio_ClinicalBERT_medical\")\n",
        "model = AutoModelForTokenClassification.from_pretrained(\"tarasophia/Bio_ClinicalBERT_medical\",  num_labels=5, ignore_mismatched_sizes=True)"
      ],
      "metadata": {
        "colab": {
          "base_uri": "https://localhost:8080/"
        },
        "id": "s7OU5CaJ4SDy",
        "outputId": "f3b28e05-591b-42f8-aade-f9986b57afe3"
      },
      "execution_count": null,
      "outputs": [
        {
          "output_type": "stream",
          "name": "stderr",
          "text": [
            "Some weights of BertForTokenClassification were not initialized from the model checkpoint at tarasophia/Bio_ClinicalBERT_medical and are newly initialized because the shapes did not match:\n",
            "- classifier.weight: found shape torch.Size([16, 768]) in the checkpoint and torch.Size([5, 768]) in the model instantiated\n",
            "- classifier.bias: found shape torch.Size([16]) in the checkpoint and torch.Size([5]) in the model instantiated\n",
            "You should probably TRAIN this model on a down-stream task to be able to use it for predictions and inference.\n"
          ]
        }
      ]
    },
    {
      "cell_type": "code",
      "source": [
        "test_data['medical_abstract'].values"
      ],
      "metadata": {
        "id": "j7XBjSoPsS3H"
      },
      "execution_count": null,
      "outputs": []
    },
    {
      "cell_type": "code",
      "source": [
        "test_sentenses=[s for s in test_data['medical_abstract'].values[0:10]]"
      ],
      "metadata": {
        "id": "XBQyYsoetrdd"
      },
      "execution_count": null,
      "outputs": []
    },
    {
      "cell_type": "code",
      "source": [
        "len(test_sentenses)"
      ],
      "metadata": {
        "colab": {
          "base_uri": "https://localhost:8080/"
        },
        "id": "LynJXiPbzezn",
        "outputId": "6e842d5a-7434-4358-f5bb-a84d2ec277f3"
      },
      "execution_count": null,
      "outputs": [
        {
          "output_type": "execute_result",
          "data": {
            "text/plain": [
              "10"
            ]
          },
          "metadata": {},
          "execution_count": 9
        }
      ]
    },
    {
      "cell_type": "code",
      "source": [
        "inputs = tokenizer(test_sentenses,  padding=True, truncation=True, return_tensors=\"pt\")"
      ],
      "metadata": {
        "id": "XA3qghjZr1Tc"
      },
      "execution_count": null,
      "outputs": []
    },
    {
      "cell_type": "code",
      "source": [
        "preprocessed_test_data=inputs"
      ],
      "metadata": {
        "id": "G5o_RdJat62N"
      },
      "execution_count": null,
      "outputs": []
    },
    {
      "cell_type": "code",
      "source": [
        "preprocessed_test_data"
      ],
      "metadata": {
        "colab": {
          "base_uri": "https://localhost:8080/"
        },
        "id": "I55PMsATvYQX",
        "outputId": "507731b3-2422-4a19-bf2c-706879a9789b"
      },
      "execution_count": null,
      "outputs": [
        {
          "output_type": "execute_result",
          "data": {
            "text/plain": [
              "{'input_ids': tensor([[  101,   184,  4832,  ...,     0,     0,     0],\n",
              "        [  101, 24928,  3818,  ...,     0,     0,     0],\n",
              "        [  101,   170,  4065,  ...,     0,     0,     0],\n",
              "        ...,\n",
              "        [  101, 23589,  1648,  ...,     0,     0,     0],\n",
              "        [  101,  1231, 10704,  ...,  1292,  2686,   102],\n",
              "        [  101,  1954,  2781,  ...,     0,     0,     0]]), 'token_type_ids': tensor([[0, 0, 0,  ..., 0, 0, 0],\n",
              "        [0, 0, 0,  ..., 0, 0, 0],\n",
              "        [0, 0, 0,  ..., 0, 0, 0],\n",
              "        ...,\n",
              "        [0, 0, 0,  ..., 0, 0, 0],\n",
              "        [0, 0, 0,  ..., 0, 0, 0],\n",
              "        [0, 0, 0,  ..., 0, 0, 0]]), 'attention_mask': tensor([[1, 1, 1,  ..., 0, 0, 0],\n",
              "        [1, 1, 1,  ..., 0, 0, 0],\n",
              "        [1, 1, 1,  ..., 0, 0, 0],\n",
              "        ...,\n",
              "        [1, 1, 1,  ..., 0, 0, 0],\n",
              "        [1, 1, 1,  ..., 1, 1, 1],\n",
              "        [1, 1, 1,  ..., 0, 0, 0]])}"
            ]
          },
          "metadata": {},
          "execution_count": 36
        }
      ]
    },
    {
      "cell_type": "code",
      "source": [
        "results=model(**preprocessed_test_data)"
      ],
      "metadata": {
        "id": "FGxMl-cln3I-"
      },
      "execution_count": null,
      "outputs": []
    },
    {
      "cell_type": "code",
      "source": [
        "results"
      ],
      "metadata": {
        "id": "nts3uIg-xqe1"
      },
      "execution_count": null,
      "outputs": []
    },
    {
      "cell_type": "code",
      "source": [
        "results"
      ],
      "metadata": {
        "id": "j5X7uHCj0s0k"
      },
      "execution_count": null,
      "outputs": []
    },
    {
      "cell_type": "code",
      "source": [
        "import torch\n",
        "\n",
        "predictions = torch.nn.functional.softmax(results.logits, dim=-1)\n",
        "print(predictions)"
      ],
      "metadata": {
        "id": "tIto8zwL2_78"
      },
      "execution_count": null,
      "outputs": []
    },
    {
      "cell_type": "code",
      "source": [
        "model.config.id2label"
      ],
      "metadata": {
        "colab": {
          "base_uri": "https://localhost:8080/"
        },
        "id": "bTu3516u3E27",
        "outputId": "cec61eca-201e-469f-fb4b-e690ecafdae2"
      },
      "execution_count": null,
      "outputs": [
        {
          "output_type": "execute_result",
          "data": {
            "text/plain": [
              "{0: 'LABEL_0',\n",
              " 1: 'LABEL_1',\n",
              " 2: 'LABEL_2',\n",
              " 3: 'LABEL_3',\n",
              " 4: 'LABEL_4',\n",
              " 5: 'LABEL_5',\n",
              " 6: 'LABEL_6',\n",
              " 7: 'LABEL_7',\n",
              " 8: 'LABEL_8',\n",
              " 9: 'LABEL_9',\n",
              " 10: 'LABEL_10',\n",
              " 11: 'LABEL_11',\n",
              " 12: 'LABEL_12',\n",
              " 13: 'LABEL_13',\n",
              " 14: 'LABEL_14',\n",
              " 15: 'LABEL_15'}"
            ]
          },
          "metadata": {},
          "execution_count": 17
        }
      ]
    },
    {
      "cell_type": "code",
      "source": [
        "predictions.detach().numpy()"
      ],
      "metadata": {
        "colab": {
          "base_uri": "https://localhost:8080/"
        },
        "id": "3BezFKoL4N1e",
        "outputId": "24be951a-d8bd-4740-8371-933fef6cee97"
      },
      "execution_count": null,
      "outputs": [
        {
          "output_type": "execute_result",
          "data": {
            "text/plain": [
              "array([[0.09019391, 0.10523727, 0.10878167, 0.09690937, 0.07425757,\n",
              "        0.01335635, 0.03612795, 0.01256179, 0.02156424, 0.08279051,\n",
              "        0.06852957, 0.08907384, 0.07593466, 0.04693564, 0.04115604,\n",
              "        0.03658965],\n",
              "       [0.08879813, 0.11653195, 0.11090408, 0.09457479, 0.06945771,\n",
              "        0.01214695, 0.0391111 , 0.0114571 , 0.02010307, 0.0832087 ,\n",
              "        0.06644388, 0.09547975, 0.0746851 , 0.04758963, 0.03735959,\n",
              "        0.03214851],\n",
              "       [0.09548549, 0.11467446, 0.10109651, 0.10201746, 0.06530246,\n",
              "        0.01361883, 0.04376252, 0.01061757, 0.0222088 , 0.08356179,\n",
              "        0.06131408, 0.09239015, 0.0753183 , 0.04635582, 0.03928238,\n",
              "        0.03299337],\n",
              "       [0.08918025, 0.12184735, 0.12044288, 0.10444383, 0.06708924,\n",
              "        0.01249295, 0.04439448, 0.00992493, 0.01897862, 0.08578528,\n",
              "        0.06900271, 0.08186933, 0.06844249, 0.04232363, 0.03411147,\n",
              "        0.02967055],\n",
              "       [0.0861362 , 0.11472441, 0.10612073, 0.11658066, 0.06710824,\n",
              "        0.01471345, 0.04411362, 0.0108267 , 0.02562175, 0.10015249,\n",
              "        0.05900107, 0.06416178, 0.07576778, 0.04115666, 0.0399521 ,\n",
              "        0.03386228],\n",
              "       [0.0861509 , 0.12200445, 0.10420525, 0.09990447, 0.06269374,\n",
              "        0.01274956, 0.04244602, 0.01034178, 0.02091324, 0.08877841,\n",
              "        0.06256755, 0.09089409, 0.07827743, 0.0503679 , 0.03602654,\n",
              "        0.03167865],\n",
              "       [0.08334177, 0.11552607, 0.11365771, 0.11100735, 0.06551451,\n",
              "        0.01313978, 0.04092371, 0.0110761 , 0.02433913, 0.0964476 ,\n",
              "        0.06044159, 0.07339872, 0.07876291, 0.04413051, 0.03919917,\n",
              "        0.02909332],\n",
              "       [0.08836431, 0.11983968, 0.11027866, 0.10243556, 0.05984893,\n",
              "        0.01247997, 0.04768633, 0.01039659, 0.02108466, 0.08775729,\n",
              "        0.05995649, 0.08794074, 0.07210711, 0.05066187, 0.03748972,\n",
              "        0.03167207],\n",
              "       [0.08993112, 0.11402424, 0.11727115, 0.09387396, 0.06793837,\n",
              "        0.01179187, 0.03930237, 0.01074512, 0.02006198, 0.0848423 ,\n",
              "        0.06912306, 0.09208561, 0.08172011, 0.04710789, 0.03403669,\n",
              "        0.02614419],\n",
              "       [0.09007315, 0.10956746, 0.1194279 , 0.1104798 , 0.06665929,\n",
              "        0.01307449, 0.04269807, 0.01112366, 0.02106912, 0.08827377,\n",
              "        0.06243596, 0.0757018 , 0.07293323, 0.04510264, 0.03675202,\n",
              "        0.03462771]], dtype=float32)"
            ]
          },
          "metadata": {},
          "execution_count": 18
        }
      ]
    },
    {
      "cell_type": "code",
      "source": [
        "[np.argmax(p) for p in predictions.detach().numpy()]"
      ],
      "metadata": {
        "colab": {
          "base_uri": "https://localhost:8080/"
        },
        "id": "PBxgN33h3X1Z",
        "outputId": "8da8e0a6-37aa-489a-b180-0ef6b343237d"
      },
      "execution_count": null,
      "outputs": [
        {
          "output_type": "execute_result",
          "data": {
            "text/plain": [
              "[2, 1, 1, 1, 3, 1, 1, 1, 2, 2]"
            ]
          },
          "metadata": {},
          "execution_count": 19
        }
      ]
    },
    {
      "cell_type": "code",
      "source": [
        "!pip install accelerate -U"
      ],
      "metadata": {
        "id": "4GQE_3d88qmz"
      },
      "execution_count": null,
      "outputs": []
    },
    {
      "cell_type": "code",
      "source": [
        "!pip install transformers[torch]"
      ],
      "metadata": {
        "id": "pSLbHgM49EU9"
      },
      "execution_count": null,
      "outputs": []
    },
    {
      "cell_type": "code",
      "source": [
        "from transformers import TrainingArguments\n",
        "\n",
        "training_args = TrainingArguments(output_dir=\"/content/drive/MyDrive/Medical-Abstracts-TC-Corpus-main\")"
      ],
      "metadata": {
        "colab": {
          "base_uri": "https://localhost:8080/",
          "height": 570
        },
        "id": "MFXHEZBY8lKg",
        "outputId": "6a9aec61-8563-4c18-e9c1-a8269ee4095e"
      },
      "execution_count": null,
      "outputs": [
        {
          "output_type": "error",
          "ename": "ImportError",
          "evalue": "Using the `Trainer` with `PyTorch` requires `accelerate>=0.20.1`: Please run `pip install transformers[torch]` or `pip install accelerate -U`",
          "traceback": [
            "\u001b[0;31m---------------------------------------------------------------------------\u001b[0m",
            "\u001b[0;31mImportError\u001b[0m                               Traceback (most recent call last)",
            "\u001b[0;32m<ipython-input-35-1a3f4874f910>\u001b[0m in \u001b[0;36m<cell line: 3>\u001b[0;34m()\u001b[0m\n\u001b[1;32m      1\u001b[0m \u001b[0;32mfrom\u001b[0m \u001b[0mtransformers\u001b[0m \u001b[0;32mimport\u001b[0m \u001b[0mTrainingArguments\u001b[0m\u001b[0;34m\u001b[0m\u001b[0;34m\u001b[0m\u001b[0m\n\u001b[1;32m      2\u001b[0m \u001b[0;34m\u001b[0m\u001b[0m\n\u001b[0;32m----> 3\u001b[0;31m \u001b[0mtraining_args\u001b[0m \u001b[0;34m=\u001b[0m \u001b[0mTrainingArguments\u001b[0m\u001b[0;34m(\u001b[0m\u001b[0moutput_dir\u001b[0m\u001b[0;34m=\u001b[0m\u001b[0;34m\"/content/drive/MyDrive/Medical-Abstracts-TC-Corpus-main\"\u001b[0m\u001b[0;34m)\u001b[0m\u001b[0;34m\u001b[0m\u001b[0;34m\u001b[0m\u001b[0m\n\u001b[0m",
            "\u001b[0;32m/usr/local/lib/python3.10/dist-packages/transformers/training_args.py\u001b[0m in \u001b[0;36m__init__\u001b[0;34m(self, output_dir, overwrite_output_dir, do_train, do_eval, do_predict, evaluation_strategy, prediction_loss_only, per_device_train_batch_size, per_device_eval_batch_size, per_gpu_train_batch_size, per_gpu_eval_batch_size, gradient_accumulation_steps, eval_accumulation_steps, eval_delay, learning_rate, weight_decay, adam_beta1, adam_beta2, adam_epsilon, max_grad_norm, num_train_epochs, max_steps, lr_scheduler_type, warmup_ratio, warmup_steps, log_level, log_level_replica, log_on_each_node, logging_dir, logging_strategy, logging_first_step, logging_steps, logging_nan_inf_filter, save_strategy, save_steps, save_total_limit, save_safetensors, save_on_each_node, no_cuda, use_cpu, use_mps_device, seed, data_seed, jit_mode_eval, use_ipex, bf16, fp16, fp16_opt_level, half_precision_backend, bf16_full_eval, fp16_full_eval, tf32, local_rank, ddp_backend, tpu_num_cores, tpu_metrics_debug, debug, dataloader_drop_last, eval_steps, dataloader_num_workers, past_index, run_name, disable_tqdm, remove_unused_columns, label_names, load_best_model_at_end, metric_for_best_model, greater_is_better, ignore_data_skip, fsdp, fsdp_min_num_params, fsdp_config, fsdp_transformer_layer_cls_to_wrap, deepspeed, label_smoothing_factor, optim, optim_args, adafactor, group_by_length, length_column_name, report_to, ddp_find_unused_parameters, ddp_bucket_cap_mb, ddp_broadcast_buffers, dataloader_pin_memo...\n",
            "\u001b[0;32m/usr/local/lib/python3.10/dist-packages/transformers/training_args.py\u001b[0m in \u001b[0;36m__post_init__\u001b[0;34m(self)\u001b[0m\n\u001b[1;32m   1440\u001b[0m             \u001b[0mself\u001b[0m\u001b[0;34m.\u001b[0m\u001b[0mframework\u001b[0m \u001b[0;34m==\u001b[0m \u001b[0;34m\"pt\"\u001b[0m\u001b[0;34m\u001b[0m\u001b[0;34m\u001b[0m\u001b[0m\n\u001b[1;32m   1441\u001b[0m             \u001b[0;32mand\u001b[0m \u001b[0mis_torch_available\u001b[0m\u001b[0;34m(\u001b[0m\u001b[0;34m)\u001b[0m\u001b[0;34m\u001b[0m\u001b[0;34m\u001b[0m\u001b[0m\n\u001b[0;32m-> 1442\u001b[0;31m             \u001b[0;32mand\u001b[0m \u001b[0;34m(\u001b[0m\u001b[0mself\u001b[0m\u001b[0;34m.\u001b[0m\u001b[0mdevice\u001b[0m\u001b[0;34m.\u001b[0m\u001b[0mtype\u001b[0m \u001b[0;34m!=\u001b[0m \u001b[0;34m\"cuda\"\u001b[0m\u001b[0;34m)\u001b[0m\u001b[0;34m\u001b[0m\u001b[0;34m\u001b[0m\u001b[0m\n\u001b[0m\u001b[1;32m   1443\u001b[0m             \u001b[0;32mand\u001b[0m \u001b[0;34m(\u001b[0m\u001b[0mself\u001b[0m\u001b[0;34m.\u001b[0m\u001b[0mdevice\u001b[0m\u001b[0;34m.\u001b[0m\u001b[0mtype\u001b[0m \u001b[0;34m!=\u001b[0m \u001b[0;34m\"npu\"\u001b[0m\u001b[0;34m)\u001b[0m\u001b[0;34m\u001b[0m\u001b[0;34m\u001b[0m\u001b[0m\n\u001b[1;32m   1444\u001b[0m             \u001b[0;32mand\u001b[0m \u001b[0;34m(\u001b[0m\u001b[0mself\u001b[0m\u001b[0;34m.\u001b[0m\u001b[0mdevice\u001b[0m\u001b[0;34m.\u001b[0m\u001b[0mtype\u001b[0m \u001b[0;34m!=\u001b[0m \u001b[0;34m\"xpu\"\u001b[0m\u001b[0;34m)\u001b[0m\u001b[0;34m\u001b[0m\u001b[0;34m\u001b[0m\u001b[0m\n",
            "\u001b[0;32m/usr/local/lib/python3.10/dist-packages/transformers/training_args.py\u001b[0m in \u001b[0;36mdevice\u001b[0;34m(self)\u001b[0m\n\u001b[1;32m   1885\u001b[0m         \"\"\"\n\u001b[1;32m   1886\u001b[0m         \u001b[0mrequires_backends\u001b[0m\u001b[0;34m(\u001b[0m\u001b[0mself\u001b[0m\u001b[0;34m,\u001b[0m \u001b[0;34m[\u001b[0m\u001b[0;34m\"torch\"\u001b[0m\u001b[0;34m]\u001b[0m\u001b[0;34m)\u001b[0m\u001b[0;34m\u001b[0m\u001b[0;34m\u001b[0m\u001b[0m\n\u001b[0;32m-> 1887\u001b[0;31m         \u001b[0;32mreturn\u001b[0m \u001b[0mself\u001b[0m\u001b[0;34m.\u001b[0m\u001b[0m_setup_devices\u001b[0m\u001b[0;34m\u001b[0m\u001b[0;34m\u001b[0m\u001b[0m\n\u001b[0m\u001b[1;32m   1888\u001b[0m \u001b[0;34m\u001b[0m\u001b[0m\n\u001b[1;32m   1889\u001b[0m     \u001b[0;34m@\u001b[0m\u001b[0mproperty\u001b[0m\u001b[0;34m\u001b[0m\u001b[0;34m\u001b[0m\u001b[0m\n",
            "\u001b[0;32m/usr/local/lib/python3.10/dist-packages/transformers/utils/generic.py\u001b[0m in \u001b[0;36m__get__\u001b[0;34m(self, obj, objtype)\u001b[0m\n\u001b[1;32m     52\u001b[0m         \u001b[0mcached\u001b[0m \u001b[0;34m=\u001b[0m \u001b[0mgetattr\u001b[0m\u001b[0;34m(\u001b[0m\u001b[0mobj\u001b[0m\u001b[0;34m,\u001b[0m \u001b[0mattr\u001b[0m\u001b[0;34m,\u001b[0m \u001b[0;32mNone\u001b[0m\u001b[0;34m)\u001b[0m\u001b[0;34m\u001b[0m\u001b[0;34m\u001b[0m\u001b[0m\n\u001b[1;32m     53\u001b[0m         \u001b[0;32mif\u001b[0m \u001b[0mcached\u001b[0m \u001b[0;32mis\u001b[0m \u001b[0;32mNone\u001b[0m\u001b[0;34m:\u001b[0m\u001b[0;34m\u001b[0m\u001b[0;34m\u001b[0m\u001b[0m\n\u001b[0;32m---> 54\u001b[0;31m             \u001b[0mcached\u001b[0m \u001b[0;34m=\u001b[0m \u001b[0mself\u001b[0m\u001b[0;34m.\u001b[0m\u001b[0mfget\u001b[0m\u001b[0;34m(\u001b[0m\u001b[0mobj\u001b[0m\u001b[0;34m)\u001b[0m\u001b[0;34m\u001b[0m\u001b[0;34m\u001b[0m\u001b[0m\n\u001b[0m\u001b[1;32m     55\u001b[0m             \u001b[0msetattr\u001b[0m\u001b[0;34m(\u001b[0m\u001b[0mobj\u001b[0m\u001b[0;34m,\u001b[0m \u001b[0mattr\u001b[0m\u001b[0;34m,\u001b[0m \u001b[0mcached\u001b[0m\u001b[0;34m)\u001b[0m\u001b[0;34m\u001b[0m\u001b[0;34m\u001b[0m\u001b[0m\n\u001b[1;32m     56\u001b[0m         \u001b[0;32mreturn\u001b[0m \u001b[0mcached\u001b[0m\u001b[0;34m\u001b[0m\u001b[0;34m\u001b[0m\u001b[0m\n",
            "\u001b[0;32m/usr/local/lib/python3.10/dist-packages/transformers/training_args.py\u001b[0m in \u001b[0;36m_setup_devices\u001b[0;34m(self)\u001b[0m\n\u001b[1;32m   1785\u001b[0m         \u001b[0;32mif\u001b[0m \u001b[0;32mnot\u001b[0m \u001b[0mis_sagemaker_mp_enabled\u001b[0m\u001b[0;34m(\u001b[0m\u001b[0;34m)\u001b[0m\u001b[0;34m:\u001b[0m\u001b[0;34m\u001b[0m\u001b[0;34m\u001b[0m\u001b[0m\n\u001b[1;32m   1786\u001b[0m             \u001b[0;32mif\u001b[0m \u001b[0;32mnot\u001b[0m \u001b[0mis_accelerate_available\u001b[0m\u001b[0;34m(\u001b[0m\u001b[0mmin_version\u001b[0m\u001b[0;34m=\u001b[0m\u001b[0;34m\"0.20.1\"\u001b[0m\u001b[0;34m)\u001b[0m\u001b[0;34m:\u001b[0m\u001b[0;34m\u001b[0m\u001b[0;34m\u001b[0m\u001b[0m\n\u001b[0;32m-> 1787\u001b[0;31m                 raise ImportError(\n\u001b[0m\u001b[1;32m   1788\u001b[0m                     \u001b[0;34m\"Using the `Trainer` with `PyTorch` requires `accelerate>=0.20.1`: Please run `pip install transformers[torch]` or `pip install accelerate -U`\"\u001b[0m\u001b[0;34m\u001b[0m\u001b[0;34m\u001b[0m\u001b[0m\n\u001b[1;32m   1789\u001b[0m                 )\n",
            "\u001b[0;31mImportError\u001b[0m: Using the `Trainer` with `PyTorch` requires `accelerate>=0.20.1`: Please run `pip install transformers[torch]` or `pip install accelerate -U`",
            "",
            "\u001b[0;31m---------------------------------------------------------------------------\u001b[0;32m\nNOTE: If your import is failing due to a missing package, you can\nmanually install dependencies using either !pip or !apt.\n\nTo view examples of installing some common dependencies, click the\n\"Open Examples\" button below.\n\u001b[0;31m---------------------------------------------------------------------------\u001b[0m\n"
          ],
          "errorDetails": {
            "actions": [
              {
                "action": "open_url",
                "actionText": "Open Examples",
                "url": "/notebooks/snippets/importing_libraries.ipynb"
              }
            ]
          }
        }
      ]
    },
    {
      "cell_type": "code",
      "source": [
        "\n",
        "# Print confusion matrix and classification report\n",
        "conf_matrix = confusion_matrix(true_labels, predicted_labels)\n",
        "class_report = classification_report(true_labels, predicted_labels)\n",
        "\n",
        "print(\"Confusion Matrix:\")\n",
        "print(conf_matrix)\n",
        "\n",
        "print(\"\\nClassification Report:\")\n",
        "print(class_report)\n"
      ],
      "metadata": {
        "colab": {
          "base_uri": "https://localhost:8080/",
          "height": 254
        },
        "id": "wMxr6hqZwU-8",
        "outputId": "bfaca511-7c87-4470-dc55-83e18c69b750"
      },
      "execution_count": null,
      "outputs": [
        {
          "output_type": "error",
          "ename": "NameError",
          "evalue": "name 'confusion_matrix' is not defined",
          "traceback": [
            "\u001b[0;31m---------------------------------------------------------------------------\u001b[0m",
            "\u001b[0;31mNameError\u001b[0m                                 Traceback (most recent call last)",
            "\u001b[0;32m<ipython-input-20-49c6ff2b69fa>\u001b[0m in \u001b[0;36m<cell line: 2>\u001b[0;34m()\u001b[0m\n\u001b[1;32m      1\u001b[0m \u001b[0;31m# Print confusion matrix and classification report\u001b[0m\u001b[0;34m\u001b[0m\u001b[0;34m\u001b[0m\u001b[0m\n\u001b[0;32m----> 2\u001b[0;31m \u001b[0mconf_matrix\u001b[0m \u001b[0;34m=\u001b[0m \u001b[0mconfusion_matrix\u001b[0m\u001b[0;34m(\u001b[0m\u001b[0mtrue_labels\u001b[0m\u001b[0;34m,\u001b[0m \u001b[0mpredicted_labels\u001b[0m\u001b[0;34m)\u001b[0m\u001b[0;34m\u001b[0m\u001b[0;34m\u001b[0m\u001b[0m\n\u001b[0m\u001b[1;32m      3\u001b[0m \u001b[0mclass_report\u001b[0m \u001b[0;34m=\u001b[0m \u001b[0mclassification_report\u001b[0m\u001b[0;34m(\u001b[0m\u001b[0mtrue_labels\u001b[0m\u001b[0;34m,\u001b[0m \u001b[0mpredicted_labels\u001b[0m\u001b[0;34m)\u001b[0m\u001b[0;34m\u001b[0m\u001b[0;34m\u001b[0m\u001b[0m\n\u001b[1;32m      4\u001b[0m \u001b[0;34m\u001b[0m\u001b[0m\n\u001b[1;32m      5\u001b[0m \u001b[0mprint\u001b[0m\u001b[0;34m(\u001b[0m\u001b[0;34m\"Confusion Matrix:\"\u001b[0m\u001b[0;34m)\u001b[0m\u001b[0;34m\u001b[0m\u001b[0;34m\u001b[0m\u001b[0m\n",
            "\u001b[0;31mNameError\u001b[0m: name 'confusion_matrix' is not defined"
          ]
        }
      ]
    },
    {
      "cell_type": "code",
      "source": [
        "import matplotlib.pyplot as plt\n",
        "import seaborn as sns\n",
        "from sklearn.metrics import ConfusionMatrixDisplay\n",
        "import numpy as np\n",
        "conf_matrix_percentage = conf_matrix / conf_matrix.sum(axis=1, keepdims=True)\n",
        "\n",
        "plt.figure(figsize=(5, 3))\n",
        "ConfusionMatrixDisplay(conf_matrix_percentage).plot(cmap='Blues')\n",
        "plt.title('Confusion Matrix')\n",
        "plt.show()"
      ],
      "metadata": {
        "id": "xS5wjRDfw1Q7"
      },
      "execution_count": null,
      "outputs": []
    }
  ],
  "metadata": {
    "colab": {
      "collapsed_sections": [
        "KqRkeQ_aa2mT",
        "Pj4MgmwMar3B",
        "JRri77x4uaZc",
        "r6XaDaNdDfTs",
        "8kKYSk2ug67E",
        "LbUV5HP3JsPv",
        "jekcvnL1hubC",
        "AOEswrawwRut",
        "P5DO6lTKxLVa",
        "ANTCZnOsaK4r",
        "hROCifTu7OyW",
        "EQnjubYsrHEW"
      ],
      "provenance": [],
      "gpuType": "T4"
    },
    "kernelspec": {
      "display_name": "Python 3",
      "name": "python3"
    },
    "language_info": {
      "name": "python"
    },
    "accelerator": "GPU",
    "widgets": {
      "application/vnd.jupyter.widget-state+json": {
        "f673d2603ffe4f81bf9cf5f8b5861eae": {
          "model_module": "@jupyter-widgets/controls",
          "model_name": "HBoxModel",
          "model_module_version": "1.5.0",
          "state": {
            "_dom_classes": [],
            "_model_module": "@jupyter-widgets/controls",
            "_model_module_version": "1.5.0",
            "_model_name": "HBoxModel",
            "_view_count": null,
            "_view_module": "@jupyter-widgets/controls",
            "_view_module_version": "1.5.0",
            "_view_name": "HBoxView",
            "box_style": "",
            "children": [
              "IPY_MODEL_4ea7fa8977624eb1b0c2ff6a9c370034",
              "IPY_MODEL_d49e47a2d7254b239461d6e939b7dfa0",
              "IPY_MODEL_389c3143a3894bbc88d10bf000ecf668"
            ],
            "layout": "IPY_MODEL_57f5832e35974974863bd03c6e20d795"
          }
        },
        "4ea7fa8977624eb1b0c2ff6a9c370034": {
          "model_module": "@jupyter-widgets/controls",
          "model_name": "HTMLModel",
          "model_module_version": "1.5.0",
          "state": {
            "_dom_classes": [],
            "_model_module": "@jupyter-widgets/controls",
            "_model_module_version": "1.5.0",
            "_model_name": "HTMLModel",
            "_view_count": null,
            "_view_module": "@jupyter-widgets/controls",
            "_view_module_version": "1.5.0",
            "_view_name": "HTMLView",
            "description": "",
            "description_tooltip": null,
            "layout": "IPY_MODEL_ffb881e6513640cda70ae3c26611c5c4",
            "placeholder": "​",
            "style": "IPY_MODEL_ec39b69b9e7144929228a7e07a721703",
            "value": "config.json: 100%"
          }
        },
        "d49e47a2d7254b239461d6e939b7dfa0": {
          "model_module": "@jupyter-widgets/controls",
          "model_name": "FloatProgressModel",
          "model_module_version": "1.5.0",
          "state": {
            "_dom_classes": [],
            "_model_module": "@jupyter-widgets/controls",
            "_model_module_version": "1.5.0",
            "_model_name": "FloatProgressModel",
            "_view_count": null,
            "_view_module": "@jupyter-widgets/controls",
            "_view_module_version": "1.5.0",
            "_view_name": "ProgressView",
            "bar_style": "success",
            "description": "",
            "description_tooltip": null,
            "layout": "IPY_MODEL_caaeba46876f4b919b08e17d91bf8d0f",
            "max": 1154,
            "min": 0,
            "orientation": "horizontal",
            "style": "IPY_MODEL_ee6dd89c7bdd43e6b30c3ed4ce9da071",
            "value": 1154
          }
        },
        "389c3143a3894bbc88d10bf000ecf668": {
          "model_module": "@jupyter-widgets/controls",
          "model_name": "HTMLModel",
          "model_module_version": "1.5.0",
          "state": {
            "_dom_classes": [],
            "_model_module": "@jupyter-widgets/controls",
            "_model_module_version": "1.5.0",
            "_model_name": "HTMLModel",
            "_view_count": null,
            "_view_module": "@jupyter-widgets/controls",
            "_view_module_version": "1.5.0",
            "_view_name": "HTMLView",
            "description": "",
            "description_tooltip": null,
            "layout": "IPY_MODEL_f3916737fbd2464f803f009108b20bf7",
            "placeholder": "​",
            "style": "IPY_MODEL_08eba7cd22e34b1483f674400641342a",
            "value": " 1.15k/1.15k [00:00&lt;00:00, 78.3kB/s]"
          }
        },
        "57f5832e35974974863bd03c6e20d795": {
          "model_module": "@jupyter-widgets/base",
          "model_name": "LayoutModel",
          "model_module_version": "1.2.0",
          "state": {
            "_model_module": "@jupyter-widgets/base",
            "_model_module_version": "1.2.0",
            "_model_name": "LayoutModel",
            "_view_count": null,
            "_view_module": "@jupyter-widgets/base",
            "_view_module_version": "1.2.0",
            "_view_name": "LayoutView",
            "align_content": null,
            "align_items": null,
            "align_self": null,
            "border": null,
            "bottom": null,
            "display": null,
            "flex": null,
            "flex_flow": null,
            "grid_area": null,
            "grid_auto_columns": null,
            "grid_auto_flow": null,
            "grid_auto_rows": null,
            "grid_column": null,
            "grid_gap": null,
            "grid_row": null,
            "grid_template_areas": null,
            "grid_template_columns": null,
            "grid_template_rows": null,
            "height": null,
            "justify_content": null,
            "justify_items": null,
            "left": null,
            "margin": null,
            "max_height": null,
            "max_width": null,
            "min_height": null,
            "min_width": null,
            "object_fit": null,
            "object_position": null,
            "order": null,
            "overflow": null,
            "overflow_x": null,
            "overflow_y": null,
            "padding": null,
            "right": null,
            "top": null,
            "visibility": null,
            "width": null
          }
        },
        "ffb881e6513640cda70ae3c26611c5c4": {
          "model_module": "@jupyter-widgets/base",
          "model_name": "LayoutModel",
          "model_module_version": "1.2.0",
          "state": {
            "_model_module": "@jupyter-widgets/base",
            "_model_module_version": "1.2.0",
            "_model_name": "LayoutModel",
            "_view_count": null,
            "_view_module": "@jupyter-widgets/base",
            "_view_module_version": "1.2.0",
            "_view_name": "LayoutView",
            "align_content": null,
            "align_items": null,
            "align_self": null,
            "border": null,
            "bottom": null,
            "display": null,
            "flex": null,
            "flex_flow": null,
            "grid_area": null,
            "grid_auto_columns": null,
            "grid_auto_flow": null,
            "grid_auto_rows": null,
            "grid_column": null,
            "grid_gap": null,
            "grid_row": null,
            "grid_template_areas": null,
            "grid_template_columns": null,
            "grid_template_rows": null,
            "height": null,
            "justify_content": null,
            "justify_items": null,
            "left": null,
            "margin": null,
            "max_height": null,
            "max_width": null,
            "min_height": null,
            "min_width": null,
            "object_fit": null,
            "object_position": null,
            "order": null,
            "overflow": null,
            "overflow_x": null,
            "overflow_y": null,
            "padding": null,
            "right": null,
            "top": null,
            "visibility": null,
            "width": null
          }
        },
        "ec39b69b9e7144929228a7e07a721703": {
          "model_module": "@jupyter-widgets/controls",
          "model_name": "DescriptionStyleModel",
          "model_module_version": "1.5.0",
          "state": {
            "_model_module": "@jupyter-widgets/controls",
            "_model_module_version": "1.5.0",
            "_model_name": "DescriptionStyleModel",
            "_view_count": null,
            "_view_module": "@jupyter-widgets/base",
            "_view_module_version": "1.2.0",
            "_view_name": "StyleView",
            "description_width": ""
          }
        },
        "caaeba46876f4b919b08e17d91bf8d0f": {
          "model_module": "@jupyter-widgets/base",
          "model_name": "LayoutModel",
          "model_module_version": "1.2.0",
          "state": {
            "_model_module": "@jupyter-widgets/base",
            "_model_module_version": "1.2.0",
            "_model_name": "LayoutModel",
            "_view_count": null,
            "_view_module": "@jupyter-widgets/base",
            "_view_module_version": "1.2.0",
            "_view_name": "LayoutView",
            "align_content": null,
            "align_items": null,
            "align_self": null,
            "border": null,
            "bottom": null,
            "display": null,
            "flex": null,
            "flex_flow": null,
            "grid_area": null,
            "grid_auto_columns": null,
            "grid_auto_flow": null,
            "grid_auto_rows": null,
            "grid_column": null,
            "grid_gap": null,
            "grid_row": null,
            "grid_template_areas": null,
            "grid_template_columns": null,
            "grid_template_rows": null,
            "height": null,
            "justify_content": null,
            "justify_items": null,
            "left": null,
            "margin": null,
            "max_height": null,
            "max_width": null,
            "min_height": null,
            "min_width": null,
            "object_fit": null,
            "object_position": null,
            "order": null,
            "overflow": null,
            "overflow_x": null,
            "overflow_y": null,
            "padding": null,
            "right": null,
            "top": null,
            "visibility": null,
            "width": null
          }
        },
        "ee6dd89c7bdd43e6b30c3ed4ce9da071": {
          "model_module": "@jupyter-widgets/controls",
          "model_name": "ProgressStyleModel",
          "model_module_version": "1.5.0",
          "state": {
            "_model_module": "@jupyter-widgets/controls",
            "_model_module_version": "1.5.0",
            "_model_name": "ProgressStyleModel",
            "_view_count": null,
            "_view_module": "@jupyter-widgets/base",
            "_view_module_version": "1.2.0",
            "_view_name": "StyleView",
            "bar_color": null,
            "description_width": ""
          }
        },
        "f3916737fbd2464f803f009108b20bf7": {
          "model_module": "@jupyter-widgets/base",
          "model_name": "LayoutModel",
          "model_module_version": "1.2.0",
          "state": {
            "_model_module": "@jupyter-widgets/base",
            "_model_module_version": "1.2.0",
            "_model_name": "LayoutModel",
            "_view_count": null,
            "_view_module": "@jupyter-widgets/base",
            "_view_module_version": "1.2.0",
            "_view_name": "LayoutView",
            "align_content": null,
            "align_items": null,
            "align_self": null,
            "border": null,
            "bottom": null,
            "display": null,
            "flex": null,
            "flex_flow": null,
            "grid_area": null,
            "grid_auto_columns": null,
            "grid_auto_flow": null,
            "grid_auto_rows": null,
            "grid_column": null,
            "grid_gap": null,
            "grid_row": null,
            "grid_template_areas": null,
            "grid_template_columns": null,
            "grid_template_rows": null,
            "height": null,
            "justify_content": null,
            "justify_items": null,
            "left": null,
            "margin": null,
            "max_height": null,
            "max_width": null,
            "min_height": null,
            "min_width": null,
            "object_fit": null,
            "object_position": null,
            "order": null,
            "overflow": null,
            "overflow_x": null,
            "overflow_y": null,
            "padding": null,
            "right": null,
            "top": null,
            "visibility": null,
            "width": null
          }
        },
        "08eba7cd22e34b1483f674400641342a": {
          "model_module": "@jupyter-widgets/controls",
          "model_name": "DescriptionStyleModel",
          "model_module_version": "1.5.0",
          "state": {
            "_model_module": "@jupyter-widgets/controls",
            "_model_module_version": "1.5.0",
            "_model_name": "DescriptionStyleModel",
            "_view_count": null,
            "_view_module": "@jupyter-widgets/base",
            "_view_module_version": "1.2.0",
            "_view_name": "StyleView",
            "description_width": ""
          }
        },
        "cc598c7c6b9647ed864e6dd7ee8f8937": {
          "model_module": "@jupyter-widgets/controls",
          "model_name": "HBoxModel",
          "model_module_version": "1.5.0",
          "state": {
            "_dom_classes": [],
            "_model_module": "@jupyter-widgets/controls",
            "_model_module_version": "1.5.0",
            "_model_name": "HBoxModel",
            "_view_count": null,
            "_view_module": "@jupyter-widgets/controls",
            "_view_module_version": "1.5.0",
            "_view_name": "HBoxView",
            "box_style": "",
            "children": [
              "IPY_MODEL_59eb7b0b32c7426abf0d8640141c99c1",
              "IPY_MODEL_7f786835bc17496f8809c64cf38abd4c",
              "IPY_MODEL_cad33ffd9dbb4eda945e96bd9a22d1b6"
            ],
            "layout": "IPY_MODEL_150fcb6f0b744896acf8a3f812a125cf"
          }
        },
        "59eb7b0b32c7426abf0d8640141c99c1": {
          "model_module": "@jupyter-widgets/controls",
          "model_name": "HTMLModel",
          "model_module_version": "1.5.0",
          "state": {
            "_dom_classes": [],
            "_model_module": "@jupyter-widgets/controls",
            "_model_module_version": "1.5.0",
            "_model_name": "HTMLModel",
            "_view_count": null,
            "_view_module": "@jupyter-widgets/controls",
            "_view_module_version": "1.5.0",
            "_view_name": "HTMLView",
            "description": "",
            "description_tooltip": null,
            "layout": "IPY_MODEL_91bcb70163d243889fd66ba2a944e31d",
            "placeholder": "​",
            "style": "IPY_MODEL_0f9c2dc54d6e4044a40f2e72146f6a20",
            "value": "model.safetensors: 100%"
          }
        },
        "7f786835bc17496f8809c64cf38abd4c": {
          "model_module": "@jupyter-widgets/controls",
          "model_name": "FloatProgressModel",
          "model_module_version": "1.5.0",
          "state": {
            "_dom_classes": [],
            "_model_module": "@jupyter-widgets/controls",
            "_model_module_version": "1.5.0",
            "_model_name": "FloatProgressModel",
            "_view_count": null,
            "_view_module": "@jupyter-widgets/controls",
            "_view_module_version": "1.5.0",
            "_view_name": "ProgressView",
            "bar_style": "success",
            "description": "",
            "description_tooltip": null,
            "layout": "IPY_MODEL_f0fbdd58af3547a7a648f288b73b5c0b",
            "max": 1629437147,
            "min": 0,
            "orientation": "horizontal",
            "style": "IPY_MODEL_41b9fb3e36584084ace919f5bc1b3a67",
            "value": 1629437147
          }
        },
        "cad33ffd9dbb4eda945e96bd9a22d1b6": {
          "model_module": "@jupyter-widgets/controls",
          "model_name": "HTMLModel",
          "model_module_version": "1.5.0",
          "state": {
            "_dom_classes": [],
            "_model_module": "@jupyter-widgets/controls",
            "_model_module_version": "1.5.0",
            "_model_name": "HTMLModel",
            "_view_count": null,
            "_view_module": "@jupyter-widgets/controls",
            "_view_module_version": "1.5.0",
            "_view_name": "HTMLView",
            "description": "",
            "description_tooltip": null,
            "layout": "IPY_MODEL_eb0835b74c204053a082798a7b78988a",
            "placeholder": "​",
            "style": "IPY_MODEL_707c1fdb61754295abcfaecf6085aac9",
            "value": " 1.63G/1.63G [00:11&lt;00:00, 220MB/s]"
          }
        },
        "150fcb6f0b744896acf8a3f812a125cf": {
          "model_module": "@jupyter-widgets/base",
          "model_name": "LayoutModel",
          "model_module_version": "1.2.0",
          "state": {
            "_model_module": "@jupyter-widgets/base",
            "_model_module_version": "1.2.0",
            "_model_name": "LayoutModel",
            "_view_count": null,
            "_view_module": "@jupyter-widgets/base",
            "_view_module_version": "1.2.0",
            "_view_name": "LayoutView",
            "align_content": null,
            "align_items": null,
            "align_self": null,
            "border": null,
            "bottom": null,
            "display": null,
            "flex": null,
            "flex_flow": null,
            "grid_area": null,
            "grid_auto_columns": null,
            "grid_auto_flow": null,
            "grid_auto_rows": null,
            "grid_column": null,
            "grid_gap": null,
            "grid_row": null,
            "grid_template_areas": null,
            "grid_template_columns": null,
            "grid_template_rows": null,
            "height": null,
            "justify_content": null,
            "justify_items": null,
            "left": null,
            "margin": null,
            "max_height": null,
            "max_width": null,
            "min_height": null,
            "min_width": null,
            "object_fit": null,
            "object_position": null,
            "order": null,
            "overflow": null,
            "overflow_x": null,
            "overflow_y": null,
            "padding": null,
            "right": null,
            "top": null,
            "visibility": null,
            "width": null
          }
        },
        "91bcb70163d243889fd66ba2a944e31d": {
          "model_module": "@jupyter-widgets/base",
          "model_name": "LayoutModel",
          "model_module_version": "1.2.0",
          "state": {
            "_model_module": "@jupyter-widgets/base",
            "_model_module_version": "1.2.0",
            "_model_name": "LayoutModel",
            "_view_count": null,
            "_view_module": "@jupyter-widgets/base",
            "_view_module_version": "1.2.0",
            "_view_name": "LayoutView",
            "align_content": null,
            "align_items": null,
            "align_self": null,
            "border": null,
            "bottom": null,
            "display": null,
            "flex": null,
            "flex_flow": null,
            "grid_area": null,
            "grid_auto_columns": null,
            "grid_auto_flow": null,
            "grid_auto_rows": null,
            "grid_column": null,
            "grid_gap": null,
            "grid_row": null,
            "grid_template_areas": null,
            "grid_template_columns": null,
            "grid_template_rows": null,
            "height": null,
            "justify_content": null,
            "justify_items": null,
            "left": null,
            "margin": null,
            "max_height": null,
            "max_width": null,
            "min_height": null,
            "min_width": null,
            "object_fit": null,
            "object_position": null,
            "order": null,
            "overflow": null,
            "overflow_x": null,
            "overflow_y": null,
            "padding": null,
            "right": null,
            "top": null,
            "visibility": null,
            "width": null
          }
        },
        "0f9c2dc54d6e4044a40f2e72146f6a20": {
          "model_module": "@jupyter-widgets/controls",
          "model_name": "DescriptionStyleModel",
          "model_module_version": "1.5.0",
          "state": {
            "_model_module": "@jupyter-widgets/controls",
            "_model_module_version": "1.5.0",
            "_model_name": "DescriptionStyleModel",
            "_view_count": null,
            "_view_module": "@jupyter-widgets/base",
            "_view_module_version": "1.2.0",
            "_view_name": "StyleView",
            "description_width": ""
          }
        },
        "f0fbdd58af3547a7a648f288b73b5c0b": {
          "model_module": "@jupyter-widgets/base",
          "model_name": "LayoutModel",
          "model_module_version": "1.2.0",
          "state": {
            "_model_module": "@jupyter-widgets/base",
            "_model_module_version": "1.2.0",
            "_model_name": "LayoutModel",
            "_view_count": null,
            "_view_module": "@jupyter-widgets/base",
            "_view_module_version": "1.2.0",
            "_view_name": "LayoutView",
            "align_content": null,
            "align_items": null,
            "align_self": null,
            "border": null,
            "bottom": null,
            "display": null,
            "flex": null,
            "flex_flow": null,
            "grid_area": null,
            "grid_auto_columns": null,
            "grid_auto_flow": null,
            "grid_auto_rows": null,
            "grid_column": null,
            "grid_gap": null,
            "grid_row": null,
            "grid_template_areas": null,
            "grid_template_columns": null,
            "grid_template_rows": null,
            "height": null,
            "justify_content": null,
            "justify_items": null,
            "left": null,
            "margin": null,
            "max_height": null,
            "max_width": null,
            "min_height": null,
            "min_width": null,
            "object_fit": null,
            "object_position": null,
            "order": null,
            "overflow": null,
            "overflow_x": null,
            "overflow_y": null,
            "padding": null,
            "right": null,
            "top": null,
            "visibility": null,
            "width": null
          }
        },
        "41b9fb3e36584084ace919f5bc1b3a67": {
          "model_module": "@jupyter-widgets/controls",
          "model_name": "ProgressStyleModel",
          "model_module_version": "1.5.0",
          "state": {
            "_model_module": "@jupyter-widgets/controls",
            "_model_module_version": "1.5.0",
            "_model_name": "ProgressStyleModel",
            "_view_count": null,
            "_view_module": "@jupyter-widgets/base",
            "_view_module_version": "1.2.0",
            "_view_name": "StyleView",
            "bar_color": null,
            "description_width": ""
          }
        },
        "eb0835b74c204053a082798a7b78988a": {
          "model_module": "@jupyter-widgets/base",
          "model_name": "LayoutModel",
          "model_module_version": "1.2.0",
          "state": {
            "_model_module": "@jupyter-widgets/base",
            "_model_module_version": "1.2.0",
            "_model_name": "LayoutModel",
            "_view_count": null,
            "_view_module": "@jupyter-widgets/base",
            "_view_module_version": "1.2.0",
            "_view_name": "LayoutView",
            "align_content": null,
            "align_items": null,
            "align_self": null,
            "border": null,
            "bottom": null,
            "display": null,
            "flex": null,
            "flex_flow": null,
            "grid_area": null,
            "grid_auto_columns": null,
            "grid_auto_flow": null,
            "grid_auto_rows": null,
            "grid_column": null,
            "grid_gap": null,
            "grid_row": null,
            "grid_template_areas": null,
            "grid_template_columns": null,
            "grid_template_rows": null,
            "height": null,
            "justify_content": null,
            "justify_items": null,
            "left": null,
            "margin": null,
            "max_height": null,
            "max_width": null,
            "min_height": null,
            "min_width": null,
            "object_fit": null,
            "object_position": null,
            "order": null,
            "overflow": null,
            "overflow_x": null,
            "overflow_y": null,
            "padding": null,
            "right": null,
            "top": null,
            "visibility": null,
            "width": null
          }
        },
        "707c1fdb61754295abcfaecf6085aac9": {
          "model_module": "@jupyter-widgets/controls",
          "model_name": "DescriptionStyleModel",
          "model_module_version": "1.5.0",
          "state": {
            "_model_module": "@jupyter-widgets/controls",
            "_model_module_version": "1.5.0",
            "_model_name": "DescriptionStyleModel",
            "_view_count": null,
            "_view_module": "@jupyter-widgets/base",
            "_view_module_version": "1.2.0",
            "_view_name": "StyleView",
            "description_width": ""
          }
        },
        "3f974c2feb744a6d966c8a4c24a2d6f9": {
          "model_module": "@jupyter-widgets/controls",
          "model_name": "HBoxModel",
          "model_module_version": "1.5.0",
          "state": {
            "_dom_classes": [],
            "_model_module": "@jupyter-widgets/controls",
            "_model_module_version": "1.5.0",
            "_model_name": "HBoxModel",
            "_view_count": null,
            "_view_module": "@jupyter-widgets/controls",
            "_view_module_version": "1.5.0",
            "_view_name": "HBoxView",
            "box_style": "",
            "children": [
              "IPY_MODEL_19b235c379194a6ca2c9320f3f202472",
              "IPY_MODEL_f49024a2bea44401b9ad86896adb0ce1",
              "IPY_MODEL_8ea347b7218146f5a429848af196facd"
            ],
            "layout": "IPY_MODEL_fc6e083780dd47ddb79d66c67601d6cf"
          }
        },
        "19b235c379194a6ca2c9320f3f202472": {
          "model_module": "@jupyter-widgets/controls",
          "model_name": "HTMLModel",
          "model_module_version": "1.5.0",
          "state": {
            "_dom_classes": [],
            "_model_module": "@jupyter-widgets/controls",
            "_model_module_version": "1.5.0",
            "_model_name": "HTMLModel",
            "_view_count": null,
            "_view_module": "@jupyter-widgets/controls",
            "_view_module_version": "1.5.0",
            "_view_name": "HTMLView",
            "description": "",
            "description_tooltip": null,
            "layout": "IPY_MODEL_2bcab74b9b784f388a2c670682f72886",
            "placeholder": "​",
            "style": "IPY_MODEL_930f524dbcdf4a68ac4b12b9c27d29cf",
            "value": "tokenizer_config.json: 100%"
          }
        },
        "f49024a2bea44401b9ad86896adb0ce1": {
          "model_module": "@jupyter-widgets/controls",
          "model_name": "FloatProgressModel",
          "model_module_version": "1.5.0",
          "state": {
            "_dom_classes": [],
            "_model_module": "@jupyter-widgets/controls",
            "_model_module_version": "1.5.0",
            "_model_name": "FloatProgressModel",
            "_view_count": null,
            "_view_module": "@jupyter-widgets/controls",
            "_view_module_version": "1.5.0",
            "_view_name": "ProgressView",
            "bar_style": "success",
            "description": "",
            "description_tooltip": null,
            "layout": "IPY_MODEL_1698054f575d48b2a7ffbd944ab12881",
            "max": 26,
            "min": 0,
            "orientation": "horizontal",
            "style": "IPY_MODEL_08e442d56e174999bfe4233b3a4ed01b",
            "value": 26
          }
        },
        "8ea347b7218146f5a429848af196facd": {
          "model_module": "@jupyter-widgets/controls",
          "model_name": "HTMLModel",
          "model_module_version": "1.5.0",
          "state": {
            "_dom_classes": [],
            "_model_module": "@jupyter-widgets/controls",
            "_model_module_version": "1.5.0",
            "_model_name": "HTMLModel",
            "_view_count": null,
            "_view_module": "@jupyter-widgets/controls",
            "_view_module_version": "1.5.0",
            "_view_name": "HTMLView",
            "description": "",
            "description_tooltip": null,
            "layout": "IPY_MODEL_082f6d9dfa4e432784e709de0dedbe12",
            "placeholder": "​",
            "style": "IPY_MODEL_b8fde6041daa44ab9c55b07c7ac0db34",
            "value": " 26.0/26.0 [00:00&lt;00:00, 1.81kB/s]"
          }
        },
        "fc6e083780dd47ddb79d66c67601d6cf": {
          "model_module": "@jupyter-widgets/base",
          "model_name": "LayoutModel",
          "model_module_version": "1.2.0",
          "state": {
            "_model_module": "@jupyter-widgets/base",
            "_model_module_version": "1.2.0",
            "_model_name": "LayoutModel",
            "_view_count": null,
            "_view_module": "@jupyter-widgets/base",
            "_view_module_version": "1.2.0",
            "_view_name": "LayoutView",
            "align_content": null,
            "align_items": null,
            "align_self": null,
            "border": null,
            "bottom": null,
            "display": null,
            "flex": null,
            "flex_flow": null,
            "grid_area": null,
            "grid_auto_columns": null,
            "grid_auto_flow": null,
            "grid_auto_rows": null,
            "grid_column": null,
            "grid_gap": null,
            "grid_row": null,
            "grid_template_areas": null,
            "grid_template_columns": null,
            "grid_template_rows": null,
            "height": null,
            "justify_content": null,
            "justify_items": null,
            "left": null,
            "margin": null,
            "max_height": null,
            "max_width": null,
            "min_height": null,
            "min_width": null,
            "object_fit": null,
            "object_position": null,
            "order": null,
            "overflow": null,
            "overflow_x": null,
            "overflow_y": null,
            "padding": null,
            "right": null,
            "top": null,
            "visibility": null,
            "width": null
          }
        },
        "2bcab74b9b784f388a2c670682f72886": {
          "model_module": "@jupyter-widgets/base",
          "model_name": "LayoutModel",
          "model_module_version": "1.2.0",
          "state": {
            "_model_module": "@jupyter-widgets/base",
            "_model_module_version": "1.2.0",
            "_model_name": "LayoutModel",
            "_view_count": null,
            "_view_module": "@jupyter-widgets/base",
            "_view_module_version": "1.2.0",
            "_view_name": "LayoutView",
            "align_content": null,
            "align_items": null,
            "align_self": null,
            "border": null,
            "bottom": null,
            "display": null,
            "flex": null,
            "flex_flow": null,
            "grid_area": null,
            "grid_auto_columns": null,
            "grid_auto_flow": null,
            "grid_auto_rows": null,
            "grid_column": null,
            "grid_gap": null,
            "grid_row": null,
            "grid_template_areas": null,
            "grid_template_columns": null,
            "grid_template_rows": null,
            "height": null,
            "justify_content": null,
            "justify_items": null,
            "left": null,
            "margin": null,
            "max_height": null,
            "max_width": null,
            "min_height": null,
            "min_width": null,
            "object_fit": null,
            "object_position": null,
            "order": null,
            "overflow": null,
            "overflow_x": null,
            "overflow_y": null,
            "padding": null,
            "right": null,
            "top": null,
            "visibility": null,
            "width": null
          }
        },
        "930f524dbcdf4a68ac4b12b9c27d29cf": {
          "model_module": "@jupyter-widgets/controls",
          "model_name": "DescriptionStyleModel",
          "model_module_version": "1.5.0",
          "state": {
            "_model_module": "@jupyter-widgets/controls",
            "_model_module_version": "1.5.0",
            "_model_name": "DescriptionStyleModel",
            "_view_count": null,
            "_view_module": "@jupyter-widgets/base",
            "_view_module_version": "1.2.0",
            "_view_name": "StyleView",
            "description_width": ""
          }
        },
        "1698054f575d48b2a7ffbd944ab12881": {
          "model_module": "@jupyter-widgets/base",
          "model_name": "LayoutModel",
          "model_module_version": "1.2.0",
          "state": {
            "_model_module": "@jupyter-widgets/base",
            "_model_module_version": "1.2.0",
            "_model_name": "LayoutModel",
            "_view_count": null,
            "_view_module": "@jupyter-widgets/base",
            "_view_module_version": "1.2.0",
            "_view_name": "LayoutView",
            "align_content": null,
            "align_items": null,
            "align_self": null,
            "border": null,
            "bottom": null,
            "display": null,
            "flex": null,
            "flex_flow": null,
            "grid_area": null,
            "grid_auto_columns": null,
            "grid_auto_flow": null,
            "grid_auto_rows": null,
            "grid_column": null,
            "grid_gap": null,
            "grid_row": null,
            "grid_template_areas": null,
            "grid_template_columns": null,
            "grid_template_rows": null,
            "height": null,
            "justify_content": null,
            "justify_items": null,
            "left": null,
            "margin": null,
            "max_height": null,
            "max_width": null,
            "min_height": null,
            "min_width": null,
            "object_fit": null,
            "object_position": null,
            "order": null,
            "overflow": null,
            "overflow_x": null,
            "overflow_y": null,
            "padding": null,
            "right": null,
            "top": null,
            "visibility": null,
            "width": null
          }
        },
        "08e442d56e174999bfe4233b3a4ed01b": {
          "model_module": "@jupyter-widgets/controls",
          "model_name": "ProgressStyleModel",
          "model_module_version": "1.5.0",
          "state": {
            "_model_module": "@jupyter-widgets/controls",
            "_model_module_version": "1.5.0",
            "_model_name": "ProgressStyleModel",
            "_view_count": null,
            "_view_module": "@jupyter-widgets/base",
            "_view_module_version": "1.2.0",
            "_view_name": "StyleView",
            "bar_color": null,
            "description_width": ""
          }
        },
        "082f6d9dfa4e432784e709de0dedbe12": {
          "model_module": "@jupyter-widgets/base",
          "model_name": "LayoutModel",
          "model_module_version": "1.2.0",
          "state": {
            "_model_module": "@jupyter-widgets/base",
            "_model_module_version": "1.2.0",
            "_model_name": "LayoutModel",
            "_view_count": null,
            "_view_module": "@jupyter-widgets/base",
            "_view_module_version": "1.2.0",
            "_view_name": "LayoutView",
            "align_content": null,
            "align_items": null,
            "align_self": null,
            "border": null,
            "bottom": null,
            "display": null,
            "flex": null,
            "flex_flow": null,
            "grid_area": null,
            "grid_auto_columns": null,
            "grid_auto_flow": null,
            "grid_auto_rows": null,
            "grid_column": null,
            "grid_gap": null,
            "grid_row": null,
            "grid_template_areas": null,
            "grid_template_columns": null,
            "grid_template_rows": null,
            "height": null,
            "justify_content": null,
            "justify_items": null,
            "left": null,
            "margin": null,
            "max_height": null,
            "max_width": null,
            "min_height": null,
            "min_width": null,
            "object_fit": null,
            "object_position": null,
            "order": null,
            "overflow": null,
            "overflow_x": null,
            "overflow_y": null,
            "padding": null,
            "right": null,
            "top": null,
            "visibility": null,
            "width": null
          }
        },
        "b8fde6041daa44ab9c55b07c7ac0db34": {
          "model_module": "@jupyter-widgets/controls",
          "model_name": "DescriptionStyleModel",
          "model_module_version": "1.5.0",
          "state": {
            "_model_module": "@jupyter-widgets/controls",
            "_model_module_version": "1.5.0",
            "_model_name": "DescriptionStyleModel",
            "_view_count": null,
            "_view_module": "@jupyter-widgets/base",
            "_view_module_version": "1.2.0",
            "_view_name": "StyleView",
            "description_width": ""
          }
        },
        "97a66f4ab45d4fb097d850272de64fed": {
          "model_module": "@jupyter-widgets/controls",
          "model_name": "HBoxModel",
          "model_module_version": "1.5.0",
          "state": {
            "_dom_classes": [],
            "_model_module": "@jupyter-widgets/controls",
            "_model_module_version": "1.5.0",
            "_model_name": "HBoxModel",
            "_view_count": null,
            "_view_module": "@jupyter-widgets/controls",
            "_view_module_version": "1.5.0",
            "_view_name": "HBoxView",
            "box_style": "",
            "children": [
              "IPY_MODEL_3a5079f793e5484aaa2b9824970af603",
              "IPY_MODEL_0568cee641f549e295974ffc24567c37",
              "IPY_MODEL_4602afca1f194bd787e3533c2bbccf8e"
            ],
            "layout": "IPY_MODEL_4d5f992b728c45aea7d9fdaf5cf60623"
          }
        },
        "3a5079f793e5484aaa2b9824970af603": {
          "model_module": "@jupyter-widgets/controls",
          "model_name": "HTMLModel",
          "model_module_version": "1.5.0",
          "state": {
            "_dom_classes": [],
            "_model_module": "@jupyter-widgets/controls",
            "_model_module_version": "1.5.0",
            "_model_name": "HTMLModel",
            "_view_count": null,
            "_view_module": "@jupyter-widgets/controls",
            "_view_module_version": "1.5.0",
            "_view_name": "HTMLView",
            "description": "",
            "description_tooltip": null,
            "layout": "IPY_MODEL_026140bcacc7444288e55d8e73551852",
            "placeholder": "​",
            "style": "IPY_MODEL_51a68ffd6fb34e068864446f7de3ed67",
            "value": "vocab.json: 100%"
          }
        },
        "0568cee641f549e295974ffc24567c37": {
          "model_module": "@jupyter-widgets/controls",
          "model_name": "FloatProgressModel",
          "model_module_version": "1.5.0",
          "state": {
            "_dom_classes": [],
            "_model_module": "@jupyter-widgets/controls",
            "_model_module_version": "1.5.0",
            "_model_name": "FloatProgressModel",
            "_view_count": null,
            "_view_module": "@jupyter-widgets/controls",
            "_view_module_version": "1.5.0",
            "_view_name": "ProgressView",
            "bar_style": "success",
            "description": "",
            "description_tooltip": null,
            "layout": "IPY_MODEL_c8376593257944748f2dfd1251b9b5ba",
            "max": 898822,
            "min": 0,
            "orientation": "horizontal",
            "style": "IPY_MODEL_52d56289dee44260a571944f2bbdc72f",
            "value": 898822
          }
        },
        "4602afca1f194bd787e3533c2bbccf8e": {
          "model_module": "@jupyter-widgets/controls",
          "model_name": "HTMLModel",
          "model_module_version": "1.5.0",
          "state": {
            "_dom_classes": [],
            "_model_module": "@jupyter-widgets/controls",
            "_model_module_version": "1.5.0",
            "_model_name": "HTMLModel",
            "_view_count": null,
            "_view_module": "@jupyter-widgets/controls",
            "_view_module_version": "1.5.0",
            "_view_name": "HTMLView",
            "description": "",
            "description_tooltip": null,
            "layout": "IPY_MODEL_b179e91eeee4494db7aa32856af41cbb",
            "placeholder": "​",
            "style": "IPY_MODEL_5050b893ded948b1a078531f3561d39c",
            "value": " 899k/899k [00:00&lt;00:00, 3.59MB/s]"
          }
        },
        "4d5f992b728c45aea7d9fdaf5cf60623": {
          "model_module": "@jupyter-widgets/base",
          "model_name": "LayoutModel",
          "model_module_version": "1.2.0",
          "state": {
            "_model_module": "@jupyter-widgets/base",
            "_model_module_version": "1.2.0",
            "_model_name": "LayoutModel",
            "_view_count": null,
            "_view_module": "@jupyter-widgets/base",
            "_view_module_version": "1.2.0",
            "_view_name": "LayoutView",
            "align_content": null,
            "align_items": null,
            "align_self": null,
            "border": null,
            "bottom": null,
            "display": null,
            "flex": null,
            "flex_flow": null,
            "grid_area": null,
            "grid_auto_columns": null,
            "grid_auto_flow": null,
            "grid_auto_rows": null,
            "grid_column": null,
            "grid_gap": null,
            "grid_row": null,
            "grid_template_areas": null,
            "grid_template_columns": null,
            "grid_template_rows": null,
            "height": null,
            "justify_content": null,
            "justify_items": null,
            "left": null,
            "margin": null,
            "max_height": null,
            "max_width": null,
            "min_height": null,
            "min_width": null,
            "object_fit": null,
            "object_position": null,
            "order": null,
            "overflow": null,
            "overflow_x": null,
            "overflow_y": null,
            "padding": null,
            "right": null,
            "top": null,
            "visibility": null,
            "width": null
          }
        },
        "026140bcacc7444288e55d8e73551852": {
          "model_module": "@jupyter-widgets/base",
          "model_name": "LayoutModel",
          "model_module_version": "1.2.0",
          "state": {
            "_model_module": "@jupyter-widgets/base",
            "_model_module_version": "1.2.0",
            "_model_name": "LayoutModel",
            "_view_count": null,
            "_view_module": "@jupyter-widgets/base",
            "_view_module_version": "1.2.0",
            "_view_name": "LayoutView",
            "align_content": null,
            "align_items": null,
            "align_self": null,
            "border": null,
            "bottom": null,
            "display": null,
            "flex": null,
            "flex_flow": null,
            "grid_area": null,
            "grid_auto_columns": null,
            "grid_auto_flow": null,
            "grid_auto_rows": null,
            "grid_column": null,
            "grid_gap": null,
            "grid_row": null,
            "grid_template_areas": null,
            "grid_template_columns": null,
            "grid_template_rows": null,
            "height": null,
            "justify_content": null,
            "justify_items": null,
            "left": null,
            "margin": null,
            "max_height": null,
            "max_width": null,
            "min_height": null,
            "min_width": null,
            "object_fit": null,
            "object_position": null,
            "order": null,
            "overflow": null,
            "overflow_x": null,
            "overflow_y": null,
            "padding": null,
            "right": null,
            "top": null,
            "visibility": null,
            "width": null
          }
        },
        "51a68ffd6fb34e068864446f7de3ed67": {
          "model_module": "@jupyter-widgets/controls",
          "model_name": "DescriptionStyleModel",
          "model_module_version": "1.5.0",
          "state": {
            "_model_module": "@jupyter-widgets/controls",
            "_model_module_version": "1.5.0",
            "_model_name": "DescriptionStyleModel",
            "_view_count": null,
            "_view_module": "@jupyter-widgets/base",
            "_view_module_version": "1.2.0",
            "_view_name": "StyleView",
            "description_width": ""
          }
        },
        "c8376593257944748f2dfd1251b9b5ba": {
          "model_module": "@jupyter-widgets/base",
          "model_name": "LayoutModel",
          "model_module_version": "1.2.0",
          "state": {
            "_model_module": "@jupyter-widgets/base",
            "_model_module_version": "1.2.0",
            "_model_name": "LayoutModel",
            "_view_count": null,
            "_view_module": "@jupyter-widgets/base",
            "_view_module_version": "1.2.0",
            "_view_name": "LayoutView",
            "align_content": null,
            "align_items": null,
            "align_self": null,
            "border": null,
            "bottom": null,
            "display": null,
            "flex": null,
            "flex_flow": null,
            "grid_area": null,
            "grid_auto_columns": null,
            "grid_auto_flow": null,
            "grid_auto_rows": null,
            "grid_column": null,
            "grid_gap": null,
            "grid_row": null,
            "grid_template_areas": null,
            "grid_template_columns": null,
            "grid_template_rows": null,
            "height": null,
            "justify_content": null,
            "justify_items": null,
            "left": null,
            "margin": null,
            "max_height": null,
            "max_width": null,
            "min_height": null,
            "min_width": null,
            "object_fit": null,
            "object_position": null,
            "order": null,
            "overflow": null,
            "overflow_x": null,
            "overflow_y": null,
            "padding": null,
            "right": null,
            "top": null,
            "visibility": null,
            "width": null
          }
        },
        "52d56289dee44260a571944f2bbdc72f": {
          "model_module": "@jupyter-widgets/controls",
          "model_name": "ProgressStyleModel",
          "model_module_version": "1.5.0",
          "state": {
            "_model_module": "@jupyter-widgets/controls",
            "_model_module_version": "1.5.0",
            "_model_name": "ProgressStyleModel",
            "_view_count": null,
            "_view_module": "@jupyter-widgets/base",
            "_view_module_version": "1.2.0",
            "_view_name": "StyleView",
            "bar_color": null,
            "description_width": ""
          }
        },
        "b179e91eeee4494db7aa32856af41cbb": {
          "model_module": "@jupyter-widgets/base",
          "model_name": "LayoutModel",
          "model_module_version": "1.2.0",
          "state": {
            "_model_module": "@jupyter-widgets/base",
            "_model_module_version": "1.2.0",
            "_model_name": "LayoutModel",
            "_view_count": null,
            "_view_module": "@jupyter-widgets/base",
            "_view_module_version": "1.2.0",
            "_view_name": "LayoutView",
            "align_content": null,
            "align_items": null,
            "align_self": null,
            "border": null,
            "bottom": null,
            "display": null,
            "flex": null,
            "flex_flow": null,
            "grid_area": null,
            "grid_auto_columns": null,
            "grid_auto_flow": null,
            "grid_auto_rows": null,
            "grid_column": null,
            "grid_gap": null,
            "grid_row": null,
            "grid_template_areas": null,
            "grid_template_columns": null,
            "grid_template_rows": null,
            "height": null,
            "justify_content": null,
            "justify_items": null,
            "left": null,
            "margin": null,
            "max_height": null,
            "max_width": null,
            "min_height": null,
            "min_width": null,
            "object_fit": null,
            "object_position": null,
            "order": null,
            "overflow": null,
            "overflow_x": null,
            "overflow_y": null,
            "padding": null,
            "right": null,
            "top": null,
            "visibility": null,
            "width": null
          }
        },
        "5050b893ded948b1a078531f3561d39c": {
          "model_module": "@jupyter-widgets/controls",
          "model_name": "DescriptionStyleModel",
          "model_module_version": "1.5.0",
          "state": {
            "_model_module": "@jupyter-widgets/controls",
            "_model_module_version": "1.5.0",
            "_model_name": "DescriptionStyleModel",
            "_view_count": null,
            "_view_module": "@jupyter-widgets/base",
            "_view_module_version": "1.2.0",
            "_view_name": "StyleView",
            "description_width": ""
          }
        },
        "1530bfc84985425da757f50a9f22482d": {
          "model_module": "@jupyter-widgets/controls",
          "model_name": "HBoxModel",
          "model_module_version": "1.5.0",
          "state": {
            "_dom_classes": [],
            "_model_module": "@jupyter-widgets/controls",
            "_model_module_version": "1.5.0",
            "_model_name": "HBoxModel",
            "_view_count": null,
            "_view_module": "@jupyter-widgets/controls",
            "_view_module_version": "1.5.0",
            "_view_name": "HBoxView",
            "box_style": "",
            "children": [
              "IPY_MODEL_02970f444edc479084fdcc32536f0a15",
              "IPY_MODEL_726635490d824d7aa45729676f4ba31b",
              "IPY_MODEL_891a5016ab144ae6ada0f598ba0fe5f9"
            ],
            "layout": "IPY_MODEL_a91ce28f3d654283aafa73f89319ea65"
          }
        },
        "02970f444edc479084fdcc32536f0a15": {
          "model_module": "@jupyter-widgets/controls",
          "model_name": "HTMLModel",
          "model_module_version": "1.5.0",
          "state": {
            "_dom_classes": [],
            "_model_module": "@jupyter-widgets/controls",
            "_model_module_version": "1.5.0",
            "_model_name": "HTMLModel",
            "_view_count": null,
            "_view_module": "@jupyter-widgets/controls",
            "_view_module_version": "1.5.0",
            "_view_name": "HTMLView",
            "description": "",
            "description_tooltip": null,
            "layout": "IPY_MODEL_62d0e8b9f14a4e7496611e6786ea29fe",
            "placeholder": "​",
            "style": "IPY_MODEL_5aa30b63cf274dbbb3df401ae3a4dbb9",
            "value": "merges.txt: 100%"
          }
        },
        "726635490d824d7aa45729676f4ba31b": {
          "model_module": "@jupyter-widgets/controls",
          "model_name": "FloatProgressModel",
          "model_module_version": "1.5.0",
          "state": {
            "_dom_classes": [],
            "_model_module": "@jupyter-widgets/controls",
            "_model_module_version": "1.5.0",
            "_model_name": "FloatProgressModel",
            "_view_count": null,
            "_view_module": "@jupyter-widgets/controls",
            "_view_module_version": "1.5.0",
            "_view_name": "ProgressView",
            "bar_style": "success",
            "description": "",
            "description_tooltip": null,
            "layout": "IPY_MODEL_3f492f1f24de4dc7a3eb63ee1c5111b4",
            "max": 456318,
            "min": 0,
            "orientation": "horizontal",
            "style": "IPY_MODEL_060a760185e046df9ef96cff1dc736ab",
            "value": 456318
          }
        },
        "891a5016ab144ae6ada0f598ba0fe5f9": {
          "model_module": "@jupyter-widgets/controls",
          "model_name": "HTMLModel",
          "model_module_version": "1.5.0",
          "state": {
            "_dom_classes": [],
            "_model_module": "@jupyter-widgets/controls",
            "_model_module_version": "1.5.0",
            "_model_name": "HTMLModel",
            "_view_count": null,
            "_view_module": "@jupyter-widgets/controls",
            "_view_module_version": "1.5.0",
            "_view_name": "HTMLView",
            "description": "",
            "description_tooltip": null,
            "layout": "IPY_MODEL_b0d28609aeac4d609c389ee1439506c9",
            "placeholder": "​",
            "style": "IPY_MODEL_9738eff6dda244439bf70be1f11db1dc",
            "value": " 456k/456k [00:00&lt;00:00, 26.4MB/s]"
          }
        },
        "a91ce28f3d654283aafa73f89319ea65": {
          "model_module": "@jupyter-widgets/base",
          "model_name": "LayoutModel",
          "model_module_version": "1.2.0",
          "state": {
            "_model_module": "@jupyter-widgets/base",
            "_model_module_version": "1.2.0",
            "_model_name": "LayoutModel",
            "_view_count": null,
            "_view_module": "@jupyter-widgets/base",
            "_view_module_version": "1.2.0",
            "_view_name": "LayoutView",
            "align_content": null,
            "align_items": null,
            "align_self": null,
            "border": null,
            "bottom": null,
            "display": null,
            "flex": null,
            "flex_flow": null,
            "grid_area": null,
            "grid_auto_columns": null,
            "grid_auto_flow": null,
            "grid_auto_rows": null,
            "grid_column": null,
            "grid_gap": null,
            "grid_row": null,
            "grid_template_areas": null,
            "grid_template_columns": null,
            "grid_template_rows": null,
            "height": null,
            "justify_content": null,
            "justify_items": null,
            "left": null,
            "margin": null,
            "max_height": null,
            "max_width": null,
            "min_height": null,
            "min_width": null,
            "object_fit": null,
            "object_position": null,
            "order": null,
            "overflow": null,
            "overflow_x": null,
            "overflow_y": null,
            "padding": null,
            "right": null,
            "top": null,
            "visibility": null,
            "width": null
          }
        },
        "62d0e8b9f14a4e7496611e6786ea29fe": {
          "model_module": "@jupyter-widgets/base",
          "model_name": "LayoutModel",
          "model_module_version": "1.2.0",
          "state": {
            "_model_module": "@jupyter-widgets/base",
            "_model_module_version": "1.2.0",
            "_model_name": "LayoutModel",
            "_view_count": null,
            "_view_module": "@jupyter-widgets/base",
            "_view_module_version": "1.2.0",
            "_view_name": "LayoutView",
            "align_content": null,
            "align_items": null,
            "align_self": null,
            "border": null,
            "bottom": null,
            "display": null,
            "flex": null,
            "flex_flow": null,
            "grid_area": null,
            "grid_auto_columns": null,
            "grid_auto_flow": null,
            "grid_auto_rows": null,
            "grid_column": null,
            "grid_gap": null,
            "grid_row": null,
            "grid_template_areas": null,
            "grid_template_columns": null,
            "grid_template_rows": null,
            "height": null,
            "justify_content": null,
            "justify_items": null,
            "left": null,
            "margin": null,
            "max_height": null,
            "max_width": null,
            "min_height": null,
            "min_width": null,
            "object_fit": null,
            "object_position": null,
            "order": null,
            "overflow": null,
            "overflow_x": null,
            "overflow_y": null,
            "padding": null,
            "right": null,
            "top": null,
            "visibility": null,
            "width": null
          }
        },
        "5aa30b63cf274dbbb3df401ae3a4dbb9": {
          "model_module": "@jupyter-widgets/controls",
          "model_name": "DescriptionStyleModel",
          "model_module_version": "1.5.0",
          "state": {
            "_model_module": "@jupyter-widgets/controls",
            "_model_module_version": "1.5.0",
            "_model_name": "DescriptionStyleModel",
            "_view_count": null,
            "_view_module": "@jupyter-widgets/base",
            "_view_module_version": "1.2.0",
            "_view_name": "StyleView",
            "description_width": ""
          }
        },
        "3f492f1f24de4dc7a3eb63ee1c5111b4": {
          "model_module": "@jupyter-widgets/base",
          "model_name": "LayoutModel",
          "model_module_version": "1.2.0",
          "state": {
            "_model_module": "@jupyter-widgets/base",
            "_model_module_version": "1.2.0",
            "_model_name": "LayoutModel",
            "_view_count": null,
            "_view_module": "@jupyter-widgets/base",
            "_view_module_version": "1.2.0",
            "_view_name": "LayoutView",
            "align_content": null,
            "align_items": null,
            "align_self": null,
            "border": null,
            "bottom": null,
            "display": null,
            "flex": null,
            "flex_flow": null,
            "grid_area": null,
            "grid_auto_columns": null,
            "grid_auto_flow": null,
            "grid_auto_rows": null,
            "grid_column": null,
            "grid_gap": null,
            "grid_row": null,
            "grid_template_areas": null,
            "grid_template_columns": null,
            "grid_template_rows": null,
            "height": null,
            "justify_content": null,
            "justify_items": null,
            "left": null,
            "margin": null,
            "max_height": null,
            "max_width": null,
            "min_height": null,
            "min_width": null,
            "object_fit": null,
            "object_position": null,
            "order": null,
            "overflow": null,
            "overflow_x": null,
            "overflow_y": null,
            "padding": null,
            "right": null,
            "top": null,
            "visibility": null,
            "width": null
          }
        },
        "060a760185e046df9ef96cff1dc736ab": {
          "model_module": "@jupyter-widgets/controls",
          "model_name": "ProgressStyleModel",
          "model_module_version": "1.5.0",
          "state": {
            "_model_module": "@jupyter-widgets/controls",
            "_model_module_version": "1.5.0",
            "_model_name": "ProgressStyleModel",
            "_view_count": null,
            "_view_module": "@jupyter-widgets/base",
            "_view_module_version": "1.2.0",
            "_view_name": "StyleView",
            "bar_color": null,
            "description_width": ""
          }
        },
        "b0d28609aeac4d609c389ee1439506c9": {
          "model_module": "@jupyter-widgets/base",
          "model_name": "LayoutModel",
          "model_module_version": "1.2.0",
          "state": {
            "_model_module": "@jupyter-widgets/base",
            "_model_module_version": "1.2.0",
            "_model_name": "LayoutModel",
            "_view_count": null,
            "_view_module": "@jupyter-widgets/base",
            "_view_module_version": "1.2.0",
            "_view_name": "LayoutView",
            "align_content": null,
            "align_items": null,
            "align_self": null,
            "border": null,
            "bottom": null,
            "display": null,
            "flex": null,
            "flex_flow": null,
            "grid_area": null,
            "grid_auto_columns": null,
            "grid_auto_flow": null,
            "grid_auto_rows": null,
            "grid_column": null,
            "grid_gap": null,
            "grid_row": null,
            "grid_template_areas": null,
            "grid_template_columns": null,
            "grid_template_rows": null,
            "height": null,
            "justify_content": null,
            "justify_items": null,
            "left": null,
            "margin": null,
            "max_height": null,
            "max_width": null,
            "min_height": null,
            "min_width": null,
            "object_fit": null,
            "object_position": null,
            "order": null,
            "overflow": null,
            "overflow_x": null,
            "overflow_y": null,
            "padding": null,
            "right": null,
            "top": null,
            "visibility": null,
            "width": null
          }
        },
        "9738eff6dda244439bf70be1f11db1dc": {
          "model_module": "@jupyter-widgets/controls",
          "model_name": "DescriptionStyleModel",
          "model_module_version": "1.5.0",
          "state": {
            "_model_module": "@jupyter-widgets/controls",
            "_model_module_version": "1.5.0",
            "_model_name": "DescriptionStyleModel",
            "_view_count": null,
            "_view_module": "@jupyter-widgets/base",
            "_view_module_version": "1.2.0",
            "_view_name": "StyleView",
            "description_width": ""
          }
        },
        "6dd829abd7cd479eb062cd1b8b2e8087": {
          "model_module": "@jupyter-widgets/controls",
          "model_name": "HBoxModel",
          "model_module_version": "1.5.0",
          "state": {
            "_dom_classes": [],
            "_model_module": "@jupyter-widgets/controls",
            "_model_module_version": "1.5.0",
            "_model_name": "HBoxModel",
            "_view_count": null,
            "_view_module": "@jupyter-widgets/controls",
            "_view_module_version": "1.5.0",
            "_view_name": "HBoxView",
            "box_style": "",
            "children": [
              "IPY_MODEL_ed725e92d0144424bcf96259a7375113",
              "IPY_MODEL_d1f0f701eb5340a180daf69ff46d2ea3",
              "IPY_MODEL_844a56b867e540388c3899e1130db882"
            ],
            "layout": "IPY_MODEL_490faf20e244411c97872e671824516d"
          }
        },
        "ed725e92d0144424bcf96259a7375113": {
          "model_module": "@jupyter-widgets/controls",
          "model_name": "HTMLModel",
          "model_module_version": "1.5.0",
          "state": {
            "_dom_classes": [],
            "_model_module": "@jupyter-widgets/controls",
            "_model_module_version": "1.5.0",
            "_model_name": "HTMLModel",
            "_view_count": null,
            "_view_module": "@jupyter-widgets/controls",
            "_view_module_version": "1.5.0",
            "_view_name": "HTMLView",
            "description": "",
            "description_tooltip": null,
            "layout": "IPY_MODEL_cfdd234939c3467aa38e00aa916a242c",
            "placeholder": "​",
            "style": "IPY_MODEL_2987222b4cfa4c0eb00780a3249c73f3",
            "value": "tokenizer.json: 100%"
          }
        },
        "d1f0f701eb5340a180daf69ff46d2ea3": {
          "model_module": "@jupyter-widgets/controls",
          "model_name": "FloatProgressModel",
          "model_module_version": "1.5.0",
          "state": {
            "_dom_classes": [],
            "_model_module": "@jupyter-widgets/controls",
            "_model_module_version": "1.5.0",
            "_model_name": "FloatProgressModel",
            "_view_count": null,
            "_view_module": "@jupyter-widgets/controls",
            "_view_module_version": "1.5.0",
            "_view_name": "ProgressView",
            "bar_style": "success",
            "description": "",
            "description_tooltip": null,
            "layout": "IPY_MODEL_df573965c50a41c98a29e199c379f790",
            "max": 1355863,
            "min": 0,
            "orientation": "horizontal",
            "style": "IPY_MODEL_4e25959b41874d0596aa586f014a8e2b",
            "value": 1355863
          }
        },
        "844a56b867e540388c3899e1130db882": {
          "model_module": "@jupyter-widgets/controls",
          "model_name": "HTMLModel",
          "model_module_version": "1.5.0",
          "state": {
            "_dom_classes": [],
            "_model_module": "@jupyter-widgets/controls",
            "_model_module_version": "1.5.0",
            "_model_name": "HTMLModel",
            "_view_count": null,
            "_view_module": "@jupyter-widgets/controls",
            "_view_module_version": "1.5.0",
            "_view_name": "HTMLView",
            "description": "",
            "description_tooltip": null,
            "layout": "IPY_MODEL_e2a84a9943ce4caf8b6076569eedaf15",
            "placeholder": "​",
            "style": "IPY_MODEL_931722420f3048dba378d081da0c7ba5",
            "value": " 1.36M/1.36M [00:00&lt;00:00, 10.7MB/s]"
          }
        },
        "490faf20e244411c97872e671824516d": {
          "model_module": "@jupyter-widgets/base",
          "model_name": "LayoutModel",
          "model_module_version": "1.2.0",
          "state": {
            "_model_module": "@jupyter-widgets/base",
            "_model_module_version": "1.2.0",
            "_model_name": "LayoutModel",
            "_view_count": null,
            "_view_module": "@jupyter-widgets/base",
            "_view_module_version": "1.2.0",
            "_view_name": "LayoutView",
            "align_content": null,
            "align_items": null,
            "align_self": null,
            "border": null,
            "bottom": null,
            "display": null,
            "flex": null,
            "flex_flow": null,
            "grid_area": null,
            "grid_auto_columns": null,
            "grid_auto_flow": null,
            "grid_auto_rows": null,
            "grid_column": null,
            "grid_gap": null,
            "grid_row": null,
            "grid_template_areas": null,
            "grid_template_columns": null,
            "grid_template_rows": null,
            "height": null,
            "justify_content": null,
            "justify_items": null,
            "left": null,
            "margin": null,
            "max_height": null,
            "max_width": null,
            "min_height": null,
            "min_width": null,
            "object_fit": null,
            "object_position": null,
            "order": null,
            "overflow": null,
            "overflow_x": null,
            "overflow_y": null,
            "padding": null,
            "right": null,
            "top": null,
            "visibility": null,
            "width": null
          }
        },
        "cfdd234939c3467aa38e00aa916a242c": {
          "model_module": "@jupyter-widgets/base",
          "model_name": "LayoutModel",
          "model_module_version": "1.2.0",
          "state": {
            "_model_module": "@jupyter-widgets/base",
            "_model_module_version": "1.2.0",
            "_model_name": "LayoutModel",
            "_view_count": null,
            "_view_module": "@jupyter-widgets/base",
            "_view_module_version": "1.2.0",
            "_view_name": "LayoutView",
            "align_content": null,
            "align_items": null,
            "align_self": null,
            "border": null,
            "bottom": null,
            "display": null,
            "flex": null,
            "flex_flow": null,
            "grid_area": null,
            "grid_auto_columns": null,
            "grid_auto_flow": null,
            "grid_auto_rows": null,
            "grid_column": null,
            "grid_gap": null,
            "grid_row": null,
            "grid_template_areas": null,
            "grid_template_columns": null,
            "grid_template_rows": null,
            "height": null,
            "justify_content": null,
            "justify_items": null,
            "left": null,
            "margin": null,
            "max_height": null,
            "max_width": null,
            "min_height": null,
            "min_width": null,
            "object_fit": null,
            "object_position": null,
            "order": null,
            "overflow": null,
            "overflow_x": null,
            "overflow_y": null,
            "padding": null,
            "right": null,
            "top": null,
            "visibility": null,
            "width": null
          }
        },
        "2987222b4cfa4c0eb00780a3249c73f3": {
          "model_module": "@jupyter-widgets/controls",
          "model_name": "DescriptionStyleModel",
          "model_module_version": "1.5.0",
          "state": {
            "_model_module": "@jupyter-widgets/controls",
            "_model_module_version": "1.5.0",
            "_model_name": "DescriptionStyleModel",
            "_view_count": null,
            "_view_module": "@jupyter-widgets/base",
            "_view_module_version": "1.2.0",
            "_view_name": "StyleView",
            "description_width": ""
          }
        },
        "df573965c50a41c98a29e199c379f790": {
          "model_module": "@jupyter-widgets/base",
          "model_name": "LayoutModel",
          "model_module_version": "1.2.0",
          "state": {
            "_model_module": "@jupyter-widgets/base",
            "_model_module_version": "1.2.0",
            "_model_name": "LayoutModel",
            "_view_count": null,
            "_view_module": "@jupyter-widgets/base",
            "_view_module_version": "1.2.0",
            "_view_name": "LayoutView",
            "align_content": null,
            "align_items": null,
            "align_self": null,
            "border": null,
            "bottom": null,
            "display": null,
            "flex": null,
            "flex_flow": null,
            "grid_area": null,
            "grid_auto_columns": null,
            "grid_auto_flow": null,
            "grid_auto_rows": null,
            "grid_column": null,
            "grid_gap": null,
            "grid_row": null,
            "grid_template_areas": null,
            "grid_template_columns": null,
            "grid_template_rows": null,
            "height": null,
            "justify_content": null,
            "justify_items": null,
            "left": null,
            "margin": null,
            "max_height": null,
            "max_width": null,
            "min_height": null,
            "min_width": null,
            "object_fit": null,
            "object_position": null,
            "order": null,
            "overflow": null,
            "overflow_x": null,
            "overflow_y": null,
            "padding": null,
            "right": null,
            "top": null,
            "visibility": null,
            "width": null
          }
        },
        "4e25959b41874d0596aa586f014a8e2b": {
          "model_module": "@jupyter-widgets/controls",
          "model_name": "ProgressStyleModel",
          "model_module_version": "1.5.0",
          "state": {
            "_model_module": "@jupyter-widgets/controls",
            "_model_module_version": "1.5.0",
            "_model_name": "ProgressStyleModel",
            "_view_count": null,
            "_view_module": "@jupyter-widgets/base",
            "_view_module_version": "1.2.0",
            "_view_name": "StyleView",
            "bar_color": null,
            "description_width": ""
          }
        },
        "e2a84a9943ce4caf8b6076569eedaf15": {
          "model_module": "@jupyter-widgets/base",
          "model_name": "LayoutModel",
          "model_module_version": "1.2.0",
          "state": {
            "_model_module": "@jupyter-widgets/base",
            "_model_module_version": "1.2.0",
            "_model_name": "LayoutModel",
            "_view_count": null,
            "_view_module": "@jupyter-widgets/base",
            "_view_module_version": "1.2.0",
            "_view_name": "LayoutView",
            "align_content": null,
            "align_items": null,
            "align_self": null,
            "border": null,
            "bottom": null,
            "display": null,
            "flex": null,
            "flex_flow": null,
            "grid_area": null,
            "grid_auto_columns": null,
            "grid_auto_flow": null,
            "grid_auto_rows": null,
            "grid_column": null,
            "grid_gap": null,
            "grid_row": null,
            "grid_template_areas": null,
            "grid_template_columns": null,
            "grid_template_rows": null,
            "height": null,
            "justify_content": null,
            "justify_items": null,
            "left": null,
            "margin": null,
            "max_height": null,
            "max_width": null,
            "min_height": null,
            "min_width": null,
            "object_fit": null,
            "object_position": null,
            "order": null,
            "overflow": null,
            "overflow_x": null,
            "overflow_y": null,
            "padding": null,
            "right": null,
            "top": null,
            "visibility": null,
            "width": null
          }
        },
        "931722420f3048dba378d081da0c7ba5": {
          "model_module": "@jupyter-widgets/controls",
          "model_name": "DescriptionStyleModel",
          "model_module_version": "1.5.0",
          "state": {
            "_model_module": "@jupyter-widgets/controls",
            "_model_module_version": "1.5.0",
            "_model_name": "DescriptionStyleModel",
            "_view_count": null,
            "_view_module": "@jupyter-widgets/base",
            "_view_module_version": "1.2.0",
            "_view_name": "StyleView",
            "description_width": ""
          }
        }
      }
    }
  },
  "nbformat": 4,
  "nbformat_minor": 0
}